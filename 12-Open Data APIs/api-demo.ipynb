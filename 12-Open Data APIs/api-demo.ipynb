{
 "cells": [
  {
   "cell_type": "markdown",
   "metadata": {},
   "source": [
    "# Working with Data APIs\n",
    "\n",
    "**Adapted from: Sam Maurer // maurer@berkeley.edu // Oct. 3, 2016**\n",
    "\n",
    "This notebook provides a demonstration of data-access APIs that operate over the web. See README.md for setup instructions.\n",
    "\n",
    "In Part 1, we'll load and parse results from an API feed of earthquake data.  \n",
    "In Part 2, we'll add query parameters to the workflow, using the Google Maps Geolocation API as an example.  \n",
    "In Part 3, we'll use an authenticated API to query public Twitter posts. "
   ]
  },
  {
   "cell_type": "markdown",
   "metadata": {},
   "source": [
    "# Part 1: Reading from an automated data feed\n",
    "\n",
    "### USGS real-time earthquake feeds\n",
    "\n",
    "This is an API for near-real-time data about earthquakes. Data is provided in JSON format over the web. No authentication is needed, and there's no way to customize the output. Instead, the API has a separate endpoint for each permutation of the data that users might want.\n",
    "\n",
    "**API documentation:**  \n",
    "http://earthquake.usgs.gov/earthquakes/feed/v1.0/geojson.php\n",
    "\n",
    "**Sample API endpoint, for magnitude 4.5+ earthquakes in past day:**  \n",
    "http://earthquake.usgs.gov/earthquakes/feed/v1.0/summary/4.5_day.geojson  \n"
   ]
  },
  {
   "cell_type": "code",
   "execution_count": 1,
   "metadata": {
    "collapsed": true
   },
   "outputs": [],
   "source": [
    "%matplotlib inline\n",
    "\n",
    "import pandas as pd\n",
    "\n",
    "import json    # library for working with JSON-formatted text strings\n",
    "import requests  # library for accessing content from web URLs\n",
    "\n",
    "import pprint  # library for making Python data structures readable\n",
    "pp = pprint.PrettyPrinter()"
   ]
  },
  {
   "cell_type": "code",
   "execution_count": 2,
   "metadata": {},
   "outputs": [
    {
     "name": "stdout",
     "output_type": "stream",
     "text": [
      "<class 'str'>\n"
     ]
    }
   ],
   "source": [
    "# download data on magnitude 2.5+ quakes from the past week\n",
    "\n",
    "endpoint_url = \"http://earthquake.usgs.gov/earthquakes/feed/v1.0/summary/2.5_week.geojson\"\n",
    "response = requests.get(endpoint_url)\n",
    "results = response.text\n",
    "\n",
    "# what is the data type of the results?\n",
    "print(type(results))"
   ]
  },
  {
   "cell_type": "code",
   "execution_count": 3,
   "metadata": {},
   "outputs": [
    {
     "name": "stdout",
     "output_type": "stream",
     "text": [
      "{\"type\":\"FeatureCollection\",\"metadata\":{\"generated\":1519322314000,\"url\":\"https://earthquake.usgs.gov/earthquakes/feed/v1.0/summary/2.5_week.geojson\",\"title\":\"USGS Magnitude 2.5+ Earthquakes, Past Week\",\"status\":200,\"api\":\"1.5.8\",\"count\":315},\"features\":[{\"type\":\"Feature\",\"properties\":{\"mag\":4.2,\"place\":\"115km S of San Pedro de Atacama, Chile\",\"time\":1519307135460,\"updated\":1519319434040,\"tz\":-240,\"url\":\"https://earthquake.usgs.gov/earthquakes/eventpage/us2000d6d1\",\"detail\":\"https://earthquake.us\n"
     ]
    }
   ],
   "source": [
    "# print the first 500 characters to see a sample of the data\n",
    "\n",
    "print(results[:500])"
   ]
  },
  {
   "cell_type": "code",
   "execution_count": 4,
   "metadata": {},
   "outputs": [
    {
     "name": "stdout",
     "output_type": "stream",
     "text": [
      "<class 'dict'>\n"
     ]
    }
   ],
   "source": [
    "# it looks like the results are a string with JSON-formatted data inside\n",
    "\n",
    "# parse the string into a Python dictionary\n",
    "data = json.loads(results)\n",
    "\n",
    "print(type(data))"
   ]
  },
  {
   "cell_type": "code",
   "execution_count": 5,
   "metadata": {},
   "outputs": [
    {
     "name": "stdout",
     "output_type": "stream",
     "text": [
      "{'type': 'Feature', 'properties': {'mag': 4.2, 'place': '115km S of San Pedro de Atacama, Chile', 'time': 1519307135460, 'updated': 1519319434040, 'tz': -240, 'url': 'https://earthquake.usgs.gov/earthquakes/eventpage/us2000d6d1', 'detail': 'https://earthquake.usgs.gov/earthquakes/feed/v1.0/detail/us2000d6d1.geojson', 'felt': None, 'cdi': None, 'mmi': None, 'alert': None, 'status': 'reviewed', 'tsunami': 0, 'sig': 271, 'net': 'us', 'code': '2000d6d1', 'ids': ',us2000d6d1,', 'sources': ',us,', 'types': ',geoserve,origin,phase-data,', 'nst': None, 'dmin': 0.998, 'rms': 0.9, 'gap': 126, 'magType': 'mb', 'type': 'earthquake', 'title': 'M 4.2 - 115km S of San Pedro de Atacama, Chile'}, 'geometry': {'type': 'Point', 'coordinates': [-68.1037, -23.953, 178.02]}, 'id': 'us2000d6d1'}\n"
     ]
    }
   ],
   "source": [
    "# print the most recent quake\n",
    "\n",
    "quakes = data['features']\n",
    "print(quakes[0])"
   ]
  },
  {
   "cell_type": "code",
   "execution_count": 6,
   "metadata": {},
   "outputs": [
    {
     "name": "stdout",
     "output_type": "stream",
     "text": [
      "{'coordinates': [-68.1037, -23.953, 178.02], 'type': 'Point'}\n",
      "{'alert': None,\n",
      " 'cdi': None,\n",
      " 'code': '2000d6d1',\n",
      " 'detail': 'https://earthquake.usgs.gov/earthquakes/feed/v1.0/detail/us2000d6d1.geojson',\n",
      " 'dmin': 0.998,\n",
      " 'felt': None,\n",
      " 'gap': 126,\n",
      " 'ids': ',us2000d6d1,',\n",
      " 'mag': 4.2,\n",
      " 'magType': 'mb',\n",
      " 'mmi': None,\n",
      " 'net': 'us',\n",
      " 'nst': None,\n",
      " 'place': '115km S of San Pedro de Atacama, Chile',\n",
      " 'rms': 0.9,\n",
      " 'sig': 271,\n",
      " 'sources': ',us,',\n",
      " 'status': 'reviewed',\n",
      " 'time': 1519307135460,\n",
      " 'title': 'M 4.2 - 115km S of San Pedro de Atacama, Chile',\n",
      " 'tsunami': 0,\n",
      " 'type': 'earthquake',\n",
      " 'types': ',geoserve,origin,phase-data,',\n",
      " 'tz': -240,\n",
      " 'updated': 1519319434040,\n",
      " 'url': 'https://earthquake.usgs.gov/earthquakes/eventpage/us2000d6d1'}\n"
     ]
    }
   ],
   "source": [
    "# print it more clearly\n",
    "\n",
    "pp.pprint(quakes[0]['geometry'])\n",
    "pp.pprint(quakes[0]['properties']) #{}denotes dict and []denotes list"
   ]
  },
  {
   "cell_type": "code",
   "execution_count": 7,
   "metadata": {},
   "outputs": [
    {
     "name": "stdout",
     "output_type": "stream",
     "text": [
      "M 4.2 - 115km S of San Pedro de Atacama, Chile\n",
      "M 4.4 - 276km ESE of Kodiak, Alaska\n",
      "M 4.7 - 106km SW of Jiquilillo, Nicaragua\n",
      "M 3.2 - 12km ESE of Lincoln, Montana\n",
      "M 2.9 - 22km NNE of Snyder, Texas\n",
      "M 2.8 - 11km SW of Perry, Oklahoma\n",
      "M 3.0 - 13km ESE of Soda Springs, Idaho\n",
      "M 2.6 - 12km NE of West Yellowstone, Montana\n",
      "M 4.4 - 262km ESE of Kodiak, Alaska\n",
      "M 2.9 - 10km WNW of Cobb, CA\n",
      "M 3.2 - 46km N of Charlotte Amalie, U.S. Virgin Islands\n",
      "M 5.3 - 214km E of Amahai, Indonesia\n",
      "M 2.7 - 51km SW of Cantwell, Alaska\n",
      "M 5.4 - 205km E of Amahai, Indonesia\n",
      "M 4.1 - 9km NW of Paralia, Greece\n",
      "M 5.0 - Northern Mid-Atlantic Ridge\n",
      "M 3.4 - 112km SSE of Homer, Alaska\n",
      "M 4.2 - 74km S of Pirgos, Greece\n",
      "M 3.2 - 18km N of Christiansted, U.S. Virgin Islands\n",
      "M 2.8 - 60km ENE of Cantwell, Alaska\n",
      "M 5.0 - 35km W of Katastarion, Greece\n",
      "M 4.3 - 4km ENE of Asenovgrad, Bulgaria\n",
      "M 3.3 - 86km SSW of Shishmaref, Alaska\n",
      "M 5.0 - 64km S of Hualian, Taiwan\n",
      "M 2.7 - 20km W of Perry, Oklahoma\n",
      "M 4.8 - 164km ESE of JP Tinian Town pre-WW2, Northern Mariana Islands\n",
      "M 2.9 - 12km N of Tahoe Vista, CA\n",
      "M 2.9 - 95km ESE of Little Diomede Island, Alaska\n",
      "M 2.6 - 109km N of Arctic Village, Alaska\n",
      "M 3.2 - 88km NE of Punta Cana, Dominican Republic\n",
      "M 4.7 - 89km SSW of Paredon, Mexico\n",
      "M 3.4 - 68km N of Charlotte Amalie, U.S. Virgin Islands\n",
      "M 4.5 - 231km WNW of Saumlaki, Indonesia\n",
      "M 4.7 - 169km NE of Opotiki, New Zealand\n",
      "M 4.6 - West Chile Rise\n",
      "M 3.0 - 94km WSW of Healy, Alaska\n",
      "M 2.5 - 10km N of Mooreland, Oklahoma\n",
      "M 4.4 - West of the Galapagos Islands\n",
      "M 5.2 - Southwest of Africa\n",
      "M 2.9 - 12km SSW of Bootjack, CA\n",
      "M 4.3 - 57km WNW of Abra Pampa, Argentina\n",
      "M 2.5 - 114km SE of Kodiak, Alaska\n",
      "M 3.2 - 103km NNW of Isabela, Puerto Rico\n",
      "M 4.2 - 32km WSW of Ashkasham, Afghanistan\n",
      "M 3.2 - 199km SE of Kodiak, Alaska\n",
      "M 4.7 - 57km WSW of Angoram, Papua New Guinea\n",
      "M 4.8 - 82km SW of Severo-Kuril'sk, Russia\n",
      "M 3.2 - 13km SSW of Volcano, Hawaii\n",
      "M 2.7 - 74km W of Gustavus, Alaska\n",
      "M 3.4 - 37km SW of Healy, Alaska\n",
      "M 2.9 - 115km SSE of King Salmon, Alaska\n",
      "M 2.8 - 3km WNW of Diablo, CA\n",
      "M 4.5 - 185km SSE of Kangin, Indonesia\n",
      "M 2.8 - 269km SE of Kodiak, Alaska\n",
      "M 4.7 - 88km SSE of Putre, Chile\n",
      "M 2.7 - 10km NE of West Yellowstone, Montana\n",
      "M 4.5 - 36km SSW of Mbulung, Indonesia\n",
      "M 3.2 - 7km ENE of Hennessey, Oklahoma\n",
      "M 4.9 - 82km NW of Laiwui, Indonesia\n",
      "M 4.4 - 70km WSW of Padangsidempuan, Indonesia\n",
      "M 4.3 - 74km SSW of Paredon, Mexico\n",
      "M 2.5 - 4km ESE of Mayaguez, Puerto Rico\n",
      "M 3.1 - 23km SE of Boca de Yuma, Dominican Republic\n",
      "M 2.5 - 11km NE of West Yellowstone, Montana\n",
      "M 3.2 - 269km ESE of Kodiak, Alaska\n",
      "M 3.6 - 64km ENE of Whittier, Alaska\n",
      "M 5.0 - 109km ENE of `Ohonua, Tonga\n",
      "M 4.2 - 44km WNW of Taltal, Chile\n",
      "M 2.7 - 39km NW of Whittier, Alaska\n",
      "M 5.2 - 52km NNW of Visokoi Island, South Georgia and the South Sandwich Islands\n",
      "M 4.7 - 4km NNE of Jinping, China\n",
      "M 2.7 - 79km WNW of Skagway, Alaska\n",
      "M 2.9 - 1km NE of Danville, CA\n",
      "M 3.0 - 2km WNW of Diablo, CA\n",
      "M 2.6 - 2km WNW of Diablo, CA\n",
      "M 4.3 - 51km WNW of Iquique, Chile\n",
      "M 2.7 - 45km ENE of Maneadero, B.C., MX\n",
      "M 3.6 - 44km ENE of Maneadero, B.C., MX\n",
      "M 3.1 - 77km N of San Juan, Puerto Rico\n",
      "M 5.0 - 14km NW of Taltal, Chile\n",
      "M 2.8 - 2km NW of Diablo, CA\n",
      "M 4.9 - 48km W of Manado, Indonesia\n",
      "M 3.7 - 230km SE of Kodiak, Alaska\n",
      "M 2.9 - 81km WNW of Skagway, Alaska\n",
      "M 5.0 - 79km SSW of Kokopo, Papua New Guinea\n",
      "M 2.8 - 21km ESE of Anza, CA\n",
      "M 4.6 - 49km SSW of Juli, Peru\n",
      "M 3.0 - 24km W of Puerto Real, Puerto Rico\n",
      "M 4.8 - 67km S of San Francisco del Mar, Mexico\n",
      "M 2.6 - 48km SE of Cantwell, Alaska\n",
      "M 2.6 - Gulf of Alaska\n",
      "M 4.8 - Palau region\n",
      "M 4.7 - Palau region\n",
      "M 4.2 - 273km SE of Kodiak, Alaska\n",
      "M 3.0 - 87km NNW of Nikiski, Alaska\n",
      "M 4.0 - 158km WNW of Coquimbo, Chile\n",
      "M 4.3 - 18km N of Patitirion, Greece\n",
      "M 4.3 - 96km SE of Padangsidempuan, Indonesia\n",
      "M 3.6 - 61km NNE of Miches, Dominican Republic\n",
      "M 4.2 - 76km W of Illapel, Chile\n",
      "M 4.7 - Greenland Sea\n",
      "M 2.6 - 10km NNE of Cloverdale, CA\n",
      "M 5.3 - Central Mid-Atlantic Ridge\n",
      "M 2.8 - 11km WSW of King Salmon, Alaska\n",
      "M 4.8 - 90km SE of Akutan, Alaska\n",
      "M 2.8 - 135km S of Middleton Island, Alaska\n",
      "M 2.8 - 21km ESE of Anza, CA\n",
      "M 4.6 - North of Svalbard\n",
      "M 2.9 - 13km NNE of Mineral, CA\n",
      "M 2.9 - 33km NW of Rincon, Puerto Rico\n",
      "M 4.4 - 62km WSW of San Juan del Sur, Nicaragua\n",
      "M 4.3 - 15km E of Kuysinjaq, Iraq\n",
      "M 2.8 - 12km NNE of Mineral, CA\n",
      "M 4.5 - 125km S of La Libertad, El Salvador\n",
      "M 4.5 - 79km SE of Pondaguitan, Philippines\n",
      "M 4.2 - 262km ESE of Kodiak, Alaska\n",
      "M 4.5 - 23km ESE of Kuysinjaq, Iraq\n",
      "M 2.5 - 13km NE of West Yellowstone, Montana\n",
      "M 4.4 - 102km SW of Larsen Bay, Alaska\n",
      "M 4.6 - 270km ENE of Socorro Island, Mexico\n",
      "M 2.6 - 272km SE of Kodiak, Alaska\n",
      "M 2.8 - 44km ENE of Old Iliamna, Alaska\n",
      "M 4.2 - 50km SW of Jarm, Afghanistan\n",
      "M 3.9 - 281km SE of Kodiak, Alaska\n",
      "M 5.0 - 21km W of Su'ao, Taiwan\n",
      "M 4.2 - 123km E of Antofagasta, Chile\n",
      "M 4.6 - 46km WSW of Sarpol-e Zahab, Iran\n",
      "M 3.9 - 278km ESE of Kodiak, Alaska\n",
      "M 5.3 - 106km NNW of Tual, Indonesia\n",
      "M 3.2 - 197km SE of Kodiak, Alaska\n",
      "M 4.6 - 76km SE of Acari, Peru\n",
      "M 2.9 - 2km WNW of Diablo, CA\n",
      "M 4.5 - Central East Pacific Rise\n",
      "M 3.0 - 278km SE of Kodiak, Alaska\n",
      "M 4.4 - 162km NE of Tobelo, Indonesia\n",
      "M 5.9 - 32km NE of Santa Catarina Mechoacan, Mexico\n",
      "M 4.5 - 36km NNW of Husavik, Iceland\n",
      "M 2.6 - 70km NW of Yakutat, Alaska\n",
      "M 3.9 - 224km ESE of Kodiak, Alaska\n",
      "M 5.0 - 53km NNW of Husavik, Iceland\n",
      "M 4.8 - 48km NNW of Husavik, Iceland\n",
      "M 4.3 - 145km NW of Coquimbo, Chile\n",
      "M 2.7 - 245km SE of Kodiak, Alaska\n",
      "M 4.2 - 48km SE of Shizunai, Japan\n",
      "M 3.1 - 43km NW of San Antonio, Puerto Rico\n",
      "M 2.7 - 229km SE of Kodiak, Alaska\n",
      "M 2.5 - 12km NE of West Yellowstone, Montana\n",
      "M 4.8 - 32km NNW of Restrepo, Colombia\n",
      "M 2.8 - 71km NE of Punta Cana, Dominican Republic\n",
      "M 2.6 - 17km NW of Parkfield, CA\n",
      "M 4.3 - 67km W of Illapel, Chile\n",
      "M 3.2 - 65km NE of Chirikof Island, Alaska\n",
      "M 2.7 - 60km WNW of Currant, Nevada\n",
      "M 3.5 - 39km N of Road Town, British Virgin Islands\n",
      "M 2.9 - 1km NW of Minco, Oklahoma\n",
      "M 2.8 - 28km SSE of Cohoe, Alaska\n",
      "M 4.9 - 30km SE of Saiki, Japan\n",
      "M 2.7 - 233km S of Kodiak Station, Alaska\n",
      "M 2.8 - 146km S of Kodiak, Alaska\n",
      "M 2.8 - 13km NE of West Yellowstone, Montana\n",
      "M 2.8 - 13km NE of West Yellowstone, Montana\n",
      "M 3.4 - 97km NNE of Suarez, Puerto Rico\n",
      "M 4.8 - Prince Edward Islands region\n",
      "M 4.1 - 84km NNE of Calama, Chile\n",
      "M 2.5 - 12km NE of West Yellowstone, Montana\n",
      "M 3.1 - 12km NE of West Yellowstone, Montana\n",
      "M 2.6 - 274km ESE of Kodiak, Alaska\n",
      "M 2.6 - 12km NE of West Yellowstone, Montana\n",
      "M 2.9 - 12km NE of West Yellowstone, Montana\n",
      "M 4.5 - 66km W of Jaque, Panama\n",
      "M 5.1 - 73km W of Jaque, Panama\n",
      "M 2.7 - 12km NE of West Yellowstone, Montana\n",
      "M 2.9 - 13km NE of West Yellowstone, Montana\n",
      "M 3.2 - 112km N of Charlotte Amalie, U.S. Virgin Islands\n",
      "M 2.5 - 13km NE of West Yellowstone, Montana\n",
      "M 4.4 - 136km SE of Kuril'sk, Russia\n",
      "M 3.3 - 255km ESE of Kodiak, Alaska\n",
      "M 4.6 - 22km NNE of Kuroiso, Japan\n",
      "M 2.6 - 12km NE of West Yellowstone, Montana\n",
      "M 3.7 - 133km NNW of Road Town, British Virgin Islands\n",
      "M 3.9 - 226km SE of Kodiak, Alaska\n",
      "M 2.7 - 18km NNE of Hatillo, Puerto Rico\n",
      "M 2.6 - 12km SE of Pinnacles, CA\n",
      "M 2.8 - 53km WNW of Cantwell, Alaska\n",
      "M 4.7 - 59km SW of Hastings, New Zealand\n",
      "M 4.6 - 85km NNE of Lae, Papua New Guinea\n",
      "M 4.9 - 297km SSW of Bengkulu, Indonesia\n",
      "M 3.1 - 14km NNW of Hatillo, Puerto Rico\n",
      "M 2.7 - 12km NE of West Yellowstone, Montana\n",
      "M 2.9 - 13km NE of West Yellowstone, Montana\n",
      "M 2.7 - 10km ESE of Puebla, B.C., MX\n",
      "M 2.9 - 12km NE of West Yellowstone, Montana\n",
      "M 5.0 - 246km SE of Amahai, Indonesia\n",
      "M 3.0 - 14km WSW of Watonga, Oklahoma\n",
      "M 3.2 - 242km SE of Kodiak, Alaska\n",
      "M 2.6 - 13km NE of West Yellowstone, Montana\n",
      "M 4.8 - 4km WNW of Qifo, China\n",
      "M 5.3 - 60km NE of Bristol Island, South Sandwich Islands\n",
      "M 3.1 - 72km NNW of Road Town, British Virgin Islands\n",
      "M 4.0 - 273km ESE of Kodiak, Alaska\n",
      "M 4.3 - 270km ESE of Kodiak, Alaska\n",
      "M 2.6 - 37km N of Tierras Nuevas Poniente, Puerto Rico\n",
      "M 3.9 - 145km SSE of False Pass, Alaska\n",
      "M 4.6 - 140km W of Panguna, Papua New Guinea\n",
      "M 3.6 - 300km SE of Kodiak, Alaska\n",
      "M 4.2 - 28km SSE of Shah Pasand, Iran\n",
      "M 3.9 - 255km SE of Kodiak, Alaska\n",
      "M 5.1 - 25km SE of Santa Maria Zacatepec, Mexico\n",
      "M 2.6 - 13km NNE of Mineral, CA\n",
      "M 3.4 - 243km SE of Kodiak, Alaska\n",
      "M 2.7 - 3km ESE of Loma Linda, CA\n",
      "M 4.9 - 88km SSW of Sukorejo, Indonesia\n",
      "M 2.6 - 12km NE of West Yellowstone, Montana\n",
      "M 5.0 - 125km W of Panguna, Papua New Guinea\n",
      "M 2.8 - 32km SE of Hawthorne, Nevada\n",
      "M 4.2 - 3km NE of Clydach, United Kingdom\n",
      "M 4.1 - 26km NE of Santa Catarina Mechoacan, Mexico\n",
      "M 2.7 - 18km NNW of Borrego Springs, CA\n",
      "M 2.5 - 2km WNW of Diablo, CA\n",
      "M 4.0 - 176km ESE of San Jose del Cabo, Mexico\n",
      "M 3.9 - 63km S of Amukta Island, Alaska\n",
      "M 2.9 - 1km SE of Silver Lake, CA\n",
      "M 4.3 - 16km SSE of Iztapa, Guatemala\n",
      "M 2.8 - 10km SW of Thomas, Oklahoma\n",
      "M 4.2 - 34km SE of Taitung City, Taiwan\n",
      "M 4.6 - 29km WNW of Manokwari, Indonesia\n",
      "M 3.1 - 59km WSW of Rincon, Puerto Rico\n",
      "M 4.2 - 28km SSW of Santa Maria Huazolotitlan, Mexico\n",
      "M 4.3 - 38km S of Puerto El Triunfo, El Salvador\n",
      "M 4.3 - 8km NW of Erseke, Albania\n",
      "M 4.7 - 207km NW of Tobelo, Indonesia\n",
      "M 2.8 - 12km ESE of Lincoln, Montana\n",
      "M 5.0 - South of Africa\n",
      "M 5.0 - 24km NW of San Miguel Panixtlahuaca, Mexico\n",
      "M 4.2 - 9km SW of Santiago Pinotepa Nacional, Mexico\n",
      "M 2.9 - 74km N of Tierras Nuevas Poniente, Puerto Rico\n",
      "M 4.3 - 23km ESE of Santa Maria Zacatepec, Mexico\n",
      "M 4.9 - 299km ENE of Dili, East Timor\n",
      "M 2.8 - 41km N of Brenas, Puerto Rico\n",
      "M 3.4 - 21km S of Punta Cana, Dominican Republic\n",
      "M 5.8 - 10km SE of Santiago Jamiltepec, Mexico\n",
      "M 4.7 - 74km S of Pisangkemeng, Indonesia\n",
      "M 4.6 - 34km NNW of Petit Trou de Nippes, Haiti\n",
      "M 2.8 - 87km N of Cape Yakataga, Alaska\n",
      "M 7.2 - 37km NE of Pinotepa de Don Luis, Mexico\n",
      "M 2.6 - 11km WNW of Luther, Oklahoma\n",
      "M 3.2 - 8km ENE of Jayuya, Puerto Rico\n",
      "M 2.7 - 2km SW of Toa Baja, Puerto Rico\n",
      "M 3.8 - 269km ESE of Kodiak, Alaska\n",
      "M 4.7 - 131km SE of Saipan, Northern Mariana Islands\n",
      "M 4.4 - 60km E of Ishinomaki, Japan\n",
      "M 2.8 - 2km W of Diablo, CA\n",
      "M 3.7 - 268km SE of Kodiak, Alaska\n",
      "M 2.9 - 71km N of Nikiski, Alaska\n",
      "M 3.4 - 285km SE of Kodiak, Alaska\n",
      "M 4.4 - 80km SW of Gunungbatu, Indonesia\n",
      "M 4.5 - 30km ESE of Hachijo-jima, Japan\n",
      "M 2.8 - 247km SE of Kodiak, Alaska\n",
      "M 2.7 - 28km ENE of Buffalo, Oklahoma\n",
      "M 3.6 - 278km ESE of Kodiak, Alaska\n",
      "M 4.3 - 183km SE of Terney, Russia\n",
      "M 3.6 - 256km SE of Kodiak, Alaska\n",
      "M 4.6 - 41km SSW of Cibungur, Indonesia\n",
      "M 3.8 - 24km ENE of Mooreland, Oklahoma\n",
      "M 4.3 - 252km ESE of Nord, Greenland\n",
      "M 3.1 - 252km ESE of Kodiak, Alaska\n",
      "M 4.7 - 120km NW of San Jose de Jachal, Argentina\n",
      "M 4.9 - 80km SW of Acajutla, El Salvador\n",
      "M 4.9 - 52km S of Intipuca, El Salvador\n",
      "M 4.3 - 110km SE of Amahai, Indonesia\n",
      "M 2.8 - 274km ESE of Kodiak, Alaska\n",
      "M 5.1 - North of Severnaya Zemlya\n",
      "M 3.2 - 14km SSE of Tanaga Volcano, Alaska\n",
      "M 3.7 - 244km SE of Kodiak, Alaska\n",
      "M 3.4 - 11km WNW of San Rafael del Yuma, Dominican Republic\n",
      "M 2.9 - 292km SE of Kodiak, Alaska\n",
      "M 5.3 - 108km SE of Amahai, Indonesia\n",
      "M 4.7 - 41km SSW of Sechura, Peru\n",
      "M 3.4 - 252km SE of Kodiak, Alaska\n",
      "M 4.8 - 217km SSE of Ndoi Island, Fiji\n",
      "M 2.8 - 203km SE of Kodiak, Alaska\n",
      "M 2.9 - 259km SE of Kodiak, Alaska\n",
      "M 2.6 - 23km ENE of Mooreland, Oklahoma\n",
      "M 2.7 - 24km ENE of Mooreland, Oklahoma\n",
      "M 3.4 - 24km ENE of Mooreland, Oklahoma\n",
      "M 4.2 - 40km WSW of Te Anau, New Zealand\n",
      "M 3.9 - 267km ESE of Kodiak, Alaska\n",
      "M 3.8 - 172km S of Nikolski, Alaska\n",
      "M 4.8 - 70km WSW of Gunungbatu, Indonesia\n",
      "M 3.2 - 231km SE of Kodiak, Alaska\n",
      "M 2.9 - 37km NE of Luquillo, Puerto Rico\n",
      "M 2.8 - 278km SE of Kodiak, Alaska\n",
      "M 5.0 - 150km ESE of Saipan, Northern Mariana Islands\n",
      "M 3.4 - 250km SE of Kodiak, Alaska\n",
      "M 4.6 - 44km SSE of San Mateo del Mar, Mexico\n",
      "M 4.7 - 32km SW of Jiquilillo, Nicaragua\n",
      "M 4.5 - 37km SW of Sechura, Peru\n",
      "M 5.1 - 24km SSW of Adak, Alaska\n",
      "M 2.7 - 27km NW of Anchor Point, Alaska\n",
      "M 4.6 - 123km NW of Vallenar, Chile\n",
      "M 4.3 - 80km NW of San Antonio de los Cobres, Argentina\n",
      "M 2.6 - 47km WSW of Pole Ojea, Puerto Rico\n",
      "M 3.0 - 4km W of Ciales, Puerto Rico\n",
      "M 2.7 - 4km W of Pahala, Hawaii\n",
      "M 3.4 - 62km W of Anchor Point, Alaska\n",
      "M 3.6 - 63km W of Anchor Point, Alaska\n",
      "M 3.1 - 209km SE of Kodiak, Alaska\n",
      "M 4.4 - 94km ENE of Mohean, India\n",
      "M 2.6 - 251km SE of Kodiak, Alaska\n",
      "M 3.1 - 88km NE of Punta Cana, Dominican Republic\n",
      "M 2.5 - 15km W of Delta, B.C., MX\n",
      "M 4.5 - 264km SE of Kodiak, Alaska\n",
      "M 4.5 - 257km SE of Kodiak, Alaska\n",
      "M 2.6 - 11km NE of West Yellowstone, Montana\n",
      "M 2.9 - 78km ESE of Cape Yakataga, Alaska\n"
     ]
    }
   ],
   "source": [
    "# pull out the title from each earthquake listing\n",
    "\n",
    "for q in quakes:\n",
    "    print(q['properties']['title'])"
   ]
  },
  {
   "cell_type": "code",
   "execution_count": 8,
   "metadata": {},
   "outputs": [
    {
     "name": "stdout",
     "output_type": "stream",
     "text": [
      "315\n"
     ]
    }
   ],
   "source": [
    "# pull out magnitudes and depths into a Pandas dataframe, using\n",
    "# a more compact Python syntax for iterating through lists\n",
    "\n",
    "d = {'magnitude': [q['properties']['mag'] for q in quakes],\n",
    "     'depth': [q['geometry']['coordinates'][2] for q in quakes]}\n",
    "\n",
    "df = pd.DataFrame.from_dict(d)\n",
    "\n",
    "# how many earthquakes were loaded into the dataframe?\n",
    "print(len(df))"
   ]
  },
  {
   "cell_type": "code",
   "execution_count": 10,
   "metadata": {},
   "outputs": [
    {
     "name": "stdout",
     "output_type": "stream",
     "text": [
      "    depth  magnitude\n",
      "0  178.02       4.20\n",
      "1   16.93       4.40\n",
      "2   10.00       4.70\n",
      "3   10.37       3.16\n",
      "4    3.65       2.90\n"
     ]
    }
   ],
   "source": [
    "# print the first few lines of data\n",
    "\n",
    "print(df.head())"
   ]
  },
  {
   "cell_type": "code",
   "execution_count": 11,
   "metadata": {},
   "outputs": [
    {
     "name": "stdout",
     "output_type": "stream",
     "text": [
      "            depth   magnitude\n",
      "count  315.000000  315.000000\n",
      "mean    37.505683    3.723397\n",
      "std     49.713763    0.910657\n",
      "min     -2.100000    2.470000\n",
      "25%      9.650000    2.835000\n",
      "50%     12.430000    3.600000\n",
      "75%     51.465000    4.500000\n",
      "max    351.320000    7.200000\n"
     ]
    }
   ],
   "source": [
    "# print some descriptive statistics\n",
    "\n",
    "print(df.describe())"
   ]
  },
  {
   "cell_type": "code",
   "execution_count": 12,
   "metadata": {},
   "outputs": [
    {
     "data": {
      "text/plain": [
       "<matplotlib.axes._subplots.AxesSubplot at 0x24d3f1ae470>"
      ]
     },
     "execution_count": 12,
     "metadata": {},
     "output_type": "execute_result"
    },
    {
     "data": {
      "image/png": "[encoded data removed]",
      "text/plain": [
       "<matplotlib.figure.Figure at 0x24d3f168f28>"
      ]
     },
     "metadata": {},
     "output_type": "display_data"
    }
   ],
   "source": [
    "# plot the depth vs. magnitude\n",
    "\n",
    "df.plot(x='magnitude', y='depth', kind='scatter')"
   ]
  },
  {
   "cell_type": "code",
   "execution_count": 13,
   "metadata": {},
   "outputs": [
    {
     "name": "stdout",
     "output_type": "stream",
     "text": [
      "file saved\n"
     ]
    }
   ],
   "source": [
    "# save the dataframe to disk\n",
    "\n",
    "df.to_csv('usgs_earthquake_data.csv')\n",
    "\n",
    "print('file saved')"
   ]
  },
  {
   "cell_type": "code",
   "execution_count": 14,
   "metadata": {},
   "outputs": [
    {
     "name": "stdout",
     "output_type": "stream",
     "text": [
      "    depth  magnitude\n",
      "0  178.02       4.20\n",
      "1   16.93       4.40\n",
      "2   10.00       4.70\n",
      "3   10.37       3.16\n",
      "4    3.65       2.90\n"
     ]
    },
    {
     "name": "stderr",
     "output_type": "stream",
     "text": [
      "C:\\Users\\Shraddha\\Anaconda3\\lib\\site-packages\\ipykernel_launcher.py:3: FutureWarning: from_csv is deprecated. Please use read_csv(...) instead. Note that some of the default arguments are different, so please refer to the documentation for from_csv when changing your function calls\n",
      "  This is separate from the ipykernel package so we can avoid doing imports until\n"
     ]
    }
   ],
   "source": [
    "# read it back later\n",
    "\n",
    "new_df = pd.DataFrame.from_csv('usgs_earthquake_data.csv')\n",
    "\n",
    "print(new_df.head())"
   ]
  },
  {
   "cell_type": "code",
   "execution_count": null,
   "metadata": {
    "collapsed": true
   },
   "outputs": [],
   "source": []
  },
  {
   "cell_type": "code",
   "execution_count": null,
   "metadata": {
    "collapsed": true
   },
   "outputs": [],
   "source": []
  },
  {
   "cell_type": "code",
   "execution_count": null,
   "metadata": {
    "collapsed": true
   },
   "outputs": [],
   "source": []
  },
  {
   "cell_type": "markdown",
   "metadata": {},
   "source": [
    "# Part 2: Querying an API endpoint\n",
    "\n",
    "### Google Maps Geocoding API\n",
    "\n",
    "Google has lots of APIs that let you access its services through code instead of through GUI apps. This one from Google Maps lets you look up the latitude-longitude coordinates of street addresses.\n",
    "\n",
    "It works similarly to the earthquakes example, but with query parameters added to the URL endpoint!\n",
    "\n",
    "**API documentation:**  \n",
    "https://developers.google.com/maps/documentation/geocoding/intro\n",
    "\n",
    "**API endpoint:**  \n",
    "https://maps.googleapis.com/maps/api/geocode/json\n",
    "\n",
    "**API endpoint with query parameters:**  \n",
    "https://maps.googleapis.com/maps/api/geocode/json?address=Wurster+Hall"
   ]
  },
  {
   "cell_type": "code",
   "execution_count": 15,
   "metadata": {
    "collapsed": true
   },
   "outputs": [],
   "source": [
    "import json    # library for working with JSON-formatted text strings\n",
    "import requests  # library for accessing content from web URLs\n",
    "\n",
    "import pprint  # library for making Python data structures readable\n",
    "pp = pprint.PrettyPrinter()"
   ]
  },
  {
   "cell_type": "code",
   "execution_count": 22,
   "metadata": {},
   "outputs": [
    {
     "name": "stdout",
     "output_type": "stream",
     "text": [
      "https://maps.googleapis.com/maps/api/geocode/json?address=young+library+uky\n"
     ]
    }
   ],
   "source": [
    "# we have to encode the search query so that it can be passed as a URL, \n",
    "# with spaces and other special characters removed\n",
    "\n",
    "endpoint = 'https://maps.googleapis.com/maps/api/geocode/json'\n",
    "\n",
    "params = {'address': 'young library uky'}\n",
    "\n",
    "url = requests.Request('GET', endpoint, params=params).prepare().url #prepare that request of end point and print the url of young lib\n",
    "print(url)"
   ]
  },
  {
   "cell_type": "code",
   "execution_count": 26,
   "metadata": {},
   "outputs": [
    {
     "name": "stdout",
     "output_type": "stream",
     "text": [
      "{'results': [{'address_components': [{'long_name': '401', 'short_name': '401', 'types': ['street_number']}, {'long_name': 'Hilltop Avenue', 'short_name': 'Hilltop Ave', 'types': ['route']}, {'long_name': 'Lexington', 'short_name': 'Lexington', 'types': ['locality', 'political']}, {'long_name': 'Fayette County', 'short_name': 'Fayette County', 'types': ['administrative_area_level_2', 'political']}, {'long_name': 'Kentucky', 'short_name': 'KY', 'types': ['administrative_area_level_1', 'political']}, {'long_name': 'United States', 'short_name': 'US', 'types': ['country', 'political']}, {'long_name': '40506', 'short_name': '40506', 'types': ['postal_code']}, {'long_name': '0001', 'short_name': '0001', 'types': ['postal_code_suffix']}], 'formatted_address': '401 Hilltop Ave, Lexington, KY 40506, USA', 'geometry': {'location': {'lat': 38.0328721, 'lng': -84.5017179}, 'location_type': 'ROOFTOP', 'viewport': {'northeast': {'lat': 38.0342210802915, 'lng': -84.50036891970849}, 'southwest': {'lat': 38.0315231197085, 'lng': -84.5030668802915}}}, 'place_id': 'ChIJ4TWVhLhEQogRoRWbSlkOZZY', 'types': ['establishment', 'library', 'point_of_interest']}], 'status': 'OK'}\n"
     ]
    }
   ],
   "source": [
    "# download and parse the results\n",
    "\n",
    "response = requests.get(url)\n",
    "results = response.text\n",
    "data = json.loads(results)\n",
    "\n",
    "print(data)"
   ]
  },
  {
   "cell_type": "code",
   "execution_count": 27,
   "metadata": {},
   "outputs": [
    {
     "name": "stdout",
     "output_type": "stream",
     "text": [
      "{'results': [{'address_components': [{'long_name': '401',\n",
      "                                      'short_name': '401',\n",
      "                                      'types': ['street_number']},\n",
      "                                     {'long_name': 'Hilltop Avenue',\n",
      "                                      'short_name': 'Hilltop Ave',\n",
      "                                      'types': ['route']},\n",
      "                                     {'long_name': 'Lexington',\n",
      "                                      'short_name': 'Lexington',\n",
      "                                      'types': ['locality', 'political']},\n",
      "                                     {'long_name': 'Fayette County',\n",
      "                                      'short_name': 'Fayette County',\n",
      "                                      'types': ['administrative_area_level_2',\n",
      "                                                'political']},\n",
      "                                     {'long_name': 'Kentucky',\n",
      "                                      'short_name': 'KY',\n",
      "                                      'types': ['administrative_area_level_1',\n",
      "                                                'political']},\n",
      "                                     {'long_name': 'United States',\n",
      "                                      'short_name': 'US',\n",
      "                                      'types': ['country', 'political']},\n",
      "                                     {'long_name': '40506',\n",
      "                                      'short_name': '40506',\n",
      "                                      'types': ['postal_code']},\n",
      "                                     {'long_name': '0001',\n",
      "                                      'short_name': '0001',\n",
      "                                      'types': ['postal_code_suffix']}],\n",
      "              'formatted_address': '401 Hilltop Ave, Lexington, KY 40506, USA',\n",
      "              'geometry': {'location': {'lat': 38.0328721, 'lng': -84.5017179},\n",
      "                           'location_type': 'ROOFTOP',\n",
      "                           'viewport': {'northeast': {'lat': 38.0342210802915,\n",
      "                                                      'lng': -84.50036891970849},\n",
      "                                        'southwest': {'lat': 38.0315231197085,\n",
      "                                                      'lng': -84.5030668802915}}},\n",
      "              'place_id': 'ChIJ4TWVhLhEQogRoRWbSlkOZZY',\n",
      "              'types': ['establishment', 'library', 'point_of_interest']}],\n",
      " 'status': 'OK'}\n"
     ]
    }
   ],
   "source": [
    "# print it more nicely\n",
    "\n",
    "pp.pprint(data)"
   ]
  },
  {
   "cell_type": "code",
   "execution_count": 28,
   "metadata": {},
   "outputs": [
    {
     "name": "stdout",
     "output_type": "stream",
     "text": [
      "38.0328721 -84.5017179\n"
     ]
    }
   ],
   "source": [
    "# pull out the lat-lon coordinates\n",
    "\n",
    "for r in data['results']:\n",
    "    coords = r['geometry']['location']\n",
    "    print(coords['lat'], coords['lng'])"
   ]
  },
  {
   "cell_type": "markdown",
   "metadata": {},
   "source": [
    "### Exercises\n",
    "\n",
    "1. Search for some other addresses or landmarks!\n",
    "2. Take a look at the [API documentation](https://developers.google.com/maps/documentation/geocoding/intro). What are the usage limits?"
   ]
  },
  {
   "cell_type": "code",
   "execution_count": 29,
   "metadata": {},
   "outputs": [
    {
     "name": "stdout",
     "output_type": "stream",
     "text": [
      "https://maps.googleapis.com/maps/api/geocode/json?address=OHR+Building+uky\n"
     ]
    }
   ],
   "source": [
    "#Exercise #1 - Locate OHR building\n",
    "endpoint = 'https://maps.googleapis.com/maps/api/geocode/json'\n",
    "\n",
    "params = {'address': 'OHR Building uky'}\n",
    "\n",
    "url = requests.Request('GET', endpoint, params=params).prepare().url #prepare that request of end point and print the url of young lib\n",
    "print(url)"
   ]
  },
  {
   "cell_type": "code",
   "execution_count": 30,
   "metadata": {},
   "outputs": [
    {
     "name": "stdout",
     "output_type": "stream",
     "text": [
      "{'results': [{'address_components': [{'long_name': 'Lexington', 'short_name': 'Lexington', 'types': ['locality', 'political']}, {'long_name': 'Fayette County', 'short_name': 'Fayette County', 'types': ['administrative_area_level_2', 'political']}, {'long_name': 'Kentucky', 'short_name': 'KY', 'types': ['administrative_area_level_1', 'political']}, {'long_name': 'United States', 'short_name': 'US', 'types': ['country', 'political']}, {'long_name': '40506', 'short_name': '40506', 'types': ['postal_code']}], 'formatted_address': 'Lexington, KY 40506, USA', 'geometry': {'location': {'lat': 38.0306511, 'lng': -84.5039697}, 'location_type': 'GEOMETRIC_CENTER', 'viewport': {'northeast': {'lat': 38.0320000802915, 'lng': -84.5026207197085}, 'southwest': {'lat': 38.0293021197085, 'lng': -84.50531868029151}}}, 'place_id': 'ChIJZQxUxbZEQogRZ0KY7kqd_44', 'types': ['establishment', 'point_of_interest', 'university']}], 'status': 'OK'}\n"
     ]
    }
   ],
   "source": [
    "response = requests.get(url)\n",
    "results = response.text\n",
    "data = json.loads(results)\n",
    "\n",
    "print(data)"
   ]
  },
  {
   "cell_type": "code",
   "execution_count": 31,
   "metadata": {},
   "outputs": [
    {
     "name": "stdout",
     "output_type": "stream",
     "text": [
      "{'results': [{'address_components': [{'long_name': 'Lexington',\n",
      "                                      'short_name': 'Lexington',\n",
      "                                      'types': ['locality', 'political']},\n",
      "                                     {'long_name': 'Fayette County',\n",
      "                                      'short_name': 'Fayette County',\n",
      "                                      'types': ['administrative_area_level_2',\n",
      "                                                'political']},\n",
      "                                     {'long_name': 'Kentucky',\n",
      "                                      'short_name': 'KY',\n",
      "                                      'types': ['administrative_area_level_1',\n",
      "                                                'political']},\n",
      "                                     {'long_name': 'United States',\n",
      "                                      'short_name': 'US',\n",
      "                                      'types': ['country', 'political']},\n",
      "                                     {'long_name': '40506',\n",
      "                                      'short_name': '40506',\n",
      "                                      'types': ['postal_code']}],\n",
      "              'formatted_address': 'Lexington, KY 40506, USA',\n",
      "              'geometry': {'location': {'lat': 38.0306511, 'lng': -84.5039697},\n",
      "                           'location_type': 'GEOMETRIC_CENTER',\n",
      "                           'viewport': {'northeast': {'lat': 38.0320000802915,\n",
      "                                                      'lng': -84.5026207197085},\n",
      "                                        'southwest': {'lat': 38.0293021197085,\n",
      "                                                      'lng': -84.50531868029151}}},\n",
      "              'place_id': 'ChIJZQxUxbZEQogRZ0KY7kqd_44',\n",
      "              'types': ['establishment', 'point_of_interest', 'university']}],\n",
      " 'status': 'OK'}\n"
     ]
    }
   ],
   "source": [
    "pp.pprint(data)"
   ]
  },
  {
   "cell_type": "code",
   "execution_count": 32,
   "metadata": {},
   "outputs": [
    {
     "name": "stdout",
     "output_type": "stream",
     "text": [
      "38.0306511 -84.5039697\n"
     ]
    }
   ],
   "source": [
    "for r in data['results']:\n",
    "    coords = r['geometry']['location']\n",
    "    print(coords['lat'], coords['lng'])"
   ]
  },
  {
   "cell_type": "markdown",
   "metadata": {},
   "source": [
    "# Part 3: Querying an API with authentication\n",
    "\n",
    "### Twitter REST APIs\n",
    "\n",
    "Twitter's APIs also operate over the web, but they require a back-and-forth authentication process at the beginning of each connection. It's easier to have a Python library handle this than to create the query URLs ourselves.\n",
    "\n",
    "The Twitter \"REST\" APIs perform stand-alone operations: you submit a query and receive results, like in earlier examples. ([REST](https://en.wikipedia.org/wiki/Representational_state_transfer) is a particular set of guidelines that many APIs follow.) Twitter also has a \"streaming\" API that continues sending results in real time until you disconnect.\n",
    "\n",
    "**API documentation:**  \n",
    "https://dev.twitter.com/rest/public  \n",
    "https://dev.twitter.com/overview/api/tweets\n",
    "\n",
    "**Documentation for the Python helper library**:  \n",
    "https://github.com/geduldig/TwitterAPI"
   ]
  },
  {
   "cell_type": "code",
   "execution_count": 34,
   "metadata": {
    "collapsed": true
   },
   "outputs": [],
   "source": [
    "from TwitterAPI import TwitterAPI\n",
    "\n",
    "import pprint  # library for making Python data structures readable\n",
    "pp = pprint.PrettyPrinter()"
   ]
  },
  {
   "cell_type": "code",
   "execution_count": 35,
   "metadata": {
    "collapsed": true
   },
   "outputs": [],
   "source": [
    "# import API credentials from keys.py file in the\n",
    "# same directory as this notebook\n",
    "\n",
    "from keys import *#its looking for keys in the folder"
   ]
  },
  {
   "cell_type": "code",
   "execution_count": 36,
   "metadata": {},
   "outputs": [
    {
     "name": "stdout",
     "output_type": "stream",
     "text": [
      "Connection is set up but not tested\n"
     ]
    }
   ],
   "source": [
    "# set up an API connection using credentials from the keys file\n",
    "\n",
    "api = TwitterAPI(consumer_key, consumer_secret, \n",
    "                 access_token, access_token_secret)\n",
    "\n",
    "print(\"Connection is set up but not tested\")"
   ]
  },
  {
   "cell_type": "markdown",
   "metadata": {},
   "source": [
    "### Making a simple data request"
   ]
  },
  {
   "cell_type": "code",
   "execution_count": 37,
   "metadata": {},
   "outputs": [
    {
     "name": "stdout",
     "output_type": "stream",
     "text": [
      "RT @UKTix: Purchase or renew 2018 @UKFootball season tickets and receive great benefits and incentives! It's that easy!\n",
      "\n",
      "BUY: https://t.co/…\n"
     ]
    }
   ],
   "source": [
    "# most recent tweet from @UCBerkeley's timeline\n",
    "\n",
    "endpoint = 'statuses/user_timeline'\n",
    "params = {\n",
    "    'screen_name': 'UKAthletics', \n",
    "    'count': 1\n",
    "}\n",
    "r = api.request(endpoint, params)\n",
    "\n",
    "for tweet in r.get_iterator():\n",
    "    print(tweet['text'])"
   ]
  },
  {
   "cell_type": "code",
   "execution_count": 38,
   "metadata": {},
   "outputs": [
    {
     "name": "stdout",
     "output_type": "stream",
     "text": [
      "{'contributors': None,\n",
      " 'coordinates': None,\n",
      " 'created_at': 'Thu Feb 22 15:22:19 +0000 2018',\n",
      " 'entities': {'hashtags': [],\n",
      "              'symbols': [],\n",
      "              'urls': [],\n",
      "              'user_mentions': [{'id': 933121999,\n",
      "                                 'id_str': '933121999',\n",
      "                                 'indices': [3, 9],\n",
      "                                 'name': 'UK Ticket Office',\n",
      "                                 'screen_name': 'UKTix'},\n",
      "                                {'id': 360022514,\n",
      "                                 'id_str': '360022514',\n",
      "                                 'indices': [34, 45],\n",
      "                                 'name': 'Kentucky Football',\n",
      "                                 'screen_name': 'UKFootball'}]},\n",
      " 'favorite_count': 0,\n",
      " 'favorited': False,\n",
      " 'geo': None,\n",
      " 'id': 966694651326615552,\n",
      " 'id_str': '966694651326615552',\n",
      " 'in_reply_to_screen_name': None,\n",
      " 'in_reply_to_status_id': None,\n",
      " 'in_reply_to_status_id_str': None,\n",
      " 'in_reply_to_user_id': None,\n",
      " 'in_reply_to_user_id_str': None,\n",
      " 'is_quote_status': False,\n",
      " 'lang': 'en',\n",
      " 'place': None,\n",
      " 'retweet_count': 3,\n",
      " 'retweeted': False,\n",
      " 'retweeted_status': {'contributors': None,\n",
      "                      'coordinates': None,\n",
      "                      'created_at': 'Thu Feb 22 15:22:04 +0000 2018',\n",
      "                      'entities': {'hashtags': [],\n",
      "                                   'symbols': [],\n",
      "                                   'urls': [{'display_url': 'twitter.com/i/web/status/9…',\n",
      "                                             'expanded_url': 'https://twitter.com/i/web/status/966694585832497152',\n",
      "                                             'indices': [116, 139],\n",
      "                                             'url': 'https://t.co/hfIi60rVkQ'}],\n",
      "                                   'user_mentions': [{'id': 360022514,\n",
      "                                                      'id_str': '360022514',\n",
      "                                                      'indices': [23, 34],\n",
      "                                                      'name': 'Kentucky '\n",
      "                                                              'Football',\n",
      "                                                      'screen_name': 'UKFootball'}]},\n",
      "                      'favorite_count': 15,\n",
      "                      'favorited': False,\n",
      "                      'geo': None,\n",
      "                      'id': 966694585832497152,\n",
      "                      'id_str': '966694585832497152',\n",
      "                      'in_reply_to_screen_name': None,\n",
      "                      'in_reply_to_status_id': None,\n",
      "                      'in_reply_to_status_id_str': None,\n",
      "                      'in_reply_to_user_id': None,\n",
      "                      'in_reply_to_user_id_str': None,\n",
      "                      'is_quote_status': False,\n",
      "                      'lang': 'en',\n",
      "                      'place': None,\n",
      "                      'possibly_sensitive': False,\n",
      "                      'retweet_count': 3,\n",
      "                      'retweeted': False,\n",
      "                      'source': '<a href=\"http://twitter.com\" '\n",
      "                                'rel=\"nofollow\">Twitter Web Client</a>',\n",
      "                      'text': 'Purchase or renew 2018 @UKFootball season '\n",
      "                              'tickets and receive great benefits and '\n",
      "                              \"incentives! It's that easy!\\n\"\n",
      "                              '\\n'\n",
      "                              'BUY:… https://t.co/hfIi60rVkQ',\n",
      "                      'truncated': True,\n",
      "                      'user': {'contributors_enabled': False,\n",
      "                               'created_at': 'Wed Nov 07 22:42:11 +0000 2012',\n",
      "                               'default_profile': False,\n",
      "                               'default_profile_image': False,\n",
      "                               'description': 'Official Account of the '\n",
      "                                              '@UKAthletics Ticket Office | 9 '\n",
      "                                              'AM - 4 PM ET (M-F) |  (800) '\n",
      "                                              '928-2287',\n",
      "                               'entities': {'description': {'urls': []},\n",
      "                                            'url': {'urls': [{'display_url': 'UKathletics.com/tickets',\n",
      "                                                              'expanded_url': 'http://UKathletics.com/tickets',\n",
      "                                                              'indices': [0,\n",
      "                                                                          23],\n",
      "                                                              'url': 'https://t.co/NNBpF9vQdF'}]}},\n",
      "                               'favourites_count': 2588,\n",
      "                               'follow_request_sent': False,\n",
      "                               'followers_count': 15069,\n",
      "                               'following': False,\n",
      "                               'friends_count': 262,\n",
      "                               'geo_enabled': True,\n",
      "                               'has_extended_profile': False,\n",
      "                               'id': 933121999,\n",
      "                               'id_str': '933121999',\n",
      "                               'is_translation_enabled': False,\n",
      "                               'is_translator': False,\n",
      "                               'lang': 'en',\n",
      "                               'listed_count': 95,\n",
      "                               'location': 'Lexington, KY',\n",
      "                               'name': 'UK Ticket Office',\n",
      "                               'notifications': False,\n",
      "                               'profile_background_color': 'ABB8C2',\n",
      "                               'profile_background_image_url': 'http://pbs.twimg.com/profile_background_images/507870520868474880/Mzig6YjF.jpeg',\n",
      "                               'profile_background_image_url_https': 'https://pbs.twimg.com/profile_background_images/507870520868474880/Mzig6YjF.jpeg',\n",
      "                               'profile_background_tile': False,\n",
      "                               'profile_banner_url': 'https://pbs.twimg.com/profile_banners/933121999/1516824023',\n",
      "                               'profile_image_url': 'http://pbs.twimg.com/profile_images/876853533689208832/ZOoGrLxn_normal.jpg',\n",
      "                               'profile_image_url_https': 'https://pbs.twimg.com/profile_images/876853533689208832/ZOoGrLxn_normal.jpg',\n",
      "                               'profile_link_color': '0030A0',\n",
      "                               'profile_sidebar_border_color': '000000',\n",
      "                               'profile_sidebar_fill_color': 'DDEEF6',\n",
      "                               'profile_text_color': '333333',\n",
      "                               'profile_use_background_image': False,\n",
      "                               'protected': False,\n",
      "                               'screen_name': 'UKTix',\n",
      "                               'statuses_count': 8396,\n",
      "                               'time_zone': 'Eastern Time (US & Canada)',\n",
      "                               'translator_type': 'none',\n",
      "                               'url': 'https://t.co/NNBpF9vQdF',\n",
      "                               'utc_offset': -18000,\n",
      "                               'verified': False}},\n",
      " 'source': '<a href=\"http://twitter.com/download/iphone\" '\n",
      "           'rel=\"nofollow\">Twitter for iPhone</a>',\n",
      " 'text': 'RT @UKTix: Purchase or renew 2018 @UKFootball season tickets and '\n",
      "         \"receive great benefits and incentives! It's that easy!\\n\"\n",
      "         '\\n'\n",
      "         'BUY: https://t.co/…',\n",
      " 'truncated': False,\n",
      " 'user': {'contributors_enabled': False,\n",
      "          'created_at': 'Tue Mar 17 18:41:37 +0000 2009',\n",
      "          'default_profile': False,\n",
      "          'default_profile_image': False,\n",
      "          'description': 'The official Twitter account of the University of '\n",
      "                         'Kentucky Athletics Department. Facebook: Kentucky '\n",
      "                         'Wildcats; Instagram: ukathletics; Snapchat: '\n",
      "                         'uk_athletics',\n",
      "          'entities': {'description': {'urls': []},\n",
      "                       'url': {'urls': [{'display_url': 'ukathletics.com',\n",
      "                                         'expanded_url': 'http://www.ukathletics.com/',\n",
      "                                         'indices': [0, 23],\n",
      "                                         'url': 'https://t.co/Zqcn6uhNdp'}]}},\n",
      "          'favourites_count': 4213,\n",
      "          'follow_request_sent': False,\n",
      "          'followers_count': 320393,\n",
      "          'following': False,\n",
      "          'friends_count': 805,\n",
      "          'geo_enabled': True,\n",
      "          'has_extended_profile': False,\n",
      "          'id': 24929053,\n",
      "          'id_str': '24929053',\n",
      "          'is_translation_enabled': False,\n",
      "          'is_translator': False,\n",
      "          'lang': 'en',\n",
      "          'listed_count': 1361,\n",
      "          'location': 'Lexington, Ky.',\n",
      "          'name': 'Kentucky Athletics',\n",
      "          'notifications': False,\n",
      "          'profile_background_color': '000738',\n",
      "          'profile_background_image_url': 'http://pbs.twimg.com/profile_background_images/454256249635237888/rrHm7iuI.jpeg',\n",
      "          'profile_background_image_url_https': 'https://pbs.twimg.com/profile_background_images/454256249635237888/rrHm7iuI.jpeg',\n",
      "          'profile_background_tile': False,\n",
      "          'profile_banner_url': 'https://pbs.twimg.com/profile_banners/24929053/1517845679',\n",
      "          'profile_image_url': 'http://pbs.twimg.com/profile_images/875802157605408769/-DftO40K_normal.jpg',\n",
      "          'profile_image_url_https': 'https://pbs.twimg.com/profile_images/875802157605408769/-DftO40K_normal.jpg',\n",
      "          'profile_link_color': '084AE7',\n",
      "          'profile_sidebar_border_color': 'FFFFFF',\n",
      "          'profile_sidebar_fill_color': 'FFFFFF',\n",
      "          'profile_text_color': '787878',\n",
      "          'profile_use_background_image': True,\n",
      "          'protected': False,\n",
      "          'screen_name': 'UKAthletics',\n",
      "          'statuses_count': 41569,\n",
      "          'time_zone': 'Eastern Time (US & Canada)',\n",
      "          'translator_type': 'none',\n",
      "          'url': 'https://t.co/Zqcn6uhNdp',\n",
      "          'utc_offset': -18000,\n",
      "          'verified': True}}\n"
     ]
    }
   ],
   "source": [
    "# what other data is there?\n",
    "\n",
    "pp.pprint(tweet)"
   ]
  },
  {
   "cell_type": "markdown",
   "metadata": {},
   "source": [
    "### Other API endpoints allow different types of searches"
   ]
  },
  {
   "cell_type": "code",
   "execution_count": 39,
   "metadata": {},
   "outputs": [
    {
     "name": "stdout",
     "output_type": "stream",
     "text": [
      "Is it just me or do most SEC teams lose the game after the #Kentucky game? Damn son don’t metaphorically blow your wad #bbn\n",
      "\n",
      "Uhm yes please. #BBN https://t.co/a9bWkVrpXU\n",
      "\n",
      "RT @JEdwar247: 23 offers and counting. The #Kentucky Junior Day visitor list is LOADED [VIP] - https://t.co/ByYcDuZoMy #BBN\n",
      "\n",
      "#bbnaija #DoubleWahala #bigbrothernaija2018 #bbn #BBNaija3 #bbnaija2018 #bbnaijafans #teammina #teammiracle… https://t.co/6y1h7gE5P9\n",
      "\n",
      "RT @PrepHoops_WI: Ssshhhhhhhh...@raf_tyler #BBN https://t.co/LlODeWXwXn\n",
      "\n"
     ]
    }
   ],
   "source": [
    "# search for public tweets about #BBN\n",
    "\n",
    "endpoint = 'search/tweets'\n",
    "params = {\n",
    "    'q': '#BBN', \n",
    "    'count': 5\n",
    "}\n",
    "r = api.request(endpoint, params)\n",
    "\n",
    "for tweet in r.get_iterator():\n",
    "    print(tweet['text'] + '\\n')"
   ]
  },
  {
   "cell_type": "code",
   "execution_count": 40,
   "metadata": {},
   "outputs": [
    {
     "name": "stdout",
     "output_type": "stream",
     "text": [
      "RT @sengarajay235: वोट के लिए खुले में नोट बांट रहे हैं कांग्रेस प्रत्याशी\n",
      "मुंगावली उपचुनाव में हार के डर से हताश कांग्रेस अब मतदाताओं को…\n",
      "\n",
      "@AdamVaaancho @HoarafushiD Mi firihen kulhi yagundaa aai vagu adhurey adhi dhinkeyo Nihaan Jalah vanna dhuvas footakah gaaiy vehje\n",
      "\n",
      "RT @Radheshyam12pat: @ZeeMPCG Sarkar karmachariyo ka samvidha ke naam par kewal shoshan kar rahe he\n",
      "\n",
      "RT @NaveenmishraT: वाकई में #68500_शिक्षकों की भर्ती में ये #संशोधन करती है,माननीय #योगी_सरकार तो #विजन_2019 की जिम्मेदारी #शिक्षामित्रों…\n",
      "\n",
      "RT @SattsahebGopal: #Guru_Gyaan\n",
      "शीलवंत सबसे बड़ा, सब रतनन की खान ।\n",
      "तीन लोक की संपदा, रही शील में आन ।\n",
      "\n",
      "हममें शीतलता कैसे आ सकती है? जानने…\n",
      "\n"
     ]
    }
   ],
   "source": [
    "# search for public tweets in Hindi\n",
    "\n",
    "endpoint = 'search/tweets'\n",
    "params = {\n",
    "    'q': '*', \n",
    "    'lang': 'hi', \n",
    "    'count': 5\n",
    "} \n",
    "r = api.request(endpoint, params)\n",
    "\n",
    "for tweet in r.get_iterator():\n",
    "    print(tweet['text'] + '\\n')"
   ]
  },
  {
   "cell_type": "code",
   "execution_count": 41,
   "metadata": {},
   "outputs": [
    {
     "name": "stdout",
     "output_type": "stream",
     "text": [
      "There’s still time to sign up for our last event of Raise the Dough tonight at 6pm! There is a… https://t.co/8aX10jJJ33\n",
      "\n",
      "This our world u just livin in it @ Kappa Delta - Epsilon Omega Chapter https://t.co/29f6Q3gosu\n",
      "\n",
      "Pop-up Research Rescue @UKLittleLibrary 6:30 - 9pm  @UKLibraries https://t.co/STS1MNpqwg\n",
      "\n",
      "It’s like Christmas Eve anticipation in the studio!!  New Reformers arriving tomorrow!! 🎉💪🏻🥂… https://t.co/w0Lz2QWBMe\n",
      "\n",
      "Lots of bright and creative minds in the University of Kentucky College of Communication and Information! \n",
      "\n",
      "We had… https://t.co/zvDv8lB7Mf\n",
      "\n",
      "fuckinrealtyrone is such a punk...that’s why I kicked him in his… https://t.co/JCAOxxSHFI\n",
      "\n",
      "We are set up and excited to talk to eager @uk_ci students at their departments Career Fair! https://t.co/i23kbxEFxZ\n",
      "\n"
     ]
    }
   ],
   "source": [
    "# search for public tweets geotagged near the UK campus\n",
    "\n",
    "endpoint = 'search/tweets'\n",
    "params = {\n",
    "    'q': '*', \n",
    "    'geocode': '38.034,-84.500,0.5km', \n",
    "    'count': 10\n",
    "} \n",
    "r = api.request(endpoint, params)\n",
    "\n",
    "for tweet in r.get_iterator():\n",
    "    print(tweet['text'] + '\\n')"
   ]
  },
  {
   "cell_type": "markdown",
   "metadata": {},
   "source": [
    "### Exercises\n",
    "\n",
    "1. Try some different search queries!\n",
    "2. Display some more data fields in addition to the tweet text"
   ]
  },
  {
   "cell_type": "code",
   "execution_count": 47,
   "metadata": {},
   "outputs": [
    {
     "name": "stdout",
     "output_type": "stream",
     "text": [
      "RT @EdKrassen: It is disgusting that President Trump is using the tragedy in Parkland to promote the sale of more guns, by suggesting that…\n",
      "\n",
      "@kylegriffin1 Getting shot by an AR 15 is pretty hard on them too #trump\n",
      "\n",
      "RT @maddow: https://t.co/oJ2HqXL2Q6\n",
      "\n",
      "RT @NBCPolitics: Trump floats bonuses for teachers willing to carry guns in class https://t.co/peR0OgJ2ZI\n",
      "\n",
      "How the N.R.A. Keeps Federal Gun Regulators in Check via @NYTimes https://t.co/wqUsiyawOd\n",
      "\n"
     ]
    }
   ],
   "source": [
    "#Exercise1\n",
    "endpoint = 'search/tweets'\n",
    "params = {\n",
    "    'q': 'trump', \n",
    "    'count': 5\n",
    "} \n",
    "r = api.request(endpoint, params)\n",
    "\n",
    "for tweet in r.get_iterator():\n",
    "    print(tweet['text'] + '\\n')"
   ]
  },
  {
   "cell_type": "code",
   "execution_count": 48,
   "metadata": {},
   "outputs": [
    {
     "name": "stdout",
     "output_type": "stream",
     "text": [
      "ദ്രാവിഡ സ്വത്വം ആഘോഷിക്കപ്പെടുമ്പോള്‍ അതൊരു കോറസായി ദില്ലിയിലെത്തും; കമല്‍ഹാസന്‍ https://t.co/Yz3yHkPS07… https://t.co/q2oxRqXawW\n",
      "\n",
      "ഇമ ചിമ്മുക (WINK) എന്നാല്‍ ഗൂഗിളിന് ഒറ്റ അര്‍ത്ഥമേയുള്ളൂ അത് പ്രിയാ വാര്യരാണ്; മാണിക്യമലരായ പൂവിയെ ഏറ്റെടുത്ത് ഗൂഗി… https://t.co/fR5dqE3fC2\n",
      "\n",
      "കഞ്ചാവ് കൃഷി ചെയ്യാനും പഠിപ്പിക്കാനും കായിക താരം https://t.co/St3Mx1uorB\n",
      "\n",
      "അഡാര്‍ ലൗവിലെ ഗാനം പിന്‍വലിക്കില്ലെന്ന് അണിയറ പ്രവര്‍ത്തകര്‍ \n",
      "https://t.co/mEqxghm7KF\n",
      "#OruAdaarLove #PriyaWarrier #ഒരുഅഡാർലവ് #പ്രിയവാര്യർ\n",
      "\n",
      "അവസാന ആഗ്രഹം ബാക്കിയാക്കി ലാലേട്ടന്റെ ആ ആരാധിക വിടവാങ്ങി\n",
      " https://t.co/f0eTu4n1NZ\n",
      "#Mohanlal #മോഹൻലാൽ\n",
      "\n"
     ]
    }
   ],
   "source": [
    "#Exercise1\n",
    "endpoint = 'search/tweets'\n",
    "params = {\n",
    "    'q': '*', \n",
    "    'lang': 'malayalam', \n",
    "    'count': 5\n",
    "} \n",
    "r = api.request(endpoint, params)\n",
    "\n",
    "for tweet in r.get_iterator():\n",
    "    print(tweet['text'] + '\\n')"
   ]
  },
  {
   "cell_type": "markdown",
   "metadata": {},
   "source": [
    "### Bonus: Streaming live tweets in real time "
   ]
  },
  {
   "cell_type": "code",
   "execution_count": 43,
   "metadata": {},
   "outputs": [
    {
     "name": "stdout",
     "output_type": "stream",
     "text": [
      "Thu Feb 22 18:39:30 +0000 2018\n",
      "Brno, Česká republika, Česká republika\n",
      "Угадайте, кто сегодня играл в волейбол 2,5 часа, и теперь на седьмом небе от счастья😱😱😱😱😱😱😱😱😱😱😱😱😱😱😱😱😱❤️❤️❤️❤️❤️❤️❤️❤️❤️❤️\n",
      "\n",
      "Thu Feb 22 18:39:30 +0000 2018\n",
      "Johannesburg, South Africa, South Africa\n",
      "Sophiatown 🔥🔥🔥🔥🔥 #UJAPKFYC18\n",
      "\n",
      "Thu Feb 22 18:39:30 +0000 2018\n",
      "Frostburg, MD, United States\n",
      "@GavWill13 I’ll enjoy the moment!\n",
      "\n",
      "Thu Feb 22 18:39:30 +0000 2018\n",
      "Waterbeach, England, United Kingdom\n",
      "@Sally_Illsley @Girlguiding Right, Our Chalet 2020 it is! Bring it on @Sally_Illsley @salter_abi #mountaintopmoment\n",
      "\n",
      "Thu Feb 22 18:39:30 +0000 2018\n",
      "Duque de Caxias, Brasil, Brasil\n",
      "Essa merda de chuva atrasando tudo\n",
      "\n",
      "Thu Feb 22 18:39:30 +0000 2018\n",
      "Alingsås, Sverige, Sweden\n",
      "@11Hassel @ibklidkoping @FlodaIBKPodcast haha ja jävla otur😆 men vi bjöd på ditt första så du får vara hyfsat nöjd ändå!\n",
      "\n",
      "Thu Feb 22 18:39:30 +0000 2018\n",
      "São Gonçalo, Brasil, Brasil\n",
      "Ótima https://t.co/wzx2KVjOhL\n",
      "\n",
      "Thu Feb 22 18:39:30 +0000 2018\n",
      "San Antonio, TX, United States\n",
      "The best part about going to Chick-fil-A on campus is the mice lady who always says, “how can I help you mama?” Or… https://t.co/zxkIV00Hpd\n",
      "\n",
      "Thu Feb 22 18:39:30 +0000 2018\n",
      "Bahrain, Bahrain\n",
      "WHAT A SHOT SAMMY YAAR ❤\n",
      "\n",
      "Thu Feb 22 18:39:30 +0000 2018\n",
      "Mendoza, Argentina, Argentina\n",
      "@MaggHernann @ConcienciasEco Así es! Gracias!\n",
      "\n",
      "Thu Feb 22 18:39:29 +0000 2018\n",
      "Ecuador, Ecuador\n",
      ".@BancoPichincha recibe reconocimiento como 🤱\"Empresa amiga de la #LactanciaMaterna\" por implementar lactario y fom… https://t.co/C8RdeRWyV7\n",
      "\n",
      "Thu Feb 22 18:39:30 +0000 2018\n",
      "Fort Worth, TX, United States\n",
      "how is she a gym teacher? https://t.co/YjZvu1LbpV\n",
      "\n",
      "Thu Feb 22 18:39:30 +0000 2018\n",
      "Nicaragua, Nicaragua\n",
      "Odio ser impuntual, quisiera corregirme eso.\n",
      "\n",
      "Thu Feb 22 18:39:30 +0000 2018\n",
      "Sun City West, AZ, United States\n",
      "This gal is just pushing buttons to take the blame away from the NRA. She is a paid shill for the NRA and they own… https://t.co/G8HhUBsnA4\n",
      "\n",
      "Thu Feb 22 18:39:29 +0000 2018\n",
      "Topeka, KS, United States\n",
      "@realChefJared @DankSkeleton21 @NASA @VP No?  Where then is the NASA heavy lift vehicle developed in 2015? https://t.co/5UFTWL5l0b\n",
      "\n",
      "Thu Feb 22 18:39:30 +0000 2018\n",
      "Abuja, Nigeria, Nigeria\n",
      "@sahon_A LMFAO.  Sahon  u dey fear?\n",
      "\n",
      "Thu Feb 22 18:39:30 +0000 2018\n",
      "Костромской район, Россия, Россия\n",
      "Шедевр... https://t.co/b4VibmftV2\n",
      "\n",
      "Thu Feb 22 18:39:30 +0000 2018\n",
      "Sintra, Portugal, Portugal\n",
      "mandem dm\n",
      "\n",
      "Thu Feb 22 18:39:30 +0000 2018\n",
      "Çorlu, Türkiye, Türkiye\n",
      "#çorlugay https://t.co/JevVFHI2EM\n",
      "\n",
      "Thu Feb 22 18:39:30 +0000 2018\n",
      "Newburn, England, United Kingdom\n",
      "@janwhiteley1 Hi Hun I've had a good day thank you was at work this afternoon. How are you?x\n",
      "\n",
      "Thu Feb 22 18:39:29 +0000 2018\n",
      "Екатеринбург, Россия, Россия\n",
      "Абрикосы богаты протеином, углеводами, витамином А, железом и другими минералами. Особо богата железом курага (суше… https://t.co/F94H4wpgLo\n",
      "\n",
      "Thu Feb 22 18:39:30 +0000 2018\n",
      "Gualeguaychú, Argentina, Argentina\n",
      "Me estaba bañando y cuando salgo estaba mi moto afuera y el dani armandola , a bueee 😂😂 y asi quedo tambien\n",
      "\n"
     ]
    }
   ],
   "source": [
    "# Twitter limits simultaneous connections to the streaming API,\n",
    "# so this part may not work using the demo API keys during class\n",
    "\n",
    "endpoint = 'statuses/filter'\n",
    "params = {'locations': '-180,-90,180,90'}\n",
    "r = api.request(endpoint, params)\n",
    "LIMIT = 20\n",
    "\n",
    "# 'enumerate' lets us count tweets as we receive them\n",
    "\n",
    "for i, tweet in enumerate(r.get_iterator()):\n",
    "    print(tweet['created_at'])\n",
    "    print(tweet['place']['full_name'] + ', ' + tweet['place']['country'])\n",
    "    print(tweet['text'] + '\\n')\n",
    "    if (i > LIMIT): break\n",
    "\n",
    "# close the streaming connection\n",
    "r.close()"
   ]
  },
  {
   "cell_type": "code",
   "execution_count": null,
   "metadata": {
    "collapsed": true
   },
   "outputs": [],
   "source": []
  },
  {
   "cell_type": "code",
   "execution_count": null,
   "metadata": {
    "collapsed": true
   },
   "outputs": [],
   "source": []
  },
  {
   "cell_type": "code",
   "execution_count": null,
   "metadata": {
    "collapsed": true
   },
   "outputs": [],
   "source": []
  },
  {
   "cell_type": "markdown",
   "metadata": {},
   "source": [
    "### Exercises for the remainder of class\n",
    "\n",
    "1. Make a scatter plot of the lat-lon coordinates of earthquakes.  \n",
    "   &nbsp;\n",
    "   \n",
    "2. Using the geocoding example as a starting point, try searching the Google Maps Directions API or Elevation API instead. Descriptions are in the [API documentation](https://developers.google.com/maps/documentation/geocoding/intro).  \n",
    "   &nbsp;\n",
    "   "
   ]
  },
  {
   "cell_type": "markdown",
   "metadata": {
    "collapsed": true
   },
   "source": [
    "### For next time...\n",
    "\n",
    "In the next class, you will try out another API that provides data you're interested in. You will be asked to try connecting to it using Python code, and performing some basic operations on the data.  To come prepared for next time, please explore some of the transportation-related APIs that may be valuable, and choose one that is of interest to you.\n",
    "\n",
    "Here are a a few to get you started. \n",
    "\n",
    "Public Transit\n",
    "https://www.programmableweb.com/news/how-smart-cities-are-using-apis-public-transport-apis/2014/05/22\n",
    "\n",
    "Long-Distance Travel\n",
    "http://www.olery.com/blog/the-best-travel-apis-discover-contribute/ \n",
    "\n",
    "Transportation\n",
    "https://www.programmableweb.com/category/transportation/api\n",
    "\n",
    "\n",
    "Start by reading the public transit page, because that provides a nice overview of the types of applications out there, and some of the issues in using them.  These lessons often apply to traffic and transportation more generally.  \n",
    "\n",
    "Keep in mind that there are a number of different organizations that provide APIs, with different motivations and quality of what is provided.  If it is a private company, what is their business model?  What is the underlying source of the data, and what might that imply about how representative it is of the real world?  There is a ton of stuff out there.  How do we go about sorting out what is useful to us and what is now.  Spend some time exploring these and thinking about these questions.  \n"
   ]
  },
  {
   "cell_type": "code",
   "execution_count": 1,
   "metadata": {
    "collapsed": true
   },
   "outputs": [],
   "source": [
    "%matplotlib inline\n",
    "\n",
    "import pandas as pd\n",
    "\n",
    "import json    # library for working with JSON-formatted text strings\n",
    "import requests  # library for accessing content from web URLs\n",
    "\n",
    "import pprint  # library for making Python data structures readable\n",
    "pp = pprint.PrettyPrinter()"
   ]
  },
  {
   "cell_type": "code",
   "execution_count": 5,
   "metadata": {},
   "outputs": [],
   "source": [
    "# download data on magnitude 2.5+ quakes from the past week\n",
    "\n",
    "endpoint_url = \"http://earthquake.usgs.gov/earthquakes/feed/v1.0/summary/2.5_week.geojson\"\n",
    "response = requests.get(endpoint_url)\n",
    "results = response.text"
   ]
  },
  {
   "cell_type": "code",
   "execution_count": 14,
   "metadata": {},
   "outputs": [],
   "source": [
    "data = json.loads(results)"
   ]
  },
  {
   "cell_type": "code",
   "execution_count": 15,
   "metadata": {
    "collapsed": true
   },
   "outputs": [],
   "source": [
    "quakes = data['features']"
   ]
  },
  {
   "cell_type": "code",
   "execution_count": 17,
   "metadata": {},
   "outputs": [],
   "source": [
    "# pull out lat long into a Pandas dataframe, using\n",
    "# a more compact Python syntax for iterating through lists\n",
    "\n",
    "d = {'Longitude': [q['geometry']['coordinates'][0] for q in quakes],\n",
    "     'Latitude': [q['geometry']['coordinates'][1] for q in quakes]}\n",
    "df = pd.DataFrame.from_dict(d)"
   ]
  },
  {
   "cell_type": "code",
   "execution_count": 18,
   "metadata": {},
   "outputs": [
    {
     "data": {
      "text/plain": [
       "<matplotlib.axes._subplots.AxesSubplot at 0x1f0d774e940>"
      ]
     },
     "execution_count": 18,
     "metadata": {},
     "output_type": "execute_result"
    },
    {
     "data": {
      "image/png": "[encoded data removed]",
      "text/plain": [
       "<matplotlib.figure.Figure at 0x1f0d2c0aa90>"
      ]
     },
     "metadata": {},
     "output_type": "display_data"
    }
   ],
   "source": [
    "df.plot(x='Longitude', y='Latitude', kind='scatter')"
   ]
  },
  {
   "cell_type": "code",
   "execution_count": 24,
   "metadata": {},
   "outputs": [
    {
     "name": "stdout",
     "output_type": "stream",
     "text": [
      "https://maps.googleapis.com/maps/api/directions/json?origin=Kentucky&destination=Connecticut&key=\n"
     ]
    }
   ],
   "source": [
    "endpoint = 'https://maps.googleapis.com/maps/api/directions/json'\n",
    "params = {\n",
    "    'origin':'Kentucky',\n",
    "    'destination':'Connecticut',\n",
    "    'key':''\n",
    "    }\n",
    "url = requests.Request('GET',endpoint, params=params).prepare().url\n",
    "print(url)"
   ]
  },
  {
   "cell_type": "code",
   "execution_count": 25,
   "metadata": {},
   "outputs": [
    {
     "name": "stdout",
     "output_type": "stream",
     "text": [
      "{'geocoded_waypoints': [{'geocoder_status': 'OK', 'place_id': 'ChIJyVMZi0xzQogR_N_MxU5vH3c', 'types': ['administrative_area_level_1', 'political']}, {'geocoder_status': 'OK', 'place_id': 'ChIJpVER8hFT5okR5XBhBVttmq4', 'types': ['administrative_area_level_1', 'political']}], 'routes': [{'bounds': {'northeast': {'lat': 41.6074491, 'lng': -73.0574723}, 'southwest': {'lat': 37.8376601, 'lng': -84.2770898}}, 'copyrights': 'Map data ©2018 Google', 'legs': [{'distance': {'text': '798 mi', 'value': 1283878}, 'duration': {'text': '12 hours 8 mins', 'value': 43680}, 'end_address': 'Connecticut, USA', 'end_location': {'lat': 41.6030999, 'lng': -73.08767519999999}, 'start_address': 'Kentucky, USA', 'start_location': {'lat': 37.8376601, 'lng': -84.2672549}, 'steps': [{'distance': {'text': '6.2 mi', 'value': 9920}, 'duration': {'text': '9 mins', 'value': 538}, 'end_location': {'lat': 37.899982, 'lng': -84.27083209999999}, 'html_instructions': 'Head <b>northeast</b> on <b>KY-388</b> toward <b>Sam Jones</b>', 'polyline': {'points': 'kd}eFhmiaOcHyGSSa@a@u@s@cAaAa@a@qAoAm@i@YYa@[m@c@[Qk@YUKUIWKa@Ko@Qa@GMCSESAKCSA]A]AY?WAg@@WAw@?g@A]CSEMCGAGCq@W]O[Q[SWS[YCEWYCCQUW_@CCCEQ[GKO[e@aA[u@Qa@ISSc@Wo@Uk@Sg@Wq@g@sAGKOc@Um@O_@Wo@Um@y@uB_@gAQc@Si@Sk@ISEMEMEKEIQc@OWACIMEIGKOUGIKKOOGIKGIIIGEEOIUMKG]MQI]Ka@Ks@Sk@QcAYa@MQEUEIAQCMA[AO?W?Q@QB[BOD_@Hc@NUJe@Ri@^c@Z_BjAcAt@oAz@_BhAo@d@WPUNg@h@MNW^Ud@OZQb@MXQ\\\\KTMZWf@Yb@U\\\\]j@cAbBw@nAU^Y`@_@h@]f@Wb@QXITIRM`@Oj@Ql@O`@Mb@Yn@Wb@Ub@[b@ILIJMRYf@MTOXENKVGT[dAa@~A_@vAe@pBEJGXGZE\\\\CLCTMx@Gd@EZWdBCXE\\\\Cj@ATC|@AfBC|AC|AA|@AV?BAp@Aj@Ed@E\\\\EVKv@CLGTGVCJCFENIZWv@q@jBMb@ENO^Q^_@x@IPKPSZW^QTUVKJOL[Te@TaA^]NYLy@^}CvAYLw@\\\\YLUJID_AZWFm@LWFUDWFk@LkB^c@Ha@J[F_@HG@SDiATq@LQDQDGDEDA@ADABAF?F?H@R@R@d@@J?B?BAD?FCF?@ABEFCDGFUTA?{@x@_@\\\\QPw@r@UTOLA@[ZKH[TOLKHOJMFi@XUHkAb@a@LEB_AZYJEB_AZEBA?YJ_@NA?g@PA@s@Xy@\\\\[LKFULOHA@KHWROLKHy@l@u@j@KJg@\\\\WRUNOHKFMDCBG@G@KBQBg@BiBHoADM@O?S?OAMAOEQE[KqAi@UMSOYUWWc@g@QWU_@Ym@e@gAWu@Mi@GWEi@Eo@EmAE{D?yABu@Dq@D_@Jk@b@eC^oBJi@F_@Fa@Dc@BY@WBa@@YDm@Be@Ds@Dm@D_AFgABe@?U?SCYCWE]Om@UaAKYM]Qa@]c@WWQOWO[OYKYIc@Ie@Iy@IwAGo@Cu@Ay@?mA@mAFuEXm@Dq@BoABeBDU?OCUIOGYOKGyAeAcBoAyEeDkAy@_@WqCoB_BeAgDyB}BwAuBqAe@YKGYMKCMEMAUCK?W@M@M@K@MBSFSHIBs@RYJUJWLe@Ru@V_Bh@SHKDSHa@NKD_@NMFE@_@PMDOHA?MFOH]PYRWTWTUVW\\\\k@x@SZW\\\\AB]f@k@t@WXa@f@UX]Z[VMH?@KDMHC@GBMFKBODOD[HC?e@LMDMDMJKLCFADAF?F?D?F@FDh@@D'}, 'start_location': {'lat': 37.8376601, 'lng': -84.2672549}, 'travel_mode': 'DRIVING'}, {'distance': {'text': '8.1 mi', 'value': 13022}, 'duration': {'text': '10 mins', 'value': 621}, 'end_location': {'lat': 37.9902597, 'lng': -84.1805455}, 'html_instructions': 'Turn <b>right</b> onto <b>KY-627 N</b>', 'maneuver': 'turn-right', 'polyline': {'points': '{iifFtcjaOaB`@g@JSDO@M@QB[@Y@U?S?m@CUCOAQCWG_@IOEYISGMGME]Q]SkAq@i@[q@_@mDyBoAu@{A{@w@c@SMUMYQOQKIMIc@We@YkCgBwB}A{AoAi@e@OIyAsAaBwAmBgBaA}@oEcEq@o@m@m@mFcFyEgEm@g@gA_Aq@m@sAmAgAcAyAuAgFyEoCkCiCgCgFsEkEqDe@a@gAcAaLmKaDsCcA_AiAkAi@k@u@w@gBsBgAwA_AuAeBgCiAaBuAeCs@qAk@eA}A_DeB_EsEeKoCgGmBcEsAqCy@eBe@eAmCaGo@}AESeBiEqBiEc@aAmAmCcCiFO[IIa@}@[o@]w@]u@]y@c@aAUe@g@aAUa@_@q@]m@aAaB}@yAS[SWc@k@o@w@k@o@}@eAeAgAi@i@q@q@cA}@w@o@sAeAi@a@o@e@c@Ya@U_@U]SuAu@cKeFeB_AeB_AuAu@_Ak@_Ai@gAq@cAq@uAaA{@m@_@Ym@a@yAiAcBuAcBwAgB_B_J}HeW{Tq@o@sAkAaCsBIIyAqAcA_AaA{@mAeAi@e@}BoBeFoEo@i@a@[mAeAu@s@_ByAwDgD_DmCc@]}AoAoAeAmAcAsAoA{AwAmCkCiDwCcDoCoAaAkA}@cBcA{@g@s@a@m@[aCmAeEqBoCqAi@]q@a@_@S]UUQk@a@o@g@]Wc@a@a@][YQS{@{@UYW[_B{A{A{AqAsA_B{Ac@c@kAoAGAGAoAqAiAkAOOc@e@u@u@}DeEaAiAaCoCeCyCcBqBoDiEuCaDqA}AeAmA}DgFKOeDoEw@gASYa@q@_A_B]i@aC{DyAuBISMe@QaAQcACWAO?O?O@U'}, 'start_location': {'lat': 37.899982, 'lng': -84.27083209999999}, 'travel_mode': 'DRIVING'}, {'distance': {'text': '1.3 mi', 'value': 2136}, 'duration': {'text': '4 mins', 'value': 212}, 'end_location': {'lat': 38.0081419, 'lng': -84.17235579999999}, 'html_instructions': 'Turn <b>left</b> onto <b>S Maple St</b>', 'maneuver': 'turn-left', 'polyline': {'points': 'c~zfFlox`OaAa@gBu@gBs@WGwBcA{B_A}@[_Ac@{Aq@{@]y@]aBs@gBu@UU}CqAo@UYMgEiBEAsAm@gDqAUI[?_E_BgAe@gBu@{Ao@aBq@}Ao@_Bo@_Bq@_Bo@oDyAmDyAEAIKACAACAo@UOEGCGAWG_@Ga@COA]A]@M?K@OBWBUD[Fy@T'}, 'start_location': {'lat': 37.9902597, 'lng': -84.1805455}, 'travel_mode': 'DRIVING'}, {'distance': {'text': '0.1 mi', 'value': 236}, 'duration': {'text': '1 min', 'value': 20}, 'end_location': {'lat': 38.0101776, 'lng': -84.1731143}, 'html_instructions': 'Continue onto <b>Paris Rd</b>', 'polyline': {'points': '{m~fFf|v`OwKtC'}, 'start_location': {'lat': 38.0081419, 'lng': -84.17235579999999}, 'travel_mode': 'DRIVING'}, {'distance': {'text': '153 mi', 'value': 246970}, 'duration': {'text': '2 hours 12 mins', 'value': 7910}, 'end_location': {'lat': 38.36010280000001, 'lng': -81.6347874}, 'html_instructions': 'Turn <b>right</b> to merge onto <b>I-64 E</b> toward <b>Ashland</b>/<b>Bert T. Combs Mountain Pkwy</b><div style=\"font-size:0.9em\">Entering West Virginia</div>', 'polyline': {'points': 'sz~fF|`w`Oa@EKCQAMAKCIAEAGCGAGCMIKGIEECCCCCEECCCCECEGCECCCGIMAAAAAAA?WM{AkDq@wAu@eBOYEICGK[AEEGWw@ACAC?AACQWwA_HWmA]gB_@eBCOKe@]cBYqAGYwAcHUeAm@yCoAeGaF_VWoA[aBs@cDi@mC_AmEaAuESaAq@gDqCcNQu@EUYqA?CeAcFe@wBYyAMo@I[Os@UoA]eB[kBUmASkAYoBEWKq@Kw@SmAKu@E]CUEYIu@E_@CYEYIs@C]E[C[E_@KgAGu@YkD[mDKuAQmBC]OgBUsCg@kG_@uEo@_IUkCKoAUmC[{De@qFKoA]iDKeAw@cJIeAOoBGw@QqBSaCUsCS_CUaDeBsSYyD_@sEKkAuBaWk@gHqAsOgAcNsAgPsBsWQoBAG[}Ca@gDc@gDe@iDk@iD_AcFo@_Do@yCeCoK_FkSc@aBe@aBi@_Bi@_Bk@}Am@yAq@yAe@aAgBcDa@u@_A{AaA{Ae@o@i@w@MSoB{BuA{Ay@y@IGiBeBkCiCyEsEeXqW_@a@eAcAeG}FiFiF}@_Aa@e@_AmA_@g@{@qA{@sAw@uAu@wA{B_F_B{DWm@gF}LyFaNmI_So@}AuGqOgAeCeF}LO]]y@kBmEcAgCo@yAeAkCWm@k@_Bm@iBgAaE{AaHgAiHw@iHmByQiBuQu@iHe@uEiFig@y@mH]{BQcAOeASkAi@oC[aBG]WaAQq@K_@I_@W}@y@uCq@aCuEqOkBkGkBiGcT{r@iBsGaByGo@sCi@iCoAeHiAmHg@eEUgBYkC]mDCUEi@UiDCg@a@gHYkHOkHIuHUoRg@ie@KmHGkHKsHC{Bo@oj@KgHG}BO}CSoCScC]{CWuBSgAuAuHkA{FQu@sF}WiAyFUkAwB_KoC_Ni@eCyC{N{@{D}AqHeGkZmCqMiBwIsAqGkAyGi@oDSiAIq@McA]wCK_As@gHi@mHgCya@IsAcBaXuAqTg@}Hk@wJg@qIUeDeAuPOiCKeB]iF_AiOe@yH_@_G]oFk@gJc@qHm@sHk@yFIw@{@sGcAuG[gBo@iDqAkHeAwFkAoGmAeHeA}FqAeHoDqRkBqKiFeYgR}cA}@_FEO?ACOaBoIo@mDuAiIG]cCiNCMG][}AQeAq@oDSkAIe@a@yBKi@WwAe@aCMq@q@yDY}Ae@kC[aBMy@SsAIq@SyAM{@Go@WwBM{A[oDWoCYmDQwBIgACe@Go@S_CKsAMuAKoAO{AWqB[sB_@uBk@cCq@cCk@eB_@iAq@}Aq@}Aw@iB_AwBu@cBiAeCgAeCaA{Bq@wAo@}Am@yAe@qAc@oAU{@]uAWoAUuAUcBQ_BWeC[oDc@iEUiC]mDa@aD_@mBe@gB]mASg@_@aAWi@m@kAM[c@s@g@u@u@eAiA_B{@kAkBeCgAyAgA{AoAgBkA}AyAsBg@s@aByB_AqAg@s@u@cAw@cAS[uC}DmBiCmAaBkAcBs@aA_AoAs@cAu@aAYa@gBcC[e@U[s@aAY_@W_@Yc@U_@We@Sc@Ue@Qe@Sg@Sq@K_@W}@QeAO}@M_AM{AI_BC_B@cBDcBHgBJiBF{AF{AF}AFiAFsAJyBHmBDmADaA@s@@}@A{@E{BI_BGuAKmBIgAI{AEw@AYE{@E_ACiAA}@@m@BsADoADw@Hy@Hs@H_ARqALcAHo@PwAl@sEJu@Hu@Z_Cp@mFl@uEJu@j@uEJs@Hu@Fs@Fs@Fs@Ds@Bs@@s@Bs@?s@As@Aq@Cs@Cq@Eq@Eq@Go@Io@Io@Ko@Mm@Mo@Om@Om@Ok@Qm@Sk@mJ{Xm@iB}JqZWu@uKy[{@iCqIaWa@kAWy@{c@yrAo@uBmAoDy@aCyAqEUs@GOa@iAmAoDe@uAACUq@ACUs@sFiP?EGMK[AECIEMK[?AoAwDuIiWcVys@yDiLuHeUoDqKwEmNaEuLuBmGiBuFW{@So@c@yAQm@YaAOm@Uw@Sw@Su@S{@]yAUeAo@uC[{A]gBUqA[mBm@oD_@uCYwBMeAMaAEc@Iw@SsBQeBQwBSeCKwAKkBI{AGmAGqAEoAEuAC{@EyACuACuBCqCAwE?gBBwBDuFDcFDiDFiDBgC@eBR{PJqJD_EJsJHuJHyFDoDD{DH}GLiKLqLF_FFwEByCBwAFiFFwFDkCDsEd@ob@`@e`@DmDHgHFmEJoIL}JL{J?k@F}EBkCB{BF{D@y@?u@@a@?q@@_A?c@?g@Ae@?e@Ac@A]AWA_@Ag@Ci@Eu@C_@C[G}@Gm@E_@Ku@Is@My@OeAKi@Ia@Mu@Qw@Ke@IYGWI[I[K]So@Us@k@eBi@}AwA_E}AsEmAgDgAwCc@oA[s@Yu@]w@a@{@[o@]u@c@y@S_@S]i@{@e@w@s@eAo@aAgH_K}AwBcDqE}@qA_@g@c@m@a@k@OUYc@]g@S]c@s@We@MSQ[]q@[m@Wk@]q@Ui@_@y@[w@o@_Bm@gBmC{Hq@iBmK{ZiA{Cq@gBs@eBoAuCw@cBw@cBsAqC_JiQmUed@kEqI{@cBmD}GgEmI[m@Yo@Wq@Wo@Uq@{@}CKe@IWQy@a@gCKu@QmBUcDyA_UIgAa@eGUeD]qE{@kKy@iKc@wDuAuKWeBu@}Fy@gG_AiHa@aD]qCS_BO_BMcBMeBIoBGgAEaAAgACiBAqB?{D@gFAoF?sE?sIAyF?cH@mCDoDDcCJoDH{CJ}BH}B^qHRyER}ENmDLuCFoCD}BDyBBwC?Y@{CAwBAoDCuBEuBIsDOwDQyDM{BOgCa@eFm@aIm@iIi@aHs@kJ]wE}@_L]mEK_BMcBcBcUa@qFUgCWkCMeAY{BWgBOw@g@mCUiAYiA_@aBQq@m@iBk@gBqJwX_@eAa@gAw@}BkBoFqAuDmBwF_@kAqByF[aA_@cAc@iAYq@g@aA[k@]i@S[[c@QW{@_Ag@k@y@u@q@i@y@i@m@]k@Ye@Sa@S}@]sEyAyBq@qAc@qBs@eDgAyAe@w@Y}G}BwBs@eBk@iAa@gC{@sAc@}Am@u@Yq@]_@SkAw@cAs@iAcAeAeAaAiA{@eA{@aAwAiBu@}@WYcAoAsAcBeBwBwBkCoBcCyBmCa\\\\aa@cAmAeBsBIGcBcBy@u@u@o@oBiBkC_CwBgB}AmAkCkBmDcCmBsAaAo@wAu@aB{@{D_C}DaCeQ_KaF{CwG{Dy@a@iAm@EAUMKEe@Se@QmA_@mAYwBc@cHsAaDm@yDw@o@Mo@Oq@Sa@Me@Sa@Qe@Ue@YoBmAeJoGQMoJ}Ge@[e@Ye@UYOy@]e@Sa@Me@OYG[G_Do@gMaCi@MgAUu@Om@Oe@Me@Qk@Sc@Ue@Ue@We@Yg@]sCsBuAaAcAu@qJ{GcJsG{G}Eac@_[[UsAaAa@]c@_@_@a@_@c@}@iA[i@Yi@iAeCSo@Sq@Qo@GWI[Ms@Ms@Ks@Gw@Gu@Eu@Ew@Aw@?w@@w@@w@HkB~AaZHiBb@mIHqB@y@@y@?q@@w@AaAAw@E{@GaAG}@Gu@Iy@M{@My@My@Oy@S}@Qs@Uw@i@kBcIkXi@oBSy@u@kD]qB[sBWsBSuBOsBMwBCy@Cy@A_AIqFU}MA{@IiBGcAG{@Gw@Gw@K_AMy@My@Ow@Qw@Qw@i@kBsCmJwFmRi@kBGQQi@K]mC_JsCuJiBgGg@iBYiA[uA[{AOgASqAMiAIaAIcAGyAEqACaAAy@?}@?w@@y@B{@Bw@D}@Du@HaAHy@Hu@JaAXsB|AuK~@yGx@wFfEsZVkBLeAFu@F}@Du@By@@y@?y@?w@C}@Cs@Gw@Iw@Kw@Ku@Ow@Qu@Os@Uu@Us@Wq@Wo@s@{A{GgOcCeFq@{AcK}TcA}Bk@kAq@wAe@eAa@}@e@gAe@cAg@eAa@aA{@kBw@eBg@kA_@y@aBsDw@eBiB_EQ_@AC]u@qAqCi@kA[q@aDmH_@y@Um@Wk@Wm@Wo@Wq@So@Qq@Oo@Ou@Ow@Ko@OiAsAiIe@cDUmAUkAMk@S{@Qq@Wu@So@Um@[{@Ui@Ue@Wi@Yg@_@o@k@aAc@o@g@s@s@aAi@u@g@s@{@oAqC_EqKqOeBaCs@eAy@mA]k@u@sAu@wAq@uAm@oAg@qAg@oAUq@k@_Bi@_Bg@cBu@uCa@cB_@gBm@{CmDaRiByJeCuMoFeYk@}Cm@wCe@mBc@aBy@uCUq@i@_BeAmCyGmPWm@AAwAiDuAiDkHoQiAuCm@_Bo@eBi@aBk@gBg@gBQs@a@aBQw@Os@_@mB[iBUoAOgAOwAMeAMmAQ{BIcAE{@GqAG_BAm@Ak@AuAAoACoECaFC{HAsCCoFCmBAaACk@GoBEaACa@G}@WkCMkAK{@WaBMs@QcAIc@a@cBKc@W_AGWEOCKg@}AUo@k@_BuFwN_BaEQi@_@cA_@eAIWQm@Uw@Oi@Sy@Os@ScAUiASsAEa@E]E[EYEa@Ea@Ee@C]C]Eu@C[Cg@Co@OgDM_DGoAEkAGiAE_AGmAG_AKkAGk@Ge@Gc@Ko@Ms@Kg@I_@WmAw@wCUs@[{@Um@O_@_@y@Ym@Yk@Q[e@y@aAmBaByCk@eA{@aBy@}AoBsDaCmEm@gAq@kAsAeCaBmCeC}DgFcIc@u@mMeTu@sAu@wAWm@q@}Am@_BUo@g@cBc@eBYmAGW]eB[gBYiBE[g@yDoA}JmByOk@{EQ}AiDkXQ{AK{@s@eGgBqNi@kE[aCQ}AUiBOuAKaAKcAEu@C_@E{@Cq@Am@?g@A{@@w@?g@@o@Bk@Bm@Bm@Do@Fq@H{@Jy@Hq@Ju@Lu@TgAViAd@iBRm@f@cB`I{VnD_LrBuGfC}HnA{DPo@j@gBjE{MxHmVf@_Bj@{An@kBv@eCr@yBn@wBb@wAh@sBZqAX_BV}AZ}BRiBNoBLyBHgCDaCAaBC_CKcDOqCEiAGaBGsAGoAImBKsBGoBIgBCw@KkBGiBGwAG_DGoCCsCAoAAmA?mB@iEBsCBwA@mAVgKDmBNwF^kOTeID{AHcDH_EFgB@yB?oAA_@KiCKkBUkBKu@Os@Ou@Qq@WaAMc@_@cAg@mAc@cAyA{CmE_J_@u@Wm@Wm@Wo@Uo@Sq@YkAQw@SkAIs@Iw@Gu@Ew@Cu@Cw@?w@AoBFiG?c@?c@?aEB_HJoOBwAAs@@}@FiMDmF@q@@gA?iAPuYBcC@kCDaBF}ALiC^yF\\\\iE`A_LzAsRzDuc@fAuMPmBjAiNTcDJoBFmBBw@@mB?oBAY?]EmBImBMkBOmBSiBKu@WiB]eBw@}CsAcGy@eEUkAU_BOyAM{ACk@Cm@Ak@AgA?}@@o@@s@FkAFgALeBN_Bv@oJ\\\\cFP{BJyBFcBBwDAcCIgDKwBOuBMsAS_BMs@o@sDe@wBo@sCq@kDu@cD}@yDg@eCc@sBWuASoAUuAMsASqBOcCKwCA_AAe@AoCByA@yADmELcMDqD@oB?{BCsCGmBC{@EyAGiAMmBQkBOgBSkBg@yDY{BqAsJOkAKmAMkBGiAEyACaA?e@?oB?wABu@JuCRoDJsAJ}@`@oCx@aGPcAReAd@wClDaUFm@Ho@Hy@Fy@Fu@FwAJeBB{B?uB?eAAeAAeACu@E_AMmBSaC_@uDcBcPiEca@QwASkBQsBScCSaCSoDKwBOeDGyBIiDGmBC{AMgKGoHEkBIoBMcDKkBOoBOmBIw@UkBWgBYiBMu@UgA[aBo@oCi@oB_@wAY_Am@oBk@_Bc@eAeAeCa@{@s@uA{AsC}OgZ_CkEIM_@s@Wc@y@qA]i@{@oA}@kA_AkAaAiAcAeAcAcAeNyMsFoFeBeBa@c@a@c@_@e@]g@]g@[i@KSOWYk@Yo@Wm@Uk@Uq@So@IYGWIWEWOq@Ou@Kq@Ky@Gw@Gu@Eu@Ci@A[Aa@Cu@?}@@{@Bm@@u@Bg@B_@Do@H_ARmBdBeQz@sIt@yHPuBF}@J_BBSDo@DcAFaBFiBDiBF_DBqB?wBCcDCyBEmBGmCAYQgDMoBSaCEg@UeCaAkLe@aFGw@YqDuAiOg@yFa@sEa@kEW}CWoCYeDAIaA}Ks@mI_AwKk@qGs@gIw@uIcA_LYiDKgAM_BaBaROkBUoBUiB_@aCy@aE_@iBc@eBi@sBaA}Cg@uAm@}A{@wBuA}CyCoGqEkJcGiMq@wA_AwB_@aAs@uBs@{Bi@oBq@aCWkAa@eBQ_ACOM{@UsAWeBSiBU}BQiBOkBKoBM{CGaCE}DAwBE_DEkCGqHKaKEaDG_DI_CIaBKkBM_BQsBSiBUmB]}Ba@eCg@eC[sAi@uB]mA_@sAa@qA]cAk@}A]aA]w@i@qAqD_I_D_HaBwDm@}A_@cAY{@Sq@Om@e@qBQy@[gBQgAOgAOiAOwAIiAIoACg@Cc@Cy@EeBAy@?qA@gD?gL@{GBaOBgJ?qAA_AAs@Cm@IoBQiDKmAUkBS_BYcB]iB[oAYeAQs@Sq@Qm@Uq@g@oAaDaIsCiHkCaHaAuCs@uBa@uAg@gBg@oB]aBS_AScAQ}@SsAQsA[kCKeAO_B]sDaByRiBmTo@oHQ_CKuAI{AEoACaA?aB?mADwABaAHsAJmAJu@@OL_AVyA^qBLk@VeA`@qAn@iBd@qA`@_AlBmFl@yAfCwGjDcJ~CiIvA{D~AgE`AkC|@}Bf@qATs@Ts@Ja@Lc@Po@VcATcAFYTmALu@Lu@NeAJ{@Fk@JiAHu@F_AFiAD}@BkABm@@m@?eA?k@?s@Ay@AaAAs@Cs@EiBCwACmAGmCEiBG}BEiBEwBG}BGqCI{DIgDEgBIqDEiBIcEGaCC}@CiAG{CIaDEgBGaDIoDG{CEgBImDEsBEyBMwEKuEG{CGyCI{CAk@CgAIcEGiBCyACmAGgCGiCAk@C_AAy@GmCK}DCaBE{AI_GEaBO_GCk@C}@AeACcACo@As@Ac@AUCkACoAE{@CaAEeAA]Ew@IqAEy@Eo@MoBIoAMkBQeCE_AKoACk@Ew@CUEw@AIGcAAYGaAI}@GiAEi@CWA[Eg@Eo@Eq@A]C[C_@A]Ac@Cg@Ai@Ak@Ae@?_@A_@?a@?i@?e@?]@m@?a@Bq@?[@_@@_@@_@Be@@_@B]Bo@De@Dk@Ba@Fm@D_@Fq@Hy@Hq@Js@Js@N{@N_ANw@Py@ViALo@P{@T_A^cBj@sC~@gEjBwIb@mBHa@TaAn@{Cd@{B`@eB`@kB|AoHNq@Pu@Ns@TkAReAN}@Lu@NmAJq@Hy@Hs@JkABa@Dc@Be@B]Du@@[B[@m@DaBDeC?}BA_BEiCGsAEw@OcCOmBQmBMoAc@wE_@{Da@gEWcCO}Ak@aGWsCUwB]wDw@_Ii@sFY}CkA}Lk@uFqA}Mq@gHa@oEc@kESyBIu@a@cEmA{L]iDy@uIMsAYsCc@qEIs@McAMcAi@iDi@iCq@mCk@uB_@mAIWIUo@gBe@sAm@eBiDqJiBeFCE{@eCsAsD{@aCo@iB{@aCe@sAi@eBi@mBi@gBg@oB]{AOo@Qy@I_@Ki@[_BOw@My@QiAe@}CK{@Kw@KaAOuAkAyKi@oF_@mD[sC[wCU}BSkB}@uIw@{HaA}IiAyKUwBMmAMcASwAUuA]sBQy@Ke@UiAS{@]sA]sAIYSo@K]a@sAo@gBe@oAe@iAs@eBqAwCg@iAu@eBs@cBcA_Ci@qAYu@Sm@O_@_@eAQm@Ma@M_@I[_@qAUw@Kc@]uAEQWiASaAQw@]mBUwAIe@Im@G_@M_AKw@EYI}@E_@Iu@I{@Ca@KuAG{@G{@I_BCw@C]E}A?IA_@A_@Ao@AqAAcA?_A?Y?}@@w@?_@@_A@W@]@c@@y@D{@B{@HyA@_@Fw@Bk@BUFw@De@@UJcAH{@Jy@Hy@PmAT_BFa@Js@F_@Ny@VsAVqAZwAp@iDr@kDr@gDVsAb@wBP}@Jq@L}@Ju@D]Jw@H{@Ba@B[B_@B[B_@@]B[@_@B_@B}@@w@DwCLiHv@gg@p@od@BqABoA@{AB{A@cC@kDAmCCwE?w@Ag@?_@CuCA}CCgE@qAGwHAaAAiE?}AA_B?cACyBEaBGyAGeAI_AK}@Gg@K}@]qBWaBQ_Ae@kCg@wCe@qCWyAI_@I_@GYGWScAOy@UeAMi@Ok@Sq@Oe@Sk@]{@c@gAo@aB[s@IUe@gAm@}Ac@iAWm@Wo@c@eAWo@y@uBgAmCeAiCYq@wBkFu@oBi@mAWo@eAmCe@iAq@cBoA_DgAiCUm@EKiAuCgHcQy@uB[{@IYW_AI[YyAGe@Go@Ei@Ci@Cy@?_@?e@@g@@i@Bi@Fy@BUBYHo@Ju@TaBL{@NcAt@gFX{BJ_AH{@FeABg@Dq@@i@@[@U?_@?s@A_CGcDCkBA{@C}@EoBA}@GiCGwAAy@AICaAAu@G_DGaDG_D?e@CoBEgCCs@Aq@EsAEu@C]Eu@Ey@CUKoAGu@Iy@Gs@Is@EYKy@OoAKu@cAaIKu@E_@Is@OoAOaAUcBIg@Io@Kw@Is@Kw@Ks@OoAWmBEYKs@Iw@Kq@Kw@Is@Ky@QoAIs@Kw@Is@Ku@QoAOmAIq@QqAQqAKs@Is@QmAOsAIu@I{@Gu@OiBGy@Eu@GuAEoACu@AWCw@A{@AqACsACiBCsAAuAAw@CsACmBAsAEeBAsACuAAoAA}@AoACy@AqAA{@CoA?y@CoACyAE_DI}FCqAIcDGqAKmCGmAQcDKmBGqAm@aKSeDSeDGwACw@Ew@GeAGcAIqAKmBMmBKmBKkBKoBScDGsAOgCIsAEi@E_AGy@Eu@Ew@GmAIqAEw@E{@Gw@Eu@Es@Gy@Ew@Es@Gw@Gw@Gu@M}AEi@Iu@Gu@Gi@Gg@Eg@Io@Ec@Im@QyA]mCWwBQoAUiBOoAQqAOmAUgBQsAUiB[eCQoAIs@Ku@Ku@OoAQoAOoAOoAKu@Ku@Gg@Gg@Ku@Ku@Iu@OcAcA}IQ{AM_Ak@_EKaAOoAOoAKaA[gCIo@MaAGo@Io@Ii@Im@Kw@QiAIm@I}@ACEs@C[E{@Co@?WAE@mA@a@Bg@Bk@B[DYBWHg@He@Lo@H_@HWHWL_@Pe@JWJWLULUJSNS\\\\e@LQNSNQf@g@l@o@n@q@n@u@p@y@vCaDPSx@eA\\\\g@LUZk@Ra@Pc@To@ZmALm@F_@Ju@Fo@Dc@@[Bq@@q@Au@CcAEo@C[I_AScBMsAIo@Gk@YwCWcCIq@I_AMsAIkAA]A_@As@?m@Bw@@e@@WB[Fm@Jw@Jw@Nq@FUJY\\\\iA\\\\y@DKZk@Ve@PWLSZc@`H_Jj@w@Xe@z@yARe@JWJYJYHYPo@H[DWF[DWF]NmADu@Ds@@c@?q@?u@CaAAWC[AYCWCSIm@Iw@OaA]cCu@kFOgAGi@IkACWCk@AO?UA_@@s@?Y@[@_@@WB_@JgAFc@Ls@FWF[H[H[Ng@JYJUVo@Vk@d@aA|I{Q~B_FZm@dBsD~@kBnAmCn@oAl@qAVm@Pe@Tq@XaAXsALs@Hy@JoAFyA@i@?i@Cu@Eu@Gw@MmASmAGWI][iAM_@Sm@Wq@s@eBsB_F_@_Au@gBuD{IqAaDo@_BKYM]IYQi@S{@ESMu@CQKs@IcAIkAGyAmAqYO}DGqAKcCWoGCq@EoAA]?YAY?y@?U?k@@W@s@DiA@c@HoAJsALsAX}BXwBV{BXeCJiADk@?CBe@@e@@gAAkBCuAA[Gs@Ec@Iq@OiAIc@UkAK]Sw@]kA_@aAIOUg@k@eAYi@aBqCuA_Cw@qAYc@k@eAOWy@cBo@cBKYUo@Us@IYYiAI_@k@sCIa@o@iEaD{SUuA_@eCSeBK_ACUAYIsACYCe@I{DC_ACqACq@EoBAw@Ae@Aq@Co@?[Cy@AYAa@CgBCoACmAEiBCsACu@CwACq@A_AEmACk@Ac@Ca@Ei@Cc@Ea@Ca@E_@E[E]E[Ga@E[I]EWG[G_@Mo@Qw@Ou@Mq@Qu@Ow@Qy@UgAMo@Ow@Qw@ScAQy@Ou@Ke@Ie@ESEQOq@Ou@UiAEYo@yCOq@UmA[wAWoAOs@Os@WmAI_@WeAUw@Uq@Ww@Oe@_@y@Qa@[q@Sc@[k@[i@Wa@g@u@]e@[c@s@aAa@k@]c@iE}Fm@{@m@}@cAsAiAuAkDuE_@g@Ya@a@o@]m@Wg@s@{AYw@Y_ASu@GYI[Mq@Ks@OoAGq@Ei@GsACkA?{@?m@@u@BeAJqDJ}CDmBBuA@g@?u@?g@AYAu@Ae@Ce@Gm@C[Gi@QkAQ{@Mi@Me@I]Si@Wq@Yq@a@y@a@m@QYQSo@u@[]a@_@g@a@g@]w@g@w@c@mCsAeAi@w@a@w@c@mCwA]S[Qa@Us@e@u@k@g@e@_@_@[_@e@k@c@m@[g@Ua@{@eByAcDq@_BeByD_BuDcEmJoBoEoEeKa@aAc@iA[_AOi@Oi@YkAMo@Km@O_AIy@Iu@MwAEs@_@cGsAqUUgDKoAMmAMcAWwBKq@Ik@QeASmAOq@]cBi@aCs@wC}@uD}@uDo@qCa@gBUoAO}@Ii@OgAMcAQiBMgBG{@E{@G{BCsB?eBDoCD_BFgAJ{AJqAHw@JcAF_@PqAJo@VuAt@wDdB}H`DiO`B{Hn@yCd@yBVmAx@uD^gB^gBlAqFr@mDt@kD`@oBNo@r@iDv@qDd@{B~@mEfAeFViA`@kB^gB`@oBF[`AkEVoAz@_Eb@uB^gBj@iCRcAv@qDPw@Ns@Je@Ns@`AsEfAkFn@yCVoA^eB`@gCRmANkANwAPmBBWBc@Dq@Do@@SBa@Bg@DiA@w@@[@sB@uAAmBAk@CcA?[Ew@EqAEu@Eu@Gw@QoBMsAM_AK{@OiAMs@]kB_@eBi@aCa@cBOo@?Cs@wCYmAWiAa@gBs@{Ci@_C{@wDQw@]wAqA{FYkAa@gBYiAo@wCq@uC[sAeBsHi@_C}@uDi@eCCOs@wCCKm@kC{@sDk@cCq@yC{@sD{@sDg@{Bu@_D_@eB}AyG{@uD{@uDuBeJ_@cBk@cCcAmEk@cCq@wC}A}GeBwHmAeF{@uDq@yC{@uDiA_F_BcHg@wBESI]Om@Mo@c@gBWiAGYi@cCOs@Ou@YgBMw@Kq@WkBIs@E_@MmAMoAOqBKiBEy@Cs@Ew@CuAGkCAqB?s@?]@w@@uA@{B@{@@u@BuCf@um@NoO?e@?A?c@@oABmB?w@BcD?oBAaEAYAwAAu@CoBEqBKaDGaBIeBOiDO}BSmCIgAMuAa@wE]aDQmBMqAw@aICUSyBMeAMkA?EMqAgB{Rg@cFMmAaCcWi@mFMuA_A{JsAiNQmBc@sEi@wFWgC[_DQoBc@sEiAoLWkCC[E_@QmBaAeKm@yGwAwNmJobAs@iH_@}Dc@_FU}BMoAKmAa@cE_@oDs@eHeAyKIy@E[KsAIkAGqAGuAC{@CiAA{@?i@Am@?s@?w@@w@@s@Bw@Bo@DgADgARqC@Q`@}DNkAb@mCVuAVmAXoAl@_Cd@{AVy@^eAj@}Ah@qATi@@EPc@vK}WnA{ClHsQjJ_UxCoHdNs\\\\Vo@?AXm@rE}Kz@uBpC_HnLiY`C_GxBmFbAeCVm@Tk@pEwKL]r@aBh@qAVs@Vo@^eA`@kAf@_Bn@}Bd@iBLk@Ps@Lq@Nq@Nw@Lu@XgBRqAPoANmAPmBLqAFy@Fw@Ds@FoAFsADuABqABoA@wA?sAAcCAwAAk@G}BKgDc@sMUqGKgDCg@IaBKoBMkBMqAOiBI{@MiAK{@OkAQsAKw@SmAq@yDu@uDy@qDSs@Ok@Sw@Qq@K[uAyEm@uBoAiEqAmEmAaEgAsD_CcIOi@Qi@{AiF_BuF[aAcCmImAeESs@Oe@aAeDWaA]gA[cA_A_DwA_Fy@qCu@iCIU}DaN{@sCmAgEuBiHmAeE{BuH}AkF{F_SISK_@Ss@qLo`@qAsESm@Og@Mc@o@wBWaAMo@o@yBaCgII[iAwDK]u@iCOi@[cA_BmFcBoFe@wAQi@c@qA_@iAm@eB_@gAa@gAk@{AWs@u@oBqAgDuBiF}AyD{@sBsAaDSg@yBoF_ByD}CuHeBeEaB_Es@eBaA_CkBeEkCoG[y@kCmGWo@gAmCA?GOmB_Fc@qAs@yB]gA]kA]mA[iAWgAOq@I[S{@Ki@Mm@I_@Kg@Ow@Mo@i@gD]eCm@uEgBwM_@sC_@oCYyBS_BG[s@qFKw@EYQoAS{AGe@EWm@qEqDqX{CiUOmAOqAMoAGu@KqAEu@C_@Ey@?CI_BK_DE{CA_A@mBBwCD}ALuDL{CDkANcDp@qP@GFuAPqE|@}S`AiVP{DjAqYRwEL{Cd@wK|@cV~@wTb@}Jn@wONgDR_FRaFPiErEahATeFP_EDmAHeCDwB@qB?{@?}B?g@CuAEqAGmBCw@Cg@i@mIO_Cg@iHOwBi@sH{@wMScD]_FUeDSgDi@iJSaDMcBWiEC_@Cg@Eo@AYEeAG{AAa@Ai@Aa@Ac@Ao@AcAAy@?q@Ay@?qA?e@@a@@iA?i@@i@BgA@u@@c@Bc@@e@Bg@Bq@RkEHeBFuAD{@JwBDgANsCFuA?GH_BFqAHyAJ{BFyATwENqD`@gI\\\\eIl@qMP_DJkBNkBZiDJeA\\\\uC\\\\_CRsAZoBb@cC`AqEh@_Cz@cDl@qB^mAj@aB|@iCpAsDvA{Dj@eB|DeLbB{EpCaIvDyKfCeHb@sAl@eBdEqLbEqLtE{M`KsYj@}Ah@_BjCoHn@cBBCZs@N]JSTc@`A}Ar@_AVY|@}@n@k@XWXSj@a@n@_@p@_@f@Uj@Uh@Sj@QtA]fB]hB_@hB[`AQ~Bc@jASjB_@vA[tAa@|@[z@c@h@Yf@]b@[PO`@_@`@a@`@e@b@k@X]LSHMHOj@aALWTc@Rg@Na@JW^kAXiALo@ZkBNeALqA|@cJdAcLn@qGLkAXoBN{@Nq@Pu@Tu@Pk@Vs@Tg@b@_A\\\\o@^q@v@mAHMXg@hJwN`DaFdTq\\\\lG{JR[l@}@NWT]T[j@y@bAqAzAiBh@o@\\\\]tAuAl@m@nAeAxAkAl@c@bAs@vBuA`Ao@pD_Cn@a@hBmAfC_BLId@[jG_Eza@eX|@i@FC`BiAp@g@t@k@t@o@^a@b@e@p@}@Xc@j@aATe@P]HWd@iAVy@ZgAVsAPaAT}AT}BNiBDe@f@gGXeDf@uGLaBnBaVHs@Hq@Hs@Hg@Jk@Ha@H]Ja@H[JYJ_@FQLYHUJSLWLULWNWJONWNURSNUVY^]TS`@]d@]h@Yb@Wf@SXKZKZIj@Oz@ObAMnTmBj@ExAOb@EZERCTETERCTGTEVIPERGRGTIRKXMVMXOXQRONKRORONOPQVWHIPQNQNSNQNSNQNSNSNSbIiLpEuGxH_L^g@^i@T[|@qA^i@j@y@^g@^g@\\\\e@^g@nA_B~CaE|ByCpBgC|AqB`@e@~@iA`AiAz@kA~@sAlBgC~AsBjBaCpAcBpAaB~AoBZa@Za@hHmJrAcBhDkEbByBz@gAf@o@z@gA^g@x@aAV]V]bPyS`OiR|AsBBCJONSLSNUNYR[Tc@LWJUJWLWHWJWTk@H[Ru@Lo@Hg@NaABYHu@B[Dq@@]?[@}@?o@Aw@EaBEy@I{AUcDS{BMaAa@_D{AiKYuBS}AKuAG_BCuA?cABaAD_ADm@Hw@Hw@TsAZgBLm@lAaEnBiGlBcGh@oBT{@Nq@TmAL_AHaAHkAB[@i@@i@@k@@i@AgAKoCG}AKoBKgCI_BCqAA{ABmAHqADk@Hy@?AFa@F_@XwAPy@T{@`@aBf@iBd@cB^{AP{@P_AD]F]De@Fg@B]BY@Q@U@O?K@U?]@a@?Q?SAc@Ag@Cy@Cc@C[AKCWEYE_@CMG]G[WkAK_@YcASi@GOq@_B_@w@{A}C}@eBmBuDeBsDm@{AISUk@Uo@y@}B_BsE[_Am@cB[aAg@cBW{@AICEa@eB[sAc@yB[iB[mBOgAKw@YuBIeA]aEMsBG_BGeBA_@EaCAmB?mB@oB@qAFsBDmAN{CF{@Fu@Dq@H{@BUDe@RcBX{BJq@V}A`@_CnBuK|@}EjBaKz@yEv@gEPaAXqA\\\\wA`@sAl@iBZ}@|@wBrD}IhAmCb@cAh@sATm@Vm@Tq@\\\\aAZcARq@Pq@R{@f@sBf@yBPw@Ps@`@mB\\\\_B`@yBXsAJc@Lo@f@eB`@oAZw@f@kA\\\\u@dA_CVk@|@iBVk@d@aARg@JWHUDMBMDQ@IBIBMBOBSBSBYBY@W?W?M@O?QAM?M?MAQAOAQCQAMCSAMCKAKGYCMEKGSGQEKGSIUO_@e@cAkBaEkAmCGOIM{@mBk@qAMYK[kGuO_GaO]iAYgAWoAO}@MaAMaAIkAEm@EeAEkB?u@A_A?oA?sD'}, 'start_location': {'lat': 38.0101776, 'lng': -84.1731143}, 'travel_mode': 'DRIVING'}, {'distance': {'text': '0.5 mi', 'value': 781}, 'duration': {'text': '1 min', 'value': 28}, 'end_location': {'lat': 38.3615673, 'lng': -81.6261864}, 'html_instructions': 'Take exit <b>59</b> on the <b>left</b> for <b>I-77 N</b> toward <b>I-79</b>/<b>Parkersburg</b>', 'maneuver': 'ramp-left', 'polyline': {'points': 'seciFlhgqN@_DAwB?wC?sBA}BGcBEs@Ca@Ee@Ik@EWEUS_AU}@gBsHOo@CICGc@kBS}@S}@'}, 'start_location': {'lat': 38.36010280000001, 'lng': -81.6347874}, 'travel_mode': 'DRIVING'}, {'distance': {'text': '1.4 mi', 'value': 2279}, 'duration': {'text': '1 min', 'value': 79}, 'end_location': {'lat': 38.373242, 'lng': -81.60641009999999}, 'html_instructions': 'Continue onto <b>I-77 N</b>', 'polyline': {'points': 'ynciFtreqNG[UoAm@iDs@qEIe@CKE[mAiHIe@]uBw@_FOcAQcAmAqHQeASoA[eBKi@]wAMk@EOW}@Qo@k@gBi@wAWs@Ui@u@cBu@yAa@s@Ye@e@u@o@aAo@{@g@o@g@m@Y]i@k@u@u@gAaA}@u@aAs@YSSOa@We@WcAk@mBeAwKcG}DwB'}, 'start_location': {'lat': 38.3615673, 'lng': -81.6261864}, 'travel_mode': 'DRIVING'}, {'distance': {'text': '148 mi', 'value': 237992}, 'duration': {'text': '2 hours 9 mins', 'value': 7714}, 'end_location': {'lat': 39.5759167, 'lng': -79.9755526}, 'html_instructions': 'Keep <b>right</b> at the fork to continue on <b>I-79 N</b>, follow signs for <b>Clarksburg</b>', 'maneuver': 'fork-right', 'polyline': {'points': 'wweiF`waqNIK}BmAsBiAqC_Be@[mAu@mAu@_@Ui@[mBoA}@k@_FaDiAu@oBoAqBsAi@_@KKe@_@QOeAaAa@c@QS[a@_@e@OU]g@i@}@[m@Wi@Yo@KWm@gBm@gBGSESYoAk@oCcAuF{@sEAGKi@Kk@o@eD}@}EiAcGQ{@Mm@Os@Sq@Sq@Uo@Wm@Wk@i@}@OW]e@SW[_@mAmA[Uu@g@UMg@Ue@Uk@Si@Oi@Mi@Ki@Gk@EUAc@?q@?c@@_@Bk@FSBs@La@J}@X{@^i@Vw@h@u@j@u@t@o@t@m@v@MTMR[h@EJc@~@c@~@Yn@c@dAc@bAg@fAe@dAYj@Yh@OXORINQTOPOPUT_@ZUPa@VWLe@TWHQFSFg@J[BUBUBU?U@WASAUAUASCSEUEWGUGSGUGSIg@Q}@]i@S}@[sAg@eBo@{@[i@U{@_@e@WUOSOQOOOQOQS]c@_@i@i@_Ag@aAq@wAi@cAq@wAmAaCeAuBgBoDcAsBaAoBkDaHs@_B{@mBwAeD}AaEmAiDaAwCg@aBi@eB{@yCo@}Bc@gBa@eBk@eCk@cCi@aCi@eCq@{Ca@iBk@eCuAeGYmAi@cCQw@Oo@Ow@Oq@Os@G]Kw@QmAKw@MoAG{@Gy@GsACsACsA?uA@sABuADsAFsBFsBBs@DsA@}@@oBAeCAaACcAE}@Cy@EgAGw@GcAKgAMoAI{@QoAOgAW{AWwAScA]{Aw@_DACuAiFeA}Dm@yBw@sCo@_CUu@Us@]_AQa@MYIOYi@Yi@SWQW_@e@SWQQQQa@_@e@]SOUM]Ue@UUISIUKUIi@OSEo@Ms@Mm@Gy@GoFQmDM}@G]Ca@GYEe@G_@I_@Ki@Qc@Qk@W]Sa@W_@WWS_@]US_@a@UYa@g@W[U[W]_@g@]e@_@i@_@i@_@e@a@m@[c@a@i@U[U_@c@s@q@uAMSQe@Qa@Mc@IYMa@Qo@Mq@Mu@Kw@K}@I}@I}@KqAGw@I_AM_AIs@Kw@Ic@Mm@Kc@Mi@Ma@Oc@Sg@Se@Yi@OYUc@Wa@[c@W]c@g@w@}@o@o@k@m@y@w@cAeA}@aA}@aAaAeA[a@QU_@i@Yc@]i@Sa@Ug@Uo@Uo@Qk@Sy@EQG_@Mo@Ks@E_@EWI{@SiBGq@Ky@Iu@Kw@Ko@G_@GYI[Oo@Ok@M_@KWIWWm@O]IOKSOWOSKQQUMSa@e@]c@UUOMOMQMWQOKc@UUMg@SKGECMESGSIYIQEk@MWGUEm@KUCOC[CYCW?MAW?g@BYBg@Do@HyAT}@Pm@Ja@F[FQBQBYDoAJs@Dm@@W@W?S?g@Ak@AWA]Ce@Ek@G[Ea@IWEi@Mk@OSGi@QUIa@QYMYMYOUMUMe@WUQQMe@]SQOMs@q@UWOO[]QU_@e@]g@]g@a@o@Yi@MWYm@Yo@Wm@Uo@GSWs@Qq@Oi@AIIYG[GWGYE[GYEYGc@E]CQE[Gm@CWC[E_@Aa@Cc@AUCsAAu@Ay@Au@A]A[?]A]AWA]AWC]C[C[C[E]EYEWE[GYG[EWGWI[K[GSK]IWKUM[ISKUOWMWMUMSOSMUQSMQQSQQOQQOQQOMSOSOc@Yg@[QMUKUMc@USMe@WUMSMUKOKUOQMSMQOQOOOQOQQQSQQMQEGIKOUKOOUMUMWKSMWMYM[IQIWCGGOGSI[Os@IYG]E[EUE]E[C[C[CWC[A[A[A[A]?u@?_@?[@_@?W@w@BgA@_B?]A_@Ao@?[C_@AWA[C]CYEYC[E[G[EYG[GYGYGYIYIWK[Uq@Wm@Ue@_@s@k@_Aa@k@_AgAcAeAsAwAuAyA{CaDa@c@gCkCa@a@mGuG_HkHmEqEi@m@cBeBm@o@c@e@SSMQQSMOMSOSKQMSMSMUMUMWGQMWIWKWKYK[y@iCy@iCm@iBYs@Qg@MYIQMUO[S]QY]g@SWSUY]QSk@m@a@_@_@]w@u@e@e@e@e@UYQSY_@_@i@OYYi@Wk@O[M]KYUq@IYESGQEOIc@Kc@Ke@G[GWMm@Q_AOq@Mm@Mg@I_@M_@Ma@IYQc@O]a@{@KSS_@a@q@QWOQKO_@a@e@g@g@e@_@Ym@a@CAWOUMwAo@{CoAMGEA[OOISIUM[SQKSOUQYUUUUUUW_@e@U]e@u@QYcAaB}@wAMSMSWc@Yi@}@{As@mA{@qAs@iAu@iAm@y@iCoDqD}EyDkFYa@s@}@i@o@c@k@MOKOQWS[QYMWMWQc@KYM[Oi@GOEOGUESGYGYG[CSEQGk@CSCUEc@AYC]A]A]Ac@?i@?q@@k@Bi@Bc@@YDa@@QBSD[DUBSJi@F]DSDSHWFUH[FONg@Rm@Ri@f@wAr@wBZkALe@DSH]DWDSD]DYDYB_@BSB[B[@]@W@Y@]?[?[?W?]AWA[AYAYC[CYGs@Ky@Ks@Mo@Qs@Oq@Sq@Ss@e@{Aq@wBy@sCIYGWOo@ESUgAQy@Ms@Ks@Ms@Ku@Iw@Iq@Gs@Gy@C[Em@C]GsAEmACqAAmB@yBBcAD}ADmABi@DsAJaCFqBL{CBi@@k@@k@@e@@[?o@?[A]?[AYAYC[C[C]CYCWE[E[EWGYEYGUGYIYGWGUKWIYMYSi@MWKSKUOYOWKQQUMQMSOQOQQQOQQOUUe@]c@_@sFmDaBeAgFcD_@Ug@[i@]g@[g@YWQ_@SUMQIWMSIg@Sg@Qg@Q_A]e@Om@Se@QSIUKg@USKSKQMQMSMQOQOSOOOOOOQOOOQOUOSMSOUMUMUMUYm@KWKYISQg@M_@Uo@So@]aAM]MYKWM[OYWg@KQMUOSOUOUQS]a@_@a@QQs@s@cAaAwAoAs@q@a@_@QQYYwDqDwEmEq@o@eBaBeBcBWUQQa@_@s@o@a@]QOUQQMQKSOSKSKQKWKc@S}@_@y@]k@Ui@Sw@a@g@Y]So@e@QOOMQOQQMOQUOQOSOUOSMSKQOYMUKUGOM[KUQc@Mc@K_@Om@K_@E[Ow@EYE]C[Ee@MaBu@eM[qEEu@Gw@C[Iw@Gm@Ga@EYMs@Ke@Mi@IYGUIWK[KUKWKWKWSa@Yg@KQ]i@_@g@[_@OOQQQOQQQMSQe@[e@[kAo@WMy@a@SKe@YUMe@Y]WIGa@[UUSSYY_@e@OSOUMSOUS]Q]MYKUAAIUKWIWKYGWIYIYGYI_@EQEYEYE[EYC[E[CYA[A[C_@Ak@Ae@?[?[?s@@sC@[@gC@qB@kB@qB?qA?u@?]A[A]Cw@Eq@C]CYE]E[EYE]EUGYG[GYK[GYIWKYK[IQIWKUKUMWMUMUOWMSQWKO]c@GIIIa@a@a@a@e@_@c@YUOe@Y{@c@oAq@y@e@e@Yc@Ye@]c@_@_@_@SS[]UW]c@OU[e@OU]m@Q[Q]O[GOO_@Uo@Sm@IYMc@Kc@I]Ou@Ms@Ks@C[Gg@I{@Cc@Ew@A_@AWAu@?y@@u@@[?YDw@@[BY@SDe@Dc@L}@Ly@ReAXmA`@yAZgA^kA\\\\iAd@gBTu@Nq@Jc@Fc@Ha@Fi@F_@B[Dk@BW@O@[B[?[@Y?u@?[A]A_@?OAUCe@Eg@C[Ec@E[E[Ie@G[Ic@GUCQGWI[Qq@Qs@Oo@G[GWGYI[E[GWKw@Gk@I{@E_ACu@Au@AY@]?[@_@@YBW@WB_@B[BYBYJw@Lu@RmAb@gCh@}C\\\\oBTqAL_AJq@JaADg@Dk@B[@[@[@e@@o@?w@?]Cs@Ew@A[Ca@E[CWCYE[G]Kk@Ie@GYIYGUGYIWKYIWK[e@gAWg@MWOUMSOW]g@_@c@a@e@QQa@a@}@{@m@i@gAaAeAcAwAsAgAaAeAcAy@s@s@q@s@q@gAcAeAaAyAsAaDwCsAoAgJqIs@q@WUc@c@QOa@c@a@e@_@e@[c@m@{@a@o@[m@Wc@Sc@g@iAk@sAQe@Ma@K]Oi@Oi@Og@Kc@g@sBo@cCc@gBK[[iAGUM]Sm@EMKUISSc@a@s@[g@[g@_@c@_@c@gAiAgAaA}DoDcDuCoBeB_HkGgBcBQQ[]OS_@e@{@mAo@gAwAiCw@uAeAmBoBkDaB{CcAgBgAsB[o@Q_@KUYy@M]GSGSK]GUI[Kk@Ke@Ko@Ik@Gm@Gq@CYCs@CYAm@A{@AcB?kCAqCAaM?oE?eC?[Aw@?]EsA?SEe@A[KeAIk@CQCSOy@S{@Su@IY]kAIWIUe@uA[cAiAiD_BaFmAsD_AsCq@}B[eAQm@]mAYmAUaAe@uBQ}@wDsQOs@Os@Ow@e@yBYqA]oAUy@[w@KWYm@Ym@OUMSQWKQOSOOOSOQUUa@_@USOKc@Ye@[y@c@aA_@iBs@eAc@y@YeAa@sAg@}@]i@S[Og@Ua@Sa@Uc@W]Wc@[k@g@m@g@e@g@m@u@o@{@_@k@[g@Wi@OYYm@MYUi@u@iB[u@aAeCs@eBq@cBi@oAa@eAa@aAc@gAq@aB}@{Bm@uAs@}Ag@gA]s@o@qAcAoBu@wAo@iAaAaBmAsBaA{AoCoE{JaPaEsGyAcC}AkCwCeFwAiCcByCw@wAmC}Es@sA[k@CGUa@]{@i@qAe@yAUs@Su@UaAI]SgAQ_AS_BIo@MsAC_@Ca@Cg@Eu@Am@Au@?a@@_D?i@@_@?[@_@Bi@B_AVeGFmADsAFsAJ{BJoCJ{BH}BDaABw@Bq@?[@]?W?]AYCw@A[AWA[Iw@Eg@Ga@G_@E[Mq@GWI]Sw@{@mDgAiEu@sCy@cDc@cBUeAyAaGoAaFe@mB]uAi@uBg@mBU{@WcAMe@IUEMISEKKSGMIOa@y@OUc@q@e@m@a@e@{@_A}@_Aw@y@y@w@y@}@}@_AaAcAs@w@q@s@s@u@m@o@WY[]OQMOOQSWMOMQMUa@o@c@y@O_@Se@Us@U{@WkAUuAIk@Gi@GaACa@C}@?_@?s@@_AFeANmBHu@TkALo@ZmANg@^mAd@}AjBkGvA{Eh@eBPo@Ps@DWDUH_@Js@D[Hs@Fu@Bq@DyAAsAAy@AUCm@KuAK{@Mw@Mm@Oq@I[Sq@GUKWIUMYIU]q@Ua@MUS]_A_B[g@wDkG{@wAYg@Ye@GKGKKU]u@Oc@Qg@YaAMg@G[Ko@Mu@C[E[C[Em@C]C{@AkA@s@?c@Ds@Ds@JqAd@eE`@mD^oDDUFy@H{@De@Bu@Bw@?]?Y?WAk@?OAWA[Gy@Es@E[QmAEYG[Oq@Qo@Ka@[aAYw@Q_@OYIOKQw@qAc@u@qAyBiCiEiAqBYg@Yg@MWKUIMIUKUK]M]Sq@GWGYI_@EWKo@Ec@CQE[AWAGCUA[AYC[?_@AU?]?Y@Y?[B}@Dq@Du@LeATiB\\\\_D`@_Dd@eEf@}DV}BPwAf@gEp@cGJ_ADg@LoATcCFy@Da@LeBDy@LeBHwAFy@JqBNcCDu@HuANaC@]HwARkDn@oK`@gHFaADu@Fw@Fs@Hs@D[Lu@Lq@Nq@Rs@^eAZy@`@u@LUXg@NUl@w@`AiAdDuD`BkBpAyAbAkAfAoAlBwBhJqKrCcDfHiIr@w@JMBCFMBCDEh@o@pOmQbE{E~AiBbDuDvEqFdEyEnAyAn@w@^g@p@cAVe@Xi@N[^}@Vu@Lc@La@VoAFUD]RqAJoAFoA@a@?w@?u@?g@Co@AYEu@Iu@MqA[cCQsAc@_DOqAKq@OqAGu@KsAC_@C_@CcAEqBCmBCcCEgCA}@KeDMmBQgCQmBYgCSsAQmACMe@kCOu@_@eBc@cBe@aBu@aCQi@[}@Qg@y@oBa@aAIQOWMWs@uA_@u@y@uAkAiB}AwBq@}@_@c@_AeAiBkBmBaBs@o@g@]c@]{@k@_BcAcB}@wBeAgBq@}Bw@gBe@mBc@kDo@wOsCaASk@Og@O_A]i@WUKe@WyAiAQSc@a@sAiBg@{@i@aAo@yA_FsL{CmHsE}K{AsDe@mA[iAQ}@S_AOcAK}@Gi@GoAAgA?u@@m@@_AD_ALiAP{Ax@qG`@oCn@iFNsBN_CBsA@u@@wBCy@Ae@CgAGiAEs@Gw@YiCaAqFq@wCg@cCaAmE[mBYoCQwBMmCGoCCkAAcB@oEAqDEoCEuBEaAEs@KmAYiBKs@_@yBSkAWuAa@gByAcG]_BI[SmAU_BO{AM}AGsAGuAEaCQqLGkDEoCIsFG}AI}AQ_CGu@Gc@AQc@kCm@gDw@}Dg@uCQkAQ_BOwAIeA]eGg@aJEq@Gy@UgEMsBIyAKsAE_@MoASmAQaAWeACMQq@Yy@_@aAYm@o@mAYg@eAuAo@w@{BaCsEuE}@eAu@}@e@s@k@}@_@q@Wi@a@cA_@cA[cASy@S}@WyAQsAIy@KoAGqACuA?wABkAD}AJqALqANgAJi@Lu@No@No@V{@r@qBf@qAJUrAgDn@eB\\\\kAZwAVqAPuANcBFuABaB?_ACw@Es@Gw@Ku@Kw@Km@WmA]gA_@gAm@uAy@sAm@_Ak@y@kBmC{ImLm@s@uEgGg@w@e@u@W]q@mAg@}@eAqBo@oAgCwF{BuEe@{@i@w@i@u@g@k@i@g@i@e@m@a@m@]m@Ye@So@SYIa@Iq@Mw@GsBO{AIkFO{HYeBIu@Gs@Ku@Os@Sm@Sm@Wk@Yk@]a@[i@g@i@g@e@m@w@cA_@u@]s@Wm@i@yA[eA_@eBmBoLYsAS{@Qq@cAkDs@}AWa@q@eAaAkAo@q@g@_@a@[i@[{@c@oAm@oAk@oAi@e@W{@e@y@g@c@]_@[g@e@q@q@a@g@m@u@_@i@[k@g@}@e@eAUk@Sm@Uq@_@sAOm@[_BSuAMoAO_BEcACsA?mBBuAHmBFu@JeALw@NeAXyAVsAh@}B\\\\cBZkBLy@ZcCFo@PqBHsAHoBDiAHmBH{ANmBVgBJu@Lk@Nm@Ni@Lg@f@}A^kA`AqDRaAZ}ANeARcB?CNeBJcCDqCDaD@sAFwADmAHw@Hq@Jw@Ns@DYFUPs@\\\\gA^gAfC{Gh@yAh@}AnAiDpIkUfAyC`@kAVy@Rq@Pu@N{@N}@Hk@BQDk@B_@D_ABaA?u@?i@C}@Cq@G{@E_@C]M}@QeAYgAW_AUu@KYQa@o@oAc@w@iByCy@mAqAsBu@qAa@s@[o@_@y@[y@c@kAY_A]qA]uAScAUsAQuAE_@Iw@Ec@GaAEm@Cs@Ak@CqB?}A@{@@m@By@F{@FgAHcAFm@Fo@b@aDVaBHq@Lu@?GN}@Jq@Js@rD}W`@sCb@{CHy@Fg@JsABe@@Y@Y@k@?_@?k@?YC{@GoACc@Ea@Ge@M{@E[ESK]Sy@S}@e@sAy@yBm@_Be@qAg@aBQw@Kk@QeAGg@Gs@IyAAcE@iA@mAFwGDiCDgCPoNHsHHiG@qCAgAAg@A_@EgAIu@MkAKo@Ic@Ke@Mi@[eAWu@Um@Ug@iAuBaFuHaCuDUe@Yk@Yq@O_@Oc@Ww@Qq@Mk@Ke@Ic@QkAGk@E[Ca@G_AAWCeA?SAq@?e@@q@@e@Bo@Bk@HiATsCd@gF\\\\uCR_BPgARgATeAXeAPk@Xu@l@uAHQf@aAr@qAjAwBd@w@d@_A\\\\w@\\\\y@X{@V}@R}@RaANaANsAJeAFgA@a@@s@@gA?iAE_CGoCw@i_@IcFIwDQmGY}NG_CGeBGu@IcAYeCYsAWeA}@gDQk@_@oAgAyDyB_Ic@cBWsAKk@Ie@MeAIs@C[Ce@Cg@CWCy@GmCOiI]_TAc@IeEQ}KAy@A{@AY?a@@gABeADi@F_ADYFg@Jq@P{@Ni@Le@ZeAjB{EnBsE^{@Xs@v@{BFQPk@VaAVcAz@cE~BuKP{@h@eCXmAp@sDZgCFm@F{@FoAB{@@u@@yAAiBSiKOgJEiAGuDE_BAe@Ag@CgAAeA?s@@u@FmABWDg@B[BWJs@P}@lBgH|@yCr@eChE{NLi@ViAN}@DYDYFi@De@Dw@Bi@Bq@?s@?kBAwAAgAA{@AgAA{ABoAB{@Dy@H{@Fq@D[Fa@Py@Ry@Pm@Z}@Vo@Tc@^q@PY|@oAx@aAv@q@`BoAdBqAxAgAh@c@b@a@r@u@p@w@n@y@Va@f@y@b@y@x@oBX{@@CRs@VcABMLk@RkAL{@L}@JoAFoADoA@aA?sACwAKwBG_AKoAOuAg@cF]sD}AyOGo@IcACa@GeAAu@A}@?a@?s@@i@D_AJ_BVeCPgARcATgAZcAVu@^aAr@}ApAmC`AsBXs@Xq@Tq@X_ATaALq@RkAFk@Hk@Do@F{@Dw@Bq@@y@AoBCiAGeAGo@Ee@Im@OeAQ}@?CScAYkAWiAi@{Ba@iBWoAScASmAK{@OeAMuASkCGeAEu@EcAGgCIyCK_EKaEKcDIiCEyBMkEMsEIkCI}DQuFGiCEmB?kB?_ABgAD_AFaAJ_BF}@FiAHqAHgADu@FiA@e@Bs@@u@?]?]?[AUAe@Ac@Ee@C_@Iu@Kq@Oy@WoAU}@Y_Ae@mA[u@w@eB_AyBc@_AUu@Qk@Ok@Kc@Oq@Ik@Iq@Im@Es@G_AAq@AgA@w@?g@DeBBaA@kA@gA@aA?iACcAEg@Ca@Gs@Go@My@Mq@G[Qs@Ia@Oe@Qk@Mc@Qg@Ss@]cAUs@Uq@So@Us@Ww@Sk@Qk@So@Wu@Oi@Us@U}@Om@UiAQiAGm@Gk@Co@E_AAo@?u@@y@BgAJmBTaDJmBFgADqA@y@Ay@Ay@E{@Ei@IaAOmAKi@WoAQq@Ww@a@cAi@mA_@o@sDmGw@qAm@gA]q@]o@]s@Us@Uu@[wAOq@M_AMuAEw@EoAAgB?qAA{DA_P?mBAqACwACiAE{@I}@K}@Gk@Gc@UiAQw@Sy@_@gAUk@Wo@e@_Ag@_Ak@{@y@iAuDcF_@g@UYSY{AsBqBkC}AuBe@s@UYQYOSU]Wc@{@_B_@y@]y@Uk@}@gCa@mAc@oAWs@Y{@_@_AM_@KWISKWKUQc@Q]Sa@KUMSKSMUKQQYMQIOSYOUY[IMY]OQKM_@a@e@c@k@k@c@]MKOMMKIEQMMIUQQKKGOIUOSKOIWMWO_@Qi@U_@QUISIc@O]MSGUIi@MWIQEUGQCUGWEUGQCYESCYEQCUCUCUASCUASCWCWAUAWAQ?e@AY?cA?k@@a@@a@@]B]BYB[B{@FuAJm@DYBe@DUBo@Dg@Di@Bc@B_@BU?U@a@?U?_@AW?]Aa@CUAUASCQCYCWCUE_AMyCk@{GiAkCc@WEUESCUCSAWAUCU?UAW?O?K@M?K@M@O@Y@QBUDWBSDSDSFUDi@RWH[N]Pi@XWPUNYTQNOLONUTQRWZSTSXYb@U^QZQ\\\\_@|@e@dAYr@wAdD{@rBiAlCkBnEgBdEQ`@Q`@]p@]l@[f@k@~@a@n@SVWb@UZUXML_@`@u@p@w@l@OJ}@j@g@Xi@X_@N]N]LUHWHUF[He@Jc@Hg@H[FSBm@Dm@Da@@O?e@?SAOAc@G}@Ok@KaASc@KAAOEAAQEKEGCIEGEMGYQSMSOOK[UIIOOKIWYOOKMSUOUMQMSOWQYOYS_@M[IQUe@Sg@sAyCeBaEKUi@kAIQKQKSMWIOMUKQKOMSKOUWGIMMIMSQOQUSGEWUUQKGGEQMUMQKSIeIaDKEiAc@mEaBQGqCeAgAa@e@S]MUKUKQGi@Y]OUM]SOKOIc@[WQUOOKWSg@a@YWi@g@g@i@g@g@w@cA]c@W_@[c@Wa@c@w@a@y@a@{@]}@]kAWaAI_@GYEWG]Ge@Gg@Ge@CSAQC[Eg@C_@Ec@Cc@C[A[KuAImAC]Ew@C_@Ec@C[C]Ga@Gc@Ko@GYEYI]IYIYGYIWKWKWIWKWMUKWMUMUMUMSOUMQOSOSQQ[]UUSQOMQOy@m@w@k@e@[kA{@y@i@[WYSa@[g@a@sAyA_@g@e@y@]o@Yk@Wo@Uo@}BeHs@{B_@iAg@_Bi@cBk@_Bc@eAq@{Au@wAeAmBw@uAi@_Ak@_Aw@sAgAkBw@uAuA_Ci@_Ai@aAi@}@_CaEcFuIw@uAuA_CmCuEk@aA[i@We@Yk@Q[Ug@Wm@Wo@Um@Uq@Sq@Sq@Qs@I]Qs@Mq@O_AQqAOqAGk@Gq@Gy@Cu@Eu@Ay@Cw@CsAAoAEqBEoBMgJIaECoBEiCK{FEgCCsACuAEmACy@Ey@Eu@GqAGy@KqAQmBQ_BGe@M{@Io@QmASoAUmAUmAI[GYEYIYOq@Qq@Qs@Sq@IYQq@Sq@Sk@Ws@Sm@Wo@Yo@Wm@Wk@[m@Sa@S_@[k@]i@_@k@Ye@mAaBaAkAsAwAwRaSu@s@aEiEu@u@y@y@uBmBoAiAoE}Dc@]oCaCwGwFs@o@s@o@c@_@gA_AgA_AkC{B}BoB}BmBiA}@}AcAi@We@U}@a@e@Qi@S_AWa@K[IWGSCi@K_AKw@I{@E]C]?UAw@?_@@m@@q@Da@Ba@D]Da@D_@FQDWDm@LqCj@}Dz@wAZ}FnAqAVuAZk@Lw@Ra@J_@Jk@RSFWFe@Rg@Tg@Ve@V[P]RYR_@TYT[TSPs@l@s@p@YZYZaAhAs@`Aw@nAYd@Yf@MRQ\\\\MVO\\\\EFWl@Qb@CHMXITO`@M^K\\\\M\\\\Qp@Ql@On@[vAMp@Mr@[jBOv@Kn@Mh@Kd@Mf@Mb@M`@Qd@Qf@[t@MRKTWd@QZ]h@MPa@f@Y\\\\UVUR]\\\\QLu@j@WNYP[RUJg@T]LWH]JYHw@NA?g@Jk@JiBVqLdBcC^gBVaAPo@Le@J}@Vc@No@TSH]N_@Ne@TWNc@Ve@Xe@\\\\yDpCoBxAeBpA[Ra@Va@TYNUJq@XYLYHi@Ni@LUDSBYDSBg@Dk@BW@U?a@?]?WASAYCg@G_@Ea@IWEc@KWIUG_@M[M[M]Oy@e@wBiAy@a@UKi@Ui@Qi@OSEk@M_AMk@Em@Ck@Ai@?k@@s@F]Bq@HuC`@uEv@aANgD^i@Fk@DuAHeAD_@?Y?eA?mBEyAE_@A]?cA?g@BQ@e@D_@B_@Dc@Fk@JUFi@L]Jq@Tm@Rg@Ri@TiEjBiBv@{LhFqGpCmAj@oAh@sIpDi@Rg@PWJa@J_@Jc@H_@D_@Fi@Fo@B{@@q@Ak@Ag@C[EQCe@IYGUESGWGg@Og@Si@USKe@Wa@Wg@]c@]][YY_@a@a@g@UYW_@OS]m@_AcB{@cBwAiCy@yA{@sA}@qAs@_AcAoAm@s@k@o@u@u@u@u@m@k@YYc@]gA}@u@k@i@a@{@o@y@i@g@[w@c@s@a@{@c@m@Y_@Qw@]q@Wg@Sg@Qk@S_AY}@Wq@Qe@KoCo@{NaDcBa@kCk@eE_AgAWSGOEQGOIiAe@KGs@a@k@c@{@q@u@u@[]g@q@e@s@o@gAc@{@mAeCo@mAU_@kAeBs@u@s@s@i@e@k@a@u@c@m@[cAc@s@Uy@Sq@Oo@Iw@GeAGq@?m@@gAFcCRmGj@sAH{@B{@?q@Cq@G{@Ke@IKCe@K_AY}@_@u@]u@c@eDsBy@e@w@]w@[q@S_ASe@Iy@I{@Gc@A{@?{@BgAD}Hl@yJr@oCV{@Lo@Lk@Nu@Tu@Xw@`@w@d@c@Zc@Zg@f@w@t@k@r@}BpCWXm@t@s@t@s@r@iBxAaAt@cAp@_Bz@g@ZQJGBUJMFOFMDgA`@MDeAZeAXaB\\\\u@L]Da@D[DQBWBWBgAF{@BU?c@@{@?sAEy@EcAIkAOy@OcAWcBc@gCw@c@MsBs@cBg@qA_@o@OcB]m@Mu@M[EeAMkCUkAIaAEqACyIGu@?qAAcABcAHs@Fu@Ls@Ni@NoBl@cD`As@Nk@J_@D_AFsABs@Aq@Eq@Gu@Mw@OYI]Ii@Oo@QqBm@w@Ug@MUEa@GUEaAIg@Eg@Ay@A}@@w@@e@BaAHm@DSB}AJkBH{A?iACkBIsE_@mCUyEa@}BO_BO_DWsBQmMcAsCSsBSEAiBMo@GSCWAcJw@iE]iBSg@I[ISEoCs@i@Sq@We@S}@c@o@[o@_@{AcA_BqAkAeA}AiBoAeBAAm@y@?Ae@{@{@aBk@oA_A{BoAwCq@_B[q@Ys@[w@Ug@Yq@aBsDaBuDKWuAaD}AuDyD}Im@mA]o@]o@U_@a@m@UY]c@w@{@w@w@y@u@{@q@yD{CkAeAiAiA{@}@u@_Ay@eAk@{@u@oAu@sAu@{Ai@mAe@mAc@kAk@cBg@cBo@_CWcAOk@[yAgBsI]sA_@qA_@aAWm@]s@a@s@k@w@e@k@m@q@q@m@i@a@k@_@sBoAkBeAo@a@{@k@{@i@oAcAaA{@aA_AiAiAy@_Am@o@o@o@e@a@q@o@iA{@c@[a@Ya@Wa@Uk@]k@Ye@Wm@Wm@Wq@Wq@Si@Qm@Qk@Mg@Ku@Ow@Oq@Gc@E[Ca@Ca@Aa@A_A?i@@m@B_AFsBL{@Fm@Dg@Bk@Bc@@]?]?]AYAQC]Ec@Gc@IWGc@Me@MYM]Q]O]Uc@Ye@]e@a@g@e@k@m@cAcAcAcAi@e@m@i@e@_@c@Ye@Yk@[g@Ww@]aAa@eBq@{@]_Aa@_@QUOUM_@UWQQMe@]c@_@c@_@eAaAu@q@a@_@c@_@g@a@_@[a@Yi@]i@[c@Ua@Qm@Yi@Si@ScA]kAa@k@Qi@Uq@Wm@[g@We@]g@_@_@]]_@UW[_@W]Yc@Yi@We@Se@a@aA_@gA_@mA[iASw@Qq@WkASeAQ}@SqAq@{Ew@wFa@yCaAgHWoB]aCKu@Ku@e@gD]gCSoAMs@Qu@Qs@Qo@KWa@gAYo@Ue@Yc@Yc@S[Y]]a@WYi@g@i@a@WQ[Sm@[e@W[Oq@WaAa@w@Yg@U[Oe@Us@c@a@Wi@c@e@c@c@a@_@g@Y]U_@e@w@O[a@y@k@qAi@uAg@wA]gAc@yAkAoECIo@oCa@cBOq@Qu@Ow@YwASeAQqAQqAI{@KoAGy@Cq@C{@Cu@Ay@?{@@m@@kBDkBDuALqFRoJ@q@B_A?m@?g@?m@Au@Cq@Ca@Es@Gk@Gg@Ig@Ig@I_@GWGWQs@Us@_@eAa@aAo@yAc@gAg@iAm@aBQo@Sq@Ou@Mq@G_@E]E]Iy@Em@EoAAy@CsA?qACiCA{@Cw@Cw@Gu@Ee@Gk@Io@M{@Ou@Qy@Qo@W}@Su@Wu@]mAg@aBUw@[eAQs@Ka@[qAKc@Oy@Ms@UqAQoAKs@Iw@Gu@Gs@Ck@Ey@Ak@A{@?c@?e@?_@@k@B_@Bq@FkADs@HkAZaFD}@DwA@aAAaAEmAG_AMkAM}@O}@Q{@U{@Ww@Uk@[u@Q_@wAeC{AaCcBkCa@q@]u@Ue@O]M[Uq@]oAUkAY{AU_BWeB[sBUuAUoAUgAQm@Qi@Oi@MYQc@Yo@Wi@[k@[i@U]_@g@i@o@k@k@m@i@o@g@e@[]S]SYMc@Si@Si@QqC{@y@Wk@Qk@Si@Ua@QWMSMUMQKUO[WQOSQQS[[SUa@e@_@e@_AkAi@s@g@m@s@u@_@_@s@i@YSe@Ye@Ug@Uk@Uo@Kw@Q}@Mg@Ek@AoA?o@@gCN_AFw@Bu@Bo@@y@Ao@Cg@G{@Om@Og@Os@Uo@[eEmBy@_@g@Sg@Q[Ka@Mk@OYGQE[GQCQCUCUEUAm@GeAIqAI{CSwAI}@IYCe@GMAIASCSEUEUGWGSGUIQGSISKUKUKSMUOMIOKWUMKQQOMQSOOQSOQMSQWKOOUOWKQMWYk@e@aA[q@Ug@We@i@kA_AqBe@aAOYIQQ[Wa@W_@U]Y_@_@a@_@_@c@_@QOc@[WO]SYOg@Ua@O]Kk@Ow@O[Gi@Gi@Ci@AY?Y?e@Bc@@_@DmBPcEd@g@DYBg@Be@@]?m@AUASAWEg@Gi@Ik@OWGSGSIUIQKUIQKUMOKUOQMSOSQOMOOOQOQQSOQMOOUMSOUMU_@q@wAsCu@{AMWWe@OY]i@[i@a@i@g@o@e@i@cBmBcAkA]a@QWY_@U]We@Q[KSKUWm@Sk@K[IYOm@K_@Kk@G[G]E]Is@E_@AYC_@AWAYA[A[?[?]?]@W?]@_@@YHoAHqBL_CD_ABa@@Y?W@_@?c@?U?SAy@C_@AYC]C]CYGs@Mw@Ms@Ms@Mg@Oi@So@KWISM[KUOYKSKSOWWa@MSYa@]_@]_@UUOOIIOKu@m@a@Wc@Y_@SYQSKMGUGk@OKCICk@Mm@Mk@ISCYEk@Ey@Iu@Gk@GYCUCUCWCUEUCSEWGYGSEIC[KKEYM[MUMUKSMSMQKUOSMQMcBkAw@g@i@_@UM{@i@g@Wi@Wi@WUK_A_@cA]eA[{@Uu@Ow@O_AOYEk@GWCk@Eg@CYCWAWAY?iAAuA?iEFqBBcA?m@@c@AK?SAYAYCUAUESCSEMAICWGSEUISIWISISKUKQKSKUOQMSOQMSQc@c@SQs@w@iAiAq@q@w@q@USQMWOe@Yk@Yg@USGUKk@OQG}@WcOaEcFuAwF{Ae@K[IQC[Gc@GWEWASAa@CaA?m@BU@U@YBSD{@La@HuCl@m@JQBYDWBOBO@O@W@e@?[?S?YASASCYCYCWGQCWGUEQG[KWISKc@SYMQMQKSMc@[_Aq@s@i@uH}FaBmAqB{Au@k@s@g@i@]iByAaAm@cAk@q@_@s@[qBu@{Am@gCaAsEaBkCeAiB{@eB_AuDwBkH}DwJyFyDsBaGiD_Ae@q@c@k@e@a@]_@_@]]_@a@[_@Yg@]c@Se@Wi@O[Sm@O_@K_@Om@Kg@I_@Ms@Iu@Io@Eg@Gu@Ck@CcAAq@?k@@i@@UB]Be@Hs@NoAR{AXmBh@_Ep@cFn@wEPsARsBHk@F{@Du@@m@@s@?u@?i@Aw@Am@Ck@G}@IcAO}Ai@}E}@_Ji@wEg@eFS_BMmBCc@Eg@CcACw@AoACoA?Q?S?W?m@@a@?g@Bs@@W@U@WB[F_AHm@J}@Hk@Ny@H_@HYJa@H[FSPm@d@aBZcAZcATy@DKnCeJRm@Ru@Pq@Nm@H]Ns@Lw@Jo@D[D]DYB]De@Dm@BY@YBw@@W@c@?[@Y?_@Aw@Aq@?]AWCa@Eu@C_@Eq@KgAEc@Iu@Gm@K_AIq@QsAc@kDM{@UuA[eB[{ASy@G[[eA]cAa@cAe@gAQa@]o@]o@y@mA{@kAw@{@q@s@u@u@aBaBkAgAo@q@e@i@i@s@o@_Ak@aA[o@]s@Si@Uo@W_AOo@Ow@Ic@G]K}@G{@GcACcA?k@@yADy@Du@JmAL{@Jm@Jg@H[VgAjAaEv@qCTq@v@mCV_ANq@Ls@Nw@Jw@J{@Du@Ds@@e@@gA?eACs@Cs@Eo@KeAK}@Mo@O}@Qo@Uu@Sk@IUIU[q@Q]]m@U]Yc@e@k@YYGIu@q@QQSO_BgAi@_@m@a@[Uo@a@m@c@[U]UQKeAu@sCmBy@i@AA[S?AQKeAq@WSMImCiBgEuCm@c@gAu@eBgA}@i@cB_AiAm@}@_@SKe@Qw@[g@O{@Y{Bo@yBm@cBc@{A_@iD}@{GgBsGeBuHoBmBi@gHiBgAYgA_@_@M_@Q[MYQYO_@Wi@_@YU]YyDwDm@m@k@i@]]}AoAkAy@}AaAo@a@e@[]UsBuAcAw@s@m@UUMMs@y@o@aAs@mAQ_@O[[w@Wq@iAcDu@uBm@aBUe@KU_@s@i@u@k@y@q@w@cAeAuAsAgAeAuBuBo@y@k@{@MS[k@g@eAyD{Jw@{BaAeCs@eBq@qAy@sAk@w@g@q@g@i@y@s@m@g@cAo@mAm@g@U[M[IYGsAW_AK}@Ea@C]?Y?qADgAJ}@Na@J_@Jw@Ta@NaEbBiAb@kBt@_AXeBd@q@J_@Fe@F]Dk@DeAHqBL_@DkDTqDX}@JiAL_B`@}@^{@^kAn@{BvAs@`@q@`@wAx@qAj@sAh@uA`@sBd@eBTqBPeADcBB_BCoAGm@Eg@Ik@Iq@KoAWiBg@qAe@k@Sy@a@wBkAsBmAyBqAmC_Bo@]cXaPgAo@eFyCuD}B_MeHi@]k@[sBqAyLeHkCwAcB}@o@WsBy@sAe@eCu@eBc@cB]eCa@wAOyE]yAAwAA}ECkEAc@?qA?m]I}E?{@EkBGs@CmAI{AOwAQuAWmE_AkBg@wAe@oI_DoI_DuAi@u@Uu@W[MYI_Be@iEgA_Ci@}EcA_Fy@wFeAkHoA{@O}@OuQcD}Bi@qAa@gAg@_Bu@mBmAoAaA}AyA{AiBu@eA[i@aDiF{FqJyBsDkB{Cm@y@W[WYo@q@u@o@eA{@}AqAi@c@c@_@w@w@o@u@i@o@]g@]k@Yc@[q@Wk@[}@m@cBsBgHq@uBe@sAi@mAu@sAi@y@[g@o@u@g@q@mDeEaDwDcCyCkAsA_BkB_AgA_@_@k@g@_@[a@[c@Y}@e@k@Yk@Ue@Og@O]GkAUmAOqAQaAMi@Km@Qe@Uu@]k@]q@k@YYSSY_@qBsCaB{BcB_C[_@e@e@iAiAc@a@e@_@kAy@cAo@c@Ye@Se@Ua@My@[g@Oo@Og@MiB_@cCc@oHoA_Di@e@Kq@QcA[u@WmBu@eAe@a@S_@U_BeAECc@[_@WiAaAk@e@g@g@i@i@c@g@c@c@e@c@uAwAsCuCuEuE{A_Bk@o@c@i@{BqCgBgC}A{Bm@{@w@iAk@w@g@o@i@q@YY_@a@SQUOe@[_@WYS]S]Q_@Q_@O_@Mo@U}MmEaA]cA[wBs@_A[]O[M]M]QmAm@w@c@g@[a@Wg@]c@[g@_@_JoHqJ_IqAcAuBaBc@Y_@UUKYOYOWKWK{@]o@Uq@Si@O_@I_@Im@I]Gc@Eg@EoBOiBOk@Gi@IUESGUGQGUGUKQIQMSKYSMKUSKISUMOUYW_@]k@MWKUUi@M[k@{Aq@uBo@kBo@kB_D_Je@oASi@KYM[Ue@a@}@]o@_@s@e@u@{@uAuAyBcCyDqAqBe@w@S]Ua@Yg@Yk@g@cAc@eAc@eAy@wBy@uBwBuFwDwJiBwEm@yAs@_Bi@gAs@uAc@w@a@u@y@qA{@qA}AuBaBsBqAyAwAwAgBcB}AmAs@i@mA}@o@c@g@[aAk@k@[iAk@_FyBuEmBgBu@}@_@m@YgAi@y@a@y@e@k@]a@S[SiAw@y@k@u@k@aAy@cBsAeCuB}BkBuBcBYSo@]i@W{@_@i@Q[Kc@Kk@MWEUEWCSAUCk@Cg@C{CC{JCwAA]Ac@Aa@AOAOAUAWCQCWEUEUEUEUGMEOEOGOEg@Si@Ug@Yg@[c@YiAaAKIg@g@s@y@aAkAuDuEgBwBoCgD_BoBk@s@cAmAc@c@[[WUQQQMMKQM_@Wi@[UKUMQIQIc@QWKKCQG[KKCICIAGAKCs@Ii@Es@EqBImCIiCIiAEUAaBGcFQuDKiEQ}CK{CK_EMs@Gw@Ga@E_@Gc@Gc@IQEQCUG_@Ma@Mq@Uo@UUIUKSISMQIWQg@[_@WSOSMWUOMg@a@aAy@OKMOOMMQk@o@qCgDuSgVaAmAw@}@c@e@m@q@_@_@k@k@][w@s@qCuByBoAoB}@yCcA{A_@}Bk@kAWcAOy@MOAeAEcBAY@W@mAFiBNqALuANM@c@Fg@Hg@He@Lo@Ry@T{@Va@NgDtAuAj@iAd@iAf@SFUJSHmClAcAb@cBt@kBv@aC~@qA`@}A^{AXo@Jm@D}ANu@BcADe@Bc@?m@AiAAuAIq@G{@Iy@McBYsAY}Bo@{EqAsTuF}C}@aNqDcHeBmFwAuSoF{@W_FoA_NqDoDaAi@OcA]{@a@gAc@iBq@wAq@A?oB}@CAaAc@uCuAw@]aBo@gA[mA[{@Ms@IiDYeC?}@FyFh@wG~@eBPqAF_ADg@?aAAU?sCGgCWwGcAiCg@oBw@qAk@o@W[OmDqBcBkAkA}@iA_AyAsAeAeAo@s@{AsBaAuAo@}@g@}@mAyBg@eAa@}@kAsC}@eCc@wAOq@g@eBy@qD}@sFMs@UuBYyCSkD_A_QCm@WwEOeCKoBGaAMoBGs@Ek@Iw@M{@Mq@Gc@]yAW}@Ww@[aA_@{@e@cAu@qAS]Q[u@gAaAaBk@}@c@y@e@}@s@_Bk@wAw@wB_@gAc@kAg@oAa@}@y@_Bo@gAk@}@e@o@[_@i@o@qBaCa@a@{@_AsA}AoB}BaBkByAgBy@cAa@i@]e@m@_Ak@_Aq@kAi@cA]q@e@eA]{@O]KYM]Yy@ESyAiEo@iBi@qA_@y@o@mAw@oAa@m@QUq@{@q@q@oAgA}@o@w@e@aAg@_Aa@iDeA{@WgA[_A[gAe@iAk@{@g@}@q@iAgA}@aAw@eAeAcBs@sA[u@M[kAwCy@sBmBcFg@sAqBaFi@mAa@aAi@iA}BqDgBeCm@s@kAoAQQoBcBcCqBqBoA{BgAcEsAsBg@aKyBiIkBsPqD{GyAqBe@iFiA{EcAyCq@_Ce@kBc@cCi@kAUiDu@_GqAiDw@_ASaJoBaE{@kDs@qE}@eB_@eCi@}Bg@sCk@mASmC_@uAOu@Is@EcCMmFWmDQiG]kESuDSiAKiAGeD[qDa@wB[sB_@c@IwAYmB_@wA_@iBc@eBg@_Cs@sBo@aAYaCs@sBo@gBi@gBk@yC_AeDcA{Ae@qDiAuBg@_B]sDk@sB[uASsDi@_C_@cBUsB[uAW{@SgA[y@Ww@YWKw@]g@U[Oa@Ua@Wa@Sy@i@eAy@gAy@{BaBkDmC{BcBa@[USw@k@sA}@aAe@o@Yo@W_Be@cAW]IeAOo@GgAGaBCmA@m@BYBoALu@L_@Hi@J}@Tu@Vs@XiAf@OF]NqAj@cEjBi@Vq@ZGBaBp@_@LYHq@P[D_@Fw@Fa@BU?]?WA]AYCk@I]IYGw@W_@Oi@UYOWM_EeCcAo@oEqCqG_EaAk@u@]u@a@KGoB{@qCiAmAe@y@Yq@UuCy@QEs@QgBa@g@KMCyBa@wC_@_I}@gI}@_CW}BWkAQQCg@K}@SeA[oAc@yAo@[O{@e@w@g@kAu@cAy@qAmAi@i@g@k@u@_AiAaB_A{Ak@eAc@_Ai@mAm@_BYy@Uw@{@uC_@sA[kAsAuEuBuHOg@?AGWA?W_Ai@oB[gA]aAWs@{@oBg@_Ae@q@i@u@QSwF}GGIsAcBiA_Bw@oAo@mA[o@e@kAc@cAc@kAoBaFc@eA{CuHe@eAGOOa@]u@Oc@Ys@KWi@sA[u@Yu@cAeCwCsHa@eA}@sBq@yAcBaEsBsECEeD{Go@oAy@aB_DiG]q@cAmBWk@O[Wk@e@cAw@oB[s@k@wAm@}Ay@wBiBcF{AkE{AiEq@mBWq@iBgFg@uAg@wAaAqCw@wBm@}Aa@cAq@cBg@gAa@{@s@uAa@w@_@o@_A}A[e@KO_@i@W_@q@_Ao@y@k@o@o@u@]a@wA{Ac@c@u@s@gAeAwCqCeBcBIICC[[a@a@}CwCuBqBgBcBi@o@oAkAmAkAk@i@_@_@a@e@Y]UWg@i@g@o@m@w@}@oAc@m@[c@yA{Bu@iAiAaBMSiBoCm@{@[c@y@kAMOeAyAOUSUgA_B{BkDwB}CiBmCyBiDkAuBEKsBwEk@yAUq@Sm@Ma@Ma@Oe@Qk@]qAw@aDs@yCGWIc@Qu@Oo@Qq@Os@Om@Qy@u@eDg@wB]_Bo@oCe@wB[sAYoAU}@Qi@K_@Sm@Us@]}@{@qB_@y@i@gAe@y@m@_AgA_By@eAuEwF}@mA]e@g@w@k@iAMWYq@Wy@Uu@Qw@Ko@Kk@Ky@KeAG{@IqACy@IaBScFKyAG}@McASkAS}@Oi@Qm@Uq@Yy@Qa@uA_DuAeD_GeNaCwFmByEc@aAa@{@a@u@o@eAy@iAsA}Ao@o@i@e@u@m@u@g@{@i@gBaAy@g@qAw@qAu@_Ak@s@c@YS]We@][[[[UWCEIKMOS[aA_B[k@g@oAQa@Qq@I_@Om@Oq@OiAK{@Gy@Eo@GcAKsBMyCEq@w@uOW}EIaAO{A_@eCQ}@S_AOm@WgAACY_Aa@kAc@iAa@aAYq@o@mAc@s@S[e@s@_@e@c@m@}@cAy@w@g@e@aBoA{@m@kBiAgIgFcDwBkCaBuIsFmAw@qA{@eBeAyE_DiCaB{@g@g@Yo@YsAm@YMoAg@eA_@m@Sg@Qg@O_A]}HcCsGwBoAc@e@QsBw@y@a@u@c@YQYQiA}@q@k@a@]YWy@}@_@e@k@u@a@i@We@k@_AUc@Uc@yA{C{ByE{AcDa@y@mAgCu@{Ak@iAg@mA_@{@a@cA_@mAMa@Mg@[sA[}AIi@SuAOiAIaAGm@Es@Co@KgDCcAE_BG_DIyDK{DIeDG}BEyBKmBIcAOgBKq@YmB_@oB]uAMg@Sw@Wu@Ww@i@wAiBsEq@eBaAcC[{@EKy@iCU{@YiASgAKg@Mu@O{@Gi@Iq@KcAEm@Cm@C[Ae@Co@Cw@AgA?m@?i@@g@BsADmADoADeARyE@a@@e@B{@@y@AgA?g@AiAA]E{@Eu@Eo@Gy@KiAMyAMsAW{CKeA[oDY_DMuAMqAi@uGIs@G{@Eg@Cy@C{@Aw@?{@@u@DuADg@HgALmARoAJi@Jc@`@iBn@kCh@qBVgAJc@FYJe@DYFa@Fa@Jy@D]Dg@Bi@@S?aA@u@?aAAi@Ag@Gq@Em@KaAOiA[}A_@uA_@aAUo@o@iAa@u@aAqAc@e@g@g@m@c@gAw@o@[k@WiAa@mH{BcAYcA[i@Qm@S]Oa@Og@Y]Sg@]g@a@e@a@g@i@]a@SY[c@[i@Wc@_@q@Wi@Wm@Qe@a@kAYcAS{@Mi@Qw@YiAk@eCu@_Dm@eCa@cBc@oBc@mBo@mCe@iBUw@Sq@M_@Oa@c@}@g@_AQ[S[Ya@c@g@[Y]]USQMa@Y[Ui@YwB}@}@_@{@]uCgAcAe@s@_@a@Uk@_@_@Ys@m@k@m@Y]g@o@Yc@Wc@IKS_@Q_@Q][u@yB{EeB}DmAkCcA_CSa@_@{@k@mAc@cAMU[q@]o@Yg@Wa@CCi@u@UYW[WYIIa@c@GE[Yc@]cAu@cAm@oAm@aA_@w@U_AUy@QcAMaAIUAa@A}A?i@Bg@B_FVoDP_GXqFXmBJuAFk@Bi@?m@?W?_AGi@GSCaAQuBc@{A[sGsAsEaAgB_@}EaAoAW_@Gu@KaAM_@Cw@IoDYaCScCSoAKQCyBQwBQ_BOu@GkFc@s@G[Eg@GYEe@IUGc@M[Ki@S]Mm@[WOa@We@[OKq@i@IIsAqA_A{@aC_CiCcC}C{Cm@m@w@w@s@o@OKg@a@_As@UMSMSKMIa@SUI[Mm@UWKm@U[KWIm@Mo@Kk@Iy@Ks@G'}, 'start_location': {'lat': 38.373242, 'lng': -81.60641009999999}, 'travel_mode': 'DRIVING'}, {'distance': {'text': '0.3 mi', 'value': 426}, 'duration': {'text': '1 min', 'value': 16}, 'end_location': {'lat': 39.578845, 'lng': -79.972849}, 'html_instructions': 'Take exit <b>148</b> for <b>I-68 E</b> toward <b>Cumberland</b>', 'maneuver': 'ramp-right', 'polyline': {'points': 'otppFdfcgNWMICKCeAM_@E]G_@K]Ka@O]OUMUOWSQOY[SYSWWe@MUO_@KWGUK_@I[AIACEMU_A'}, 'start_location': {'lat': 39.5759167, 'lng': -79.9755526}, 'travel_mode': 'DRIVING'}, {'distance': {'text': '112 mi', 'value': 179708}, 'duration': {'text': '1 hour 41 mins', 'value': 6073}, 'end_location': {'lat': 39.7131203, 'lng': -78.1916371}, 'html_instructions': 'Continue onto <b>I-68 E</b><div style=\"font-size:0.9em\">Entering Maryland</div>', 'polyline': {'points': 'wfqpFhubgNKeAm@sGAKQmBMsA[iEQyBUmCKaAOeAc@yCOaAQeAYyAs@gDyBwJo@oCq@{Cu@aD]iBWaAQs@cAoEg@qBcAoEa@iBm@iCcB_IESu@aDy@wD_@aBaBoHcAsEy@iDuGcZaCmKq@yCg@aCgCcLs@{Ca@kBS}@Om@g@oB[gA[aAWu@Wo@a@}@_AkBy@wAcAyA[a@QSm@s@EEaA_As@m@e@c@_Aq@aAk@MG}@g@oAg@gAa@mA]oAYuBYw@EiBKcA?}ABq@BcBRoBZE@kB^[FIBC?c@J{FjAQBuAZcEt@}AZcARkBPc@B_@?oAAg@Ce@Ee@Eu@Mw@Q}@Yu@Ym@[k@]k@_@SO{@s@w@{@[]c@i@OUS[Yg@We@Ue@Sg@]{@Yw@wD_Ma@mAkAcDi@oAK[g@gAGOKSGIQ[KSOUCIy@_BUc@GM]m@o@aAo@_A{J{LsB}BgE}Ecd@yg@kLmM{@kAW]Yc@eA}Ak@_Ag@y@w@yAoAcCKUc@}@sAiCmAyBKOk@y@AEg@o@i@q@_@e@[[QSUUWUYW[WWSg@_@e@[o@a@i@Yq@]q@Yi@Uc@O}Bq@wA_@eDaAgD}@uGiBgEmAoI}BkI_CgFuAiDcAyFyAeHmBcLsCUIkAc@k@Ue@S{@a@mAi@YQk@[oAy@qA{@sAcAgA{@yAkAeAy@eA{@s@k@iA_Aq@g@oAeA_BsA}@q@}AkAiDqCeA}@_F{DeEgDs@m@iA{@kCwBgA{@w@o@sC_CgBwA_@[[[i@i@a@a@m@u@UWW]e@q@]k@g@}@Q[We@e@eAu@gBaA}Bu@kBy@kBc@gA_B_E}AqD}AwDmAuCq@_Bc@gAeAkCkB}Eo@oBSq@c@uAk@oBk@sBg@iBs@wCo@_Dq@iDyMsi@_@{A_@{As@uCs@wC]sA]sA[sAQw@SgAOu@Io@Ga@E[Ee@Gq@Cu@A_@A{@Am@?g@?_@Bq@DwADg@Dg@Fk@Jw@Hm@Lm@Jg@No@\\\\gA\\\\gAHUJWL]JSJULUR]P]LOPYNUPURU\\\\a@^a@TSb@_@\\\\W`@WRO^SPIXOl@YvB}@zD}AvF}BpFwB|B_Aj@Up@Yj@Ud@SZOXMb@Uh@Y\\\\U`@YZUROb@_@b@a@PQ\\\\_@RS^e@Zc@PWp@cATa@P_@Xk@Vi@N]Pi@Rg@Rq@Ne@l@{Bd@cBbAuDf@iBRu@ZiA^uA`@yAp@uBNk@V}@XeAXkALo@Hc@F[F]D]Ju@Hy@B]Da@B]BYBg@Bg@@[@Y@]@W?]@W?[A}@AmAAc@Cu@E{@IoAG{@McAQmAKi@Q_AMm@Ic@Su@Ss@Ma@Ma@Sm@Sg@Yq@i@mAs@wAc@w@[k@a@u@iAoBsAeCeAiBm@iA_@u@Ym@Oa@M]Og@Mc@S}@Ms@EYIk@Gk@Ee@Ce@Ci@Ae@?Y?a@?c@@aA@YB_@Dc@D_@D]Da@DWF[Hg@Ng@FWLe@L]J]FSNYPa@Ta@Vc@^k@v@cAr@_At@eAZg@`@w@LYRe@Ne@Nc@Jc@F[Lq@Fe@Fm@BYBg@@i@@}@?e@Ao@Cm@Gs@Ec@Ii@G_@Mg@WcAWs@]cAq@kBSg@]}@e@mA_@eAQk@Mc@K_@Kk@Ke@Ii@Iq@Gq@Ee@Cc@Ce@Aq@C{@AoACuAAiBCsAAuACmAA_BAu@CuBC{BCqBCqAA_A?m@@o@?u@Be@@Y@WBa@BUBWDQF]H[H[Je@J[J[L[HSVk@d@}@d@{@Zg@`@y@FKlAkCt@oBd@wAl@{Bb@kBVyAPgATkBHcAHiBBs@Ba@@i@@{@@u@@o@As@G{BGuAI}AKqAIeAY_DO_BQgBGq@Gu@Gu@Ek@Ci@Ai@Ac@?_@?]@u@Bo@Dy@Hq@PsANeAHa@Lg@FWRw@hB{FnCwI|@sCz@sC`@qA\\\\oANm@Py@Lm@Jk@Hy@Hu@Dg@@k@@]@[@y@?m@?kA?_@Ai@CcACgBC_BCcBCaBIkFIyFIwFQsL?w@?{@BcAB_ABm@Du@F_AJmAHw@ToB\\\\oC`AeILmAFaADo@Bi@@g@BkA@}BA}D?oDCgC?oA?uA@uBDaDP_HN_HLyFZ{L`@iNVeMRoFReE^iEBWP_BLaANkARkAPiAb@aCrCyNnBsJxB_Lp@cD`@aCXiBT}ATmC@GRoCFaB@q@@o@BeA?iBA_AAmAC{@CeACeACg@IiBGgBEuAA_ACw@A_A?u@?m@@{@By@BcAHuAHmAFu@H{@L{@Lw@N{@jAuF~@sEVoAPmANaAHcAHy@Bg@@g@@kA?{@?k@CaAGaAGy@OuAMu@CUYmAQu@Ss@_@eAYu@m@gAs@kAwAqBoDgEoFqGo@aAq@eAi@_Ai@cA_@}@_@_AWq@e@qA]sAc@iBo@uDu@}FyAuLi@kEg@}DEa@Y{Bm@aE[mBY_Bg@cCc@cBaAsD[eAWq@a@qA{@{Bk@yAi@kAcAwBg@cAi@_A[k@qIeOa@s@e@y@u@wAm@wAUk@Si@Sk@a@uAa@yAS_AKi@Kq@Mu@E[OcAGe@Eg@KoAE{@Eu@Co@A_AAy@?u@?cABaAB}@By@Di@Dq@Du@LgALmATsALs@TcAR_AZiAV{@`@gARm@Vo@d@cAxBcEjBgD`B{CTc@`@w@p@uAd@gAb@eAd@kATo@p@iBl@oBd@eBZgA`@aBh@}B`@{B^wBT}AVgBJ}@LiALuAjAmOn@{IHkAJoAhAkOrB}XP}BLqBRgCJ}AFaABe@Dw@D}@B}@?uB?sAA{@Cu@IyAGqAO{AK{@SuAQ{@UqAQw@Su@oAgE}AqDsAkCu@wA{@wAyAeCeAkBwAcCuAaCoA_CqAwB}@}A}@aBo@gAg@aAg@cAY{@m@eBe@eB]sAWwA[eBMs@K}@YsCGkAAUCy@CaAAsBDeCLcDRuDv@iLReDb@iG`@uGJeDHuG@{DCw@CkCM{ESuC[iEYiCWyB_@}Bm@}Ds@yEo@oEMeAS{AOyAMwAKwAQuEEyAC{A?cB@yAD{BJuCLcCZuD`@kDn@uDt@qDz@kD`AiE~@cEp@yCrB{IzB{JtAgGvEgSrBaJ\\\\eBReAf@{C^qCXkCNgBJoAPcCPyDFaCByA@w@?w@?kA?mAEuCGiD{@_VA_AAi@AeBAyA?uA?y@B_BByATkID{BD_BHaDjAgd@F_CH{CHsD@eCAyBEsCG{BQyBYiDWoBQcA{AkJOy@Y}B]qCKcAKoAEcAIgBCw@CaE@uE?oA?GBuC@kGBkFLaN@_Ej@mlADyHAqBCsAOoCO_BO}@SqAMo@Mk@o@yBa@wAu@sCgAcFWsAM{@Iu@Es@Gs@Es@EkB?sADeEDsDFoE@}C?_BC{AMaCMeBs@yE[uAiAuDk@{A{@kBaAsBoAmCc@eAg@uAa@mA]eA[kAS_AOq@SeAO_AOeAI}@M{BIyACeACkAAmA?aI@aA?mB?wA?kACoCAy@EqAGqACy@O{CK}AKoBSgDEu@Ey@A[MgDAy@AgA?C?q@?_@?y@DmCBu@Dy@LkBF{@Fu@RmBPsAJs@Lw@ToARmANy@jHya@RkARmAzNiz@TkARiAh@_Dp@{D~@qF\\\\gBtA_IH]t@yCTs@Ro@x@uBj@oAvAqCZk@h@aAZm@LUh@aAf@cAd@eATi@Vu@Po@Ru@Ps@Lm@Fa@DYD[Hq@D_@Fw@B[@]Dw@@U?]@_@?y@As@A]Cy@GoACWEa@Iw@E]Ms@Mq@G]Qu@Qq@IUK[Uo@Uk@K[KSeAoBMQOSOUMOa@g@a@e@yEiFaAeAuA{Aq@s@_@c@s@y@eBmB_@a@s@y@OS_@c@SQMOQQQQa@g@]c@_@i@OUKQ]k@Yo@i@mAMWMYWi@KYKSIWKWUm@Sm@So@Oi@I]YkAEYGYG]E[Gc@Ko@MoAMiACc@IqAA]A[CsACmC@qB?w@@qI@}F@wE?}ABaL?s@@cAB{@By@Bw@DaAJmBPwBHy@?IbByNJ_AN_B@In@gGVmCDiA?AFkA@aA@k@As@A_ACo@Ey@A[Eg@O}AYqCy@gI_@{DQmBIs@u@oHi@aGK{@Ku@My@Ks@Ow@Os@Qs@Kc@k@oBUs@]_AYs@O_@KWISKQg@aAUa@m@aAg@s@UYe@k@oBoBs@q@aAaAu@u@{@w@{@y@{@y@s@q@e@e@o@k@k@k@i@e@_@]SUa@]a@_@UUu@s@a@_@w@q@u@m@u@o@c@[w@k@{@m@_@UaAm@u@c@UMe@Sk@Y[Ou@e@c@[}CgBqAs@cAk@sAs@g@Y[OSKa@Ua@Yc@[WUSU[[QSSUKQW[OUU_@OU[i@S]KUSg@_@_AM_@Oc@Me@Ka@Ke@c@eCuC{UcAmIc@}C_@uBUkA_AqDUw@c@qAi@wAo@}As@aBs@yAqBeE_BeDo@uAu@}As@uAy@gBq@wAcAsBm@mAe@cAwBoE_AoBw@_B_A{Bm@_BWy@_@kAc@_Be@oBUmAY}ASuASaBKy@O_BSwB]oDUgCKcAIcAMmAWuBSuA]iBYqAc@gBk@yBi@aBq@iB{@kBiAaCq@kAi@}@cA}Ao@}@qB}BwDmEuDiEgAwAU[gAaB_@k@aAgBk@cAUe@IQs@_Ba@aASe@o@gBa@kAm@sBEOc@aBqAeFEUsAqFgAuEYiAq@uCk@}BYkAUcAQ{@Oy@QqAGo@Gs@EeAE}A?wA@iAFkAJ_BNqAPgAPaARmA^oBZgBPkAR{AHiAFoABw@@}@AcBAw@GiAGaAIy@QuASmAUcAMi@mAmEg@eBi@iBa@{A{@{Cu@kC_AgDo@{B[oAkAcEk@qBc@_BQm@Sw@SaAOu@QkAIk@Kw@KaAIu@Cc@Es@Ey@Cy@Cw@As@?eA?}@B}@@s@HgBDsAJqBHiBBs@HyBLkCP_ERgELaD\\\\kIV_GXkHZmHd@_LRkFFqAFwAFkABc@Bs@DeAFu@Do@De@Bc@D_@Dc@JaAHo@L_AJk@VsARiAR}@h@uB\\\\oAp@sBj@gBx@gCdAaDvAkEr@{Bd@wA^gAv@}BHYV{@ZkAZwAJk@F_@DUF]Jw@F_@D]J_AHgADm@@YDk@By@@m@B{@?cA?}@Aa@AmD?sBAgBA_B?qA?uA@mABwADqBBiADgAH{BL{BPmCJ{AN_BLwAPiBRsBLkANcBLyATeCLkALqARyBTgCR{A`@mCPeALu@Jc@Nw@Lk@Ty@Lk@Nk@Tu@b@yAZ_AHUf@qAb@iA`@_AXo@j@iA|@cBbAcBl@aAf@y@z@uAvBiDl@cAPYR[fBsC~@{AlCmEhCeEf@y@j@cAbA_B~AiCXc@b@s@v@qAnAoBf@s@n@eAXg@xA_CbAaB|@{AzDmGRYTc@R]LWf@aAXo@Xs@f@uAX}@Ty@V}@Jg@\\\\aBF[Ly@Jm@D[Fm@D_@D_@D_@B_@Fs@@]Dq@Bw@@_@BaB?y@@[@yC?Q@qADqH?[@uC@uDBsJ@cFDiLBkI?wD@sC@iB?kA?a@Ag@?WAi@ASAa@Cy@Ca@C_@IeAEY?AGq@QoAGe@Gc@G_@G]Ic@GWEUKe@Om@Qo@Ok@Oe@Qg@a@gASg@g@kA[o@wAcDq@yA_AuB]y@[w@Ys@c@gAM]Qe@K_@Oa@Og@Ww@Qm@Qq@Ok@Mc@Mg@Kc@YmAKg@Os@Km@Mq@Ow@UwAq@mEo@aEg@cDg@}CYoBKw@i@eDgAgHcBuKiAiHi@gDWgBO{@YiBOm@Ia@EQIWK_@_@kAWq@Yo@Ug@OY]k@[e@]g@q@{@uAyAuAsAeAgAiBiBgBgBkBoBi@q@W]OUIKKQ]m@s@{AMWUm@Uu@Oe@Ma@Os@G[SiAMw@I{@C]C]OmCKkBSgEMkCKsBIuAGmBCy@Ay@?mBBqBBw@@]BYNqBn@uHbA}L`@aFDe@VyCPkBH{@NmBJqAHgAV{E@_ADwADsD@_CCoGAeDAiDAgC?cB@eBBcADqAFqAFw@Fw@PsBNoAHw@`@oDToBLgAFs@LoABa@Dy@D_BBwA?aA@m@CkAEiBEy@IwAMsAIw@Kw@Ks@Oy@Ic@YwAy@yDi@cCs@cD_@eBq@aDw@uDi@cCq@{Co@{CKi@e@sBS_AMs@G]Ks@EWE_@K}@CSGu@C[C[Cw@CY?]A_B?]?g@@q@@]Du@B[Bg@D]Fu@Ly@L{@XeBRmAJs@DWDc@D[DY@QBc@Fs@FgADu@@q@Bs@@u@?m@@_@Aw@CmBE{BEaBG}CEoCGsDGqDA}@A_@?a@?_@?w@@i@@m@Bc@@_@B[Dq@D]H{@NmAJo@F_@F[Hc@H]Je@ViANe@^sAb@qAj@iB~@uCv@gCx@iCh@eBpAaEn@oBj@gBr@cCh@oB\\\\uAf@sBVcAb@qB`@yBVwA\\\\mBLw@ZqBp@aFzDwYFi@ReBZaCx@kGf@sDn@uEd@iD\\\\}Br@oFn@qEx@mGX{BXkBNqAVmBZ}BZuBVqB~@iH\\\\aCfByM`@kD\\\\qCT{B^}DTmCRsCRmDDoAb@mLNoDZkHFmA?EDiA~@cVp@yPJcCXyHNmDJiCJoCLeDBo@DaA@u@?}@A_BCaAEoAK}Aa@yD_@eCM_A]cCQkAO_BIoAEkAC}A?uB@s@@i@Ba@J{AJsAPoADc@ZaCp@}ELaAr@iFb@oDR}AHu@Di@HcAFiAD}@@o@@{@@aACsCAe@GaBKqBQgBWoBq@gFQuAUcBOmAYoCIqACm@EyA?g@?iA@cADqADw@JqAHu@N_BT_CDm@NaBViCH{@Fu@LsABk@D{ABsA@sAAwAGoCCu@G{@Gu@KoAOqA[mCa@eDIq@CY]wCMgAu@oG}@uHK{@YcCQgBE}@Eo@G{@C_AEgAAw@Aq@?}@A{@@iA@{@B{@BiADs@Da@B[TwE`@kHXcGPyDHeBDoADyBDiA@gABuBB_C@{B?_B?kBAgBC_BA{ACgBEeBEyAEmAEqAGyAGwAIaBGw@Ew@YuDScCUkCQcBSuBOuAUkBYyB_@kC[sBc@kCo@}Dw@uEuBkMmCePcAeGk@gDk@mDe@mCYkBQeAIq@Iq@Gw@I}@Es@Cu@Am@AmA?s@BqADgADcAHcAJaAFe@Hi@Lu@P}@Py@Nm@Le@L_@Nc@Rk@JYLYP_@N_@Xi@Zi@^o@`@m@b@k@TWZ_@^a@b@a@t@q@z@u@`Ay@lAeAt@q@dDuCfCyBzH}GrF{Ex@o@TQlAeAhA_Ar@k@x@m@j@_@n@c@h@[b@Yb@Uh@[`@Sl@[|@a@r@[h@Sj@Un@UfA_@l@Qn@Qb@Kd@Mf@Mn@Mp@M`AQ~Dm@fTeDrASZGXGvDm@jAQ^Gl@MjA[t@UVIXKp@Yd@UZQj@Y^U^Ud@]b@]z@s@NMPQXWZ]l@q@~@kA`@i@|@kA~@oAn@w@b@k@b@g@^a@^a@XWf@g@x@o@r@i@NKz@i@p@_@f@Yf@Wn@Yl@Ut@Wn@Sd@Mr@O`@Kp@Kx@KZEd@Gv@ElAGd@?n@?z@@`AB`@Bp@Db@F\\\\Bf@HbAPdDn@zBb@tDp@n@Jp@Jb@Dd@Df@Bl@Dn@@j@@n@?h@Aj@ChDO~@El@En@Ej@Gf@I\\\\Gf@Kb@KXKl@Sx@[d@Sl@]d@WVQ`@Y^[^[ZYf@g@hAkAfEkEdBgB`CeClGsGrEwEh@m@jAqAfAoAjA}An@{@j@{@h@{@^m@h@}@d@{@Zo@\\\\s@Zy@Pe@Rm@Tq@La@XgAP{@TeAN}@PoAPkAXuBRyANsATiBN}APoBRqBPwBNyBLmBL_CJeCFqAHqBDoBNiGBmCDaC?sB?qBAeCCgBEwCEsCGkCCiBAwA?oA@_B@u@Dy@BeADs@Fy@NwBbCmWTuCPwBHcAFw@By@Bu@@{@?w@AgAEsAEaAEy@Gq@Iu@Is@My@Q{@a@oBg@{BqByIgAaFsA_G}@yDsAqFeA}Dy@{Cy@yC_@qAw@oCkAgEg@eBoAqEiAcEm@sBw@oCe@eBi@mB_@sA[qAQ}@OaAU_BgAaIm@oEm@oEWsBOyAQcBKoAKcBm@uJKsBKiBGkBEwACqAA}AAaB?w@?k@@cA@iABkAB{@ByAFqBHoCBaB@y@?s@Aq@Cu@Co@Em@Gw@M{AKqAG_AGqACcAC}@Aw@A_A@oA@aABiABo@Bc@FaAHiAFs@JeAJ}@RuATuAfAkFf@iCf@cCh@cCx@cEr@qDVwATqAXeBRoA\\\\_CPqAh@yDl@yEf@yDb@qD\\\\_D\\\\}CNsAPuARuAZ}BL}@Jw@NkAVuBb@yDn@}FPuARmAXiB^oB`@yB`@qB\\\\gBPeAJs@Hm@Dg@Fm@Ds@Dy@@k@@m@@s@Ay@Ao@A]Ce@Cm@Go@Gk@WkCKgAG{@IcACu@Cq@CcAAoA?gABkA@y@D{@JoB\\\\wGJoBDy@Du@@u@@]Bw@?[@{@?w@?k@Ai@?[A]Ay@Cw@GqAMmCW_GGqAGqAY}FIqBIwAKqBGu@Ku@Kw@G[EYG[GYQq@Su@IYKWIWIWKYKWMWKUMWKU[o@Yk@g@cAs@yAeAuBs@yAg@eAYk@[m@Ym@Yk@[m@Yo@[k@[k@Yk@{@wAy@qA_@k@k@{@_@k@m@}@]i@[i@MWKUIWKYI[GYGYCUCOCOC]C[A[A[A[?[@]@]@M@M@M@O@KBKHe@Hi@HY|@yDVmAF[D]DWHw@B]B[@E@SB{@@[@]?[?U?E?Y?_@AYA[C[A[Ca@Gq@Gy@Gw@C[C[Ck@Ci@Eu@A_@As@A_@?w@?e@?o@?{@Bu@@_@@[@[Bw@Fy@Du@Hy@Hw@Hw@Ju@PqAPuAJu@D[BYB]B[?M@M?M?M?S?MAO?MAWCYC[C[EYG[G[GYIYIYKYKUKUKWIOGMS]S]]k@[i@[k@i@aA[m@g@aAa@{@y@iBQc@Oa@MWIWO_@Si@Uq@Qg@Ma@Oe@[aAYeAK_@CIU}@WcA]{AY{AGUOy@Ko@Ii@Mu@[}BGk@Iq@C]M_AIs@QeCKcBEg@E}@EgACe@GkCAsAEsCAYEwAGeAEq@Ek@Ee@Ea@Ec@E]Gi@QmAQeAQcAOq@G_@s@aDIa@Q{@I]a@mBIc@Km@G_@E]Gc@Ea@Gm@Ec@C[Ac@Ek@Ci@?YA[?[?[CuBCgIA{A?yAAy@AkA?k@Aq@AUCSCYCWEUESEUGWOg@_@aAOWMUMQOSUYSU_AkAm@u@UYYc@IMCEGMGKEIEKGQEKIUIWG[GUCUE[CUC_@CY?UA]?Q?M@U?MBa@BUDe@Hu@F_@PuARgBNoAHw@Hu@Bg@Bk@@]?YAi@AYCk@Ec@Ec@CQCMEWMo@SoAGc@Gi@E[C[Ek@E}@C]A_@Ak@A]CsBEy@CsBCi@Eq@AUCYIi@Im@Ms@WcAOc@CIUq@Sa@O[Ye@Ua@OQMQKMQQ_@_@e@e@k@e@m@g@wFaFkD}CwAsAoD{DoAyAeAmAqB_CyAaBUYi@k@c@g@QOeBmB}FiGaAgAa@c@q@w@e@g@e@g@oCuCcBeBsF_GsCyCy@{@Y[SWSUo@w@[a@[a@i@y@q@eAa@q@Sa@cAkBYo@gAwB{@_BqAoBU]kA{Ao@w@GIw@w@w@y@q@o@_Au@mA}@_Ao@oLwH]YWSOOMOKKMMOSOU_@k@Q]MWQc@KSMa@Qm@Oo@Ms@Ii@Gc@Em@Ci@Ck@AcA@aA?}A@{@@{H@qB?iB@_C@e@?aB@wA?aA?iACeAAw@OkCGcAG{@O}BKgBAYC]A[Cg@AU?[AQ?W?U?q@@_@By@Bm@B[@UD_@B[DYB[F_@Jq@Ha@F[No@FWHYz@oC\\\\eAZcA\\\\eAh@cBz@sCTq@^kAVw@Le@Ty@No@XqA^kBLo@V{Ab@}Bf@iCZ}Ar@}DVuAZiBPaAHg@Hg@DWB[BYD]Ba@Dk@@U@W@WBe@@[?S?o@?]Ak@Cm@Cc@Cm@Ca@E[C[Ec@CSEUGc@Gc@I]Ki@Ka@GUIWI[IUKWIYKUM[Q_@Wi@MWMSOUMQYg@U]mB_DeBoC}CeFcBoCUc@S_@Ua@uCoFO[c@w@MWMYiA}BuA}CSa@yBuFk@yAyBkGa@kAwAyEiAcEm@_Cw@cDq@_Dk@oCWqAk@cDw@wEo@yDc@iCY_BG]YiB}@mEcA{Eo@{Ca@mB{AkHaAmEi@_C_@uA}@iDCGK]cA_Dw@}B}@gCq@cBs@cBq@}Aw@_Bs@yAuAgC}@cBq@gAwAyB{@qA}AuBqLyOkDwEq@{@s@aA}AsBcDmEa@k@[e@]k@MUQ[m@uASg@Wo@GQM]Sq@Ka@Ia@IYEWKe@EUEUIe@Gc@Gg@Gg@Ea@C_@C]IsAGu@WsEUoDWkE_@gFUgDGu@I{@Go@Ga@Ec@Ks@Kq@Ko@Km@G_@Kg@Ou@UaAOq@Ka@Oi@K[Oi@K[K]KYEMWu@Qe@[w@Wk@Sg@]u@g@aAg@_Ak@aAYe@QW_@k@W]Wa@m@w@U][_@Y_@WY[_@MMSUY[yA}AeCkCcCoCQQOQi@q@gAyA_@g@i@u@{A{ByAyBc@o@kAgBIOOWIMMSKSMYKUO_@Uk@K[M_@So@Qs@EQGWGYKq@My@Ii@Iy@Io@a@yCMgAGg@CWEYG[CMCOG]EQGWI]GUIYIWK]IWM[O_@ISMYEIO[MWS_@Yc@QYU[MQOQY]UWOQWU_@[SQgAy@}AiAuB}AoA_AcFwDy@o@e@_@YW]YUUYYe@e@a@c@_@c@a@g@c@i@_@g@U[QW]i@MSQYKQMUMWKUMWMYM]Qc@Uq@M_@Ok@Qu@GYOu@Mw@Kq@CWE]Ee@Gk@C_@A]Cs@C}@Ac@?k@?c@@y@Ba@?IBk@Bg@Da@Fw@Jy@Hq@F]Ny@Nu@H[No@L]Rq@Na@Pg@P_@Tg@Zo@LSNWLU^k@p@}@n@{@p@_An@{@n@{@n@}@p@}@|@oAbB}BXa@b@o@\\\\k@\\\\i@Vg@P[Pa@Te@Xs@Ti@Pe@Ri@L_@Ng@J[J_@Ng@Jc@Po@Ja@H_@Lo@Lq@P}@D[Jm@N_AHs@Hm@Hm@H{@Hs@Fu@JkAJeBDw@Dy@HuBBo@@g@BsA@_AHmDJaGh@yXJeFNeJLcGJ_GFcCFwC\\\\cSJmEHyEHsDBoA@_@@c@Bw@Dw@Bi@Do@HmAH}@Da@Hw@Hw@Fi@Hk@L{@D[DUD[Jk@Ji@Ny@^eBb@cBPk@FSV_AX}@Vy@Ri@Ne@L[DKN]^y@FQP_@P_@LSJS`@s@R[Xe@n@{@\\\\c@RWl@q@TSPOPO^[|@m@dCgBnA{@p@g@VQ^WNOTQLKJIJKNOLMPQNSRULQNSNQLUNUNUJUNWJQL[JSJWL[FSJWJYFUJ[Ru@Lk@Hc@DWF]DYDYHo@N{AXgCFm@^mDRoBToBHw@Hu@Hq@BUJeAZ{CToBNwARiBPeBNsAdAyJh@eFd@_EBQHy@P}ALkAN_B^aETkDHgAJ{AD}@FsAJaBBeADeAHsBByADuABkB@i@B{A?_A@wA@sCCoDAuBAu@Aw@E{BCaBI}BGuBG}AIwAEaAKuAEs@C]Go@Gq@QsBKeAMeAMkAYwB_@iCc@eDk@yDg@sDm@iEGm@Ga@C[CWE]E_@AWCc@Ek@Ce@Cc@AQ?SCs@AU?S?KAa@?i@?{@?cA?O@Y@g@@i@@e@DeAHyABYD[De@Fo@Jw@Ju@Ju@TkAHe@Li@F]Pq@Ru@Rs@J_@Ne@Tq@Rq@h@cB`@oAh@cBRq@b@sAlA}D~@uCf@aBj@gB^iAHUFSN_@Rg@N]r@wAVa@PYd@s@h@o@X]X[b@e@^]TQ`DmCzAsAv@o@^_@t@s@`AcAt@y@j@s@TY^e@l@s@vAiB`AmAbAqApBgCxBqC`BsBvBmCfByBbBwB`@i@LQPUPYXe@P[HQNURe@Rc@Pe@Ri@HUJYH[J]HYNo@Lq@H_@Fa@Ls@Fg@Fk@P}AH_ADk@HcAJsBDgADmAB_A@sADsDBoDBoDBwC@_@By@Bc@Bk@B_@B]J{@Dc@Hk@He@Jo@F[Hc@FUH]FWHYTw@Rs@t@cCbFsPnBwG~@aDr@aCHa@HYNw@N}@Dc@LeAFu@HsA@e@Bu@?{AA}@Cu@Cy@Ec@SoCSqCA[AOW}CU_DGoACy@AwBB{AFcBBc@NuAPkAVwA^eBR{@R}@tBmJ`@gBJc@Ry@J[Vs@\\\\_ABEb@}@Ra@HQt@mALSbAsAjAmAdA}@ZUTOp@a@jB{@dAc@tCwAjBoAnAaAn@k@`@_@dAeAl@s@x@gA^i@d@s@b@q@`@s@Zo@d@aAd@eAXq@`@iA`@oA`@wAPs@VgARgAP_AJi@Fk@PqAZyCFmAH_B@[BW@u@@_A?u@AcCEoBEqAG_AMuBUkDQoCSaDGw@OcCSkD[oESeDGgAQcCMoBIsACg@Cs@?CEcA?u@BaAHsADc@RyA^{A\\\\eAd@cAfNkY|@kBZq@l@uARm@Tq@Ps@Ns@Lq@PqALmADu@@g@B_A?s@AgBA]QcCSwA[}AYoAs@qBYo@w@{Ao@aAy@eAw@cA{AaBsAoAk@g@yAgA}AeA}ByAcDsBkAs@uBsAu@e@qCeBsAy@cBgAwCiBcC{AmAw@cC{AuBsA}AaAy@g@}@m@oBkAgAs@k@]_BcAmAu@_BcAaBeAg@[{CmBgC}AoAy@iAs@_BaAkAw@sEqCyCmBaEgCaEgC{DgCoDiCaCmByBmBc@_@aA_AuAsA}BaCuBcCmBaCqBiCaB_CeA{AkByCe@w@_CcEkBoDgBuD}AkDyAsDoAgDgA}C_AyCo@yBa@wAWcA_@aBGYS{@w@aDSaAQaA_@wBU_BQoAQuAUiBO{AMgAGaAOeBMaBIgAMmBIuAG{@Ck@Gs@SkCGaAUeDo@{I[eEYiDYaDMqAYeDY{CQsBOmBU_CQ{BQoCK_CGyBEmCA{B?eB@qBFgCHqCLmCLkCJmCJ{BHiBDeAD_AFsAPaEFuABa@FkBBwA?C@u@EoBCi@Cg@Eg@CUAOEa@EYIo@Ic@Kk@Ic@Mg@Me@Sq@k@_BKYMW[o@[g@g@{@k@u@Y]]_@c@g@cAiAcAkAQSc@i@[c@Ye@]o@_AmBc@oAW{@_@_BQ}@M}@M_AGs@GcAE}@EcAMwCQ}DUsGM_ECcBGiGAgB?sB?sA@iCDkBBkDBkA?k@D}@FmANwBNyATmBT}A`@}BJi@R}@BMJ_@Ps@j@oBnE_Nr@yBJ_@Ts@d@mBFYNq@Ha@TuAPyATsBHaAHiAL{CDiCBsBD}CB}@@oB?s@?}@Aa@Aq@Eo@G{@MqASuAMq@Qu@Qw@]mAc@oAe@gAk@eA_@m@Wa@]e@yAkB}AmBeByBsAaB}AmBiAyAgAsAaAkAqAaBmA{A_BoBiDkEwBmC_AkAk@u@c@s@Wa@c@_A_@{@[{@YgAU}@Ow@Ms@i@uC}@yEu@cE]kB?Cc@{Bw@eE_@gBe@iBU{@W{@g@yAWs@g@oAe@eASa@MWo@oAcBsC{@mAkA}AsA_BiAuAeAmAg@o@{@iAq@iAk@oA_@cAMc@U_AKg@Oy@Ii@Ei@Gq@CWCo@Aa@AS?a@?oA@O@m@FcALwALy@Hk@VgABI^oAJWLYVo@P[\\\\m@^k@HKtA}Az@q@t@e@h@Yd@ShA]`AS`@KhJiB`Do@p@Uf@QRKDA^Qd@Wf@YPMf@]p@k@`@a@RS^a@n@{@l@}@d@}@d@cAb@eATs@J]H[XgANw@Nw@Js@Da@D[B]NqBb@kGVqDTiDRiCPkCRkCPkCNoBFy@T_DTsBNkAF[\\\\mBViAd@eBj@cBl@_Br@_BrAcCj@}@~@oAnAeBxAsBlBkC|CiElAcBlAaBlAcBlAcBzAuBnAcBjA_BnBoClAcBZc@p@_A|@oAP[HQXi@f@eAn@{A^kA^iAXoANq@Lw@FYJu@NoAFy@JqABy@DoA@}@?w@Aw@Cu@EuAOoBOuAKw@UoAUgAQu@WcA[}@c@iAQa@m@qAw@wAi@y@OU[a@SW_@e@a@c@GI_A{@u@o@cCgBy@i@{AiAiAy@g@]w@i@gAy@_BiAkAw@qBsAsBoAmAs@oAq@uBgAcBy@oAm@iAg@iGwCeBy@{@a@y@a@{@i@c@]a@_@c@e@m@u@_@m@k@eAIQYs@Sk@Oi@K_@YoACOCSOmAIoAEu@AsA@oABy@F_AHq@PoA`@iCpA_IpAgI~@{F|BsNbBkKPwAJ{@LqAJkBDuAByA@u@?y@AuACs@Cw@IyAIqAIy@kDs_@sAeOU{BS{BS{BOyA]_E[cDY_DKoAE]QwBQgCOmCUoEOyDQgEEw@K{BK_CIiA'}, 'start_location': {'lat': 39.578845, 'lng': -79.972849}, 'travel_mode': 'DRIVING'}, {'distance': {'text': '24.7 mi', 'value': 39800}, 'duration': {'text': '21 mins', 'value': 1274}, 'end_location': {'lat': 39.6210504, 'lng': -77.78912729999999}, 'html_instructions': 'Take exit <b>82A-82B</b> to merge onto <b>I-70 E</b>/<b>US-40 E</b> toward <b>Hagerstown</b><div style=\"font-size:0.9em\">Continue to follow I-70 E</div>', 'maneuver': 'ramp-right', 'polyline': {'points': '_nkqFvxf|MDQ?A?CAo@?MAQ@a@@a@@c@BSBWBUF]BQBQH[FYDOHWHQBQBIBGDKJUR[Ta@BCT[\\\\]h@c@b@[`@Y~@k@t@i@b@YPMZSj@_@`@Yl@c@r@m@f@e@d@g@PQJK@CBC@A?C?C@C?G\\\\a@p@w@d@o@V_@Zc@Xe@Zk@R[FKTe@HQ@AHORc@h@oA^aA`@qA\\\\mAT}@^kB\\\\iBZcBReA?ARcAd@mCHc@vAaIV{A`@qB^yBh@yCt@aEd@kCh@sCf@sCb@uCJq@L{@RaBTkBT{BLuAPuBXmDHiA\\\\qFTsC`AoMf@qGHiAHcAB[B]D]DYB[F[D[D[FYF[Nu@H[FYRq@Rs@To@JYJWJWZm@HQTa@R[NSJOJQPSNQJOf@g@b@_@XUp@i@XSrB{AtB{Aj@c@d@]POPOROPOPQBCn@q@^e@PS^i@Zg@p@mATg@Zy@Ri@Tq@FWZgAH]Pu@P{@vAkHhAoFv@}DfAmFtA}GTkANs@Lw@Hc@BQLq@F]Jq@Jy@DYJw@Ju@^eDvAwMxAuMfA}JFa@D[D[DYJu@F[FYDYF[FYFYPs@R}@fAiEt@uC`AwD^{ALc@f@yBP}@Nu@DYNy@Jq@PsAJ_ATaCz@gJx@gJvAsOhA}LRoBJqAJcANcBViC^cELsAl@sGb@_FHw@LsAPqBVoCPkBHw@LuALqANuALqAPsAD_@Jo@Js@F[F[DYF]Ns@F[Nu@Ps@F[Pq@Po@Rs@Rs@Tu@\\\\cA`@kA`@gAb@gAd@eAd@eANYt@uAh@aAlAuB`@w@Zi@j@aAh@}@x@wAl@aAh@_A`@s@r@mAl@aAh@_Aj@aAh@_Ah@aAj@aAf@_Ah@aAh@cAb@y@l@kAf@cAf@cAJWZm@f@cAd@eAf@eAf@eAf@cAd@cAN]Vg@d@cAr@{Af@cAf@eAd@cAf@cAd@cAf@eAN]Tg@Vk@JWPc@Pc@`@gAh@yAVy@Tq@Rq@J_@Pk@HYH[Nm@Li@Lg@Ha@Li@Lk@Hc@TiAP{@\\\\iB\\\\kB\\\\cBVsATkAPw@Nu@Pq@FYH[HWFWJYHWFWJYHWJYL_@Rg@Vq@Vm@Vo@d@eA|@sB|@uBb@cAd@gAd@eAd@eAf@cAf@aAh@aAj@_Aj@}@j@_Al@{@Xa@r@aA|@oAjD}EfEcGdCkDrBuCr@cAtAmBn@}@|@oAn@{@j@y@n@}@|@mAn@}@\\\\g@n@{@j@{@lAeB^g@\\\\g@\\\\i@LQNWPWXe@`@q@d@y@Zi@Zm@h@aAdBmD`BcD~CyGdCcFn@oAt@yAf@eA\\\\u@n@qAf@aAXk@Zm@LULWNYXe@\\\\i@\\\\i@LQT[PWDG^e@b@g@n@w@^c@\\\\a@~@iAp@w@pBcCbAkA`AkA`@e@^e@p@w@n@w@p@w@r@y@^c@n@w@n@u@p@y@j@q@f@k@~@iAp@w@`AkA`AkA`@g@l@u@^i@V_@T[l@}@x@qAj@_Aj@cAVe@N[Zm@Vi@n@qAP_@t@yAr@{AnAiCvBkEZm@d@cAr@wAh@gA|A}Cd@cAt@yAf@eAr@yAdAqBv@uAXc@^o@\\\\g@^k@l@{@n@{@NS\\\\c@p@w@`@g@^a@dAgAbAcAl@i@fC{BxAqAhFuEjBaBt@q@hB_BfAcAv@u@`@_@VYZ[RU\\\\_@p@y@p@{@\\\\c@PUl@{@\\\\g@dA}AjBoCl@_A~@sAl@aAzCsE`AwApJsNl@_A^o@Xg@t@wATa@Vm@f@iAh@sATs@Pg@X}@f@iBp@sCTkAb@mCNiAD[Hu@NuANoBBo@Bc@Dw@Bu@@c@@u@BoC?c@AmAAwAGoBGsAEu@KgASyBQ{AUeBOoAKw@Iw@c@{Du@yGa@eDa@iD]eDg@oEgAmJ_@eDg@{Ea@gDk@{EYgCYkC_@gDWeCMqAMsAEg@Ek@MoBC]Ew@EuAEsAC{@CiCAqD@kB@qDAiC?aH@aCB}GAqACqBCy@EuAIgBCc@Ei@Em@Gm@Ei@UkBOoAG]Ge@Ou@Ki@Ms@YkASw@YcAMa@i@aBSm@a@kAq@}A{@kBk@gAi@aAwAaCgAmBcAkB]k@oA{BcCiEuAaC[i@]k@[k@k@_Ay@uAk@cAw@sAy@uAuAcCm@mAm@mA_BqCwAcCi@cAsBqDaBwCoAaCiAuBS_@i@cAMWQ[Sa@OY_@q@wBeE_MyU_B{C_ByCqAeCcAoB]o@e@}@g@cAWi@sAwC]y@Wm@KYs@iBg@wAi@}Aa@oAk@kBa@{A_@wAEMkAoEoDoN}@iD_AqD[kAcAcEe@gBcA_E_AuDYoAcC{KOo@oDgPQ}@AEa@}B[kB[cCUmBQ_BM_BG{@G_AGeAI{AEiAEwAEaCAyA?oA?oA?Y@}@@_ADgBDeBRwERwF`@oKHmB?G@KBy@lAw[LaDJmDFmBFwBH_EBqABmAHmF@qBBkD@gDF}WByO?aB?A?C@_BLup@?qBBeDBkEDgDJqGJcHDgDLoHTgONmKH_GBoCBiD@kDB_EJmd@?oC@kDDaEBuBDgA?I@[Bq@Ba@JeBN}BRiCLoANsAXoBPoARoANy@Lq@^kBXmAXmAd@cBZmAh@cBV}@jCqIt@_C|@aDb@_Bj@_CZoA`@eBp@}Cn@_DvAcHVgAZoANq@J[HYFWHWJ[Rs@Ro@Tq@`@gA`@gAVq@Xq@`@aAf@eAd@aAbAoBj@cA\\\\k@Zg@Zg@z@uAf@w@pAqBT]\\\\i@d@s@n@cAr@iAr@iAXc@r@iAZi@j@eA^s@l@mAP_@\\\\s@Zu@h@oAf@oAb@sAf@wAPm@X}@Pm@Lc@Vy@J_@Ja@J[V{@T{@V{@La@b@yAd@yAf@yAt@mBl@uAPa@Vm@Vi@NYN[R_@P]P[Vi@PY^m@Va@`@o@b@s@X_@b@o@T[b@m@^e@rAkBxB{CbA{AJST_@\\\\i@P[Zk@^s@l@kAZo@^u@\\\\u@Zq@Xo@^{@HUJSJYJW`@gATm@`@kARo@b@uA`@sAb@uAxBoHz@uCvAuEr@cC|Q_n@tEsO`@qAb@mAJ[JY^cALYXo@Pa@d@_Ad@}@R_@NU`@q@b@q@V_@@AV]'}, 'start_location': {'lat': 39.7131203, 'lng': -78.1916371}, 'travel_mode': 'DRIVING'}, {'distance': {'text': '78.5 mi', 'value': 126268}, 'duration': {'text': '1 hour 12 mins', 'value': 4300}, 'end_location': {'lat': 40.3062179, 'lng': -76.840092}, 'html_instructions': 'Take exit <b>26</b> to merge onto <b>I-81 N</b> toward <b>Harrisburg</b><div style=\"font-size:0.9em\">Entering Pennsylvania</div>', 'maneuver': 'ramp-right', 'polyline': {'points': 'qnypF`exyMLC@?@AZ[dBeB`BuAXYf@c@v@m@d@_@v@i@r@e@bAm@b@Yl@_@~@k@vA}@tA}@NINKDBBA@?LIHGNIJGFCDAFALCL?L?F@F@F@FBJFDBDBDDBBDFDDBFFJDJDL@JBJ?H@L?J?H?DAD?FAJAHCHAFADEJGJGJGHCBEDIFKDODE@E@E?G@GAMAGAIAIEKGGGIGCEEGEIEIIQEQKYQi@?AAAA?GEaAgDUw@a@gAQa@Qe@M]Q_@Qa@[s@O_@Q]KUQ_@MUKSIOGMWc@Ye@IOUa@a@m@CEq@cA[c@sAiBEGCCAAA?KC{AgBMMU[o@u@s@w@g@k@mBiBg@c@kA_AoAaAgAu@uA}@mDmB_Bs@}@]mBu@}Ak@kAa@{CeAyCiAaA]eA_@eAe@eAg@{@a@wBiAu@c@k@a@i@[]S}@m@}@o@mDoCg@c@g@e@q@m@EEqAmAg@i@{A_B}AkBgC}CgAsAeC{C{AkB}BuCcD_EkEmFgByByDwEyBkC_DqDsB}BmCqCqEwEaBcB}F_G_IeIkDmDaBeBgFmFMMm@k@mJuJaIcIuLaMi@i@a@a@sBsBsDoDMKkAgA}AsA_@]}@y@qAgAcBwAa@[iAaA{@q@oHiGa@[QOu@o@iA}@e@a@wAiAgA{@w@m@kA{@u@i@kAs@wCeBwC{A{@a@}@_@cBq@}@[o@Ui@Qe@OSGs@UQGSGcAWYGqA[OCeAS_Cc@yC_@o@Ie@Em@GSAcCSaCOcCQcCOkBM{CUkRqAgGa@gF]mDWaCMwCK{CAy@?_A@mCFaBHeBJaBLo@Ho@HSBgAPoAR_BX_B\\\\eATcD|@uC~@sAf@qBz@kBv@{C`BsAt@mBlAaAn@wA`AEBy@j@oAz@mBrAeCbBy@j@mAx@uA~@uA~@eCfBsCnBeAp@eAn@A?c@Ve@T_Ad@y@\\\\i@R_AZs@Ts@R}@Ta@HkAT]Fa@Du@Jw@He@Dq@Do@By@B_A@q@?}@Ai@Cm@C}@Eu@G_@EoAQ}@Mo@Mo@Og@Mk@Oe@MaA[[Ka@Q]M]Oi@Uc@Us@_@cAk@mAw@iAw@i@e@q@i@SSg@c@]]c@c@o@u@YYW[s@_AW]QW}AwB_AsAyF_I{GkJeDwEuAmBU[SYwByCeDsEs@cAaByBw@aAw@y@o@q@uAmAy@o@y@i@{@g@o@]]QwAk@w@We@OeAU_ASoBUQC_AGq@C]A]?{A@iBH}Gd@g@DmBLkEX_Ij@cG`@iIh@eCPaG^gBLcEVuN`Ak^bCmDTuCPiA?mACcAE_AGu@Is@Mo@Mk@Mg@Mk@Qg@SmAi@wAu@_B{@wNcIKGiDeBiCgAmG{BwFoBmn@iTeh@qQsBu@SGAAg@OoMoEsN_FoMqEcBe@k@Oq@QaB[mEy@m@KGAs@MoNeCmCg@sDo@cDk@qDo@cB[[GgF}@eEu@gDm@uAY_AQoBe@cDw@eHyBcBg@mBm@_Cs@cJsC{Bq@eDcAiA]iA_@_AY_AYuAc@oCy@eDeAcDaA}DiAgBi@kA[wC}@yAe@kA]{Bo@i@Ok@Mi@Og@MkBe@{@SOE[Ie@KWGuA[iBa@}@QwAYMEkH_B}HeB_E{@eDs@kB_@yX}FkFiAmCo@q@Qi@OaBe@gBi@eBk@qAe@eBo@g@USGsOkG{EmByCmAwAk@qAi@cBq@qAi@eBq@cBs@eBq@oAg@eBq@oAi@mCgAoAg@wD{AeBs@mCeAyB}@mCeAaDqAyB}@oCeAmC_AqC}@{Bo@q@SuBg@uCo@}Bg@iAUsBc@k@M{FkAeNuCgHyAwA[}Dy@}Bg@sE_AsCm@}Bi@sA]{@Uk@QsA_@qAc@{Ag@gAa@cDoAmCkAeEoBsDeB_DyAaCgA_CgAsI_EyZuN}CyAeAg@cBw@sDcBiCmAsDeBwBcAkCmA_DyAkCkA}@_@aDqAeDsAiFoB_LgE}GiC_DkAqCgA_D{AoAq@e@We@[_BcA]Ug@_@yAiAUSiByAiByA{BgBoDwC}BiB{D_DuAiA_BsAiBaB_ByAg@i@aA_AyCeDgCyC}BuCa@i@gBgCU_@OSqBkDkA{BkAeCcAeCy@wBeB{E{BeG[{@]{@cAsCyBcGOe@Yq@Wq@ISISAAIQg@_Ay@{Ao@cAq@_Am@w@a@g@w@y@uBkBa@YkBsAiPoKoCeBoCiB{DgC_BcA}AeAgBiAgBkAmAw@yA_AA?mAw@oAs@q@]o@]q@[q@YkAe@mAc@yCgAWIaHkC_G{BmMwEm@Uo@UmC}@gBo@s@YWMe@SMGKGWMg@Wu@a@e@Yi@[w@i@o@c@m@e@m@e@m@g@u@q@s@q@s@s@q@u@e@i@c@i@e@i@c@k@e@q@e@q@kAgBiBoCkBoCiBmCiBmC}@sAwAwBiBmCeA}AeA}AeA}AgA_B_Va^iAcB}CsEa@m@oC_EuAuBQYYe@[i@Wg@OYOYMWQa@Wk@Se@Qa@a@gASm@M]IWIWMc@Qo@Qo@Mi@EQGSI]EUOu@Mo@G_@EYG_@EWQsAIq@E_@MqAI}@IsAGoAGwACoB?eFBoDBcFDaHFaJZ_f@?yA?uAAe@?[AQ?SASAOCm@Ag@Ce@Ee@K}AEc@E_@Gg@Im@E[EYGe@Ia@Mw@UkAQu@Ka@WcAUw@Oc@Sm@Uq@e@kAEMIOKUO]Ug@IQS]Q]i@_AYc@OWYa@SWOSQWi@o@w@}@_A}@e@c@w@o@[W]UWSa@WSMSKk@]u@]i@W[MoAg@kh@gSaBq@cCaAcA_@uCeAsBs@IEGCWIuIoDgHqCkSaI{ZsLaK}DiDqAoGeCcAa@}B{@oAg@eBq@qAi@aBw@oAo@c@Wm@]k@]cAq@e@[a@Yc@[y@q@w@q@yAsAoBkB_C_CuEoE}G{GaA_AwAuAsAsAoDkDiAkA}ByBcFaFcBaBuCsCmFkFiEeEyAwAgDeDkEiEsGmGcEaEcAaAsEqE_A_AoBqB}AeBu@_A_AkAw@eA}@kAmAaByJoMsGsIiF_HwAkByAoBMOsD}EcAuAOQgAaBoAqBi@aA]m@Yk@Uc@m@oAsAyC{@sBwBiF}EgLgCgGgF{LeE}JcEuJsHqQwGyOeC}FgBiEeCaGoEoKkEiKw@kBmAiCu@yAoA_CyAgCuAwBeA_B}AuB}EoGwBuC{AqB}AuBaAqAaG_IuEgGeAuAsCcDaAiAcAeAuAwAs@s@c@a@a@a@c@a@c@_@c@a@c@_@c@a@c@]iA_Ae@]QOSOu@k@iAy@e@]e@]iA{@qBwAkAy@kAw@_BcA}AeAy@i@y@i@y@i@_BeAkAu@_BeAkAu@e@[y@i@}@i@uBqAmDsBuA{@aAq@a@YaBeA_BcA}AcASOe@We@[UO{@m@yA_A}AeAeBgAmCgBqD_CkAw@{ByAkBmAmAw@IEs@e@sBsAm@a@gFgDeC_BiCcB_@Wo@c@YUQOe@_@_@_@u@s@KMq@u@m@w@a@i@i@w@CCS[Wc@c@w@]o@AEa@y@Yo@Qa@iAyCmAgDiB_Fm@_ByCaIwCaI}@aC{A_EwCaIuAyDO]Qg@_@_Ay@}B}AaEwCaIyDgKqAsDgByEqAmDu@oBqAiDeAsCcAoCoAkDm@_By@yBeByEQa@K[Wo@Wq@Yy@y@uBg@yAk@aBe@wAq@yBi@gB[kAy@wC_AwD[mAc@kBk@cC_ByG_@_BgAyEgBsHuDaPq@qCy@gD{@sDoAqFeAqEoAkFcAkE_AyDyBkJwAgGcAmE_AuDk@cCYgA_@oAu@aCm@gBw@wBMYi@qAi@gAg@eAu@{Ae@}@k@aAy@uA}@qAm@{@]e@kA{AaKsMcAqAi@q@e@m@mAaB}AwB]g@a@m@i@y@]i@MWQY[i@cAiBi@cAe@_A[q@g@cAq@}Ac@eAiByEwCwH_CiG}AaEWq@Uo@Yw@[_AkAoDi@cB{@wC]kAg@iBmDgMq@cCaB}Fe@eBq@aCe@cBo@}Bq@_Co@aCg@eBi@eBUq@Uq@a@gA[y@Um@Se@[s@Ui@[o@u@}AWg@[i@OWc@y@e@u@m@}@]i@a@k@s@aAw@cAi@o@g@m@]_@m@q@s@q@_A_AmBgByBoBgAcA_@_@s@w@o@u@W[k@s@q@_AYa@MSU[w@sAeAiBsA_C]g@i@_A[k@OU[k@k@_Ay@uAi@}@OWi@_Ak@aAeAiB]m@w@uA{@wAu@uAuAaCUa@c@w@u@mAm@cAcBsCy@wA{@yA_CcEcBwCyAcCiAoBe@w@i@}@_@o@}AsCi@_Ag@aAeAoBcAqBi@cAw@_BkAeCyAaDaAuBc@aAg@gAq@yAaAsBs@{A_AuBs@}Ae@cAeBwDoBmEcA{BkAeCy@kBiAcCaBoDyB_FoBiEgAaCyAaDiC{Fm@sAYq@s@gBa@iAw@{B{CwIyBoGQk@g@yAWs@]y@[s@_@y@[o@Wg@Wc@Yg@s@kAgAgBg@w@aDgFmAoBUa@S][g@_@s@Q[_@u@MWO[y@cBSa@mAqC{@kBa@_AmCaGgB}D{@qBe@aAy@iB{@mBy@kBk@uAc@_A{@oBuBwEo@uAgDsHaDeH[w@[u@[u@Uk@g@sA_@aAyAeEiBiFyAcEYy@c@qA]aAgA{CSi@e@uAe@uAgBcFwBgG{@cCi@yAi@}Ag@yAg@wAYw@sAwDsAwD_DaJaAoC}@gC[{@Yu@O[Ui@Yo@MYGK[s@Ue@[q@Ua@KSo@gAS]mAqBoAsBq@gA}@yAq@eA}AgCeDmFmEiH_BiCc@s@k@aAQ]]q@Sa@Ue@O]Uk@a@cAWo@Yw@mAoDk@}AyAgEcAuCkBmFg@yAwAaEm@gBgA}CmH{S_AiCu@wBg@uAsDoKUo@EM[}@q@iBw@aCkAcDeA}CiAiD_AwCe@{Aa@oAa@sAk@iBe@_Bc@}Ai@iB}@aDe@aBsA{E_@sAUw@g@gBi@kBkAcEaDgLuA}EgC_Jg@iB[gA]kA_@qAw@}Bg@yAKWWq@i@qAO_@u@aBg@cA]q@e@}@wDaHeAmBiBeD}AuCe@_Aw@sAgAqBoBqDs@oAyDeH_AgBk@iAYk@Yq@Wo@[u@a@iAq@yBQo@Ss@Qq@Mo@Ke@YuAOq@c@uBcA}Ek@oC[_Bq@aDaAyEIa@[kBMu@Ku@G_@K_AI{@KqAGy@?AGw@AYGuAEuACuAGqEAmAGiEG_DE}DGyDOuJMwJOwJOwJMuJ_@_WC}B[eTCaC?GEiCM_JCcBAa@IwGUqPMyGIgGGaFCqACaCG{DAmAAc@QyL?_@EkCCy@CiBMkGEgAKoCMoCGgAQyCAOImASeCQ}BE[?GEa@YwCg@_FKeA{BcTy@wH{@qIa@}Di@{EYqCc@gEC[k@wFOkACOKw@YaBMy@YuAG]ACIc@eAgEu@{BY}@e@qA{@wBYs@Wi@Wi@Q_@g@_Ai@_AmAoBWa@q@_A]e@{@gAa@c@{@}@a@c@s@s@_@][Yq@k@w@m@e@]o@c@a@Yg@[o@]g@Yi@Ww@_@mAi@w@]yAk@}IsBuAWkFiAKCaDq@c@KqDw@eBa@oDw@aDu@{Bg@gH}AcB_@yA[iBa@UEiAUYGkHcBkAWkAYsAYuAYiDu@sAYkB_@iBc@_B]OEICKCGCKEkAg@a@QYOUM[SYQOMUQUQe@c@YYWY_@g@OQMSOUSYa@w@KQOYM]Ys@Sk@Uq@[mAWaA[oA}AcG{K_c@Qs@IY]kA_@iAa@iAe@iAe@eAi@eAy@sA{@qAcAoAo@u@u@y@aAeAs@y@cAiAu@y@}@cAq@u@k@o@a@a@MOKKc@g@cH}Ha@e@a@c@aBkBuDgEoC{CmKkL]_@[_@wA_B{AcBkE}EeBoB_BuB}@kAe@q@[e@m@_Ay@uAEGw@uAi@cASc@k@kAaAyB{@uBQe@KY]cA_@iAe@wAq@cCg@uBc@sBc@yB]sBQiAYsBYgCEe@SuBKsASiDIyBGuBEgCAoA?iHAyJ?aE?mD?{IAqF?q@?q@A]AuBEuCCuAIoCMmDC{@IgBSyDIwAQcCe@qFIeAi@gFMeA_@yCo@sEa@iCo@oDKk@Ie@Ow@]gBs@eD[uAmAeFOc@m@_CuAyE}@uCk@cBg@uAg@wAw@uB}@{Bs@eBaBwDQ]sBgEGMu@yAy@}AiAsBu@oAiAkB{BiDi@{@cD{EoEuGmEuG_@i@OWuCgEaEcG{@qAcAyAi@w@]g@gEoGoBuCyA{BkAkBaAaBs@kA}AuCwAqCk@kAi@gAw@gB]w@}@uB_A_Ca@gAaAiCuAyD_AkCqAwDiBkF[aAkDyJ_D_JuCmIkCwH_BoEM_@u@wBiBiFaAoC_BuEi@_BSq@Qo@WiAOu@Ms@G]EYKu@Ge@Gi@Gq@I}@Ca@KsAAi@Co@AgAAk@?q@AcEAeD@QCyJAwJAwC?]Ak@EyCEwBK_CK_CMqB?A[aG_@}GIyAg@uJYaFOsCi@uJSiDS}Da@oHEk@c@sIQ_DQsCYyFC[C[Cg@Cg@kBk]U}DYkFc@aIYuF[}FMsBg@uIC[AW?G?G?E?E?S{@kOGmAK_BEq@Gy@Iq@Ei@G_@CWE[G[Ie@GWKc@Ki@Mg@Mc@GSEQK[M]KYGSMYISQa@O[Sa@[o@Wa@Wc@S[OQY_@Y_@]a@UUKMOMQOQOOOe@][Uq@c@SMc@U]QSK[Mk@Ue@Ok@Os@Qe@Ii@Ga@Es@Eg@EqAEyAGg@As@Am@Ay@AqBIEA}AEA?wCKyBGuAEaAEuACmAC{@Cm@Cm@Cg@E]C]Ck@ESCWCSCUCSCYEc@G]G[G]GOEUEm@Mq@Om@Qq@QWI]M[KqAa@i@U{@]y@_@e@SUMQIo@_@o@[KGIGKEIGa@UECUO_@USMUMSOOMa@[OKCCSOQMKKWSKIOOQMMMUSMKYYc@c@YU[[[]QQQSc@g@SWi@s@c@i@e@o@k@y@k@{@m@_AWa@Wc@IOYe@Wg@KQKSGMKS]q@c@{@Wo@Ym@Yu@Ui@Ws@Wo@M]M]Oc@Oc@GUEO]gAUu@e@gBe@oBa@kBc@}BY{Aa@kC]eCWeBWcBe@}CqA}ICM[{By@mFk@{COu@k@oCU}@k@aCKg@e@qBi@wBm@iC]wAi@}B}@qDMi@gAwEk@cCsBwIwByIsAoFe@eBMe@e@eBc@_Bg@gB_CsIuAeFi@mBGSwB_IK_@sBsHeAuD{@}C}BsIk@sBGSkAkEi@sBUw@{@kD_@sAI[Uw@i@oBUw@i@cB[cA}@_Dq@}Bo@cC{@cDg@yBSmA_@oCSgBIeAG{@GoAEeAAsACaA@wA?iAHeBF}ALgAFcAFq@Fk@Jy@D_@TeBLs@d@wC`@_C^_CjAkGLy@t@yE~EaZv@sEF]bBcKx@aFb@uCvCkQV{Ah@iDj@iD\\\\kBb@uCx@{EdAqGb@aC\\\\uBBS`@eC`@eCXeBRgAJk@Jc@Pu@TaARs@Po@Tq@Rm@JWVq@^w@d@_Aj@gAf@}@h@{@h@_Al@cAtA_CNY`DqF~AuCrAcCz@yAtAaCbAcBjAsBl@eA`@u@\\\\q@l@uAZy@Vs@X{@Ro@T}@XiAXqARmANcAHk@Hm@Hs@Fu@Fs@Dy@Bk@Dq@@q@Bk@?c@@m@?qB@oC?mA?_C@I?gD?{@@sN?}JB_R?iPA_EAsAGoAOyCI}@Ei@Ee@Go@UuBc@kCa@{BgEyTuAqHEU[}AY{AcAoFWwAwBeLoFmY{@_F'}, 'start_location': {'lat': 39.6210504, 'lng': -77.78912729999999}, 'travel_mode': 'DRIVING'}, {'distance': {'text': '19.1 mi', 'value': 30716}, 'duration': {'text': '17 mins', 'value': 1040}, 'end_location': {'lat': 40.4247242, 'lng': -76.5243993}, 'html_instructions': 'Keep <b>left</b> at the fork to stay on <b>I-81 N</b>, follow signs for <b>I-78</b>/<b>Hazleton</b>/<b>Allentown</b>', 'maneuver': 'fork-left', 'polyline': {'points': '{h_uFpy~sMO[CI{@wE}@uEQ{@Qq@Om@a@qA[aAM_@O]Um@[s@Ug@Ua@O[s@kAq@cAg@q@s@{@OSuB}BcAgAwA}Aq@u@g@i@SUy@{@wA_BuA{AUUq@s@yGkHoEeFyCcD_DcDKK]_@i@k@wA{AmAqAkAqAk@m@]a@i@k@c@g@QUi@u@]c@Y_@Ye@uCgF_BaDQ_@KUM]KWQa@K[M]IUGQGSUo@YcAUu@Qq@Qo@Ke@I_@Qw@Mi@Ke@Mo@Kc@I_@Ke@I_@GYI]G_@Kc@Kc@Ia@Ke@I_@I_@GWMk@Ke@Ki@Kc@GYMi@Ic@Ke@Kc@I]G[I[G[I[ESKg@EUI_@Kc@G[I]I]G[GUI]G[I_@I_@Ic@I_@GUG_@I]EUIYG]Ie@G[Gg@G_@Gc@CYGm@Eo@Eg@C{@AUA]?[?YA]@Y?a@@Y?a@Be@B}@HgBFuAFgAFeADmAJoBHkBH{AD}@FwAFoAFqAFuAByA@q@?c@?W?QAW?a@Ae@Am@Ck@C{@ImAKqAOuAM_A?CUaBQwACWCUG]CWAGGa@Io@E]Ky@Iq@K{@K{@Im@Io@CSE]EYmAuJeAkI[cCy@wGQyAAIYwBEWUiBSeBE_@WgBMiAEUMeASaBKy@E[MeAC]EWMmAMkAQqAOoAQuA]uCWmBMkAOoAKcAMqA[eDKuAWgDSeDIeBM{BI_BKuBq@sMKuB]{GKoBMeCO}CKiBI{@Ek@AMKy@Iu@EWMy@G[EYI_@CQKc@EQKc@I[EQK]GSGUIYIUIYO_@GQWo@MYM]Ug@Q]Ue@[k@Uc@S[]e@OSQUEGEEQUOSOQOQOQQQu@u@eAaAc@a@w@u@kCcCa@]SQOKSQa@a@QOa@a@WU[Ye@c@c@a@a@a@SQUS][UUKKa@_@g@e@_@_@a@e@o@w@OSOSSYMO[e@QWi@{@[i@]k@ACa@w@e@_A_@s@e@}@a@w@[o@IQ[m@k@eAYk@a@w@_E{H]u@k@gAYi@MW]q@]o@Uc@_B}C_B}C}BsEo@gA]q@c@_AACS]eEkIy@aBmEqImCiFaAoBMY_@w@_@y@O_@IUUq@M_@Oi@Ss@Sw@Ia@Ke@G]CSIe@Ks@E[E[E[C]E[AYa@aFQyBcA}Mg@cGQqBGw@Gs@MmAIm@SsAUiA_@kBW_ASq@K_@M]a@gA[{@s@yAGMS_@]q@qAyBsBeDoB_DoHsLgDmFKSo@cAs@iAo@eAk@_Ac@s@y@sAi@_A_BcCc@s@aA}AmAoBsDaGiByCy@qA{@uACEOWm@aAk@_Ag@u@w@qA[m@k@eAo@mAiAaCg@mAs@iBg@sA_@gA[cAa@sAOk@m@{Bg@uBMk@Ic@]gBQaAMo@]aCCSi@qDIq@UaBW}AUiB{BaPa@wC_@mCSoAG_@Ie@WsAKi@]}A[wAOu@EMCK[gAOk@kAoD_@iAgA{CYq@Qa@EKSi@]u@iB{Ec@gAEKYq@e@mAc@iAg@qAa@cAc@eAe@kAKUqBmFm@{A]_Ae@kAYu@gAqCy@sBaAeCw@qBw@mBq@eB{B}FSe@a@cAkAiDu@wBs@aCa@yAAAm@}Bo@gCm@oCm@eDuB_La@uBYyA[gBm@_Ds@wDe@cC[{AMm@?AWiAOm@Kg@k@uBQo@_@sAa@sAk@oBiCkHwAaEk@}AM_@c@kAoAqDq@gB]aAm@eB[{@w@yBWs@sAuDCEY{@q@oBg@uAsKoZoAiDy@aCc@iA_@iAi@yAu@sBaAmCiAaD{@_CcAuCqAsDkAgDo@oBk@iBUw@K_@W{@[kAk@uBU{@[qA[oA_@_Bi@aCg@qBa@eBk@aCq@uCk@eCo@kCq@qCiB_I{AoGmAgFi@}B}@yDcAeEw@gDs@yCy@qDQo@U_AWkAWgAWgAeBiHQs@So@[kASq@Ma@c@qA_@iA[w@u@kB}@qB{@iBaB_DaB_D_B{CmEmIwBeEgDoG{BkE_EwHyAsCq@qAk@gA_ByC{EgJwAmCq@qAsAiC_FmJa@u@yAoCi@eAs@uA]o@u@yAk@mAUk@ISM[KYUo@Qg@Me@Qm@Mc@Ok@Om@Ow@Qw@SkAM{@AEGg@Gi@MaAEk@Gs@Ek@Es@Ca@GeAAc@Aq@AmA?kC@eE@oF@gD@kA?kA@qD@qD@{DD_N@{A?kBBgGByHBgJ?{BCcAAuACgAEeAGkBGuAGw@I{AKiAI}@WgCIu@Ga@Kw@Io@My@Mw@SqAOs@UoAe@sBg@aCwDeQiFiVkHu\\\\iAiFQu@_@gBQy@WkAWoAYoA]kBWqAMu@UmAMw@Mw@SoAQqASuAKw@OgAM_Ai@_EeBsME[Ku@YqBU{Ac@uCmBsN}@uGaAoHyAiKi@sDm@qE_@mCm@qE'}, 'start_location': {'lat': 40.3062179, 'lng': -76.840092}, 'travel_mode': 'DRIVING'}, {'distance': {'text': '0.6 mi', 'value': 1045}, 'duration': {'text': '1 min', 'value': 34}, 'end_location': {'lat': 40.427255, 'lng': -76.5125295}, 'html_instructions': 'Take exit <b>89</b> for <b>Interstate 78 E</b> toward <b>Allentown</b>', 'maneuver': 'ramp-right', 'polyline': {'points': 'omvuFndarM?Q@G?G?I?GAMCK_BuLgAiI_@oCWqBgB{MmDyW'}, 'start_location': {'lat': 40.4247242, 'lng': -76.5243993}, 'travel_mode': 'DRIVING'}, {'distance': {'text': '50.3 mi', 'value': 80910}, 'duration': {'text': '46 mins', 'value': 2755}, 'end_location': {'lat': 40.5857855, 'lng': -75.59844319999999}, 'html_instructions': 'Continue onto <b>I-78 E</b>', 'polyline': {'points': 'i}vuFhz~qM{@mGc@cDQsAkBgNo@yEc@cDYuBSiAWsAe@cCGWMg@_@_BQs@Su@]gAq@{BM]k@aBWo@{@wBYs@Yk@yAaD_CgFyAaDs@}As@_Bg@cAIUiB{DmAmC_AqBWk@s@}AmAmCoAmCgAeC_CgFoAmCeByDmAiC}@uBo@_Bm@_Bu@sBQk@Sm@g@_Bq@_Cy@yCy@{Co@}B[mAcKg_@yC{K{DsNoBkHo@_Co@_Ce@gBUw@c@cB]mAe@cB]qAQs@Ss@c@gBWoA_@gB_@kBi@_DKq@UwASyASwAQgBMoAMsAYiDo@qIGy@UkCMoBUoCWkDg@uG]gEk@wHg@uGq@sIEg@?EEk@Gu@q@qI_@_FSmCSmCGu@[}DMeBIkAUmC[eEKsA[aEm@aIc@yFC]CWGy@Gs@KwAMuAKyAOkBKsAIqAIsAEs@Ey@Ac@Eu@A]A[Cm@Ae@Cu@A_ACwACqB?_@?w@?g@?k@?wA@uA@w@B}@@q@By@BoAF}AFwANoDVcGnAqYDo@r@mPHiBPcERgEVcGPgEBu@By@By@@]@y@@uA@uA?o@?g@Ay@?i@A[?k@CsACc@EqAC{@Es@Ew@A_@IkAGq@Ek@Gs@Gk@Ei@Iw@Ky@a@gDg@uD[eCS}Ac@gDm@_F[iCWmBo@}Ea@eDYwBaCqRSaBCQYuBqEk^q@eFYsBg@mDg@aDKm@[oBy@uEi@{C_AcFm@iDu@yDu@aEqB_LyBqLuDqSuAuHoCgOGYKi@AGAEkBeKcBgJ_B}IiAmGIa@Ke@Ie@Ic@qAoHqCgO}@cFIa@UqAUkAMw@QiA_@oCMoAU{BEe@YkDAKAKg@}F]{DWwC?GIs@m@eH_@gEe@{FIy@}@wKEc@Iy@CYC[C[C[C[E[C[CYC]C[E]CYC[C[C[C[C[CYC]C[C[E[C[C[E]C[CUE[Iw@QuAEYCYG[E[EYEYG[E[GYE[E[G[EYG[E[Ow@E[SkAMu@cAmGUoAYkBYaBe@}CuCeQYkB[kB[kB[kB}@uFc@kCa@cCKs@UqAa@gCQcAOeASiASqAUqASqASoAMu@Mw@Mw@Mu@Mu@Kw@Mw@Mq@SqASuAMw@Mu@QmA[mBSqAEYMw@Mu@SmASqAYkBMu@YgBQmAMs@QmAMs@YgBQoAYgBSmAIi@m@yDcD{S}A{JQeAEYEYEYIg@Gc@Is@a@aDScBGu@Iu@Gs@MqAUeCYaDm@iHkEof@eD__@aAeLa@kEKsAw@uIs@iISwBE[CYEc@U_CS{AUsBM}@M}@AMq@wEq@sEyBiO[yBYiBw@}FYkBi@qDsBuNkF__@EUi@qD]_Cs@}EOkAoAwIc@yCSuAm@_EWqBqO{eAqA_J[{BQmAQqA_B}KSoASsA_@kCqCyRSqAeAkHQkAOeAQkAs@{E_BaLWcBQoA]aC}ByOcBqLQgAy@uFk@}D?G]{BWcBWeB[wBUaBs@}EU}AQoA[yB[uBSqA[{BOcA]}B]eCc@sCQuAc@qCY{BWiBu@gHU}BOgBKgACYYkCAQEYu@uH_@aEOwA]qDGm@m@mGi@qF[eDO{AO{ACUE_@Gg@MqAKw@Io@QyAM_ASyAYyB{@oGk@cES}Ak@_EiBaN_AgHUcBg@uDMcAYsB}@wGi@cEU_BgAcIc@iDEY_@sCKq@EYa@yCYyBYuB{@uGMw@q@iFaAeHWgBcDoV_AcHUcBc@mDU}AE_@eAuHg@uDo@}EiAoI{@sGoBgOaCcQMeA[{Bc@gDKs@}@}Gg@sDw@}FM_AKw@e@kDuD}XqAsJq@gFWcBc@kDUcBUcBa@sCUcBeA}HWkBsAaKg@sD]oCu@sF[{BUeBg@cDYeB]sBa@uB]iBUgAUcAWkAWkAU_AWiA{@eDQm@o@aC[gAeD}Ls@gCsCoKMa@a@{ASs@wB_IkAmESu@i@qBk@qB{@_D_E_Oy@{Cs@kCYeAe@{A_@wA}@cDq@kC}@aDqA{EmFaSQk@]qAw@sCc@_B]uAeC_JaDoLaDuLgJa]Ss@kAiEsRos@Og@AE?AKa@wDgNq@gCoAwEiLob@[gAgEyO}@eDqNuh@}BoIaJu\\\\IYAEK_@uDcNiGiUkGmUkAkEQk@I]i@mBYeAoFaS_HeWuAcFuB{HYcAm@}Bg@cBs@eCSw@GUKa@e@eBMc@uBsHgCuJcAqDEOAAAGCKo@_Ca@wAuCwKy@oCIUGUs@iCAAEOQo@wDgNmAqEIYKe@]yAYoA_@qAIWSy@EMsFoSe@eBAEe@eBW_Aw@yCSs@k@uBCE?Aw@yCI[i@oBiAgEcC_JYeAeAyDcQqo@GWCGI_@{@{CoAuE_CyIo@iCu@kDm@iDi@{DWmBSoBM{AOqB[sFGu@KsBWaEUgE]_Ga@aHY_Fq@cLw@wMI_BAUIkAGaAk@sJSiDQeD[gF_@wGm@oKq@yKIwAAEGoAe@oI_@cHe@yHIqAE}@wCig@{@eOIoAMcCe@}HOgCQ_DScDOkC[oFGeAIoAKcBMqBMyBMkBQuBIcAI_AI_AK}@o@aGSaBIs@SoBUiBYmCS_BQmBMqAGw@M}BEs@C_@EwACw@Cy@Am@Ao@CgBAmD@cADeCBwABy@LoCBa@Dy@Fw@Fw@Fy@Fw@Hy@Hu@B[Jy@TmBXmBDWRoAT_B\\\\qB~@gGZgBTeBBIBS^cCl@wDJg@ZuB~Hig@h@gDXmBJw@NsAJqALcBHsB?SDqA?w@@_BAkACo@Ag@AYAq@QsCg@wFmAeLMyAUoBUmBWoBQqAWmBYoBQoAYkBSoAMy@YmB[mB]oB[kBWsA[iBIg@g@qC[kBOw@SoAUqASsAQmAQuAGe@E]MsAUmCKsAKuAQmCG}@{F_{@SgDGwACy@EuAGmCGgEGiEEgEGeDGgFGiEGgEGgFGoDEkDIaGIiGAmAAKAyAAg@?_@?mA?wA@uAB_ABmAFqBHqBDy@LiBPaCLeAxDe`@NuALuARmBHw@RoBVoCLqAJuADs@HuADy@Bs@@]B_@Bq@@k@BqA@e@BwBRkWHqKBeEDgFBsC@q@BkC@wB@sBBaB@}@@iB@MByBH{EFiDBgBTmMBoBDoBDmCB}ADmBBmBFiDDwCVkOFiCBmBBcA@s@?OPcKFkDFgDDeDDkBFgDFkDBsBHgEFmDFiDFmEH{EFgDDmDBmD?kCAgDCsBCoBAy@CgAEcBKiDKqCMkCIuAKsBSkCMmBSkCKaB_@}EOaCa@{FY}Dw@{Kq@iJk@kIOsB[}EEa@OqBOoBG{@IsA[kEOqBMmCIsBEuAC}@Aq@Ay@?]?i@AaDAy@?{@AyA?w@Ay@?y@Ae@CyIAiA?uAAu@A_@?YCy@C{@Ew@IsAKw@Iw@SqAMu@YsAYoA]_BAEe@kBYoAI]YkA[wAOk@YmASaAOu@CKQaAKm@OoAE]Iu@Gw@Ew@Gu@C}@EuAA}@?u@?y@@u@By@BsAD{@FwAHkCFuAFsBLkCLmDJmCFsBLiDRcFFsBJuBFqBL{C?OT}FLiDHuBDuAHoBJoCHuBHkCJqCHoBBs@HaC\\\\}Ij@sOJiCNkEPcFJkCHsBT_GHmDFkDDuB?u@ByABsBBoCBqBF{GFmFDeEDmDDoDBkCDyADuAHqBB]FoANqBL}AVaCTuBRoBZkCTsBRiBNsAToBRsBPuANsAPmBHeABOLyALgBBe@PiCLoB\\\\gFHsAJqBNkDFwARgFTcFDwAFwAV_GPiELiD`@sJPiEHcBDgAR{EHqBPgEF{AB}@@e@D_BBsB?yA?sA?w@A{@As@Ay@E{AEoAGwAE}@IkAIwAMsAGq@Ee@Iu@KaAIs@I{@QcBkA}Kc@aEGg@_Eu_@aAkJaBqOq@uGiAsK}@uIKw@UqB]cD]kDUmBCYMmAOuA}@qIwAcNOuAOwAi@_Fg@}EwDi^g@cFe@oE[aDm@wF[wCa@{DQkBUiBo@iEY_B[}AUaAAGOs@a@aBACQu@i@iBo@wBw@aCiAoDo@sB]aA'}, 'start_location': {'lat': 40.427255, 'lng': -76.5125295}, 'travel_mode': 'DRIVING'}, {'distance': {'text': '56.3 mi', 'value': 90563}, 'duration': {'text': '51 mins', 'value': 3058}, 'end_location': {'lat': 40.64361410000001, 'lng': -74.66000389999999}, 'html_instructions': 'Keep <b>left</b> at the fork to stay on <b>I-78 E</b><div style=\"font-size:0.9em\">Entering New Jersey</div>', 'maneuver': 'fork-left', 'polyline': {'points': 'e|uvFfillMQ[ACCEi@aBmLq^i@eBOg@Og@Ok@Oy@Mu@Ga@Is@E]G{@Cm@Aa@Ae@AQ?s@?[@s@Bc@FgADe@H}@Js@\\\\wBrAyHj@eDVyAf@uCn@wDxAmIl@gDRkAF[PeANu@Ji@p@gDv@kD|@iDbAgDZcAxAgEhByEfIiTXy@bAgCvGgQbBwEPk@b@}Ap@kCl@mC\\\\eBXeBVeBJy@Fa@LeARqBPaCFcA@?@U?AB_@?C?CBi@HyATiEVaF^}GB]De@BYFk@Fk@F]Js@Ji@TcA@G@CBOV{@Pk@|BoGTo@lE}LpBsFd@qAVu@jCoHvBeG~EeNPi@FQ@AHW@ADMBIBGBGPe@nD}JlAoDv@eCl@uBj@}BDOPu@R_A\\\\iB^wBVaBNaAToB^mDJoANuBJsBJeBLuCFuAFkB\\\\sGNyC@IXgG`@cJJqBJmBFaBNuCFoAB]Bi@Dw@v@mPr@kOXiGh@iMRmEZiGf@{KNaCJkCBg@?CJaBNuD\\\\eIZeKL{CNwDZsGFiARwE@MPyDR}DRwD\\\\kF\\\\_FRyCf@sKLgC?A@[JwBBe@Bc@@Q@SDy@Dy@FqAFoAJuBHsB@Gd@sJF{AD{@JyBJyBVoF?Ef@eK~Ae^~B}f@TaFHwAN{BLoBJyAReCPmBRkBjA_Ll@{Fd@aE\\\\eD^eDbAmJBYHs@LmADa@NsANqANsARoBXiCD[RoBVcBd@uC^kB`@kBd@iBf@iBh@eBxAmE`AyCb@uAb@sAj@eBt@}BtAeE^kAr@yBj@eBj@eBRq@Pq@`@mBZqBLeAJ{AFaB?g@@i@?o@Aa@Ao@GeBI_AQcBOaAe@}BW_A]iA[y@a@aAg@aAsAaC{AmCKY}@}Ae@w@_BsC_AcB{@{AeBwCq@qAmCwE}BaEgEqHyCmFeAkBgAoBcBuCm@eAWe@i@aAcByCi@_Aw@uAeAkBuAcCw@uAeAkBsAaCi@cAaAoBe@eA}@qBq@_By@wBk@cBu@yBi@cB]kAe@eBSq@Qw@Om@y@uDq@eDG[g@}C[oBWmBiAoI[cCsA_KWkBMw@E[Ou@WqAOs@o@_CWw@Sm@a@gAYo@KU[o@k@kAU]OWkAeB_AmAoAuA]]IGa@_@w@m@e@[m@a@g@YoAq@oAi@sAc@i@OaAU}@S}@OeFaAyGmA]IUEe@Mu@Qe@KSGqAe@i@SoAm@mAq@e@Y}AiA{AoAUWm@m@aAiAoAaBiAeBi@cAs@wAYk@Wo@Wo@Wo@_@iA]mA[kAQs@YoAg@aCuCoNkAwFqBuJsB{JqAiGy@yDy@oDWaAYsAg@sBaA}DqBuHsAeF{@aDi@_C]yAScAOw@Mu@]mBYmBc@eDgAiIeBqM}@sGoBgOEUMaAQoAOoA?AS}AKy@KaAKuAOoBM}BGmAEuAE}AEcB?yAA}@@eA@yB@}ADuAHiBJgCLaCH_BH}APcEJ}BbB{^HqADcAFwADgABu@BgA@g@@k@@qACiFAi@AM?OEkAIuBMoBGw@Gw@KeAScBQqAOeAWcBUoAGYMi@e@uBc@eB[gAq@wBm@eB_@_Aw@gBy@kBs@{Ae@aAk@oAw@_Bs@}AeAyBgA}Bw@eB[s@}@wB[w@_AgCo@kBSm@Sq@Ww@e@gB]kAi@sBOo@GWOq@UgAa@mBaA{Eg@gCm@sCm@{CQy@o@cDg@_C_@aBk@wBY_Ae@yA_@eAUm@Oc@Ys@o@wAUi@KSi@eAeAmBk@aA]g@k@y@_BwB{AgBe@e@]_@sBmB_@]e@a@k@e@cB{AwEeEuAmAs@o@sCeCiB_Bw@u@iAcA}@y@UWcAcAiAiAa@e@{@_AsA{AgAoA}AgBcAiA}AgBs@{@_AeAm@s@i@m@aAgAsBaCy@}@{@cAq@u@s@w@gAiAaA_AuAoAw@q@kB{AaBmAgAw@kAu@eAm@eAm@eAm@iAk@y@_@mAk@s@]aCiAkB}@wAq@w@_@wAq@eCkAwAq@_Bu@{BeAe@UcAe@iAi@{@a@i@Wo@Yo@[kB{@qBaA{@c@{@e@a@U[SUMOMSKq@c@c@Yi@_@e@]aAw@c@_@a@][[_@]a@a@c@e@CAKKo@s@o@s@_@c@q@{@SWq@_AYc@]g@[i@_@m@qA}Bc@y@]q@]s@c@aAc@_A}@wBYw@Wu@c@oAi@gBmAaEs@yBUu@_AuCUs@i@cBu@_CgAqDyBeHY_Au@aCaAgDu@iCMe@Me@Qu@I[Uw@K]Og@Uq@_@gA]eA[}@Ok@Us@c@oA]cAi@eBa@sAc@sAo@kBKYYs@i@{Ak@uASi@o@wA_AuBs@yAs@{Aq@{A_@y@gAcCaAwB{KmVsA{CaBoDmCgGeBuDw@_BUg@[i@a@s@[i@_@k@a@m@W]cAqAw@}@Y[mAkAq@q@yBeBoBkA{Ay@s@]mAg@mAc@gCs@g@KyBg@{@UcDq@iA[_ASyA[u@QoBe@e@OYI{@[[M]QQI[SQK[QUO]W[Wc@_@][SSs@w@m@w@W]u@oAo@kA_@{@w@uB_@mASw@Oo@ScAOaAIg@Gg@KcAS{BOoBm@}Hq@{IcAeMEe@W_EUiCc@uFWcDQoBMkAMqAOkAe@oDa@gCUwAKm@WuAOw@i@eC[wA]yA}@_EsCoMSaAc@oBqA{FgGkXu@cDw@cD{AuGc@qB]cBQeASqAMy@OeAOmAS{AKeAGo@Iy@OuBMeBIoAI_BGsBGkBCuAA}AAwA?o@?m@@aB@mC@wB@wB?s@@o@Bs@@m@Bk@B_@JuAJiAJw@Ly@Lo@Hc@FYJc@Nk@\\\\mAPi@Tm@LYN_@Xm@Vi@f@u@R[j@aABEV[^c@n@s@~BsBhA}@`Au@f@c@\\\\YlAaAlAgAjAgARSRSpAsARSz@s@^[nAaAf@]PMn@a@~@e@t@]b@SXIn@Uh@O`@Kp@Mv@On@K^GtAUdAQz@OdAQj@I`AQnB[|B_@xAUfBY|AW\\\\Gb@IdBYnASvAUnASvAUtAUt@Mh@KhAUfAWbAWx@Yl@Ul@Ub@Qn@YdAi@t@c@j@]x@i@j@a@hA}@NMf@c@f@e@b@c@^a@d@i@h@o@TYt@_Ax@mAr@iA\\\\m@`@u@h@cA`@{@Pa@Xq@n@aBl@gBVw@V{@V_AJg@Po@Je@TmAN_APmAJ{@Hs@Hw@HoAD{@Du@Bw@Bm@?i@@cA?aAA}@CiAEuAMqBEm@Gm@I{@Is@M}@OcAIe@Ow@S}@_@{A_@sAM_@y@mCe@}AYu@Si@w@uBiAqCs@}Aw@aBcAmB{@_BgAmBwBgD{@qA}@qAAAm@q@uAgBi@o@QSmBsBs@w@y@w@mAgA[Ym@g@aAw@iA}@iAy@kAy@aBcAiAs@]OoDkBk@W]OsCiAmAc@cBk@aBe@{Ac@y@Ws@UaA]s@[qAq@_@Uy@i@m@g@IGk@e@y@w@oAwAm@w@c@o@g@w@]o@MUKQ_@y@?AIOUg@M]c@kAg@{ASu@Og@GWQw@EUEUAA?AKi@QkAKw@OuAUoCEi@C[Ce@QcCg@gHIkACMc@uGyAoS[mE]cEEo@WeDAQCYM_BOwBIeACc@ImASyDM_DC{@Ao@EoACoBA{A?g@AqB?oABcC@kA@m@BiA@]H{CHeBDkAJ}AVyDRgCV}BPcBNsATiBp@wEBSHc@XyAp@kDn@sC\\\\yA@En@kCfAqDr@yBRo@p@mBZw@Tk@Xs@@Cj@yA@El@uArGqP~CaIXw@r@qBx@eCZcALa@n@sBbAqDh@uB\\\\sAR{@ZqA`@mBd@eCHc@v@iEPcAl@uDZwBZgC~@uGVqB^kCL}@`@wCh@wD?A`@gCNgAJw@Fk@b@}CJu@pAmKjAmLd@_FPqB?CBQJaAHy@Hs@XyC@Gr@_HH_ADe@NaBDi@@YFw@FcAB[@UD_AD}@FsB@{@ByC?q@?m@EoCEcBIyASmCWaCUeBM{@c@{Ba@gBk@_CcA}DEMIYI]i@sBUy@Sy@i@uBUeAYqAYeBKu@MaAKeAIcAKuBGcC?cDDoADoA@SBi@@QF{@RsBL{@Jy@R}@PaA\\\\wAZkARu@Po@Z}@^aATm@Zq@j@iAt@iA`@k@fAwA`@e@j@m@|@y@x@m@z@i@p@a@|@a@b@Uh@U\\\\Qf@Sh@Wd@Uj@]n@]n@_@h@[j@[j@]p@_@f@]`Ao@vAmATU`@a@f@i@X[z@cA\\\\e@d@s@b@q@Zk@^s@HQb@_AXm@Pc@J[HSJ[La@@ADMPq@BQNm@d@wBd@qCJu@NoAJeAJ}ABo@FyABw@Bo@@m@@_@FeCH_DFmBFcCBo@D{AHiCPsGF{BL_ELaDTkHLqDJeDBu@FmAD}@D{@HoAJwAHcARkBXaCHs@NcALeA\\\\uBTsA\\\\mBXoAPs@^{AR{@J]T}@R}@V_ARy@b@gBb@gB`@{AZmAZqAHa@Le@^yAXkA^uARs@Rs@RaANs@X{ARcAX{ABMN}@v@_Ef@mCb@mCReAPaARaAPaA\\\\eBl@aDb@{B\\\\iBd@eCZaBh@wC\\\\cBTeA\\\\cBTsAt@oDh@gC|@iD^uAf@eBdAsDl@qBr@yBf@aBlAyDpAgEjA_EhAuDjA{DdAmDv@iC`AaDhAqDv@kCt@aCr@aCr@sCv@wDj@aELgAh@eG@OH{AJcC@}@@}@?s@?uAAeB?k@AUA]Cs@SuDKsAMuAKyAMyAMyASmC]gEKsAEk@Cm@Gy@ImBAGC}@Cu@CuACuAAsB?sB@uBBoCDuAHqBFsAJsAHsALwAF{@Fy@NqAPoANsALw@PqAJw@PqARsA^eCPgARoAPqAL_ANqAHu@Jy@F}@HiAPgEF{AJcCLqETcHDuBHwCDwAHqBHsBFwAJqBHsALqBHsA@SNwB@OP}CN}B@MRmDRkDH{ATeDFsAXgENuCRkDLiCVcELcBHwANoCNqCXeFF{@B[HqAFy@HuALqBDi@FeAFyABq@D_BBsB@O@_C?C?E?iAEoECuAMgEA[GkAS{CCk@]sDGm@w@kGMs@SkAe@aCaAoEs@qCs@aCu@{B_@kAWu@Ws@?AUq@qAmDc@oAgAyCgBeFUu@oAsDeAwCg@{Ac@oAY}@EM]mAQk@m@aCk@mCe@iCQcAQgAO{@UcB[gCC[Iy@MsAIgAIaBE{@CqAAwB@{@@[Bw@DuAFwAJqBHyAD{@Dk@D{@Dw@HuAHqAFwAB[@]Bg@@o@By@@sA?W?u@?s@Aw@Cw@A]Cs@Ey@KqAIeAK_AKu@UwACQIc@Oy@GUQu@YoA]iAeAeDW{@Oe@So@q@sB_@iAg@_B_@iAQk@_@mAI[[gAGWm@_C_@eBYoA[gB]iB[uBQqAc@wDi@_FGq@Ea@MiAe@oEg@wEMmAWkBSuAk@mDMq@Ic@WkAQy@c@kBa@cBy@eDa@aB]{Aq@wCYwAYwAWmAQiAWcB_@eCW}BUgCGo@McBG_AIyAIgBKyCIcCIoC[qIOoEQsEKwCIqBUkHq@eRe@mMCqACuAC_BAg@?kAAaA?_A@{@?_A?q@@cA@y@@}@@YBeBD}ABaA@aAB_AD{CDeCBoAB}AD}CDsCDsBHgEBsAHmEJsEH{FFkDDqDDmBDeBFeDH_DH_EBeBB{@@y@@i@@aADqA@}@@y@B{@@sABgBBcBDqD?sB?g@@c@AgAAiBA{AAo@CmCCiACy@C}@EiACu@C_AGiAKoBGcAG_AIkAGu@G_AOgBGu@Is@KkAUyBQwASaBYqBYoBKk@QoAe@oC_@uBa@eCc@iC{@eFmAoHoAkHeBcKw@wEo@qDIg@Gc@UsAM}@Ky@M{@K{@My@YcCEi@Ky@I{@Gu@I_AGw@G}@G}@Gy@KyBG{@G}AGeBGoBG{BCgBAwAA_A?uA?{@@kC@{CD}DFoB|@cUZeIZeJPuEHwCHyAPsEJsCPgFFcB\\\\wIFeBJeDDsCBmD?yBAiBGcEi@aUAc@Ai@MiEG{BEiBAaAA{@?k@A[?oB?uA?c@@oADaCHkCJiC^yERyBP}Ab@aDZwBb@kCpAgIRqAzAmJ`AwGx@{Fp@wE^aCb@mCnCuQtA}I|@gGz@{Fh@mDz@wF`@yCn@kFRgBPoBNcBXeEJiAHoBHoBJuDHwCFwCLgHLgIPsIFiEJuFFgDByADgBL_HLwGTsN\\\\yP^eTTsNL_G@_ANgHD}CHwD@q@@o@JcFBoB@c@D}BBwA@yA@wC?oEEaFQ}GOqDo@qQKcCO{DKqCKqC]mJYaHKoCEmBCgACeAC}@Ag@Ag@AiAAoA?iAAy@?}@?w@@_A?s@@y@?u@B{@@{@@u@?CVsJJoCDqABuA'}, 'start_location': {'lat': 40.5857855, 'lng': -75.59844319999999}, 'travel_mode': 'DRIVING'}, {'distance': {'text': '0.5 mi', 'value': 870}, 'duration': {'text': '1 min', 'value': 36}, 'end_location': {'lat': 40.6418509, 'lng': -74.6500735}, 'html_instructions': 'Take exit <b>29</b> for <b>I-287</b> toward <b>US-202</b>/<b>US-206</b>/<b>I-80</b>/<b>Morristown</b>/<b>Somervile</b>', 'maneuver': 'ramp-right', 'polyline': {'points': 'qeawF~_ufMJi@@E?EB_@JqBLoCTgFTaFRkENoDBu@Fq@Bg@Dc@Fg@B]F]D_@Jq@Nq@P}@Lg@Li@Tu@J_@Ne@\\\\aAXy@'}, 'start_location': {'lat': 40.64361410000001, 'lng': -74.66000389999999}, 'travel_mode': 'DRIVING'}, {'distance': {'text': '38.9 mi', 'value': 62564}, 'duration': {'text': '35 mins', 'value': 2107}, 'end_location': {'lat': 41.0224245, 'lng': -74.22453279999999}, 'html_instructions': 'Keep <b>left</b> at the fork, follow signs for <b>I-287</b> and merge onto <b>I-287 N</b>', 'maneuver': 'fork-left', 'polyline': {'points': 'qz`wF|asfMDU@C?C@CNe@Pi@Xy@Rk@Vy@J[@CFWJYFYDUH_@BQBMB_@B[@[?Y?SAUAUAWESAMEOEUI[GSIQIOGMIMOSOSOMQMSOSKSG]KMCMCSAMAUAe@?a@@w@DS@K?A?AAAAIIy@JaBP[BaAJaGh@qBNwALqAJuCPmBJ{BHiBDaA@gB@oCEQAuAEoAE[CwAGuAKy@I[EWCgAOoAUeAO_AO}@Q{@SyA]_AWu@YeA_@WKgA_@eAa@qAg@{Aq@yBeAuBkA{@e@cAm@}@i@}@o@aBiAuC_CgAaAe@e@wAsAi@k@_AgAeAiA}@eAw@eAkA_B}@oAu@iAk@{@qAwBg@_Ay@}Ag@gAc@_Ai@kAq@cB[y@a@eAg@sAa@mAe@uAUw@Uu@YeA]sAa@cBa@qBa@qBo@wDE[QmAQoAEa@Gi@Gw@MgAIkAKqAIqAIwAIuAKmBMaCEaAKoBOuBKyBKyAGsAOwBKgBQ}BUoCOuAUsBWwBOoAO}@e@aC_@mBg@gCSaAWcA]yA[iA]kA]oAi@aBk@eBo@kBu@qBo@aBs@cBo@_BgBiE{@iBk@yA_A}Ba@_As@gBu@gBw@mBw@kBs@cBeAgC{@uBe@sAi@sAe@gAc@kAa@eAYu@_@}@c@kAg@uAs@gBe@sAQe@k@wAa@gAc@kAe@oAa@kA]cAWu@i@{Ai@}AiCyHkAsDwAmEUu@Qi@oA{DYw@qC_JmBkGgCkI}@sCyCuJGOa@qAkBoFg@_B{@kCSo@So@Uw@eAeDaAmCkAwC{@sBeBsDa@y@eCmEaBiCqAeBU_@mBiC_DqDk@k@o@m@w@s@y@u@wBcBiA{@kBqAsEqCsDuBcIoEsBkAmK_GyEkCgAo@gFsCECi@[wEiC[QoBiAqEeC{A{@oAq@eDiBcCwAs@]s@_@GC_B}@eDkBoAw@m@]kAs@kAw@yA_AmDcCu@m@o@e@yAmA_B{Ao@o@uAuA}AgB}@gA}@kA]e@qBmC}@qAeCyD{PcXaCmDkBkC}AuBkAwAmAqAkBgBeC_Cc@c@]Y_Au@{B_B}@o@e@YAAc@UeCoAgDyAeCcAaAa@kBq@q@U{Bo@aFmAmDw@mEw@{F_A}AYmAWoBi@{Ac@sBw@gAa@gAe@y@]sAq@mAm@cAo@qCiBs@k@uAgAgBaBmAkAMKi@m@qAoAwA{AoBsBs@s@gAeAuBkB{BaB{BwA{BoAmB{@u@[s@WoAc@sAa@iD}@w@U{@YeCs@cBi@_C{@}Au@iAk@g@Yc@Yo@_@yAeAmAaAWUYWeAcAgAiAeBsBo@{@q@_AoAmBuBkDi@cAa@w@Q_@Se@Wk@Si@o@aBEOe@qAc@uAm@mBg@mBc@gBm@_DWyA]_C[aCSmBI_AUoC_@eFQgCm@_Iw@wLM}AYmDC[a@gF[gE[eEMaBMqAYaCMgAWoBa@kCa@eCSkAy@{DYmAm@cCqAqEYaAa@qAm@_Be@mAcGaPm@yAeBsEmKaY_@cA[y@Wq@e@gA[s@c@}@i@eA_@o@sAcCs@kAg@u@_AsAa@g@?Au@}@a@g@o@q@_@_@u@w@a@a@w@u@QQ_Aw@_@][YuAkAGEuAeAuAcAgCeBi@]oAw@IG{@e@uA{@iDsBm@_@kBiAy@g@kAw@c@Y_Ao@kA}@_BiAyG_FUOgAy@sAaAkAy@}@e@c@Sq@Wu@Qs@M}@MmLs@{FY{AKeAGk@Ek@EUCk@EsJm@mAIoBGa@?_A?uABaCJmBF_ACk@Ek@Gi@I{@UcA_@_@OgBmAYUUSUW_@a@i@k@W_@KQOUMUMWWk@MWUm@Sq@]iASu@Sw@YkASw@[oASq@Sq@Us@_@kAKYUq@Wq@o@aBc@eAk@qAUe@u@}Ag@aAuAcC{EiIgCkEe@y@gAiBa@u@e@w@gAiBk@cAeAoBeFcKs@yA}ByE_AmBg@cAw@yAm@aA]g@OUo@y@s@y@a@c@UUAA]]u@q@w@m@e@]g@[MIWOwAw@u@[wAi@}Ac@iB_@iASIAw@KwAS_AKwASwAQk@I_AMuASwAU_AQkB_@_Ck@{Bm@k@Oa@Kc@KmAWSEwCs@}Bk@oBe@cAWuBk@w@UmCo@qBc@oKiCk@QYIcBo@qAi@yAq@[Oe@SQM}Ay@g@YcEiCaAm@_@We@YaE}Bm@_@{@m@o@a@eP}Ju@c@uJ_G{CmBoDyBaEgCm@_@uBoAmFeDkEmCkBkAcBcAUMyBuAuA}@wCkBUMiAu@mBkAgEoCgDsBoEqC}@i@yGiEyBsAeC{AyFmDw@g@}EuCgDuBkAo@aPyJa@Yg@Yc@We@Yg@We@Ug@Ug@Sg@Sg@Og@Qk@Oi@Ie@Ii@Go@Io@C_@Ck@Ak@Am@?}@Je@Di@Fi@Fe@Hk@Li@Li@Nk@RSH{@XEBgAh@kAl@kB`AgCnAOJeAj@A?g@V?@cAh@s@Zs@X]LmAb@kA\\\\kBd@]Fu@Lw@N]DeBRs@FsENM@cC@y@C]Ak@CqAKyAOiBYwDo@mB_@aB]cAUe@MsA[iAYkBg@qA_@oAa@w@U_Bk@uBs@i@SsCiA}CoA{HiDqB{@_Aa@k@Uq@Wc@OUGg@Qk@MeASy@K_@CuAK_@CYAE?k@?w@Aa@@U?gCHA?iAFqBJoBJiBF{AH{@Bk@B_A?iAEw@Eo@IgAS]IYIw@Um@SmAi@gAo@[SkA{@eAaAs@s@]c@]c@]e@q@iAm@iAo@uA[{@Qe@g@eB[mA_@aBMo@sAiHe@eC_@aBOo@WeAWy@Qe@[w@Wk@c@}@_AoBcAuBq@wA]u@Wi@ISKSUi@Oe@Uo@Yw@Qo@]gAo@_CiAaEcAkDi@mBe@eBu@iCcAoDc@_BYcAYeAa@qA_@yAYkAWiAOw@Mm@Mq@UwAQgASyAmAwI}@sGa@oC_@{BQeAa@_CS_A_@oBkAwFq@}CiAeFsA{Fs@yCyA_GaBsGYcAWcA_AiDoAmEqAgE}@mCaAuCoAoDw@uBi@qAi@qAq@gBkAqCk@mAi@iAc@}@aAkBq@mAQ[[i@Yg@Yg@OUSYYa@aAqA[a@e@q@c@i@m@w@q@y@s@w@}AaBu@w@m@k@o@m@_A{@y@q@s@m@oA_AiAw@m@c@}@k@i@[cAk@_Ai@u@_@i@Wk@Wi@Wk@Wm@Uy@[m@Uk@Sm@SkBi@}@WME}CaA_Cq@qA[uAc@eBo@s@[i@WYOwAu@YQo@c@[U[Wi@a@YYi@e@YYk@m@SU_@a@c@i@c@i@U[IM_CaDi@u@mA_BcAwAaAsAa@e@e@m@wBaCc@g@u@s@_B{A{AmA[WaAs@yAcAk@_@w@e@o@]_Ae@q@]gAi@WKc@U[M_C_AaA]sAg@mBq@eGyBiDqAaCeAuAo@kB}@}DyBgC{AaCuAcFuCgO{I_@UkHgEcFwCeE}Bo@a@iAo@mJsFiC_B{DiCiCoBcCoBoAgAiBaBgAiAsAsAwCcDmB{Bi@s@eB_C{AwBo@aAi@w@y@sAa@k@}C{EaBeCaA{AyAcCs@gAuEaH]i@QUIMo@{@cBuBwBkC}@eAo@q@kAoA{@}@m@m@iAeAcA_Ao@i@w@q@sAgA{AkAgBsAeKuHeKsHiIgGkHsFaBkA_@[{EsDu@g@g@]q@g@wCsBiAq@eAg@c@S]Om@Y_@O_@KMEICg@Mk@M_@Gg@Ie@Ee@Gy@G{AGyAAaABm@BqAHaAFm@DoDXs@FmBJq@D_@@a@?y@?_@Ac@Ae@EYCg@GUCu@Mo@Q}@Ue@Q]OWKiAi@_@Sg@YGGg@]ACSQ]W_@_@a@a@[_@]e@_AqAm@}@k@{@s@iAYa@S[OWUYQYQYU[OYQWYa@_@i@[c@e@m@]c@WY[[QQ]YYWYU[U[Ue@Yg@Yc@Uc@Ss@Yg@Qi@Qg@Mm@Kq@MaBOm@E]A[AY?a@?k@@g@@q@?q@?wDB_A@uEDoEBwC@kAAi@C]Ae@Gc@EUEm@IWGi@Og@Oe@Ok@S_@Oc@Uc@S]Se@[a@Yg@_@c@a@WUQSUSQUCAQUSUUYU[U[QYMUYe@KQEIi@eAg@kAYs@KSUg@Sg@Si@Ui@Sc@Wm@c@eAUg@aAmBS]q@eAcAsAe@g@SWSSWW[UWUa@Yc@]_@UYOi@[gB}@mAk@a@SmCoAiB}@aAg@e@Y_@Sc@Y[Ua@Y][c@c@k@k@k@o@W][c@EEg@w@aAaBYi@[o@g@sAUq@Uy@Sq@Oq@I_@Ms@c@_DMgAGm@Cc@Cg@AqAAoAA{@Ai@?G@w@BiAFmANwBRiBVaB`@uBT}@Po@fEsMX_APe@La@L_@La@La@Rk@To@Ja@Tw@Tw@Pw@Ns@P_ARkAL{@Hu@Dk@Dg@Fs@Dm@Dw@DgBBwBA_BA{BEaCCcBCy@Cs@C}@EiAIyAImBGgAK{AO}BScCOiBC]YsCGg@WsBKaAOeAUiBQmAMu@O{@[wAUeAOm@Uy@Uu@Oc@So@a@gA_AwB]u@e@gAYk@Wk@Yq@Wk@Yi@Uk@i@kAy@iBWu@W}@Wy@Os@GWEUQ_AIe@Mw@E]COIs@GaAAUCUEeAGeAAo@Ac@?k@?c@?U?[@k@Bu@Bs@FgAR{CNoBLmBLwAFy@ZqEBg@LaBR{CXaEl@cJR{CLsBLsBFgAN_DNgD^mJLqCJmCBq@Bc@Bk@Dm@Dk@JmAHg@Fa@Fa@Jo@Lk@Lo@Lg@Tu@Pi@Vu@Tk@Xm@r@sAVa@T_@Za@\\\\c@t@{@^a@xBsBrCgCb@c@h@g@rAwA'}, 'start_location': {'lat': 40.6418509, 'lng': -74.6500735}, 'travel_mode': 'DRIVING'}, {'distance': {'text': '8.0 mi', 'value': 12858}, 'duration': {'text': '7 mins', 'value': 428}, 'end_location': {'lat': 41.1152404, 'lng': -74.1613122}, 'html_instructions': 'Keep <b>left</b> to stay on <b>I-287 N</b><div style=\"font-size:0.9em\">Entering New York</div>', 'maneuver': 'keep-left', 'polyline': {'points': 'cekyFh~_dMx@aAr@eAV]\\\\o@Vg@n@uAh@uAV}@Pq@Ry@Nq@Ny@Lw@Jy@Hy@HeAF{@Bq@@s@Bm@?k@Am@A{@As@Ey@OsBIu@Ku@KaASkAUkAUoAUkASaAQq@WeAI[g@iBIWa@sAk@_Be@sAg@oAUi@[s@[o@{@eBMUYi@m@eAA?o@gAyAgCg@_AoAyBcCkEgAuB_@w@_@u@Q]O[Ym@O[Q_@]s@Uk@k@sA]}@eDoIiAoC{@{BsAwCiAyBcAgBeAcBu@gAcAqAuAaBmAoAe@e@{A{AsAiAQO}@o@g@[_@WcAk@AAmAq@g@WsAk@oAe@uBu@iAa@[I{@Us@OYGy@OWE{@KYEa@CIAMAu@G}@EqAE}DIyBGeCEaACgAEk@CmAKwAM{@KeAQoAW[Gm@Kc@Kc@MgA]eA[y@Wk@OcA[wAe@o@Uo@SsAa@{Bs@aHyBkIoCgFiBcDcAkGoBeGoBwKmDeEwAcBm@MGmAe@aCaAmB_AkB_AuC_BcAo@o@_@{@k@cBkAe@]g@]e@]SQ{@o@{DyCeDgCiDiCiCqByDwCsEkDqAcAIEkCuBaE}CeAy@y@m@y@o@q@i@aAs@oB}Ai@a@_BmAyC}BuAcAw@m@wAeASM_@W{@k@w@c@oBgAeAi@wAq@_Aa@mAg@yBy@kAa@aBe@oA_@gBc@cB_@kB]cBWi@IqAOQCwAMoBMsBKy@Ew@CuCCmA?gB@_ABk@Ba@@}@DyAFoBJmAFmAFyCPa@By@D]@e@BiAFwBJmDPaAFyFXyAHoH^wEVcABw@AA?_BAQA_ACo@Eq@EyASqBYo@Os@Qo@Qo@Sk@Qu@Y{@_@y@_@e@UWOe@YIE]SiAu@qA}@mAw@gAu@oJqGmBu@e@SuEcBq@Wu@[e@Su@a@YQm@_@}EkDKIiAy@OIwBiAk@Uq@Uu@SqA[q@I'}, 'start_location': {'lat': 41.0224245, 'lng': -74.22453279999999}, 'travel_mode': 'DRIVING'}, {'distance': {'text': '18.7 mi', 'value': 30045}, 'duration': {'text': '18 mins', 'value': 1077}, 'end_location': {'lat': 41.0597021, 'lng': -73.8403665}, 'html_instructions': 'Take the exit onto <b>I-287 E</b>/<b>I-87 S</b> toward <b>Tappan Zee Br</b>/<b>New York City</b><div style=\"font-size:0.9em\">Partial toll road</div>', 'maneuver': 'ramp-right', 'polyline': {'points': 'gi}yFdsscMQIGCUCmAOyBYQEa@KWI[Og@]IISWIIIMc@w@_@iAOi@OqAAy@A{@F_AVwC@OHy@FcAB{@@k@?aA?g@?CAWA}@?KEaACOCKEIMa@OgBYkCK{@_AoFeAqFsA{G_@iB?AKg@?CKe@Q{@a@gBe@cCy@{Da@sByAmH]uBa@{C]oDOmBQ}CEiBEgCAwA?aA@_A@{@BwAHsAJuBHmAL_BH{@Fo@b@iDp@_FZwB~CiUbEcZ|CcUtBkOrAqJvB_PRwAdAqHdCyQbDsUzF_b@BSBMDa@tGwe@`C}PJs@VaBLy@Lu@ToAR_AXeAZiAX}@Z}@Rg@Re@b@aAf@aA^s@l@_Ah@w@BE^g@zAoBdFoGx@aAfAwAhAcBT_@^o@p@mA^u@Xk@b@cAn@aBRi@Z}@`@oA`@wAj@uBPw@Lo@PaAN{@h@{CJm@r@oE\\\\yBb@kCp@gEf@uC`@gCV_BLw@@AJu@tEaYhEsWNw@n@_Ex@_Fx@wEl@cDx@kE\\\\cBV{AZiBd@yCVaBt@wFl@mEb@eDVgCJoAJyADiAFiAHuCBeB?i@?_AA_ACwBGuBG}AIiAOuBOgBIq@K{@WmBYeBQaA?AEWA?[yA_A{DK[COWw@sAeEUq@M]K[]mAo@kByE_OY}@So@o@mBY{@wBwGcAcDOe@KY_@mAUu@Ka@?CAEQs@WaAUcA[{AOw@YwASoAGc@]_CWqBYoCOmBOyBKaBG_BCo@C{@Am@C{@As@A}AAmA?kA@aCBgBJwCFuALoDF{AF}AJ_CHeCHsBNmDZsIDo@?A?MD}@n@{Pn@sPb@eLJqCNwDD_ANyDPsEJcC@ObAiXDmA`@}JBo@LmDJkCTeGLyDFcCDcCBcDDsF@}ADeG?{@?sABkDByDBoD@_BBeGBcEBwEDgH?_A?I@kADgGBqEDgJHcNBmDBkEJsQBaH@UHuIL{EDeAD_ADkANuBTiCRmB\\\\mCZqBPeAZcBF_@F]FYVwApBkLtE{Wf@uCt@kE`@eCb@cCh@}CdA{Fl@mDRaABMJm@TqA|@iFJk@Lo@Pu@La@TaARq@J]J[`@iAZ{@j@wA~@uBNYZm@LWLSd@y@f@y@Ze@X_@DI\\\\e@v@eAt@{@`@e@bAcAb@c@l@i@^]r@o@FG`@]n@e@p@e@h@_@RMPO`@Wh@[n@a@hAo@|Ay@^SzF}Cf@WhBcAzAy@hCuA`DcB~DyBn@]xBkAx@a@RMDC`@U|DuB`Ac@`Aa@t@[t@W`@OTGJEx@Y~Bm@jBe@j@S|@]bBg@xBw@rB{@dA_@XMPKVSXQ^Y`Au@jBkBbAmAfCeEfA}Bx@uBx@mCl@iCr@cFTuCTyF@gE?kH?wDAiK?sC?wJ@eDAqK?kE?kL?{D@aKAyCC_IAeFEkLAwB?sN?_OAqS?{MCuLLuEP{CVoCd@aDVsAj@gCnCmHjBeDlAgBtBeCzA{AtD}D`A_AhBcB~@u@n@i@lAeA`Aq@`As@z@u@pAuAzCoDJMNMLUv@_Bd@cAp@_B`@iAr@_Cp@uCPaAb@_CDe@Fc@P_BHyADs@HcCBgC?m@AcCBiD?S?o@@m@BaJ@cDBuD@qA@iGBuC@kE@qBBmAH}CHkBHeAHcATqBPqATsAZaBr@yC'}, 'start_location': {'lat': 41.1152404, 'lng': -74.1613122}, 'travel_mode': 'DRIVING'}, {'distance': {'text': '0.2 mi', 'value': 275}, 'duration': {'text': '1 min', 'value': 12}, 'end_location': {'lat': 41.0581526, 'lng': -73.8378328}, 'html_instructions': 'Keep <b>right</b> at the fork to continue on <b>I-87 S</b>, follow signs for <b>New York City</b>/<b>Saw Mill Pkwy S</b>', 'maneuver': 'fork-right', 'polyline': {'points': 'cnryFh}taMVUBEDGVs@^{@Zo@t@{A~@eBhAuB'}, 'start_location': {'lat': 41.0597021, 'lng': -73.8403665}, 'travel_mode': 'DRIVING'}, {'distance': {'text': '0.9 mi', 'value': 1398}, 'duration': {'text': '1 min', 'value': 77}, 'end_location': {'lat': 41.0580572, 'lng': -73.82334159999999}, 'html_instructions': 'Take exit <b>8A</b> for <b>NY-119</b>/<b>Saw Mill Pkwy N</b> toward <b>Elmsford</b>', 'maneuver': 'ramp-right', 'polyline': {'points': 'mdryFlmtaMJC@ABADINYNUPUJMJIVSh@]ZQ\\\\WNMLOFIFIHKDKHSFOBGBIBODM@ODY@Q@O@[?O?M?UAUA[CWC_@CQKk@I[GUQk@Qe@IUk@qAy@iBSe@}@sBg@iASi@Qi@Ma@K]Qo@U_Ae@sBIg@G[Ig@E]E[AKC]Gw@Cg@Cq@Aa@?a@?]@U?U@O@QBSDc@BUJq@ZaBVuAF[z@mEt@}D'}, 'start_location': {'lat': 41.0581526, 'lng': -73.8378328}, 'travel_mode': 'DRIVING'}, {'distance': {'text': '18.6 mi', 'value': 29969}, 'duration': {'text': '21 mins', 'value': 1242}, 'end_location': {'lat': 41.2615556, 'lng': -73.6815273}, 'html_instructions': 'Keep <b>left</b>, follow signs for <b>Katonah</b>/<b>Saw Mill River Pkwy N</b> and merge onto <b>Saw Mill Pkwy N</b>/<b>Saw Mill River Pkwy N</b>', 'maneuver': 'keep-left', 'polyline': {'points': '{cryFzrqaM@WBYDU@K?K?O?UCYESEQCICGIOEECEEECEIIIEGCGCKCYGu@I_@CSAM?M?SBQBUFSHUJOFOD]JWDW@a@@W?SCUCYGOCE@QBa@KGCYE[CQA_@?U?e@DI@_@DQBWHUFWJc@Ts@h@[Xk@t@k@`A[n@u@xAw@zA{@tA_@h@a@h@u@x@g@f@k@f@]Vc@\\\\SNy@d@SJUL{@\\\\SHQHg@Pi@PYHg@Pi@TQHWLa@XWP[ViAhAQVUZW`@Wb@c@|@Sf@Sl@Sx@Qt@YnAQt@Or@Uv@Ur@Sd@OZS^W^MPQTUX]XSNSNa@VWL}@ZcATiB\\\\{B`@gC`@oBXuAPs@Hu@Dc@@_@AYC]EQCSCMEe@Om@W_@SWO_Ak@u@k@c@]g@c@c@a@g@g@SWo@s@}@gAk@u@S_@u@gAi@{@QYy@uAc@w@Yg@_@u@ACSc@Wq@M[So@Sq@Su@EOGYOk@Ka@[{@Si@M[i@cAU]KQo@y@AAs@}@cAeA_B{AeDsCgBuAgAw@q@e@aAo@y@i@oAs@e@Y}@g@SKg@WoAm@i@UaAg@sAk@o@]i@Ym@W{BiAkBcAgAq@WOkD{Bk@a@a@Yc@c@i@k@QQg@s@Ya@c@q@o@qAk@qAo@{Ac@eAe@eA{@uB[s@c@eAWo@Yo@c@eAMWMW_@w@Sa@[i@QW[g@_@i@c@e@OOQQQOSOUO_@Ug@Wi@Se@Mm@Mm@Ik@Ee@Eg@A_ACg@Ak@@}@@g@BY@i@BeBNkAHi@B_AHW@_AFU@m@@S?y@?q@Ei@E_@G_@GMEYIWI[OYMWMYQMISMc@_@[Wk@m@_@e@]c@QYc@m@Ya@Wa@OYOYSc@_@y@Wm@M]i@eBo@uBo@wBsBsHcAwD}@_D{@{CUy@ESGSGSK_@[mA_@uAi@kBg@aB_@kAo@kBcAuCQc@GOiAmCk@qA}AcDuAoCaAkByAqCO[e@}@yBgEO[gA{BuAuC_AsB_AmBcAuB}@mBy@cB{@iBCEa@y@_AeBeAaB_AwAU_@m@w@mAuAgAaAu@m@{@o@e@Wm@_@s@]g@Qa@Ma@IYG[E]Ek@CW?k@@W@UB]DWBkAZe@Re@Xq@f@[ZKL[f@a@p@S\\\\KTGTKXMd@Id@Kl@Gh@Ef@CXAX?^AX?ZDnF@vAAz@Cv@Ct@Ir@Eb@Ib@Mh@IXOf@GRIRWj@[l@Yh@_@l@[d@SX_@b@_@^a@b@c@^c@\\\\q@f@m@^i@Xg@Ve@ToAh@sAh@aFhBw@Zm@Tg@Zg@Ze@Ze@`@OLgA|@e@\\\\oAr@s@\\\\c@NMDQFODC@G@OBO@_@?O@C?Y?K?WAWCWCSEMCe@Ma@OSIc@UIG[UUQOOSQQSe@k@QQIMq@}@a@i@u@cA_@i@_@a@c@a@QO_@Ya@W]SQIWKUIa@Mq@ScAOsAUkCe@oAYy@Wi@Si@Wy@a@oAu@c@Yw@e@i@a@gA{@}AoAmBcBiBeBsAyAqA}A_DoEsCqEs@eASUSUq@q@gCsBeDkC{AsAoEuEu@u@c@a@c@_@e@[i@[y@c@qAo@aDyAi@Yw@k@g@e@o@q@m@w@wC_Fq@cAe@o@k@q@o@o@q@k@e@_@y@o@w@i@cCgB{AmA}BsBcC}Bc@_@q@k@s@i@UMOK{@k@eAo@KIe@Sg@Uy@_@aCy@g@S]Oo@YaAk@w@s@{A_BwAuA{@o@c@[c@[cBwAiCuB[Q}@g@_B{@cFmDw@e@kB{@g@Wc@Wc@_@SQQQQS]e@OS[m@Sa@q@yAm@iAi@w@o@w@s@s@_Au@KGOKe@UQIk@Us@U{@Wa@O]Q]Oe@WYOs@g@g@_@uAuAcBaB}@w@QOkBuAkCeBkAu@wBmAg@WQKUIg@SgBi@kBk@[IqAc@eA[[KsAg@QIqAk@s@]aD_B_Ae@qDyBm@[{DaCo@a@mAs@c@W}@m@q@e@mA_Aa@[uBiBkAkAq@s@cAgA}G_I_CmCwDmDqAkAa@_@SOeAcAQSOQOQ_@a@_@g@W[o@cAO[a@s@o@sA[s@Wc@OWMSU[SWe@g@g@c@g@_@_@Ui@Wq@Yu@W}@WgAYuBe@_ASm@QYIq@USIQIYQ_@UQO_@Yg@i@}BuC}@mAa@e@Y]m@o@yA_Bk@i@m@m@i@o@g@q@Y_@U_@QY]s@Wk@Qg@[{@[kAi@wBm@iCMi@Qi@?CM]MYWi@MWOUMQ[c@QQYYUSa@YYQSKUKYIKEk@MYIg@Eg@Ca@@{@?]BC?WDgAL_ANu@NkAVg@LmAX}B`@KBA?SFqATsB\\\\}@N_@Hm@N_AXwAd@u@RMBMBg@Fg@Du@?a@AM?WC]I[K]Mc@Sm@]a@[[YWYSYGGCEU]Wg@O[M[IWSm@[aAOi@Uu@Wq@i@aAOYW_@]a@W[]]e@a@iBuACASQUSe@i@OQ[e@o@_Ao@eAi@{@Yg@O[Ue@Wk@MYcAeCg@sA[cA_@kAWaAg@oBMc@I]?AYgA?AQy@Qq@Qs@{@sCSm@Wk@Ue@Yi@c@o@g@k@a@c@c@c@c@YkAy@aFiDg@a@[U[WWUk@m@[]Y_@c@m@k@aA}@yAqAwBgAkBo@eAc@o@sAkB}@iAk@o@g@k@kAmAIIk@i@UUyAmAe@a@c@_@qAmAW[OQ]c@QUSYOUe@y@Yg@We@_@w@Ys@So@Sm@_@iAa@kAe@yAWy@c@sA_@oAaAgD{@_DYgAYaAY}@]eAYy@]{@e@kA]w@c@}@]q@g@eA[k@c@{@g@_AACU]MSW]w@}@y@q@g@]oAo@YS_@Ua@_@_@_@KMMO[e@Wg@KUSk@[{@[aA_@cA[w@q@wAqB_EqAqCe@kAu@yBa@sAe@eB_@}AYuAQq@Qu@a@uASu@a@sA[aAWw@k@}Ao@_BSg@}@sBe@gAy@iBeAaCQe@{@kB[u@Ui@]s@eBoDkA{Bk@kAkAaCWc@EKA?eAyBYm@Ys@Qi@M_@EKm@{Bo@_C[iAOi@[yAs@{Co@qCQ{@IWEMK]Oc@IUISO]a@u@Wg@]e@[a@]c@c@a@e@]e@_@UQKGk@WmAi@_@Kg@OkBa@m@KmAQ_AI[A_AEi@@]Be@@K@g@BG@YBe@Di@JYFa@J[Jg@Pa@Ng@RaAd@YRmDvBWLkAt@mAp@k@VqDvA}Al@YNi@V[NWLQLSJQLSLa@^[VSRA@c@b@QPOPc@h@e@f@mArAIN[^'}, 'start_location': {'lat': 41.0580572, 'lng': -73.82334159999999}, 'travel_mode': 'DRIVING'}, {'distance': {'text': '10.4 mi', 'value': 16680}, 'duration': {'text': '9 mins', 'value': 559}, 'end_location': {'lat': 41.3865117, 'lng': -73.5999015}, 'html_instructions': 'Keep <b>left</b>, follow signs for <b>I-684</b>/<b>Brewster</b> and merge onto <b>I-684 N</b>', 'maneuver': 'keep-left', 'polyline': {'points': 'w{yzFp|u`Mm@r@_AfAu@z@{@bAm@p@k@p@k@h@o@t@{@l@gAr@c@Ts@^yAp@{Al@oA^wBh@qCf@q@Lg@Jk@H_APW@i@Fk@@k@Bi@Ai@Ck@E_@Ei@Iu@O}@SaAUiA]u@UWKo@Wi@SqAk@gB{@gAk@kCsAwBeAiAi@gCiAuAg@{Ag@aBe@cBc@cJ}BgBg@{@SeAWsCu@oFyAeA]WISIm@Uu@[cAe@_Ae@m@]_Ai@u@c@cAi@a@So@Qw@W}Bm@cBc@uAa@cASs@MiAQWG}@MgAM{@GaAIg@CcCGmDK_EIwDIw@?aCKeEGa@Ae@C[Aw@Gk@CaAIm@G}@M}@Qs@OYIWG]Ma@OUKyB{@qAk@gBu@c@QyAk@y@Sy@Si@Mi@Im@Ia@Ea@Iq@Gk@EkBK_@EkAGu@IyAIqAKoBOq@I{@Ow@Q}@Wy@Wa@OUKgAg@k@[eBgAi@_@a@a@aBwA{@}@o@o@o@m@s@w@aA_Au@w@}@_AeAiAcDgDg@e@a@e@s@q@w@{@aAcAcA_AuB}BsAsAaAcAgAiA{A{AkAkAiAmA{@aAeAgAkB_Co@_Ao@u@a@k@m@}@q@aA_AuA{@sAm@}@g@u@iAyAu@u@o@i@k@i@g@]u@g@s@c@[Om@Yg@Sg@SgAY_Cc@c@G}@E_@C}@C]@W?e@@a@Bw@Fk@F]D]DSDe@J{@Ty@T{Bl@_Bb@gAXiATk@JaAJg@F{@Do@@e@@eAA{@Ck@Ew@Ii@Iq@Mk@MQEA?SGKE_AWu@YwAi@gFwB}B}@wAc@e@Ou@Si@Km@Mq@Ks@Kk@IyBWiCWqC]kC[}@QuA[aBi@aA_@iAk@y@e@y@i@m@e@q@i@{AwAaAcAc@g@{@cAwAgBU[yCuDyDyEiAwAIIg@m@mKuMqJoL}@iA}@cA}@kAuBkCsDqEsEyFm@u@IKc@i@gB{Bs@aAcAwAi@w@k@y@w@kA_@i@[e@{BgDaIoLkAcBsQaXoGmJ_@m@oEwG}BeDaAwAaBeC]i@Yc@]i@MU{@wA[m@]o@y@{AeAyBYo@Wk@m@uAe@kAk@yAe@oASo@Yw@m@mBa@yASo@_AyCoAcEs@yBM_@eAeDm@mB]cAYeA_@mAe@yA_A}CaAyCgAmDwAsEmA_Ey@oCaAaD]eASg@]_A{@gB}@aBc@u@y@kAy@eAi@m@kAkAuAiA}AeAcAm@{BeAy@]kAWECwA[uAU_AMkBUgDe@aC]sAU_ASuA]wAa@}Bu@yB{@y@['}, 'start_location': {'lat': 41.2615556, 'lng': -73.6815273}, 'travel_mode': 'DRIVING'}, {'distance': {'text': '0.4 mi', 'value': 573}, 'duration': {'text': '1 min', 'value': 29}, 'end_location': {'lat': 41.3882804, 'lng': -73.5938299}, 'html_instructions': 'Take exit <b>9E</b> for <b>Interstate 84 E</b> toward <b>Danbury</b>', 'maneuver': 'ramp-right', 'polyline': {'points': 'uhr{Fj~e`MSUEGIGIGKKKKS[SYM]Mc@]}A}AqGkB_IMm@Eg@Cg@@e@@_@D_@DYDOBG@EDKBIBI?C?GAG'}, 'start_location': {'lat': 41.3865117, 'lng': -73.5999015}, 'travel_mode': 'DRIVING'}, {'distance': {'text': '10.2 mi', 'value': 16441}, 'duration': {'text': '10 mins', 'value': 591}, 'end_location': {'lat': 41.4170721, 'lng': -73.42819829999999}, 'html_instructions': 'Merge onto <b>I-84 E</b><div style=\"font-size:0.9em\">Entering Connecticut</div>', 'maneuver': 'merge', 'polyline': {'points': 'wsr{Flxd`MdCmGL_@z@wBz@wBlA_DrBmFp@cBbAiChAsCdAmC\\\\{@Ri@h@cBZ}@Nk@ZmAZoAP{@Ls@Nw@Lu@ZqBBSJ}@Fg@N_BB[J{AB_@Du@D{@B}@FwB@{A?yA?o@IuEI{BMiCGgAk@qKq@kNiA}U[wFUgEWgGWcF?A_@_HUyFEaA?CKoBOsCG{@Ew@Es@Gs@Es@Go@Gw@Iy@Kw@I}@Ku@Ee@Ik@Mw@Mw@Mw@Oy@UoAMu@Q{@UaA_@aB{DkOa@}A_@wA[sAeAmEc@iBa@uBQ{@c@}Bi@eDMw@QsAMw@UmB[sCOoAK_AQoAKq@Ko@Ki@Ia@Ok@Qs@Ok@Qi@Qm@uByGiDwKYu@K_@K_@M_@I]K]Mk@I_@Ia@Ic@Ie@Mu@Mu@K_AIw@Ee@Gs@Es@E_AEu@Cy@AkA?eA?cA@q@Bw@F{APgCPqBD_@F_@DYDWFa@He@Ji@Ns@Pw@Rw@n@aCtBoH\\\\sA\\\\sANs@Hi@He@Fa@BSD]Hu@Fs@Dq@FcABaARwIH_DLeE^uONwFLkFHaEVaJDcBFgALaBRaCZeCZ_C|@mFtAsIdBmKvB}MxAsJdA}GzAeKJu@PkAP{@N{@Jg@No@`@cBl@qBRo@J]DMnAmDnAkDXy@Tu@Pu@Ps@Lw@Jy@Hw@HeABk@@a@?{@?e@Ak@Aa@C_@Ew@AQEWE_@E[CUMq@Ou@[kAOq@S{@Oo@Kg@Kk@Is@Iw@Ky@Eg@UeCGc@Io@G_@CQG[I]I[IWIYKYMWKWMUOUMSQWMOMMUUOOSOQMSMSKSKUISGQGWGOC[GSAUAUA[?_A@{@?W@U@_@@a@FUBWFq@LI@g@RSH_@Li@Rm@Xq@VaE`BMD{CnAIB}@^_@LG@g@NSDg@J}@Js@BK@_A?i@CSCWC}@Me@Ki@Oy@Ye@UUMa@Uw@k@gA{@}AwAoAqAeAoAm@y@Ya@c@o@_@k@]i@y@yAcAuB}@{Bc@iAk@cBi@kBMi@Me@YoAQw@Ou@My@Mu@G[E]CMM{@O{@M_AYmBM}@Ki@Ik@CQSmAOs@YkACGWcAQq@o@iBQi@Yo@Wk@Wk@a@u@[m@q@eAw@iAq@{@u@}@}@}@qBsB[]]_@mCmCwE{E_BsB}@kAgCgDw@gAq@gAs@kAaAeBWi@Wi@q@{AQ_@Uk@Um@KYUo@g@wA]cA_@mA]gAQq@Ss@I[GSMo@YqAOu@c@_CUqAKk@M{@QmAWuBYiCc@mEoAuLWiCSoB_@wCg@yDWaBg@aD{BcMG_@G_@}H_d@Ko@Mo@k@kEaAwH'}, 'start_location': {'lat': 41.3882804, 'lng': -73.5938299}, 'travel_mode': 'DRIVING'}, {'distance': {'text': '24.5 mi', 'value': 39436}, 'duration': {'text': '23 mins', 'value': 1356}, 'end_location': {'lat': 41.5506831, 'lng': -73.0572413}, 'html_instructions': 'Keep <b>right</b> to stay on <b>I-84 E</b>', 'maneuver': 'keep-right', 'polyline': {'points': 'ugx{Ffmd_Me@mDYsBYuBOiAG_@Gi@Ec@Ek@Ca@Aa@Ca@Ag@Ae@?e@?i@@m@By@Bc@Bg@Dm@Hu@Hs@F_@Jo@F]H]H]Lg@Po@h@cBDML]fC_HnAgD`@eAb@cArBwE`@eA~@cCFSV}@Rw@Je@Ju@PiAJeAJmAFy@D}@@i@?c@?_AA}AEyAQsBK_AKu@UiAQy@I]W_AQi@Wu@m@}AyC_H_@{@o@}AkDqIOc@M]IQEMM_@a@sAYiAYoASoAMw@QqAOqAKqAW{DEk@Ei@YiEGw@KuAIwAGy@MiBI{@E[Iu@E]WiBSiAOw@EYIY_@_BUy@_@kAa@gAWo@Wq@a@eAWo@a@cAWm@c@gAc@gAa@gAIOYw@Wo@a@eAWq@c@gAo@_BKYWo@Wq@Uo@Wq@IWWu@IYCIISSo@]iASq@I[Qs@YkAG]Oo@GYMs@Ga@QiASqAOyAGi@Ee@KwAKqAIuAIuAMqBKuAIyAG_AEu@Gy@MoBSiDGy@AYEy@A[C{@AY?]?[?]?[@w@@]Bw@JoBH_ALcAJw@F_@D]FWF[Nu@FYPq@HYRs@L_@Ni@HYr@}BrAqEBITw@ZoAHYF[Ls@Jq@L{@D[D]BW?AB[D[B]@YB[@]B[?]@Y@[?_@@Y?o@Ai@?O?i@A[Ca@?A?SC[A]Gw@AOAKAMAKE_@Ge@Ec@EYIe@E[Ig@Kg@Ka@Ka@Kc@Wy@YeA{@{CIYW_AW_AOe@CMSq@_@qAe@}ASs@Ss@W}@K]U{@CKGUI[I[GUG[[aBIe@EYEWIi@Gg@Ee@Gg@I_AEw@CYAYCy@C[Ay@AW?Q?i@?qA?oB?a@?u@@]?[?sB?{@@uA?{@?{@@[?{@@sC?y@?[@[?w@?{@?y@Ay@?u@C}@?YA[Au@EaA?QEu@Cy@C[Ey@IuAQaCAOC]Eq@GaAK{AWsDC]C_@UqDGy@KyAA[Gy@C_@AYC]AYCy@AYA_@Aw@?]Aw@?kB?a@@w@B{@Bw@Bw@RiGFuAB{@B{@Bw@By@Bw@Bu@@y@@]?_@?{@?u@Cy@AYA]AYAWC_@C[IsAC]C]C[CWE]EYKw@SsAG[Mu@Os@Qu@IYMe@WaAKYSs@K[I[KWIYMg@Oc@IYI[K[e@cB[iASs@Qo@IYGWGYGYOs@E[GYEYE[EYEYC[C[EYC[C[A[C[A[A[A[A[Au@?U?a@?Q?I?]@[?[@]Bw@BY@WB_@B]?EFe@JaAFg@L{@DYDWFWP}@VeARo@HWHWHYJWRo@Ts@Vu@Tm@Rq@Tq@Vs@Tq@Tq@lAoD^iAxByGv@}B^iA\\\\aAb@oA`@aAJ[Vm@z@oBd@aAhB}DpCeGd@aA?ABG?Ab@}@t@_Bf@gAnAoChB}Dt@aBr@{AJUhAaCjDuHN[Xo@f@eAXo@Xo@Vk@b@cA?Ad@gATi@Zs@Na@Vo@~@}BFM?AFQJYJYFUHWH[Rs@Nu@F[F[F[FWDYD]Ju@NuARqB`@sDtAmM~@{ITcCJ{@Hw@`AgJb@uDFo@@KDa@Fe@xDu]NkAPaBH{@H{@Bo@DaABqA?m@AaAAo@CeAIy@KgAOmA?AAMKs@O{@[yAKg@Uu@i@{A[s@a@_A]m@IMc@s@g@q@g@m@{@_A{@y@sAoA}GkG}FiFcEuDkBeB_B{A_CuB_EyDcCaCyAwAaGcGqEyEgHuHgJsJAAyA_ByA}AwByBoDuDUSa@]USGE[U_@Ye@]}@i@y@_@m@Yy@[y@Yu@Sk@Oq@Mm@Iu@EOCa@AG?WAU?c@BsADk@Hk@Jq@Nw@RoAd@mAh@iAf@qAl@_A\\\\yAr@eAd@q@Xo@V_A\\\\aA\\\\a@JYH_AXm@Na@Hk@Lw@Lq@Lq@HuBRm@DkADs@BsA@mBCoAC_@EqAKsAOqASkASq@O}@Wq@U}@_@mB}@w@e@ECq@c@o@g@o@m@a@e@OQgA{Aa@q@Yg@_@u@Ys@Yw@Wu@w@uCc@cBm@}Be@cBi@oBc@aB_@qAk@}B{@{CcBgGU_AY{@c@oAa@gAa@y@]s@_@o@_@i@]e@oAuAw@y@yAqAwAyA_A}@]]IIs@o@}A}A{@cAs@aA]e@_@k@q@iAe@y@[k@y@iB{@oB_@y@{@qBk@mA[s@Ui@Wi@k@oA_@y@Wm@qBmE{@oBsA_Dk@sAo@}Ak@qAc@aAUe@Ym@k@cAy@sAc@o@m@u@o@s@II{@{@cAy@_CyAwA}@yA}@eDuBoA{@y@i@y@i@KIMGyA{@m@_@s@c@c@[GEiAy@e@]i@e@yAuAc@g@y@}@y@aAaAcA{@eAc@g@]c@_@i@_BoB[e@OUi@}@y@sAwAgCi@eAq@yAM]_@y@e@mAUm@KYIWKYMc@Ws@Ma@[iASs@Oo@Kc@Mg@G]WuAUgAMs@UwAy@oFYcBc@sCs@cFa@gCq@kEe@qCeBwJUqAk@}CsA_H_@mBi@kCw@oDw@yDmCqLiA{EeAgEkBkHwAoFkAiEaFoQUq@[mAK[[iAIYIYI]]mA]oASq@Qs@q@cC]mASs@Ss@]mAQs@]mA]kA]kASq@Sw@[kAi@mBKa@Qk@]qAMc@Mg@]mAeAwDU}@GQQo@o@cCUw@[mA]kAKc@k@sBg@eB]oAUq@]iAI_@Qm@c@cBi@gBU}@e@_BSo@e@iBQq@Us@Mg@M_@K[a@mAUo@[w@CKc@iAQa@a@_AYk@[k@]u@c@s@k@y@s@aAyAoBOSo@s@_@c@q@{@o@w@m@w@[e@eAuA[a@}@kAsAeBe@q@g@o@]c@m@w@a@i@MQOUMQ]g@_@k@[c@]i@OUMUMUMSYe@OYMUMSKUMWMSMWKWMUKUWg@Q]KS]w@mAiC]u@MWYo@OYYk@Wi@MYOYYm@KWKSYm@[o@MUKUMWMUKYMUKWaAqBw@aBwA{Ci@iAq@yA[q@[m@Wk@cAuB_AqB[o@s@{Ae@eAc@}@Q]e@cAYk@[q@Wm@Ym@Sg@Yu@Um@KYUs@Sm@Us@Sq@Su@IWGUK]IYOo@I[Oq@Mi@I_@I_@G[Qw@Ou@Os@AGOq@Os@WqAWmAWsAa@mBYuAOq@Ou@Q}@g@gCQu@Ou@Os@G]I[Os@Ow@_@iBYuAQu@Oy@YoAWoAQy@Ou@I]Mq@Qw@?AWmA_@gBc@}Ba@mBOo@e@_CUiAGYKa@IYGYa@qBmAaGy@cEi@kC]{A[eBUqAOw@a@gC[oB_@oCU}ASoASyASuAUwAa@qC]eCYqBM_ACQo@gEuAoJOeAMy@Ks@[uBKw@SuAMy@Ms@q@{EEUa@uCUyAYiBSmAMu@Ou@Mu@Oq@a@iBQs@YiASw@g@gB_@mAUu@Ss@Uu@Su@K]I[Us@Ss@_@mAW}@o@uBSo@Uu@I[i@iBc@{AMc@K]KYGUKWKYKWKWKUKWMWKUKUMUMUKSMSQWMUMSMSOUMOMQOSOQQSQQMMQOOOc@_@a@]e@]_@Wo@a@a@WUMUKWMUKGC]MWKg@Oe@Oe@K_AQaAOi@Go@Eg@C_AAa@?a@?sA?sDAm@?k@?m@?{A?sA?q@Ae@Ao@AgBKi@G_@Ec@Eg@IUGUESEUE]Im@Qi@QYIc@Oi@S]M[O]OSISKGEOISKUOYO_@Wg@[a@YIIo@e@KKYWUQc@a@a@a@e@g@UW[_@o@y@AA]c@CEa@m@k@{@[k@i@_Aa@u@k@iAe@cAMYGQUi@Wu@Yw@q@uBWaA]mAg@iB?AWw@Qo@Uy@Su@[kAk@iBa@iAM]KYWk@O]Ym@y@_BSa@c@u@_@k@_@k@o@{@m@{@_@i@_@i@_@i@SYOSSY{@kAo@}@_@i@QU]e@QW]g@SW[c@SYOUOSOUOS]e@SYOSOUOSMQOW]i@OWOWKUMW_@y@Qe@AGGQIQCIIWI[IYI]Qs@Ig@Ie@Ic@Iq@Ea@Gk@IaAI_BIwAGwAEy@GuAGcAEw@Gy@Iw@Gc@Gg@Ki@Os@Uy@Su@s@cC_@mA{@yC}AwFOm@K]I_@I[ESQw@Ke@'}, 'start_location': {'lat': 41.4170721, 'lng': -73.42819829999999}, 'travel_mode': 'DRIVING'}, {'distance': {'text': '4.0 mi', 'value': 6408}, 'duration': {'text': '4 mins', 'value': 231}, 'end_location': {'lat': 41.6030906, 'lng': -73.0657586}, 'html_instructions': 'Take exit <b>20</b> on the <b>left</b> to merge onto <b>CT-8 N</b> toward <b>Torrington</b>', 'maneuver': 'ramp-left', 'polyline': {'points': 'wjr|Fv~{|LA?A?A?A?AAAA?AS{@Os@Ou@I]GUGSM]MUIOCCIMAAOUWWSQSQSMg@YUKWK[IOCYIUE_@G_@EI?QCSAu@AO?O?C?YBW@c@DO@WD[D_@Fg@Hw@Pe@Js@Ng@Jk@La@JQDA?A?]K{@XA@WFoBl@s@VgCx@UH]Jq@TwInCuA`@]HqBn@_@Hw@Py@Jy@Le@Fm@Fi@Fc@@E@e@BaA@mA?yA?E?_ACw@Cu@G}@Gc@Gu@Ks@Km@M[Ii@Om@Si@Q[O_@Qw@_@{@e@mAs@uAw@iAm@y@c@WMa@U{@a@a@SYMoAk@g@SsAk@g@UYMmAk@c@S_Ae@sAm@gCiAsAm@qAm@qAk@cBu@i@Ug@S_A_@i@QIEg@MMCUEi@I_@Gc@GQCc@C_@C]?c@A_ABWB]@o@Fg@F_BVOBc@H_ARYHQDy@Xm@Tc@RYNMFy@b@g@Xi@\\\\_BfAqBtAaAn@?@]Va@Xk@b@q@f@aAx@s@l@o@l@k@f@o@l@iAdAaA~@yArAkBfBgAdAq@l@g@f@w@t@kA`Au@r@mB`BiA~@}ApA{@r@iA|@kA~@{@p@iA~@sBbBsB`BsB~AqB`By@p@{@p@{AnAw@n@g@\\\\y@f@i@Xy@`@c@R]Ly@Xi@P[Hg@LQDs@Lg@Fg@Ha@B_@DQ@aADsABG?g@C_AE{@Go@IkAQGAo@OiA[cA]'}, 'start_location': {'lat': 41.5506831, 'lng': -73.0572413}, 'travel_mode': 'DRIVING'}, {'distance': {'text': '0.2 mi', 'value': 380}, 'duration': {'text': '1 min', 'value': 23}, 'end_location': {'lat': 41.6058717, 'lng': -73.06314189999999}, 'html_instructions': 'Take exit <b>37</b> for <b>State Hwy 262</b> toward <b>Watertown</b>', 'maneuver': 'ramp-right', 'polyline': {'points': 'ir||F~s}|L?G?AAA?Am@]_@Wc@a@_DyC}EuEy@u@'}, 'start_location': {'lat': 41.6030906, 'lng': -73.0657586}, 'travel_mode': 'DRIVING'}, {'distance': {'text': '1.6 mi', 'value': 2572}, 'duration': {'text': '2 mins', 'value': 146}, 'end_location': {'lat': 41.6077054, 'lng': -73.0906644}, 'html_instructions': 'Sharp <b>left</b> onto <b>CT-262</b>/<b>State Hwy 262</b>', 'maneuver': 'turn-sharp-left', 'polyline': {'points': 'uc}|Frc}|LSHGDQLHTDHDNDPLl@Ll@Np@Jf@DPDNHVFNPZNVLPNPJHLLPJXPf@X^RRNRPPPRXX`@\\\\l@T`@\\\\n@^x@Vn@L^Nb@L\\\\Ld@H^Lf@Hb@Lj@Hf@Jx@Db@D\\\\B\\\\Db@B^@\\\\@Z@d@@V?Z@Z?^AV?b@?ZC`@Cv@C\\\\El@Ep@EVCVE\\\\EZKh@Ib@Qt@wEvRgPbq@aAdESt@Ot@UhAKn@CTEVCZGr@Ef@GdAGfBE~BExD'}, 'start_location': {'lat': 41.6058717, 'lng': -73.06314189999999}, 'travel_mode': 'DRIVING'}, {'distance': {'text': '0.4 mi', 'value': 610}, 'duration': {'text': '1 min', 'value': 66}, 'end_location': {'lat': 41.6029986, 'lng': -73.08797179999999}, 'html_instructions': 'Turn <b>left</b> onto <b>Buckingham St</b>', 'maneuver': 'turn-left', 'polyline': {'points': 'eo}|Frob}L?bAr@a@`DeBlBeAxBmApAs@h@[|BoApAs@n@_@rBmA'}, 'start_location': {'lat': 41.6077054, 'lng': -73.0906644}, 'travel_mode': 'DRIVING'}, {'distance': {'text': '89 ft', 'value': 27}, 'duration': {'text': '1 min', 'value': 28}, 'end_location': {'lat': 41.6030999, 'lng': -73.08767519999999}, 'html_instructions': 'Turn <b>left</b> onto <b>Slade St</b><div style=\"font-size:0.9em\">Destination will be on the left</div>', 'maneuver': 'turn-left', 'polyline': {'points': 'wq||Fx~a}LSy@'}, 'start_location': {'lat': 41.6029986, 'lng': -73.08797179999999}, 'travel_mode': 'DRIVING'}], 'traffic_speed_entry': [], 'via_waypoint': []}], 'overview_polyline': {'points': 'kd}eFhmiaO_pBacA}uAp`Cs_Eae@c`RomQapCevEcbAomJicEwdKisFcmb@udC{dJ_kEwyR{w@c|OgkDw_VovJoyGqoBofFsWs`G_uE}vMuwB_`JzQsePeMkmQo_BybN_`Cc`QyAu|MwyAq|XwjAqaTyg@mgP~XyfHun@{~F{dC{lG`\\\\yvLcsBu_RxzAanRkaFupQrc@}uTpgN}zS|_BkrHfXg`ImxCskHkgCceAc`FmxLsqDs}E_vB}hI_yDknG_tBgkIaqG_oQ{`@eyEdlBgfIwh@myCsaBwtD_cAy~Ja~BacCqJelCnFw|Hzq@_zVadB}kPcwBwPmrBvLodHsjMydDlvBitEqOkdGej@meH_nAu`IqlK}w@acG}uCasAasE_gDurEowCkYk}FkhDwdEeaK_dCs~OioL}mF{cDwlJokBwcCgmCa_BkaCabMioEa}BgTiyBqnCyjE}oIw|DkvH_xB}fHwnBexEeoF}|A{mAu{FoqBuc@u~IkmIbp@ceGqUe|Dle@owHcl@szMhNc{a@pZcfKunAqgHmmDezH[k~JdaBwpIayAscHfhAu~YoXujK|mFysBx|AobCob@g|F`ZkuJ{jAmaKgeBu~Dsc@}lFwcG{oOdeBcqN~`Dw`Pp\\\\gxDoxDucDipAafKalAmzHdiBeqGmw@wgEhJo~BpcBmoGfiGq~QvcD_bHmiDcxMp_A_lQpzCmnGkwAujAm{Es{EwfEgEcoBhNejFkcAemR}~FgdNolIscCyrH{{Fk|CcaG}jJ{qGsrIe`MepYu{EgdMiWirIu~AmjDyqF}gH_uDabOaqBczGgaCm`Gxz@kqL}mCosJm|CkaNkpJqwY{rGqc`@inDgs]goMgds@_qCmaS[_qOfSap^yy@skIja@}}Fr{AwcNd{@mwHubBuhEaeB_xBot@ivHi{DcwHsoEg`Hs_BgyIfxBuz@vGe_CkdBa`BjDgxEfeAepJrcDabV}oBizWx_@ug\\\\itCaeAmv@_zDetIm_LuoDwqBwtAazFmuFkoEmjJscDgwCmWmoAafC{lEy~GshJw~Fw_DikBmWycG}Kq}HqaJerDq_Dcd@up@o{BbsCe|R_KioPf}AcaDjpA}cHfoAqfHagAiGmeD_hBacDwuDmfC`b@s`G}oEojDesBwgCilEoxCiwCajGg]}uFiwB{aHgwJcVu`Kfi@o`J}yCyjCyr@{nJgq@m{KpWwzDnv@_{DkoC{oCslBgg@yeBihCqoCi_JwaEkeMweFcdEazEto@c`Ax~CdZuR'}, 'summary': 'I-64 E', 'warnings': [], 'waypoint_order': []}], 'status': 'OK'}\n"
     ]
    }
   ],
   "source": [
    "response = requests.get(url)\n",
    "results = response.text\n",
    "data = json.loads(results)\n",
    "\n",
    "print(data)"
   ]
  },
  {
   "cell_type": "code",
   "execution_count": null,
   "metadata": {
    "collapsed": true
   },
   "outputs": [],
   "source": []
  }
 ],
 "metadata": {
  "anaconda-cloud": {},
  "kernelspec": {
   "display_name": "Python 3",
   "language": "python",
   "name": "python3"
  },
  "language_info": {
   "codemirror_mode": {
    "name": "ipython",
    "version": 3
   },
   "file_extension": ".py",
   "mimetype": "text/x-python",
   "name": "python",
   "nbconvert_exporter": "python",
   "pygments_lexer": "ipython3",
   "version": "3.6.3"
  }
 },
 "nbformat": 4,
 "nbformat_minor": 1
}
