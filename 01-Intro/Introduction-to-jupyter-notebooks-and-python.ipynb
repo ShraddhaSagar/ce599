{
 "cells": [
  {
   "cell_type": "markdown",
   "metadata": {},
   "source": [
    "# Session 1: Introduction to Course, Jupyter Notebooks, and Python\n",
    "## Course Overview\n",
    "\n",
    "This course is intended to provide students with the basic skills to become independently able to write your own code and to leverage open source libraries in Python, data science, and web mapping to do your own data processing, analysis, and mapping.  It is not a traditional GIS course, and relies heavily on free, open source, software.  Why?  Because the explosion of open source tools in the past decade has made it possible for anyone with a willingnes to put in a modest amount of effort to learn how to leverage these tools and build their own, without depending on expensive commercial software.  \n",
    "\n",
    "Ove the course of this semester, we plan to cover:\n",
    "\n",
    "* Fundamentals of programming and data wrangling with Python\n",
    "* Dava visualizatoin\n",
    "* Applied statistical modeling and interpretation\n",
    "* Written and oral \"data storytelling\"\n",
    "\n",
    "The course is structured as a computer lab based course and each session you will follow along with the lecture and generally also do some experimentation with what we are learning that day.  We will use these Jupyter Notebooks to contain lecture notes and code to demonstrate and to experiment with in class and outside of it.  You should install the software used in the course on a computer of your own to be able to work with it outside of the computer lab.\n",
    "\n",
    "We pace the learning by scheduling a series of exercises, with generally a week to complete them.  These exercises are front-loaded in the semester to build up your skills and confidence.  To gain more independent skills and experience in applying these to problems that are of interest to you, we have a semester project assignment. Projects ensure that you learn these skills with enough independence to become self-sufficient and able to continue building your skills on your own. "
   ]
  },
  {
   "cell_type": "markdown",
   "metadata": {},
   "source": [
    "The course materials are all online in github.  You will generally begin each class by accessing the materials for that day, downloading them to your computer (either the lab computer or your own laptop), and opening the interactive Jupyter notebook that contains the notes and code for the session.  We will try to incorporate some experimentation into the class sessions, so you can get a better grasp of the material by experimenting with it.\n",
    "\n",
    "This first session will cover the basics of Python, and introduce elements that will help you get familiar with Python as an interactive computational environment for exploring data.  The material is presented in an interactive environment that runs within your web browser, called a Jupyter Notebook.  It allows presentation of text and graphics to be combined with Python code that can be run interactively, with the results appearing inline.  We are looking at a Jupyter notebook now.  Note that Jupyter is a relatively recent name for this so sometimes you may still see it referred to as an IPython noteboook.  Jupyter is just the new version of IPython notebooks, but now also supports a variety of other languages and tools.  "
   ]
  },
  {
   "cell_type": "markdown",
   "metadata": {
    "slideshow": {
     "slide_type": "-"
    }
   },
   "source": [
    "\n",
    "## Jupyter Notebooks\n",
    "\n",
    "Let's start by getting familiar with the Jupyter Notebook and how it works.\n",
    "\n",
    "### Launching a Jupyter Notebook at the Command Prompt\n",
    "\n",
    "\n",
    "To begin using a Jupyter Notebook, you need to launch a command prompt (or command shell).  If you don't know what this is, you'll need to get familiar with the command prompt and navigating around on your computer using change directory commands, in order to be able to launch the notebook. In Windows, there are multiple ways to open a command prompt - nicely explained here: http://www.howtogeek.com/235101/10-ways-to-open-the-command-prompt-in-windows-10/. \n",
    "\n",
    "On a mac, you can launch the terminal app.  Once you have a shell, navigate (change directory) to whatever directory you want to work in. If you haven't learned how to use a command prompt in windows, this is a good reference for the command prompt in Windows: http://dosprompt.info/. On a mac, the syntax is a bit different since it is based on Linux.  Here is a reference for commands on the mac: http://ss64.com/osx/, or a simpler version here: http://www.dummies.com/how-to/content/how-to-use-basic-unix-commands-to-work-in-terminal.html. You'll need to use the command prompt from the beginning, so get comfortable with basic commands this week if you are not already.\n",
    "\n",
    "Download this notebook from the link in the calendar event for this session on the class bspace site.  Save it to disk somewhere, like Downloads, or some other location (but just remember where you put it).  At the command prompt, cd to that location, and type:\n",
    "\n",
    "jupyter notebook\n",
    "\n",
    "### Using Jupyter Notebooks\n",
    "\n",
    "Once you launch the Jupyter Notebook, and the Notebook opens up in your browser, you will be looking at a directory of the folder you were in when you launched the notebook.  you can either load an existing notebook if you see one in the directory, or create a new one.  If you changed directory to the correct location, you should already see this notebook in the directory in the Jupyter Notebook:\n",
    "\n",
    "**Introduction-to-jupyter-notebooks-and-python.ipynb**\n",
    "\n",
    "The ipynb is a reference to the older name of IPython Notebook for the Jupyter notebooks.\n",
    "\n",
    "If you click on this entry in the directory within the Jupyter Notebook, another tab will be created in your browser, containing this notebook, ready to use.  Go ahead and do that.\n",
    "\n",
    "Note that it has cells, that contain text (until farther down in the notebook).  These are markdown cells.  Notice the pulldown list for the cell type contains:\n",
    "\n",
    "* Code -- which we will use for Python code mainly, though it could use other languages\n",
    "* Markdown, like this cell, using a flavor of structured text like that used in Wikipedia and many other platforms\n",
    "* Other options will appear depending on what else is installed for use with Jupyter, like kernels for Scala, R, Octave, etc.\n",
    "\n",
    "You can edit the contents of a cell by double-clicking on it.  Try it on this cell.\n",
    "\n",
    "When you are ready to save it or exit edit mode, just use Shift-Enter.\n",
    "\n",
    "We will see how the code cells work next, in the context of learning a bit about the Python programming language.\n",
    "\n",
    "Before going on to that, though, just note that you can use Markdown syntax to format your text.  Documentation on the markdown syntax is available here: http://jupyter-notebook.readthedocs.io/en/latest/examples/Notebook/Working%20With%20Markdown%20Cells.html\n",
    "\n",
    "You can also use LaTeX syntax to enter math or create symbols in your Markdown cells:\n",
    "\n",
    "$y = \\alpha + \\beta X $\n",
    "\n",
    "$c = \\sqrt{a^2 + b^2}$\n",
    "\n",
    "Cells can also contain programs, or code.  We will be using Python code extensively in this course.  The next cell contains a Python command, and that command can be executed in the Notebook by clicking Shift-Enter on the cell, or selecting Cell/Run Cells from the menu, or clicking on the Run icon  (left of the black square), on the toolbar.  Notice that it executes the command and writes the output below the cell.\n"
   ]
  },
  {
   "cell_type": "code",
   "execution_count": 1,
<<<<<<< HEAD
   "metadata": {},
=======
   "metadata": {
    "collapsed": false
   },
>>>>>>> upstream/master
   "outputs": [
    {
     "data": {
      "text/plain": [
       "9.899494936611665"
      ]
     },
     "execution_count": 1,
     "metadata": {},
     "output_type": "execute_result"
    }
   ],
   "source": [
    "import math\n",
    "math.sqrt(98)"
   ]
  },
  {
   "cell_type": "code",
   "execution_count": 4,
   "metadata": {
    "collapsed": false
   },
   "outputs": [
    {
     "data": {
      "text/plain": [
       "3.141592653589793"
      ]
     },
     "execution_count": 4,
     "metadata": {},
     "output_type": "execute_result"
    }
   ],
   "source": [
    "math.pi"
   ]
  },
  {
   "cell_type": "markdown",
   "metadata": {},
   "source": [
    "## Python\n",
    "\n",
    "Python is an interpreted programming language, also referred to as a *high-level language*, or as a scripting language.  What this means is that when you write some commands, or statements that are meaningful in the Python language, the Python 'interpreter' reads the command, figures out what the intended computation is, and then executes it.  This differs from *low-level* languages like C or C++, in which you generally have to compile code  before you can run it, and if you find errors they have to be diagnosed and then the code re-compiled before you can run it.  Interpreted languages skip the compile step, and just execute code directly, and if there are errors, they are seen at run-time.  "
   ]
  },
  {
   "cell_type": "markdown",
   "metadata": {},
   "source": [
    "### Installing Anaconda Python Bundle with Jupyter\n",
    "\n",
    "In the computer lab we have already installed all the software you need for this course.  I recommend that you also install Python on your own computer.  Please use the following installer to make things as consistent as possible with the environment in class.\n",
    "\n",
    "The Anaconda Python installer from Continuum Analytics contains most of the libraries we will use. You can find it here:\n",
    "https://store.continuum.io/cshop/anaconda/\n",
    "\n",
    "You will find installers for each operating system, and versions for Python 2.7 and 3.5.  We **highly** recommend using 3.5, and we will be using 3.5 in class, so you will be less likely to be tripped up by small differences in syntax if you do the same.\n",
    "\n",
    "It is free - they just ask for your email address. In fact, virtually all the software we will use in this class is open source and free (as in no cost).\n",
    "\n",
    "Python runs on Windows, OSX, and Linux, so regardless of what computer you are using, it will most likely run on it.  And having Python installed on your computer is a good way to make it easier to practice on your own, without having to find time to come in to use the computer lab.  "
   ]
  },
  {
   "cell_type": "markdown",
   "metadata": {},
   "source": [
    "### Python Interpreter Environments\n",
    "\n",
    "When we write and execute Python code, we generally do that within an environment known as an Interpreter. Python interpreter and editing environments can be quite varied. Some options include:\n",
    "\n",
    "1. Starting Python at the command line, by typing 'python' at the command prompt (c:\\ on windows, for example)\n",
    "1. Starting an editor that can edit and run Python, like Idle, which comes built-in with Python,or programming editors like Scite.\n",
    "1. The way we will generally interact with Python is through Jupyter Notebooks like this one, that provide a Python environment that runs in your web browser.  This is the environment you are looking at now, with a mixture of headings, text, and code embedded in a Jupyter Notebook."
   ]
  },
  {
   "cell_type": "markdown",
   "metadata": {},
   "source": [
    "## Hello World!"
   ]
  },
  {
   "cell_type": "markdown",
   "metadata": {},
   "source": [
    "The first programming command demonstrated when you are learning a programming language is usually to make the computer print 'Hello World!'.  In Python, doing this is pretty simple:"
   ]
  },
  {
   "cell_type": "code",
   "execution_count": 2,
   "outputs": [
    {
     "name": "stdout",
     "output_type": "stream",
     "text": [
      "Hello World!\n"
     ]
    }
   ],
   "source": [
    "print(\"Hello World!\")"
   ]
  },
  {
   "cell_type": "markdown",
   "metadata": {},
   "source": [
    "As you can see, there is not much code involved in making this happen.  The word 'print' is a command that Python knows how to process, and the text string 'Hello World!' in quotations is an *argument* being passes to the print command.  You can of course pass any kind of argument to the Python print command, and it will try to *do the right thing* without you having to micro-manage the process."
   ]
  },
  {
   "cell_type": "markdown",
   "metadata": {},
   "source": [
    "## Python as an Interactive Calculator"
   ]
  },
  {
   "cell_type": "markdown",
   "metadata": {},
   "source": [
    "Python can be used as a simple interactive calculator, by just typing in a mathematical expression as you might on a regular or scientific calculator:"
   ]
  },
  {
   "cell_type": "code",
   "execution_count": 3,
   "outputs": [
    {
     "data": {
      "text/plain": [
       "4"
      ]
     },
     "execution_count": 3,
     "metadata": {},
     "output_type": "execute_result"
    }
   ],
   "source": [
    "2+2"
   ]
  },
  {
   "cell_type": "markdown",
   "metadata": {},
   "source": [
    "What happened above is that Python interpreted the line '2+2' to parse that it should understand the first object it encountered as an integer, the second object as a mathematical operator for addition, and the third as another integer.  Python's interpreter mostly just tries to figure out what you mean when you write statements like this, and as long as it is unambiguous and feasible to compute, it just does it without you having to explain things in detail.\n",
    "\n",
    "You can of course use any kinds of numbers -- integers or floating point numbers with decimal places, and any standard mathematical operators, and most of the time you get what you expect:"
   ]
  },
  {
   "cell_type": "code",
   "execution_count": 4,

   "outputs": [
    {
     "data": {
      "text/plain": [
       "12.8"
      ]
     },
     "execution_count": 4,
     "metadata": {},
     "output_type": "execute_result"
    }
   ],
   "source": [
    "3.2*4"
   ]
  },
  {
   "cell_type": "code",
   "execution_count": 5,
   "outputs": [
    {
     "data": {
      "text/plain": [
       "81"
      ]
     },
     "execution_count": 5,
     "metadata": {},
     "output_type": "execute_result"
    }
   ],
   "source": [
    "3**4"
   ]
  },
  {
   "cell_type": "markdown",
   "metadata": {},
   "source": [
    "### A Note on Calculating with Different Data Types"
   ]
  },
  {
   "cell_type": "markdown",
   "metadata": {},
   "source": [
    "But not always.  What happens if we divide 11 by 3? "
   ]
  },
  {
   "cell_type": "code",
   "execution_count": 6,
   "outputs": [
    {
     "data": {
      "text/plain": [
       "3.6666666666666665"
      ]
     },
     "execution_count": 6,
     "metadata": {},
     "output_type": "execute_result"
    }
   ],
   "source": [
    "11/3"
   ]
  },
  {
   "cell_type": "markdown",
   "metadata": {},
   "source": [
    "If you are using Python 3.x, you get a floating point result as you would expect.  In Python 2.x versions, you get a truncated integer division, returning a result of 3.  In Python 2 if you wanted to get the result with decimals you had to make one of the operators a floating point number like this:"
   ]
  },
  {
   "cell_type": "code",
   "execution_count": 7,
   "outputs": [
    {
     "data": {
      "text/plain": [
       "3.6666666666666665"
      ]
     },
     "execution_count": 7,
     "metadata": {},
     "output_type": "execute_result"
    }
   ],
   "source": [
    "11./3"
   ]
  },
  {
   "cell_type": "markdown",
   "metadata": {},
   "source": [
    "## The Pylab Interactive Plotting Environment"
   ]
  },
  {
   "cell_type": "markdown",
   "metadata": {},
   "source": [
    "OK, so maybe using Python as an interactive calculator is not the most compelling case for using Python, even if it does demonstrate that Python has a very shallow learning curve for someone completely new to programming.  You can actually begin using it productively even before learning how to program in it!\n",
    "\n",
    "To give a preview of somewhat more advanced topics, let's look at the interactive plotting mode in Jupyter that we can invoke by using 'magic' commands, and importing some modules: "
   ]
  },
  {
   "cell_type": "code",
<<<<<<< HEAD
   "execution_count": 8,
=======
   "execution_count": 7,
>>>>>>> upstream/master
   "metadata": {
    "collapsed": true
   },
   "outputs": [],
   "source": [
    "#magic command to display matplotlib plots inline within the Jupyter notebook webpage\n",
    "%matplotlib inline\n",
    "#import necessary modules\n",
    "import pandas as pd, numpy as np, matplotlib.pyplot as plt"
   ]
  },
  {
   "cell_type": "markdown",
   "metadata": {},
   "source": [
    "This loads pandas and numpy and the matplotlib plotting environment.  We'll come back to these libraries in more detail later, but now let's look at how they allow us to extend the range of things we can do.  Let's assign 1,000 sequential numbers to a variable labeled x, and create another variable, y, that has some transformation of x, and then plot y against x:"
   ]
  },
  {
   "cell_type": "code",
<<<<<<< HEAD
   "execution_count": 9,
   "metadata": {},
=======
   "execution_count": 10,
   "metadata": {
    "collapsed": false
   },
>>>>>>> upstream/master
   "outputs": [
    {
     "data": {
      "text/plain": [
<<<<<<< HEAD
       "[<matplotlib.lines.Line2D at 0x2672c7abac8>]"
      ]
     },
     "execution_count": 9,
=======
       "[<matplotlib.lines.Line2D at 0x13f781d0320>]"
      ]
     },
     "execution_count": 10,
>>>>>>> upstream/master
     "metadata": {},
     "output_type": "execute_result"
    },
    {
     "data": {
<<<<<<< HEAD
      "image/png": "iVBORw0KGgoAAAANSUhEUgAAAYIAAAD8CAYAAAB6paOMAAAABHNCSVQICAgIfAhkiAAAAAlwSFlz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\nhgAAAABJRU5ErkJggg==\n",
      "text/plain": [
       "<matplotlib.figure.Figure at 0x2672c50fcc0>"
=======
      "image/png": "iVBORw0KGgoAAAANSUhEUgAAAXoAAAD8CAYAAAB5Pm/hAAAABHNCSVQICAgIfAhkiAAAAAlwSFlz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\n",
      "text/plain": [
       "<matplotlib.figure.Figure at 0x13f78176ef0>"
>>>>>>> upstream/master
      ]
     },
     "metadata": {},
     "output_type": "display_data"
    }
   ],
   "source": [
    "x=range(100)\n",
    "y=np.sin(x)\n",
    "plt.plot(x+y)"
   ]
  },
  {
   "cell_type": "markdown",
   "metadata": {},
   "source": [
    "Or here is how we could draw 1,000 random numbers from a normal distribution, and plot the results as a frequency histogram:"
   ]
  },
  {
   "cell_type": "code",
<<<<<<< HEAD
   "execution_count": 10,
   "metadata": {},
=======
   "execution_count": 11,
   "metadata": {
    "collapsed": false
   },
>>>>>>> upstream/master
   "outputs": [
    {
     "data": {
      "text/plain": [
<<<<<<< HEAD
       "(array([  3.,   5.,   6.,   6.,  16.,  26.,  29.,  29.,  50.,  48.,  57.,\n",
       "         58.,  66.,  63.,  82.,  64.,  78.,  52.,  59.,  45.,  46.,  25.,\n",
       "         31.,  18.,  16.,  10.,   8.,   2.,   0.,   2.]),\n",
       " array([-2.71426479, -2.52741787, -2.34057096, -2.15372404, -1.96687713,\n",
       "        -1.78003022, -1.5931833 , -1.40633639, -1.21948948, -1.03264256,\n",
       "        -0.84579565, -0.65894873, -0.47210182, -0.28525491, -0.09840799,\n",
       "         0.08843892,  0.27528583,  0.46213275,  0.64897966,  0.83582658,\n",
       "         1.02267349,  1.2095204 ,  1.39636732,  1.58321423,  1.77006114,\n",
       "         1.95690806,  2.14375497,  2.33060189,  2.5174488 ,  2.70429571,\n",
       "         2.89114263]),\n",
       " <a list of 30 Patch objects>)"
      ]
     },
     "execution_count": 10,
=======
       "(array([  1.,   0.,   0.,   2.,   4.,   1.,   8.,   0.,   2.,  10.,  11.,\n",
       "          8.,  16.,  20.,  17.,  26.,  21.,  27.,  47.,  31.,  53.,  48.,\n",
       "         43.,  53.,  50.,  38.,  65.,  48.,  43.,  33.,  42.,  43.,  32.,\n",
       "         31.,  28.,  19.,  11.,  18.,  14.,  10.,   6.,   7.,   4.,   3.,\n",
       "          2.,   2.,   1.,   0.,   0.,   1.]),\n",
       " array([-3.09596854, -2.97302636, -2.85008417, -2.72714199, -2.60419981,\n",
       "        -2.48125763, -2.35831545, -2.23537327, -2.11243108, -1.9894889 ,\n",
       "        -1.86654672, -1.74360454, -1.62066236, -1.49772018, -1.37477799,\n",
       "        -1.25183581, -1.12889363, -1.00595145, -0.88300927, -0.76006708,\n",
       "        -0.6371249 , -0.51418272, -0.39124054, -0.26829836, -0.14535618,\n",
       "        -0.02241399,  0.10052819,  0.22347037,  0.34641255,  0.46935473,\n",
       "         0.59229692,  0.7152391 ,  0.83818128,  0.96112346,  1.08406564,\n",
       "         1.20700782,  1.32995001,  1.45289219,  1.57583437,  1.69877655,\n",
       "         1.82171873,  1.94466091,  2.0676031 ,  2.19054528,  2.31348746,\n",
       "         2.43642964,  2.55937182,  2.68231401,  2.80525619,  2.92819837,\n",
       "         3.05114055]),\n",
       " <a list of 50 Patch objects>)"
      ]
     },
     "execution_count": 11,
>>>>>>> upstream/master
     "metadata": {},
     "output_type": "execute_result"
    },
    {
     "data": {
<<<<<<< HEAD
      "image/png": "iVBORw0KGgoAAAANSUhEUgAAAXQAAAD8CAYAAABn919SAAAABHNCSVQICAgIfAhkiAAAAAlwSFlz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\n6JLUCANdkhphoEtSIwx0SWrE/wFdzSHI8k1eggAAAABJRU5ErkJggg==\n",
      "text/plain": [
       "<matplotlib.figure.Figure at 0x2672c8735c0>"
=======
      "image/png": "iVBORw0KGgoAAAANSUhEUgAAAXQAAAD8CAYAAABn919SAAAABHNCSVQICAgIfAhkiAAAAAlwSFlz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\nasT/AQH801VLqF3lAAAAAElFTkSuQmCC\n",
      "text/plain": [
       "<matplotlib.figure.Figure at 0x13f781f3198>"
>>>>>>> upstream/master
      ]
     },
     "metadata": {},
     "output_type": "display_data"
    }
   ],
   "source": [
    "x = np.random.randn(1000)\n",
    "plt.hist(x, bins=50)"
   ]
  },
  {
   "cell_type": "markdown",
   "metadata": {},
   "source": [
    "## Getting Some Help"
   ]
  },
  {
   "cell_type": "markdown",
   "metadata": {},
   "source": [
    "A couple of things that IPython does to help you be more productive are useful to introduce here.  One is called tab-completion.  If you can't quite remember the full name of a function, or it is really long and you don't like to type much, you can type the first few characters, and hit the tab key, and the options that begin with those first few characters show up on a menu.\n",
    "\n",
    "The other thing you can make a lot of use of is help!  Is you want to know more about how a method or function works, type the name of the function followed by a question mark. For example, if we wanted to see how to confogure the hist command, we could do:"
   ]
  },
  {
   "cell_type": "code",
<<<<<<< HEAD
   "execution_count": 11,
=======
   "execution_count": 12,
>>>>>>> upstream/master
   "metadata": {
    "collapsed": true
   },
   "outputs": [],
   "source": [
    "plt.hist?"
   ]
  },
  {
   "cell_type": "code",
   "execution_count": 13,
   "metadata": {
    "collapsed": true
   },
   "outputs": [],
   "source": [
    "plt.margins?"
   ]
  },
  {
   "cell_type": "markdown",
   "metadata": {},
   "source": [
    "This brings up help text for this command, in a split window in the IPython Notebook.  After you read the help, you can minimize the help window by dragging the divider down to the bottom of the Notebook window."
   ]
  },
  {
   "cell_type": "markdown",
   "metadata": {},
   "source": [
    "## What is a Program?"
   ]
  },
  {
   "cell_type": "markdown",
   "metadata": {},
   "source": [
    "As Allen Downey explains in Think Python, the main elements of a program are:\n",
    "\n",
    "**input**: Get data from the keyboard, a ﬁle, or some other device.\n",
    "\n",
    "**output**: Display data on the screen or send data to a ﬁle or other device.\n",
    "\n",
    "**math**: Perform basic mathematical operations like addition and multiplication.\n",
    "\n",
    "**conditional execution**: Check for certain conditions and execute the appropriate code.\n",
    "\n",
    "**repetition**: Perform some action repeatedly, usually with some variation.\n",
    "\n",
    "These are common steps that you will find to be a generic recipe for many programs, whether written in Python or any other language."
   ]
  },
  {
   "cell_type": "markdown",
   "metadata": {},
   "source": [
    "## The Basic Data Types"
   ]
  },
  {
   "cell_type": "markdown",
   "metadata": {},
   "source": [
    "Data in Python is interpreted as having a **type**.  In low-level, compiled languages like C or C++, the programmer has to explicitly declare the type of each variable before actually using it.  In Python, the type is inferred at run time, and you can always ask Python what the type of an object is:"
   ]
  },
  {
   "cell_type": "code",
   "execution_count": 12,
<<<<<<< HEAD
   "metadata": {},
=======
   "metadata": {
    "collapsed": false
   },
>>>>>>> upstream/master
   "outputs": [
    {
     "name": "stdout",
     "output_type": "stream",
     "text": [
      "<class 'int'>\n"
     ]
    }
   ],
   "source": [
    "a = 13\n",
    "print (type(a))"
   ]
  },
  {
   "cell_type": "code",
   "execution_count": 13,
<<<<<<< HEAD
   "metadata": {},
=======
   "metadata": {
    "collapsed": false
   },
>>>>>>> upstream/master
   "outputs": [
    {
     "name": "stdout",
     "output_type": "stream",
     "text": [
      "<class 'float'>\n"
     ]
    }
   ],
   "source": [
    "a = a*1.1\n",
    "print (type(a))"
   ]
  },
  {
   "cell_type": "code",
   "execution_count": 14,
<<<<<<< HEAD
   "metadata": {},
=======
   "metadata": {
    "collapsed": false
   },
>>>>>>> upstream/master
   "outputs": [
    {
     "name": "stdout",
     "output_type": "stream",
     "text": [
      "<class 'str'>\n"
     ]
    }
   ],
   "source": [
    "a = 'Hello World!'\n",
    "print (type(a))"
   ]
  },
  {
   "cell_type": "markdown",
   "metadata": {},
   "source": [
    "Notice that when we multiply a, which was initially an integer, by a floaring point (decimal number) the result is **cast** as a float.  This is like the integer divide problem earlier -- using a floating point number in the calculation causes the result of the calculation to become a floating point number.\n",
    "\n",
    "Notice also that we can reassign any value or type to a variable.  We began with **a** being an integer, then changed its value to a float, and then to a string (text).  Variables are dynamically updated in this way based on values assigned to them."
   ]
  },
  {
   "cell_type": "markdown",
   "metadata": {},
   "source": [
    "## Variables"
   ]
  },
  {
   "cell_type": "markdown",
   "metadata": {},
   "source": [
    "Variables are objects that we want to associate some kind of values to.  They can be of any type: "
   ]
  },
  {
   "cell_type": "code",
   "execution_count": 15,
<<<<<<< HEAD
   "metadata": {},
=======
   "metadata": {
    "collapsed": false
   },
>>>>>>> upstream/master
   "outputs": [
    {
     "data": {
      "text/plain": [
       "'San Francisco'"
      ]
     },
     "execution_count": 15,
     "metadata": {},
     "output_type": "execute_result"
    }
   ],
   "source": [
    "city = 'San Francisco'\n",
    "city"
   ]
  },
  {
   "cell_type": "code",
   "execution_count": 16,
<<<<<<< HEAD
   "metadata": {},
=======
   "metadata": {
    "collapsed": false
   },
>>>>>>> upstream/master
   "outputs": [
    {
     "data": {
      "text/plain": [
       "str"
      ]
     },
     "execution_count": 16,
     "metadata": {},
     "output_type": "execute_result"
    }
   ],
   "source": [
    "type(city)"
   ]
  },
  {
   "cell_type": "code",
   "execution_count": 17,
<<<<<<< HEAD
   "metadata": {},
=======
   "metadata": {
    "collapsed": false
   },
>>>>>>> upstream/master
   "outputs": [
    {
     "data": {
      "text/plain": [
       "345"
      ]
     },
     "execution_count": 17,
     "metadata": {},
     "output_type": "execute_result"
    }
   ],
   "source": [
    "x = 345\n",
    "x"
   ]
  },
  {
   "cell_type": "code",
<<<<<<< HEAD
   "execution_count": 1,
   "metadata": {},
   "outputs": [
    {
     "ename": "NameError",
     "evalue": "name 'x' is not defined",
     "output_type": "error",
     "traceback": [
      "\u001b[1;31m---------------------------------------------------------------------------\u001b[0m",
      "\u001b[1;31mNameError\u001b[0m                                 Traceback (most recent call last)",
      "\u001b[1;32m<ipython-input-1-c6ec0f91e335>\u001b[0m in \u001b[0;36m<module>\u001b[1;34m()\u001b[0m\n\u001b[1;32m----> 1\u001b[1;33m \u001b[0mtype\u001b[0m\u001b[1;33m(\u001b[0m\u001b[0mx\u001b[0m\u001b[1;33m)\u001b[0m\u001b[1;33m\u001b[0m\u001b[0m\n\u001b[0m",
      "\u001b[1;31mNameError\u001b[0m: name 'x' is not defined"
     ]
=======
   "execution_count": 18,
   "metadata": {
    "collapsed": false
   },
   "outputs": [
    {
     "data": {
      "text/plain": [
       "int"
      ]
     },
     "execution_count": 18,
     "metadata": {},
     "output_type": "execute_result"
>>>>>>> upstream/master
    }
   ],
   "source": [
    "type(x)"
   ]
  },
  {
   "cell_type": "code",
<<<<<<< HEAD
   "execution_count": 18,
   "metadata": {},
=======
   "execution_count": 19,
   "metadata": {
    "collapsed": false
   },
>>>>>>> upstream/master
   "outputs": [
    {
     "data": {
      "text/plain": [
       "2.324"
      ]
     },
<<<<<<< HEAD
     "execution_count": 18,
=======
     "execution_count": 19,
>>>>>>> upstream/master
     "metadata": {},
     "output_type": "execute_result"
    }
   ],
   "source": [
    "y = 2.324\n",
    "y"
   ]
  },
  {
   "cell_type": "code",
<<<<<<< HEAD
   "execution_count": 19,
   "metadata": {},
=======
   "execution_count": 20,
   "metadata": {
    "collapsed": false
   },
>>>>>>> upstream/master
   "outputs": [
    {
     "data": {
      "text/plain": [
       "float"
      ]
     },
<<<<<<< HEAD
     "execution_count": 19,
=======
     "execution_count": 20,
>>>>>>> upstream/master
     "metadata": {},
     "output_type": "execute_result"
    }
   ],
   "source": [
    "type(y)"
   ]
  },
  {
   "cell_type": "markdown",
   "metadata": {},
   "source": [
    "You can use a lot of names for a variable, but there are exceptions (another word for error!).  Some rules apply.  You can't use Python reserved words, or start with a number, or use nonstandard characters like a copyright symbol.  You'll get an **exception** if you do:"
   ]
  },
  {
   "cell_type": "code",
<<<<<<< HEAD
   "execution_count": 20,
   "metadata": {},
   "outputs": [
    {
     "ename": "SyntaxError",
     "evalue": "invalid syntax (<ipython-input-20-c4fd6a35c330>, line 1)",
     "output_type": "error",
     "traceback": [
      "\u001b[1;36m  File \u001b[1;32m\"<ipython-input-20-c4fd6a35c330>\"\u001b[1;36m, line \u001b[1;32m1\u001b[0m\n\u001b[1;33m    2x = 24\u001b[0m\n\u001b[1;37m     ^\u001b[0m\n\u001b[1;31mSyntaxError\u001b[0m\u001b[1;31m:\u001b[0m invalid syntax\n"
=======
   "execution_count": 21,
   "metadata": {
    "collapsed": false
   },
   "outputs": [
    {
     "ename": "SyntaxError",
     "evalue": "invalid syntax (<ipython-input-21-c4fd6a35c330>, line 1)",
     "output_type": "error",
     "traceback": [
      "\u001b[0;36m  File \u001b[0;32m\"<ipython-input-21-c4fd6a35c330>\"\u001b[0;36m, line \u001b[0;32m1\u001b[0m\n\u001b[0;31m    2x = 24\u001b[0m\n\u001b[0m     ^\u001b[0m\n\u001b[0;31mSyntaxError\u001b[0m\u001b[0;31m:\u001b[0m invalid syntax\n"
>>>>>>> upstream/master
     ]
    }
   ],
   "source": [
    "2x = 24"
   ]
  },
  {
   "cell_type": "markdown",
   "metadata": {},
   "source": [
    "And here are the 31 keywords reserved by Python (in version 2), that are ineligible for use as variable names:\n",
    "\n",
    "and, as, assert, break, class, continue, def, del, elif, else, except, exec, finally, for, from, global, if, import, in, is, lambda, not, or, pass, print, raise, return, try, while, with, yield."
   ]
  },
  {
   "cell_type": "markdown",
   "metadata": {},
   "source": [
    "## Operators, Expressions and Statements"
   ]
  },
  {
   "cell_type": "markdown",
   "metadata": {},
   "source": [
    "Operators are symbols used to indicste different operations, mostly mathematical, but some operate on strings also.\n",
    "\n",
    "The obvious ones are +,-,*,/, and \\**, indicating addition, subtraction, multiplication, division and exponentiation."
   ]
  },
  {
   "cell_type": "code",
   "execution_count": 21,
   "metadata": {},
   "outputs": [
    {
     "data": {
      "text/plain": [
       "25"
      ]
     },
     "execution_count": 21,
     "metadata": {},
     "output_type": "execute_result"
    }
   ],
   "source": [
    "5*5"
   ]
  },
  {
   "cell_type": "code",
   "execution_count": 22,
   "metadata": {},
   "outputs": [
    {
     "name": "stdout",
     "output_type": "stream",
     "text": [
      "2.380952380952381\n"
     ]
    }
   ],
   "source": [
    "x = 5\n",
    "x = x/2.1\n",
    "print (x)"
   ]
  },
  {
   "cell_type": "code",
   "execution_count": 23,
   "metadata": {},
   "outputs": [
    {
     "name": "stdout",
     "output_type": "stream",
     "text": [
      "5.668934240362812\n"
     ]
    }
   ],
   "source": [
    "y = x**2\n",
    "print (y)"
   ]
  },
  {
   "cell_type": "markdown",
   "metadata": {},
   "source": [
    "Some of these operators also work on strings, but the behavior is different:"
   ]
  },
  {
   "cell_type": "code",
   "execution_count": 24,
   "metadata": {},
   "outputs": [
    {
     "name": "stdout",
     "output_type": "stream",
     "text": [
      "Lexington, Kentucky\n"
     ]
    }
   ],
   "source": [
    "city = 'Lexington'\n",
    "sep = ', '\n",
    "state = 'Kentucky'\n",
    "location = city+sep+state\n",
    "print (location)"
   ]
  },
  {
   "cell_type": "code",
   "execution_count": 25,
   "metadata": {},
   "outputs": [
    {
     "data": {
      "text/plain": [
       "'LexingtonLexingtonLexingtonLexington'"
      ]
     },
     "execution_count": 25,
     "metadata": {},
     "output_type": "execute_result"
    }
   ],
   "source": [
    "city*4"
   ]
  },
  {
   "cell_type": "markdown",
   "metadata": {},
   "source": [
    "Expressions are combinations of values, variables and operators, like most of the lines in this section.  Statements often include expressions, but unlike expressions they do not always have a value (for example a print statement, and represent a line of code that Python can execute."
   ]
  },
  {
   "cell_type": "markdown",
   "metadata": {},
   "source": [
    "## Python Scripts"
   ]
  },
  {
   "cell_type": "markdown",
   "metadata": {},
   "source": [
    "All the examples we have typed in to the Jupyter Notebook have been statements  evaluated interactively as soon as we type them and execute them with a Shift-Enter.  While this is an excellent way to develop confidence in learning Python, and later for interactively exploring data, it is also often useful or necessary to store statements in a Python script that can be rerun at any time.\n",
    "\n",
    "Python scripts are just text files stored on disk, containing Python statements and comments.  The convention of using **.py** as the suffix for a Python script makes it easy to find and run such scripts and to have the Python interpreter parse the statements and execute them one at a time, from top to bottom, as though they had been entered interactively (there are some minor differences in how the interpreter parses interactive commands as compared to scripts, but we will ignore that for now).\n",
    "\n",
    "Comments are a good thing to add to scripts to provide some documentation of what the script is supposed to do, or how to use the script, or to remind yourself later what you had in mind when you wrote the script.  The convention is to use a # sign at the beginning of the line to indicate that that line is a comment, and not to be parsed and executed by Python.  It does not significantly slow down Python to have to step through comments and ignore them -- so use comments liberally!"
   ]
  },
  {
   "cell_type": "code",
<<<<<<< HEAD
   "execution_count": 26,
   "metadata": {},
=======
   "execution_count": 22,
   "metadata": {
    "collapsed": false
   },
>>>>>>> upstream/master
   "outputs": [
    {
     "data": {
      "text/plain": [
<<<<<<< HEAD
       "array([ 10.96613054,  10.96940524,  10.84940718,  11.08238026,\n",
       "        10.73058226,  10.76711913,  10.63455266,  10.96634255,\n",
       "        10.83141484,  10.82942069])"
      ]
     },
     "execution_count": 26,
=======
       "array([ 10.47663974,  10.89452014,  10.77987761,  11.00507703,\n",
       "        10.68785291,  11.01841889,  10.85064592,  10.88546452,\n",
       "        10.66552576,  11.06387312])"
      ]
     },
     "execution_count": 22,
>>>>>>> upstream/master
     "metadata": {},
     "output_type": "execute_result"
    }
   ],
   "source": [
    "# This is a comment explaining the code below\n",
    "# which I would not remember in detail later without comments\n",
    "income = 50000.0+10000*np.random.randn(10)\n",
    "y = np.log(income)\n",
    "y"
   ]
  },
  {
   "cell_type": "markdown",
   "metadata": {},
   "source": [
    "You can import and export Python scripts from the IPython Notebook.  Once you have a notebook you want to save as a Python script, you can select 'File', 'Download as', and then 'Python (.py)'.  This will save the code as a Python script that can be reloaded in a Notebook or executed in **Batch** mode, or run from beginning to end sequentially, without waiting for you to execute each cell one by one.\n",
    "\n",
    "Python scripts can be run at the command line by typing python and then the name of the python script you want to run, as in: **c:\\python test.py**. They can also be loaded into an IPython session, such as into a Notebook, and run there.\n",
    "\n",
    "For now, look at the script.  You will see that it is just a text file.  I recommend using a good text editor with syntax highlighting, such as Notepad++.  This is already on the lab machines.  You can right click on the file and select *Edit with Notepad++*.  You can download the program for yourself here: https://notepad-plus-plus.org/\n",
    "\n",
    "Now, open a command prompt, and try running the python script you downloaded.  What happens? \n"
   ]
  },
  {
   "cell_type": "markdown",
   "metadata": {},
   "source": [
    "## Important Note!\n",
    "\n",
    "The lab computers are set up such that they will wipe clean anything you put on the hard drive as soon as you log out.  This is nice, because it means we can change what we want, but it means you need to be especially careful to save your work somewhere other than these machines!  \n",
    "\n",
    "For now, a thumb drive is fine.  Next week we will get into using github as a repository to store your code.  It may be easier, however, to work from your own computer.  If you have a laptop, you can bring it to class and work there instead of the lab machines.  If you have a desktop, we will use a program called NoMachine (https://www.nomachine.com/) to allow you to work on it remotely while sitting in class.  The homework for this week involves getting set up with the appropriate software on whichever computer you will be using.  "
   ]
  },
  {
   "cell_type": "markdown",
   "metadata": {},
   "source": [
    "## In-Class Work\n",
    "\n",
    "Please spend the rest of class familiarizing yourself with the basic python syntax and the jupyter notebook, pivoting from the examples shown in this notebook.  "
   ]
  },
  {
   "cell_type": "markdown",
   "metadata": {},
   "source": [
    "## Exercise 1"
   ]
  },
  {
   "cell_type": "markdown",
   "metadata": {},
   "source": [
    "Exercise is due on Monday at 5 pm.  Please do the following: \n",
    "\n",
    "**1. Install Notepad++ **\n",
    "\n",
    "Download the installer from here: https://notepad-plus-plus.org/ and familiarize yourself with the basic operation.  \n",
    "\n",
    "**2. Install the Anaconda Python distribution **\n",
    "\n",
    "Read the Anaconda QuickStart guide: https://docs.continuum.io/anaconda/install (Links to an external site.)\n",
    "Read the Jupyter Notebook overview: http://jupyter-notebook.readthedocs.io/en/latest/notebook.html (Links to an external site.) (Links to an external site.)\n",
    "If you're not already comfortable with the command prompt (windows) or terminal (mac), read: http://dosprompt.info/ (Links to an external site.) or http://guides.macrumors.com/Terminal (Links to an external site.) to familiarize yourself with the basic commands (such as changing directories and listing the contents of a directory) discussed in these links so that you can use the command prompt/terminal to access Python.\n",
    "\n",
    "\n",
    "Download the Anaconda installer for Python 3.5 from https://store.continuum.io/cshop/anaconda/ (Links to an external site.)\n",
    "Make sure you download the correct installer for your operating system (Windows, Mac, Linux, etc) and architecture (32 or 64 bit). If you don't know if your operating system is 32 or 64 bit, Google for how to check it.  And make sure you download the installer for Python 3.5, not 2.7.\n",
    "Run the Anaconda installer.\n",
    "In the Anaconda installer dialog, choose to install for all users, accept the default destination folder (something like c:\\anaconda), and make sure both tick boxes are ticked for \"add anaconda to the system path\" and \"register anaconda as the system python\"\n",
    "Jupyter Notebook\n",
    "\n",
    "Open your command prompt (windows) or terminal (mac). If you don't know how, just Google it!\n",
    "run: jupyter notebook\n",
    "You should see the Jupyter server running in your browser. Click \"New\" > \"Python 3\"\n",
    "You are now in a new Jupyter notebook. In the first cell, type: print (\"Hello World!\")\n",
    "Hit shift + Enter to run the cell (it should print Hello World if things are working properly)\n",
    "Take a screenshot and save it to your computer. \n",
    "\n",
    "**3. Install NoMachine (if you plan to work remotely on your desktop) **\n",
    "\n",
    "NoMachine is available here: https://www.nomachine.com/.  \n",
    "\n",
    "Follow the getting started guide to get set up and figure out how to use it: https://www.nomachine.com/getting-started-with-nomachine \n",
    "\n",
    "*Important!*  You will want to save a screenshot of the intro screen that looks like this: \n",
    "![NoMachine Screenshot](NoMachine.png)\n",
    "This will show you the IP address of your computer, which you will need to connect.  Please touch base with a friend in the class (because you will need two computers) to test that it works.  \n",
    "\n",
    "**4. Create a Github account **\n",
    "\n",
    "Go to: https://github.com/, create an account, and add a profile picture.  \n",
    "\n",
    "**5. Send me an email **\n",
    "\n",
    "Send me an email containing:  \n",
    "\n",
    "1. The \"Hello World!\" screenshot. \n",
    "2. The NoMachine screenshot (if applicable). \n",
    "3. Your github username.  \n",
    "\n",
    "When I invite you to join our class Github page, please accept.  \n"
   ]
  },
  {
   "cell_type": "code",
   "execution_count": null,
   "metadata": {
    "collapsed": true
   },
   "outputs": [],
   "source": []
  }
 ],
 "metadata": {
  "anaconda-cloud": {},
  "kernelspec": {
   "display_name": "Python 3",
   "language": "python",
   "name": "python3"
  },
  "language_info": {
   "codemirror_mode": {
    "name": "ipython",
    "version": 3
   },
   "file_extension": ".py",
   "mimetype": "text/x-python",
   "name": "python",
   "nbconvert_exporter": "python",
   "pygments_lexer": "ipython3",
   "version": "3.6.3"
  }
 },
 "nbformat": 4,
 "nbformat_minor": 1
}
