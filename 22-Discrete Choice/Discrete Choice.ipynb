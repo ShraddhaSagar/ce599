{
 "cells": [
  {
   "cell_type": "markdown",
   "metadata": {
    "collapsed": true
   },
   "source": [
    "# Discrete Choice Modeling\n",
    "\n",
    "For more detailed information, please see: \n",
    "\n",
    "Koppelman & Bhat (2006) A Self-Instructing Course in Mode Choice Modeling\n",
    "http://www.caee.utexas.edu/prof/bhat/COURSES/LM_Draft_060131Final-060630.pdf \n",
    "\n",
    "\n",
    "### Motivation\n",
    "\n",
    "Not everything has a continous dependent variable.  Some things are discrete.  Coke or Pepsi?  Soda or pop?  Let's think of a few...\n",
    "\n",
    "Discrete choice models give us a way to model this.  \n",
    "\n",
    "\n",
    "### Elements\n",
    "\n",
    "In this framework, there are several elements to the choice decision process: \n",
    "\n",
    "- The decision maker\n",
    "- The alternatives\n",
    "- Attributes of the alternatives\n",
    "- The decision rule\n",
    "\n",
    "\n",
    "### Structure and Assumptions\n",
    "\n",
    "We will use a multi-nomial logit (MNL) model.  It takes the form: \n",
    "\n",
    "$Pr(i) = \\frac{e^U_i}{\\sum_{j=1}^{J} U_j}$\n",
    "\n",
    "where $U_i = \\beta X_i + \\epsilon_i$ and $\\epsilon_i$ follows a Gumbel distribution. \n",
    "\n",
    "This equation defines the decision rule.  A bit of time to work it through...\n",
    "\n",
    "### Libraries\n",
    "\n",
    "Will be using [Statsmodels](http://statsmodels.sourceforge.net/).  Start with: \n",
    "\n",
    "    conda install statsmodels\n",
    "    \n",
    "    "
   ]
  },
  {
   "cell_type": "markdown",
   "metadata": {},
   "source": [
    "### Today's objective\n",
    "\n",
    "Today, we want to predict vehicle ownership.  \n",
    "\n",
    "We'll be using the PUMS data again.  This time we'll use the household records instead of the person records, and households will be our decision-making unit.  You can find the data here: \n",
    "\n",
    "https://www.census.gov/programs-surveys/acs/data/pums.html\n",
    "\n",
    "Please download the Kentucky 1-year household data.  "
   ]
  },
  {
   "cell_type": "code",
   "execution_count": 2,
   "metadata": {
    "collapsed": true
   },
   "outputs": [],
   "source": [
    "import pandas as pd\n",
    "import seaborn as sns\n",
    "import numpy as np\n",
    "import statsmodels.formula.api as smf\n",
    "\n",
    "# this allows plots to appear directly in the notebook\n",
    "%matplotlib inline"
   ]
  },
  {
   "cell_type": "code",
   "execution_count": 6,
   "metadata": {},
   "outputs": [
    {
     "data": {
      "text/html": [
       "<div>\n",
       "<style>\n",
       "    .dataframe thead tr:only-child th {\n",
       "        text-align: right;\n",
       "    }\n",
       "\n",
       "    .dataframe thead th {\n",
       "        text-align: left;\n",
       "    }\n",
       "\n",
       "    .dataframe tbody tr th {\n",
       "        vertical-align: top;\n",
       "    }\n",
       "</style>\n",
       "<table border=\"1\" class=\"dataframe\">\n",
       "  <thead>\n",
       "    <tr style=\"text-align: right;\">\n",
       "      <th></th>\n",
       "      <th>RT</th>\n",
       "      <th>SERIALNO</th>\n",
       "      <th>ST</th>\n",
       "      <th>DIVISION</th>\n",
       "      <th>PUMA</th>\n",
       "      <th>REGION</th>\n",
       "      <th>ADJHSG</th>\n",
       "      <th>ADJINC</th>\n",
       "      <th>WGTP</th>\n",
       "      <th>NP</th>\n",
       "      <th>...</th>\n",
       "      <th>wgtp71</th>\n",
       "      <th>wgtp72</th>\n",
       "      <th>wgtp73</th>\n",
       "      <th>wgtp74</th>\n",
       "      <th>wgtp75</th>\n",
       "      <th>wgtp76</th>\n",
       "      <th>wgtp77</th>\n",
       "      <th>wgtp78</th>\n",
       "      <th>wgtp79</th>\n",
       "      <th>wgtp80</th>\n",
       "    </tr>\n",
       "  </thead>\n",
       "  <tbody>\n",
       "    <tr>\n",
       "      <th>0</th>\n",
       "      <td>H</td>\n",
       "      <td>42</td>\n",
       "      <td>21</td>\n",
       "      <td>6</td>\n",
       "      <td>2700</td>\n",
       "      <td>3</td>\n",
       "      <td>1000000</td>\n",
       "      <td>1007588</td>\n",
       "      <td>25</td>\n",
       "      <td>5</td>\n",
       "      <td>...</td>\n",
       "      <td>8</td>\n",
       "      <td>24</td>\n",
       "      <td>26</td>\n",
       "      <td>23</td>\n",
       "      <td>28</td>\n",
       "      <td>25</td>\n",
       "      <td>38</td>\n",
       "      <td>37</td>\n",
       "      <td>40</td>\n",
       "      <td>35</td>\n",
       "    </tr>\n",
       "    <tr>\n",
       "      <th>1</th>\n",
       "      <td>H</td>\n",
       "      <td>45</td>\n",
       "      <td>21</td>\n",
       "      <td>6</td>\n",
       "      <td>2600</td>\n",
       "      <td>3</td>\n",
       "      <td>1000000</td>\n",
       "      <td>1007588</td>\n",
       "      <td>84</td>\n",
       "      <td>2</td>\n",
       "      <td>...</td>\n",
       "      <td>95</td>\n",
       "      <td>74</td>\n",
       "      <td>76</td>\n",
       "      <td>151</td>\n",
       "      <td>88</td>\n",
       "      <td>25</td>\n",
       "      <td>93</td>\n",
       "      <td>25</td>\n",
       "      <td>29</td>\n",
       "      <td>105</td>\n",
       "    </tr>\n",
       "    <tr>\n",
       "      <th>2</th>\n",
       "      <td>H</td>\n",
       "      <td>49</td>\n",
       "      <td>21</td>\n",
       "      <td>6</td>\n",
       "      <td>1704</td>\n",
       "      <td>3</td>\n",
       "      <td>1000000</td>\n",
       "      <td>1007588</td>\n",
       "      <td>82</td>\n",
       "      <td>2</td>\n",
       "      <td>...</td>\n",
       "      <td>87</td>\n",
       "      <td>69</td>\n",
       "      <td>29</td>\n",
       "      <td>83</td>\n",
       "      <td>108</td>\n",
       "      <td>24</td>\n",
       "      <td>27</td>\n",
       "      <td>128</td>\n",
       "      <td>83</td>\n",
       "      <td>141</td>\n",
       "    </tr>\n",
       "    <tr>\n",
       "      <th>3</th>\n",
       "      <td>H</td>\n",
       "      <td>121</td>\n",
       "      <td>21</td>\n",
       "      <td>6</td>\n",
       "      <td>1300</td>\n",
       "      <td>3</td>\n",
       "      <td>1000000</td>\n",
       "      <td>1007588</td>\n",
       "      <td>12</td>\n",
       "      <td>1</td>\n",
       "      <td>...</td>\n",
       "      <td>21</td>\n",
       "      <td>13</td>\n",
       "      <td>18</td>\n",
       "      <td>10</td>\n",
       "      <td>4</td>\n",
       "      <td>10</td>\n",
       "      <td>4</td>\n",
       "      <td>21</td>\n",
       "      <td>11</td>\n",
       "      <td>25</td>\n",
       "    </tr>\n",
       "    <tr>\n",
       "      <th>4</th>\n",
       "      <td>H</td>\n",
       "      <td>143</td>\n",
       "      <td>21</td>\n",
       "      <td>6</td>\n",
       "      <td>1400</td>\n",
       "      <td>3</td>\n",
       "      <td>1000000</td>\n",
       "      <td>1007588</td>\n",
       "      <td>53</td>\n",
       "      <td>2</td>\n",
       "      <td>...</td>\n",
       "      <td>17</td>\n",
       "      <td>56</td>\n",
       "      <td>61</td>\n",
       "      <td>107</td>\n",
       "      <td>41</td>\n",
       "      <td>44</td>\n",
       "      <td>66</td>\n",
       "      <td>64</td>\n",
       "      <td>81</td>\n",
       "      <td>51</td>\n",
       "    </tr>\n",
       "  </tbody>\n",
       "</table>\n",
       "<p>5 rows × 230 columns</p>\n",
       "</div>"
      ],
      "text/plain": [
       "  RT  SERIALNO  ST  DIVISION  PUMA  REGION   ADJHSG   ADJINC  WGTP  NP  \\\n",
       "0  H        42  21         6  2700       3  1000000  1007588    25   5   \n",
       "1  H        45  21         6  2600       3  1000000  1007588    84   2   \n",
       "2  H        49  21         6  1704       3  1000000  1007588    82   2   \n",
       "3  H       121  21         6  1300       3  1000000  1007588    12   1   \n",
       "4  H       143  21         6  1400       3  1000000  1007588    53   2   \n",
       "\n",
       "    ...    wgtp71  wgtp72  wgtp73  wgtp74  wgtp75  wgtp76  wgtp77  wgtp78  \\\n",
       "0   ...         8      24      26      23      28      25      38      37   \n",
       "1   ...        95      74      76     151      88      25      93      25   \n",
       "2   ...        87      69      29      83     108      24      27     128   \n",
       "3   ...        21      13      18      10       4      10       4      21   \n",
       "4   ...        17      56      61     107      41      44      66      64   \n",
       "\n",
       "   wgtp79  wgtp80  \n",
       "0      40      35  \n",
       "1      29     105  \n",
       "2      83     141  \n",
       "3      11      25  \n",
       "4      81      51  \n",
       "\n",
       "[5 rows x 230 columns]"
      ]
     },
     "execution_count": 6,
     "metadata": {},
     "output_type": "execute_result"
    }
   ],
   "source": [
    "# get the data\n",
    "df = pd.read_csv('data/ss16hky.csv')\n",
    "df.head()"
   ]
  },
  {
   "cell_type": "code",
   "execution_count": 7,
   "metadata": {},
   "outputs": [
    {
     "data": {
      "text/plain": [
       "18038"
      ]
     },
     "execution_count": 7,
     "metadata": {},
     "output_type": "execute_result"
    }
   ],
   "source": [
    "# keep only occupied housing units\n",
    "'''\n",
    "NP 2\n",
    "Number of person records following this housing record\n",
    "00 .Vacant unit\n",
    "01 .One person record (one person in household or any person in\n",
    ".group quarters)\n",
    "02..20 .Number of person records (number of persons in household)\n",
    "\n",
    "TYPE 1\n",
    "Type of unit\n",
    "1 .Housing unit\n",
    "2 .Institutional group quarters\n",
    "3 .Noninstitutional group quarters\n",
    "'''\n",
    "\n",
    "df = df[df['TYPE']==1]\n",
    "df = df[df['NP']>0]\n",
    "len(df)"
   ]
  },
  {
   "cell_type": "markdown",
   "metadata": {},
   "source": [
    "### Look at the data\n",
    "\n",
    "It is often a good idea to look at the data we want to model, and see how it relates to some variables we expect to be important.  We can do this using seaborn, which we learned about a few weeks ago.  "
   ]
  },
  {
   "cell_type": "code",
   "execution_count": 8,
   "metadata": {},
   "outputs": [
    {
     "data": {
      "text/plain": [
       "<matplotlib.axes._subplots.AxesSubplot at 0x2d3d016b668>"
      ]
     },
     "execution_count": 8,
     "metadata": {},
     "output_type": "execute_result"
    },
    {
     "data": {
      "image/png": "[encoded data removed]",
      "text/plain": [
       "<matplotlib.figure.Figure at 0x2d3d016b208>"
      ]
     },
     "metadata": {},
     "output_type": "display_data"
    }
   ],
   "source": [
    "'''\n",
    "10\n",
    "VEH 1\n",
    "Vehicles (1 ton or less) available\n",
    "b .N/A (GQ/vacant)\n",
    "0 .No vehicles\n",
    "1 .1 vehicle\n",
    "2 .2 vehicles\n",
    "3 .3 vehicles\n",
    "4 .4 vehicles\n",
    "5 .5 vehicles\n",
    "6 .6 or more vehicles\n",
    "'''\n",
    "\n",
    "sns.distplot(df['VEH'])"
   ]
  },
  {
   "cell_type": "code",
   "execution_count": 9,
   "metadata": {},
   "outputs": [
    {
     "data": {
      "text/plain": [
       "<matplotlib.axes._subplots.AxesSubplot at 0x2d3d04faa20>"
      ]
     },
     "execution_count": 9,
     "metadata": {},
     "output_type": "execute_result"
    },
    {
     "data": {
      "image/png": "[encoded data removed]",
      "text/plain": [
       "<matplotlib.figure.Figure at 0x2d3d04c8be0>"
      ]
     },
     "metadata": {},
     "output_type": "display_data"
    }
   ],
   "source": [
    "# there aren't very many above 3, so group all of those\n",
    "df['VEH'] = df['VEH'].apply(lambda x : min(x, 3))\n",
    "df['VEH'] = df['VEH'].astype(int)\n",
    "\n",
    "sns.distplot(df['VEH'])"
   ]
  },
  {
   "cell_type": "markdown",
   "metadata": {},
   "source": [
    "### Estimating a model\n",
    "\n",
    "OK, that's fine, we can do plots, but we want some actual numbers.  For this, we want to estimate what the model coefficients are. "
   ]
  },
  {
   "cell_type": "code",
   "execution_count": null,
   "metadata": {
    "collapsed": true
   },
   "outputs": [],
   "source": [
    "####from scipy import stats\n",
    "####stats.chisqprob = lambda chisq, df: stats.chi2.sf(chisq, df)"
   ]
  },
  {
   "cell_type": "code",
   "execution_count": 10,
   "metadata": {},
   "outputs": [
    {
     "name": "stdout",
     "output_type": "stream",
     "text": [
      "Optimization terminated successfully.\n",
      "         Current function value: 1.258694\n",
      "         Iterations 6\n",
      "                          MNLogit Regression Results                          \n",
      "==============================================================================\n",
      "Dep. Variable:                    VEH   No. Observations:                18038\n",
      "Model:                        MNLogit   Df Residuals:                    18035\n",
      "Method:                           MLE   Df Model:                            0\n",
      "Date:                Tue, 10 Apr 2018   Pseudo R-squ.:                   0.000\n",
      "Time:                        13:17:17   Log-Likelihood:                -22704.\n",
      "converged:                       True   LL-Null:                       -22704.\n",
      "                                        LLR p-value:                       nan\n",
      "==============================================================================\n",
      "     VEH=1       coef    std err          z      P>|z|      [0.025      0.975]\n",
      "------------------------------------------------------------------------------\n",
      "Intercept      1.4739      0.031     47.677      0.000       1.413       1.534\n",
      "------------------------------------------------------------------------------\n",
      "     VEH=2       coef    std err          z      P>|z|      [0.025      0.975]\n",
      "------------------------------------------------------------------------------\n",
      "Intercept      1.6839      0.030     55.457      0.000       1.624       1.743\n",
      "------------------------------------------------------------------------------\n",
      "     VEH=3       coef    std err          z      P>|z|      [0.025      0.975]\n",
      "------------------------------------------------------------------------------\n",
      "Intercept      1.1859      0.032     37.222      0.000       1.123       1.248\n",
      "==============================================================================\n"
     ]
    }
   ],
   "source": [
    "# Here is the constants only model. \n",
    "mod = smf.MNLogit.from_formula(formula='VEH ~ 1', data=df) #multinomial logit regression- MN means more than one allowed\n",
    "res = mod.fit()\n",
    "print(res.summary())"
   ]
  },
  {
   "cell_type": "raw",
   "metadata": {},
   "source": [
    "Utility of 0 cars = 0 \n",
    "U of 1 car = 1.4739\n",
    "U of 2 car = 1.6839\n",
    "U of 3 car = 1.1859\n",
    "\n",
    "can plug this into the probability formula "
   ]
  },
  {
   "cell_type": "markdown",
   "metadata": {},
   "source": [
    "Notice a few things: \n",
    "\n",
    "1. Goodness of fit measures\n",
    "2. Separate coefficients for each alternative"
   ]
  },
  {
   "cell_type": "code",
   "execution_count": 11,
   "metadata": {},
   "outputs": [
    {
     "name": "stdout",
     "output_type": "stream",
     "text": [
      "Optimization terminated successfully.\n",
      "         Current function value: 1.150948\n",
      "         Iterations 7\n",
      "                          MNLogit Regression Results                          \n",
      "==============================================================================\n",
      "Dep. Variable:                    VEH   No. Observations:                18038\n",
      "Model:                        MNLogit   Df Residuals:                    18032\n",
      "Method:                           MLE   Df Model:                            3\n",
      "Date:                Tue, 10 Apr 2018   Pseudo R-squ.:                 0.08560\n",
      "Time:                        13:17:23   Log-Likelihood:                -20761.\n",
      "converged:                       True   LL-Null:                       -22704.\n",
      "                                        LLR p-value:                     0.000\n",
      "==============================================================================\n",
      "     VEH=1       coef    std err          z      P>|z|      [0.025      0.975]\n",
      "------------------------------------------------------------------------------\n",
      "Intercept      1.4213      0.073     19.599      0.000       1.279       1.563\n",
      "NP             0.0314      0.039      0.799      0.424      -0.046       0.108\n",
      "------------------------------------------------------------------------------\n",
      "     VEH=2       coef    std err          z      P>|z|      [0.025      0.975]\n",
      "------------------------------------------------------------------------------\n",
      "Intercept     -0.0896      0.073     -1.227      0.220      -0.233       0.053\n",
      "NP             0.8669      0.038     22.962      0.000       0.793       0.941\n",
      "------------------------------------------------------------------------------\n",
      "     VEH=3       coef    std err          z      P>|z|      [0.025      0.975]\n",
      "------------------------------------------------------------------------------\n",
      "Intercept     -1.2908      0.078    -16.475      0.000      -1.444      -1.137\n",
      "NP             1.1169      0.039     28.917      0.000       1.041       1.193\n",
      "==============================================================================\n"
     ]
    }
   ],
   "source": [
    "# That's fine, but we may try some more things.  Perhaps age matters. \n",
    "# More people -> more cars? \n",
    "\n",
    "mod = smf.MNLogit.from_formula(formula='VEH ~ NP + 1', data=df)\n",
    "res = mod.fit()\n",
    "print(res.summary())"
   ]
  },
  {
   "cell_type": "code",
   "execution_count": null,
   "metadata": {
    "collapsed": true
   },
   "outputs": [],
   "source": [
    "Utility equations\n",
    "U1 = 1.4213 + 0.0314"
   ]
  },
  {
   "cell_type": "markdown",
   "metadata": {},
   "source": [
    "We can apply this model"
   ]
  },
  {
   "cell_type": "markdown",
   "metadata": {},
   "source": [
    "### Categorical variables\n",
    "\n",
    "We may also want to include categorical variables.  We can include them by calculating a 'dummy' variable, which is 1 if the value is in a category, and zero otherwise.  "
   ]
  },
  {
   "cell_type": "code",
   "execution_count": 12,
   "metadata": {},
   "outputs": [
    {
     "data": {
      "text/html": [
       "<div>\n",
       "<style>\n",
       "    .dataframe thead tr:only-child th {\n",
       "        text-align: right;\n",
       "    }\n",
       "\n",
       "    .dataframe thead th {\n",
       "        text-align: left;\n",
       "    }\n",
       "\n",
       "    .dataframe tbody tr th {\n",
       "        vertical-align: top;\n",
       "    }\n",
       "</style>\n",
       "<table border=\"1\" class=\"dataframe\">\n",
       "  <thead>\n",
       "    <tr style=\"text-align: right;\">\n",
       "      <th></th>\n",
       "      <th>RT</th>\n",
       "      <th>SERIALNO</th>\n",
       "      <th>ST</th>\n",
       "      <th>DIVISION</th>\n",
       "      <th>PUMA</th>\n",
       "      <th>REGION</th>\n",
       "      <th>ADJHSG</th>\n",
       "      <th>ADJINC</th>\n",
       "      <th>WGTP</th>\n",
       "      <th>NP</th>\n",
       "      <th>...</th>\n",
       "      <th>wgtp75</th>\n",
       "      <th>wgtp76</th>\n",
       "      <th>wgtp77</th>\n",
       "      <th>wgtp78</th>\n",
       "      <th>wgtp79</th>\n",
       "      <th>wgtp80</th>\n",
       "      <th>kids_u6</th>\n",
       "      <th>kids_6_17</th>\n",
       "      <th>kids_u6_and_617</th>\n",
       "      <th>no_kids</th>\n",
       "    </tr>\n",
       "  </thead>\n",
       "  <tbody>\n",
       "    <tr>\n",
       "      <th>0</th>\n",
       "      <td>H</td>\n",
       "      <td>42</td>\n",
       "      <td>21</td>\n",
       "      <td>6</td>\n",
       "      <td>2700</td>\n",
       "      <td>3</td>\n",
       "      <td>1000000</td>\n",
       "      <td>1007588</td>\n",
       "      <td>25</td>\n",
       "      <td>5</td>\n",
       "      <td>...</td>\n",
       "      <td>28</td>\n",
       "      <td>25</td>\n",
       "      <td>38</td>\n",
       "      <td>37</td>\n",
       "      <td>40</td>\n",
       "      <td>35</td>\n",
       "      <td>0</td>\n",
       "      <td>1</td>\n",
       "      <td>0</td>\n",
       "      <td>0</td>\n",
       "    </tr>\n",
       "    <tr>\n",
       "      <th>1</th>\n",
       "      <td>H</td>\n",
       "      <td>45</td>\n",
       "      <td>21</td>\n",
       "      <td>6</td>\n",
       "      <td>2600</td>\n",
       "      <td>3</td>\n",
       "      <td>1000000</td>\n",
       "      <td>1007588</td>\n",
       "      <td>84</td>\n",
       "      <td>2</td>\n",
       "      <td>...</td>\n",
       "      <td>88</td>\n",
       "      <td>25</td>\n",
       "      <td>93</td>\n",
       "      <td>25</td>\n",
       "      <td>29</td>\n",
       "      <td>105</td>\n",
       "      <td>0</td>\n",
       "      <td>0</td>\n",
       "      <td>0</td>\n",
       "      <td>1</td>\n",
       "    </tr>\n",
       "    <tr>\n",
       "      <th>2</th>\n",
       "      <td>H</td>\n",
       "      <td>49</td>\n",
       "      <td>21</td>\n",
       "      <td>6</td>\n",
       "      <td>1704</td>\n",
       "      <td>3</td>\n",
       "      <td>1000000</td>\n",
       "      <td>1007588</td>\n",
       "      <td>82</td>\n",
       "      <td>2</td>\n",
       "      <td>...</td>\n",
       "      <td>108</td>\n",
       "      <td>24</td>\n",
       "      <td>27</td>\n",
       "      <td>128</td>\n",
       "      <td>83</td>\n",
       "      <td>141</td>\n",
       "      <td>0</td>\n",
       "      <td>1</td>\n",
       "      <td>0</td>\n",
       "      <td>0</td>\n",
       "    </tr>\n",
       "    <tr>\n",
       "      <th>3</th>\n",
       "      <td>H</td>\n",
       "      <td>121</td>\n",
       "      <td>21</td>\n",
       "      <td>6</td>\n",
       "      <td>1300</td>\n",
       "      <td>3</td>\n",
       "      <td>1000000</td>\n",
       "      <td>1007588</td>\n",
       "      <td>12</td>\n",
       "      <td>1</td>\n",
       "      <td>...</td>\n",
       "      <td>4</td>\n",
       "      <td>10</td>\n",
       "      <td>4</td>\n",
       "      <td>21</td>\n",
       "      <td>11</td>\n",
       "      <td>25</td>\n",
       "      <td>0</td>\n",
       "      <td>0</td>\n",
       "      <td>0</td>\n",
       "      <td>1</td>\n",
       "    </tr>\n",
       "    <tr>\n",
       "      <th>4</th>\n",
       "      <td>H</td>\n",
       "      <td>143</td>\n",
       "      <td>21</td>\n",
       "      <td>6</td>\n",
       "      <td>1400</td>\n",
       "      <td>3</td>\n",
       "      <td>1000000</td>\n",
       "      <td>1007588</td>\n",
       "      <td>53</td>\n",
       "      <td>2</td>\n",
       "      <td>...</td>\n",
       "      <td>41</td>\n",
       "      <td>44</td>\n",
       "      <td>66</td>\n",
       "      <td>64</td>\n",
       "      <td>81</td>\n",
       "      <td>51</td>\n",
       "      <td>0</td>\n",
       "      <td>0</td>\n",
       "      <td>0</td>\n",
       "      <td>1</td>\n",
       "    </tr>\n",
       "  </tbody>\n",
       "</table>\n",
       "<p>5 rows × 234 columns</p>\n",
       "</div>"
      ],
      "text/plain": [
       "  RT  SERIALNO  ST  DIVISION  PUMA  REGION   ADJHSG   ADJINC  WGTP  NP  \\\n",
       "0  H        42  21         6  2700       3  1000000  1007588    25   5   \n",
       "1  H        45  21         6  2600       3  1000000  1007588    84   2   \n",
       "2  H        49  21         6  1704       3  1000000  1007588    82   2   \n",
       "3  H       121  21         6  1300       3  1000000  1007588    12   1   \n",
       "4  H       143  21         6  1400       3  1000000  1007588    53   2   \n",
       "\n",
       "    ...     wgtp75  wgtp76  wgtp77  wgtp78  wgtp79  wgtp80  kids_u6  \\\n",
       "0   ...         28      25      38      37      40      35        0   \n",
       "1   ...         88      25      93      25      29     105        0   \n",
       "2   ...        108      24      27     128      83     141        0   \n",
       "3   ...          4      10       4      21      11      25        0   \n",
       "4   ...         41      44      66      64      81      51        0   \n",
       "\n",
       "   kids_6_17  kids_u6_and_617  no_kids  \n",
       "0          1                0        0  \n",
       "1          0                0        1  \n",
       "2          1                0        0  \n",
       "3          0                0        1  \n",
       "4          0                0        1  \n",
       "\n",
       "[5 rows x 234 columns]"
      ]
     },
     "execution_count": 12,
     "metadata": {},
     "output_type": "execute_result"
    }
   ],
   "source": [
    "'''\n",
    "HUPAC 1\n",
    "HH presence and age of children\n",
    "b .N/A (GQ/vacant)\n",
    "1 .With children under 6 years only\n",
    "2 .With children 6 to 17 years only\n",
    "3 .With children under 6 years and 6 to 17 years\n",
    "4 .No children\n",
    "'''\n",
    "\n",
    "dummies = pd.get_dummies(df['HUPAC'])\n",
    "dummies.columns = ['kids_u6', 'kids_6_17', 'kids_u6_and_617', 'no_kids']\n",
    "df = df.join(dummies)\n",
    "df.head()"
   ]
  },
  {
   "cell_type": "code",
   "execution_count": 13,
   "metadata": {
    "scrolled": true
   },
   "outputs": [
    {
     "name": "stdout",
     "output_type": "stream",
     "text": [
      "Optimization terminated successfully.\n",
      "         Current function value: 1.099254\n",
      "         Iterations 7\n",
      "                          MNLogit Regression Results                          \n",
      "==============================================================================\n",
      "Dep. Variable:                    VEH   No. Observations:                18038\n",
      "Model:                        MNLogit   Df Residuals:                    18023\n",
      "Method:                           MLE   Df Model:                           12\n",
      "Date:                Tue, 10 Apr 2018   Pseudo R-squ.:                  0.1267\n",
      "Time:                        13:18:23   Log-Likelihood:                -19828.\n",
      "converged:                       True   LL-Null:                       -22704.\n",
      "                                        LLR p-value:                     0.000\n",
      "===================================================================================\n",
      "          VEH=1       coef    std err          z      P>|z|      [0.025      0.975]\n",
      "-----------------------------------------------------------------------------------\n",
      "Intercept           1.5923      0.085     18.741      0.000       1.426       1.759\n",
      "NP                 -0.1176      0.056     -2.104      0.035      -0.227      -0.008\n",
      "kids_u6             0.4131      0.184      2.249      0.025       0.053       0.773\n",
      "kids_6_17           0.5102      0.138      3.697      0.000       0.240       0.781\n",
      "kids_u6_and_617     0.3997      0.221      1.811      0.070      -0.033       0.832\n",
      "-----------------------------------------------------------------------------------\n",
      "          VEH=2       coef    std err          z      P>|z|      [0.025      0.975]\n",
      "-----------------------------------------------------------------------------------\n",
      "Intercept          -0.8162      0.088     -9.275      0.000      -0.989      -0.644\n",
      "NP                  1.3887      0.055     25.314      0.000       1.281       1.496\n",
      "kids_u6            -1.1219      0.178     -6.286      0.000      -1.472      -0.772\n",
      "kids_6_17          -1.2401      0.137     -9.063      0.000      -1.508      -0.972\n",
      "kids_u6_and_617    -3.0239      0.217    -13.943      0.000      -3.449      -2.599\n",
      "-----------------------------------------------------------------------------------\n",
      "          VEH=3       coef    std err          z      P>|z|      [0.025      0.975]\n",
      "-----------------------------------------------------------------------------------\n",
      "Intercept          -2.5946      0.097    -26.678      0.000      -2.785      -2.404\n",
      "NP                  1.9818      0.057     34.520      0.000       1.869       2.094\n",
      "kids_u6            -2.5419      0.192    -13.270      0.000      -2.917      -2.166\n",
      "kids_6_17          -1.9597      0.143    -13.709      0.000      -2.240      -1.680\n",
      "kids_u6_and_617    -5.1120      0.234    -21.873      0.000      -5.570      -4.654\n",
      "===================================================================================\n"
     ]
    }
   ],
   "source": [
    "# That's fine, but we may try some more things.  Perhaps age matters. \n",
    "# More people -> more cars? \n",
    "\n",
    "mod = smf.MNLogit.from_formula(formula='VEH ~ NP + kids_u6 + kids_6_17 + kids_u6_and_617 + 1', data=df)\n",
    "res = mod.fit()\n",
    "print(res.summary())"
   ]
  },
  {
   "cell_type": "code",
   "execution_count": null,
   "metadata": {
    "collapsed": true
   },
   "outputs": [],
   "source": [
    "# what else should we add? "
   ]
  },
  {
   "cell_type": "code",
   "execution_count": null,
   "metadata": {},
   "outputs": [],
   "source": []
  },
  {
   "cell_type": "markdown",
   "metadata": {},
   "source": [
    "### Homework\n",
    "\n",
    "Calculate the probability that a 1-person household in Lexington, earning $16,000 per year owns 0, 1, 2 or 3+ vehicles.  "
   ]
  },
  {
   "cell_type": "code",
   "execution_count": null,
   "metadata": {
    "collapsed": true
   },
   "outputs": [],
   "source": []
  },
  {
   "cell_type": "code",
   "execution_count": null,
   "metadata": {
    "collapsed": true
   },
   "outputs": [],
   "source": []
  }
 ],
 "metadata": {
  "anaconda-cloud": {},
  "kernelspec": {
   "display_name": "Python 3",
   "language": "python",
   "name": "python3"
  },
  "language_info": {
   "codemirror_mode": {
    "name": "ipython",
    "version": 3
   },
   "file_extension": ".py",
   "mimetype": "text/x-python",
   "name": "python",
   "nbconvert_exporter": "python",
   "pygments_lexer": "ipython3",
   "version": "3.6.3"
  }
 },
 "nbformat": 4,
 "nbformat_minor": 1
}
