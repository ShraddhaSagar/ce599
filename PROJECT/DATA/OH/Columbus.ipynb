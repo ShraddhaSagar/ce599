{
 "cells": [
  {
   "cell_type": "markdown",
   "metadata": {},
   "source": [
    "# Columbus"
   ]
  },
  {
   "cell_type": "code",
   "execution_count": 46,
   "metadata": {
    "collapsed": true
   },
   "outputs": [],
   "source": [
    "import pandas as pd\n",
    "import numpy as np"
   ]
  },
  {
   "cell_type": "code",
   "execution_count": 47,
   "metadata": {
    "scrolled": true
   },
   "outputs": [
    {
     "data": {
      "text/html": [
       "<div>\n",
       "<style>\n",
       "    .dataframe thead tr:only-child th {\n",
       "        text-align: right;\n",
       "    }\n",
       "\n",
       "    .dataframe thead th {\n",
       "        text-align: left;\n",
       "    }\n",
       "\n",
       "    .dataframe tbody tr th {\n",
       "        vertical-align: top;\n",
       "    }\n",
       "</style>\n",
       "<table border=\"1\" class=\"dataframe\">\n",
       "  <thead>\n",
       "    <tr style=\"text-align: right;\">\n",
       "      <th></th>\n",
       "      <th>Station ID</th>\n",
       "      <th>Latitude</th>\n",
       "      <th>Longitude</th>\n",
       "      <th>Station Name</th>\n",
       "    </tr>\n",
       "  </thead>\n",
       "  <tbody>\n",
       "    <tr>\n",
       "      <th>0</th>\n",
       "      <td>1</td>\n",
       "      <td>39.955864</td>\n",
       "      <td>-83.003106</td>\n",
       "      <td>Bicentennial Park</td>\n",
       "    </tr>\n",
       "    <tr>\n",
       "      <th>1</th>\n",
       "      <td>2</td>\n",
       "      <td>39.963524</td>\n",
       "      <td>-83.002854</td>\n",
       "      <td>City Hall</td>\n",
       "    </tr>\n",
       "    <tr>\n",
       "      <th>2</th>\n",
       "      <td>3</td>\n",
       "      <td>39.950124</td>\n",
       "      <td>-83.000235</td>\n",
       "      <td>Front St &amp; Beck St</td>\n",
       "    </tr>\n",
       "    <tr>\n",
       "      <th>3</th>\n",
       "      <td>4</td>\n",
       "      <td>39.945895</td>\n",
       "      <td>-83.009070</td>\n",
       "      <td>Scioto Audubon Center</td>\n",
       "    </tr>\n",
       "    <tr>\n",
       "      <th>4</th>\n",
       "      <td>5</td>\n",
       "      <td>39.954717</td>\n",
       "      <td>-82.998879</td>\n",
       "      <td>Dorrian Commons - Mound St</td>\n",
       "    </tr>\n",
       "  </tbody>\n",
       "</table>\n",
       "</div>"
      ],
      "text/plain": [
       "   Station ID   Latitude  Longitude                Station Name\n",
       "0           1  39.955864 -83.003106           Bicentennial Park\n",
       "1           2  39.963524 -83.002854                   City Hall\n",
       "2           3  39.950124 -83.000235          Front St & Beck St\n",
       "3           4  39.945895 -83.009070       Scioto Audubon Center\n",
       "4           5  39.954717 -82.998879  Dorrian Commons - Mound St"
      ]
     },
     "execution_count": 47,
     "metadata": {},
     "output_type": "execute_result"
    }
   ],
   "source": [
    "#saved the bike location as a dataframe, named df\n",
    "df1=pd.read_csv('ColumbusLocation.csv')\n",
    "df1.head()"
   ]
  },
  {
   "cell_type": "code",
   "execution_count": 48,
   "metadata": {},
   "outputs": [
    {
     "data": {
      "text/plain": [
       "46"
      ]
     },
     "execution_count": 48,
     "metadata": {},
     "output_type": "execute_result"
    }
   ],
   "source": [
    "#No of Stations\n",
    "len(df1)"
   ]
  },
  {
   "cell_type": "code",
   "execution_count": 49,
   "metadata": {},
   "outputs": [
    {
     "data": {
      "text/html": [
       "<div>\n",
       "<style>\n",
       "    .dataframe thead tr:only-child th {\n",
       "        text-align: right;\n",
       "    }\n",
       "\n",
       "    .dataframe thead th {\n",
       "        text-align: left;\n",
       "    }\n",
       "\n",
       "    .dataframe tbody tr th {\n",
       "        vertical-align: top;\n",
       "    }\n",
       "</style>\n",
       "<table border=\"1\" class=\"dataframe\">\n",
       "  <thead>\n",
       "    <tr style=\"text-align: right;\">\n",
       "      <th></th>\n",
       "      <th>Start Time and Date</th>\n",
       "      <th>Stop Time and Date</th>\n",
       "      <th>Start Station ID</th>\n",
       "      <th>Start Station Name</th>\n",
       "      <th>Start Station Lat</th>\n",
       "      <th>Start Station Long</th>\n",
       "      <th>Stop Station ID</th>\n",
       "      <th>Stop Station Name</th>\n",
       "      <th>Stop Station Lat</th>\n",
       "      <th>Stop Station Long</th>\n",
       "      <th>Bike ID</th>\n",
       "      <th>User Type</th>\n",
       "      <th>Gender</th>\n",
       "      <th>Year of Birth</th>\n",
       "    </tr>\n",
       "  </thead>\n",
       "  <tbody>\n",
       "    <tr>\n",
       "      <th>0</th>\n",
       "      <td>1/1/2017 3:41</td>\n",
       "      <td>1/1/2017 3:54</td>\n",
       "      <td>12</td>\n",
       "      <td>Convention Center</td>\n",
       "      <td>39.970512</td>\n",
       "      <td>-83.002354</td>\n",
       "      <td>54</td>\n",
       "      <td>Neil Ave &amp; King Ave</td>\n",
       "      <td>39.990309</td>\n",
       "      <td>-83.013626</td>\n",
       "      <td>45</td>\n",
       "      <td>Subscriber</td>\n",
       "      <td>1</td>\n",
       "      <td>1974.0</td>\n",
       "    </tr>\n",
       "    <tr>\n",
       "      <th>1</th>\n",
       "      <td>1/1/2017 9:51</td>\n",
       "      <td>1/1/2017 10:21</td>\n",
       "      <td>23</td>\n",
       "      <td>High St &amp; Warren</td>\n",
       "      <td>39.977963</td>\n",
       "      <td>-83.003605</td>\n",
       "      <td>1</td>\n",
       "      <td>Bicentennial Park</td>\n",
       "      <td>39.955864</td>\n",
       "      <td>-83.003106</td>\n",
       "      <td>18</td>\n",
       "      <td>Subscriber</td>\n",
       "      <td>1</td>\n",
       "      <td>1916.0</td>\n",
       "    </tr>\n",
       "    <tr>\n",
       "      <th>2</th>\n",
       "      <td>1/1/2017 10:21</td>\n",
       "      <td>1/1/2017 10:40</td>\n",
       "      <td>1</td>\n",
       "      <td>Bicentennial Park</td>\n",
       "      <td>39.955864</td>\n",
       "      <td>-83.003106</td>\n",
       "      <td>22</td>\n",
       "      <td>Neil Ave &amp; Buttles Ave</td>\n",
       "      <td>39.977406</td>\n",
       "      <td>-83.011549</td>\n",
       "      <td>18</td>\n",
       "      <td>Subscriber</td>\n",
       "      <td>1</td>\n",
       "      <td>1916.0</td>\n",
       "    </tr>\n",
       "    <tr>\n",
       "      <th>3</th>\n",
       "      <td>1/1/2017 10:27</td>\n",
       "      <td>1/1/2017 10:36</td>\n",
       "      <td>29</td>\n",
       "      <td>Topiary Park - Town St</td>\n",
       "      <td>39.960245</td>\n",
       "      <td>-82.986968</td>\n",
       "      <td>3</td>\n",
       "      <td>Front St &amp; Beck St</td>\n",
       "      <td>39.950124</td>\n",
       "      <td>-83.000235</td>\n",
       "      <td>14</td>\n",
       "      <td>Subscriber</td>\n",
       "      <td>1</td>\n",
       "      <td>1990.0</td>\n",
       "    </tr>\n",
       "    <tr>\n",
       "      <th>4</th>\n",
       "      <td>1/1/2017 10:49</td>\n",
       "      <td>1/1/2017 10:59</td>\n",
       "      <td>3</td>\n",
       "      <td>Front St &amp; Beck St</td>\n",
       "      <td>39.950124</td>\n",
       "      <td>-83.000235</td>\n",
       "      <td>29</td>\n",
       "      <td>Topiary Park - Town St</td>\n",
       "      <td>39.960245</td>\n",
       "      <td>-82.986968</td>\n",
       "      <td>14</td>\n",
       "      <td>Subscriber</td>\n",
       "      <td>1</td>\n",
       "      <td>1990.0</td>\n",
       "    </tr>\n",
       "  </tbody>\n",
       "</table>\n",
       "</div>"
      ],
      "text/plain": [
       "  Start Time and Date Stop Time and Date  Start Station ID  \\\n",
       "0       1/1/2017 3:41      1/1/2017 3:54                12   \n",
       "1       1/1/2017 9:51     1/1/2017 10:21                23   \n",
       "2      1/1/2017 10:21     1/1/2017 10:40                 1   \n",
       "3      1/1/2017 10:27     1/1/2017 10:36                29   \n",
       "4      1/1/2017 10:49     1/1/2017 10:59                 3   \n",
       "\n",
       "       Start Station Name  Start Station Lat  Start Station Long  \\\n",
       "0       Convention Center          39.970512          -83.002354   \n",
       "1        High St & Warren          39.977963          -83.003605   \n",
       "2       Bicentennial Park          39.955864          -83.003106   \n",
       "3  Topiary Park - Town St          39.960245          -82.986968   \n",
       "4      Front St & Beck St          39.950124          -83.000235   \n",
       "\n",
       "   Stop Station ID       Stop Station Name  Stop Station Lat  \\\n",
       "0               54     Neil Ave & King Ave         39.990309   \n",
       "1                1       Bicentennial Park         39.955864   \n",
       "2               22  Neil Ave & Buttles Ave         39.977406   \n",
       "3                3      Front St & Beck St         39.950124   \n",
       "4               29  Topiary Park - Town St         39.960245   \n",
       "\n",
       "   Stop Station Long  Bike ID   User Type  Gender  Year of Birth  \n",
       "0         -83.013626       45  Subscriber       1         1974.0  \n",
       "1         -83.003106       18  Subscriber       1         1916.0  \n",
       "2         -83.011549       18  Subscriber       1         1916.0  \n",
       "3         -83.000235       14  Subscriber       1         1990.0  \n",
       "4         -82.986968       14  Subscriber       1         1990.0  "
      ]
     },
     "execution_count": 49,
     "metadata": {},
     "output_type": "execute_result"
    }
   ],
   "source": [
    "#saved the Chattanooga bike location as a dataframe, named df\n",
    "df2=pd.read_csv('Columbus2017.csv')\n",
    "df2.head()"
   ]
  },
  {
   "cell_type": "code",
   "execution_count": 50,
   "metadata": {
    "collapsed": true
   },
   "outputs": [],
   "source": [
    "dates = pd.read_clipboard"
   ]
  },
  {
   "cell_type": "code",
   "execution_count": 51,
   "metadata": {},
   "outputs": [
    {
     "data": {
      "text/plain": [
       "52205"
      ]
     },
     "execution_count": 51,
     "metadata": {},
     "output_type": "execute_result"
    }
   ],
   "source": [
    "#No of trips in 2017\n",
    "len(df2)"
   ]
  },
  {
   "cell_type": "code",
   "execution_count": 52,
   "metadata": {},
   "outputs": [
    {
     "data": {
      "text/plain": [
       "1     5643\n",
       "13    2167\n",
       "4     2050\n",
       "20    2003\n",
       "19    1983\n",
       "Name: Start Station ID, dtype: int64"
      ]
     },
     "execution_count": 52,
     "metadata": {},
     "output_type": "execute_result"
    }
   ],
   "source": [
    "#no of trips checkedout from each station\n",
    "t = pd.value_counts(df2['Start Station ID'])\n",
    "t.head()"
   ]
  },
  {
   "cell_type": "code",
   "execution_count": 53,
   "metadata": {
    "collapsed": true
   },
   "outputs": [],
   "source": [
    "#converting to df\n",
    "Trip = t.to_frame()"
   ]
  },
  {
   "cell_type": "code",
   "execution_count": 54,
   "metadata": {
    "collapsed": true
   },
   "outputs": [],
   "source": [
    "Trip.to_csv('Trips_OH.csv')"
   ]
  }
 ],
 "metadata": {
  "kernelspec": {
   "display_name": "Python 3",
   "language": "python",
   "name": "python3"
  },
  "language_info": {
   "codemirror_mode": {
    "name": "ipython",
    "version": 3
   },
   "file_extension": ".py",
   "mimetype": "text/x-python",
   "name": "python",
   "nbconvert_exporter": "python",
   "pygments_lexer": "ipython3",
   "version": "3.6.3"
  }
 },
 "nbformat": 4,
 "nbformat_minor": 2
}
