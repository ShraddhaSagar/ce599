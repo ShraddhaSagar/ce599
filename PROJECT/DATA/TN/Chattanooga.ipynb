{
 "cells": [
  {
   "cell_type": "markdown",
   "metadata": {},
   "source": [
    "# Boulder"
   ]
  },
  {
   "cell_type": "code",
   "execution_count": 82,
   "metadata": {
    "collapsed": true
   },
   "outputs": [],
   "source": [
    "import pandas as pd"
   ]
  },
  {
   "cell_type": "code",
   "execution_count": 83,
   "metadata": {
    "scrolled": true
   },
   "outputs": [
    {
     "data": {
      "text/html": [
       "<div>\n",
       "<style>\n",
       "    .dataframe thead tr:only-child th {\n",
       "        text-align: right;\n",
       "    }\n",
       "\n",
       "    .dataframe thead th {\n",
       "        text-align: left;\n",
       "    }\n",
       "\n",
       "    .dataframe tbody tr th {\n",
       "        vertical-align: top;\n",
       "    }\n",
       "</style>\n",
       "<table border=\"1\" class=\"dataframe\">\n",
       "  <thead>\n",
       "    <tr style=\"text-align: right;\">\n",
       "      <th></th>\n",
       "      <th>Checkout Station</th>\n",
       "      <th>Return Station</th>\n",
       "      <th>Checkout Station Latitude</th>\n",
       "      <th>Checkout Station Longitude</th>\n",
       "      <th>Return Station Latitude</th>\n",
       "      <th>Return Station Longitude</th>\n",
       "      <th>Power Source</th>\n",
       "      <th>Installation Date</th>\n",
       "      <th>Removal Date</th>\n",
       "      <th>Most Recent Number of Docks</th>\n",
       "    </tr>\n",
       "  </thead>\n",
       "  <tbody>\n",
       "    <tr>\n",
       "      <th>0</th>\n",
       "      <td>10th &amp; Walnut</td>\n",
       "      <td>10th &amp; Walnut</td>\n",
       "      <td>40.016219</td>\n",
       "      <td>-105.282148</td>\n",
       "      <td>40.016219</td>\n",
       "      <td>-105.282148</td>\n",
       "      <td>Grid electricity</td>\n",
       "      <td>5/20/2011</td>\n",
       "      <td>10/1/2014</td>\n",
       "      <td>11</td>\n",
       "    </tr>\n",
       "    <tr>\n",
       "      <th>1</th>\n",
       "      <td>11th &amp; Pearl</td>\n",
       "      <td>11th &amp; Pearl</td>\n",
       "      <td>40.017535</td>\n",
       "      <td>-105.281234</td>\n",
       "      <td>40.017535</td>\n",
       "      <td>-105.281234</td>\n",
       "      <td>Grid electricity</td>\n",
       "      <td>5/20/2011</td>\n",
       "      <td>Not applicable</td>\n",
       "      <td>15</td>\n",
       "    </tr>\n",
       "    <tr>\n",
       "      <th>2</th>\n",
       "      <td>13th &amp; Arapahoe</td>\n",
       "      <td>13th &amp; Arapahoe</td>\n",
       "      <td>40.014600</td>\n",
       "      <td>-105.277780</td>\n",
       "      <td>40.014600</td>\n",
       "      <td>-105.277780</td>\n",
       "      <td>Solar</td>\n",
       "      <td>9/12/2014</td>\n",
       "      <td>Not applicable</td>\n",
       "      <td>13</td>\n",
       "    </tr>\n",
       "    <tr>\n",
       "      <th>3</th>\n",
       "      <td>13th &amp; College</td>\n",
       "      <td>13th &amp; College</td>\n",
       "      <td>40.007386</td>\n",
       "      <td>-105.276681</td>\n",
       "      <td>40.007386</td>\n",
       "      <td>-105.276681</td>\n",
       "      <td>Solar</td>\n",
       "      <td>8/6/2014</td>\n",
       "      <td>Not applicable</td>\n",
       "      <td>13</td>\n",
       "    </tr>\n",
       "    <tr>\n",
       "      <th>4</th>\n",
       "      <td>13th &amp; Spruce</td>\n",
       "      <td>13th &amp; Spruce</td>\n",
       "      <td>40.019090</td>\n",
       "      <td>-105.278898</td>\n",
       "      <td>40.019090</td>\n",
       "      <td>-105.278898</td>\n",
       "      <td>Solar</td>\n",
       "      <td>5/20/2011</td>\n",
       "      <td>Not applicable</td>\n",
       "      <td>14</td>\n",
       "    </tr>\n",
       "  </tbody>\n",
       "</table>\n",
       "</div>"
      ],
      "text/plain": [
       "  Checkout Station   Return Station  Checkout Station Latitude  \\\n",
       "0    10th & Walnut    10th & Walnut                  40.016219   \n",
       "1     11th & Pearl     11th & Pearl                  40.017535   \n",
       "2  13th & Arapahoe  13th & Arapahoe                  40.014600   \n",
       "3   13th & College   13th & College                  40.007386   \n",
       "4    13th & Spruce    13th & Spruce                  40.019090   \n",
       "\n",
       "   Checkout Station Longitude  Return Station Latitude  \\\n",
       "0                 -105.282148                40.016219   \n",
       "1                 -105.281234                40.017535   \n",
       "2                 -105.277780                40.014600   \n",
       "3                 -105.276681                40.007386   \n",
       "4                 -105.278898                40.019090   \n",
       "\n",
       "   Return Station Longitude      Power Source Installation Date  \\\n",
       "0               -105.282148  Grid electricity         5/20/2011   \n",
       "1               -105.281234  Grid electricity         5/20/2011   \n",
       "2               -105.277780             Solar         9/12/2014   \n",
       "3               -105.276681             Solar          8/6/2014   \n",
       "4               -105.278898             Solar         5/20/2011   \n",
       "\n",
       "     Removal Date  Most Recent Number of Docks  \n",
       "0       10/1/2014                           11  \n",
       "1  Not applicable                           15  \n",
       "2  Not applicable                           13  \n",
       "3  Not applicable                           13  \n",
       "4  Not applicable                           14  "
      ]
     },
     "execution_count": 83,
     "metadata": {},
     "output_type": "execute_result"
    }
   ],
   "source": [
    "#saved the bike location as a dataframe, named df\n",
    "df1=pd.read_csv('Boulder_Location.csv')\n",
    "df1.head()"
   ]
  },
  {
   "cell_type": "code",
   "execution_count": 84,
   "metadata": {},
   "outputs": [
    {
     "data": {
      "text/plain": [
       "47"
      ]
     },
     "execution_count": 84,
     "metadata": {},
     "output_type": "execute_result"
    }
   ],
   "source": [
    "#No of Stations\n",
    "len(df1)"
   ]
  },
  {
   "cell_type": "code",
   "execution_count": 85,
   "metadata": {},
   "outputs": [
    {
     "data": {
      "text/html": [
       "<div>\n",
       "<style>\n",
       "    .dataframe thead tr:only-child th {\n",
       "        text-align: right;\n",
       "    }\n",
       "\n",
       "    .dataframe thead th {\n",
       "        text-align: left;\n",
       "    }\n",
       "\n",
       "    .dataframe tbody tr th {\n",
       "        vertical-align: top;\n",
       "    }\n",
       "</style>\n",
       "<table border=\"1\" class=\"dataframe\">\n",
       "  <thead>\n",
       "    <tr style=\"text-align: right;\">\n",
       "      <th></th>\n",
       "      <th>Rider Home System</th>\n",
       "      <th>Rider or Operator Number</th>\n",
       "      <th>Entry Pass Type</th>\n",
       "      <th>Bike Number</th>\n",
       "      <th>Checkout Date</th>\n",
       "      <th>Checkout Day of Week</th>\n",
       "      <th>Checkout Time</th>\n",
       "      <th>Checkout Station</th>\n",
       "      <th>Return Date</th>\n",
       "      <th>Return Day of Week</th>\n",
       "      <th>Return Time</th>\n",
       "      <th>Return Station</th>\n",
       "      <th>Trip Duration (Minutes)</th>\n",
       "    </tr>\n",
       "  </thead>\n",
       "  <tbody>\n",
       "    <tr>\n",
       "      <th>0</th>\n",
       "      <td>Boulder B-cycle</td>\n",
       "      <td>R1094717</td>\n",
       "      <td>Annual</td>\n",
       "      <td>913</td>\n",
       "      <td>1/1/2017</td>\n",
       "      <td>Sunday</td>\n",
       "      <td>12:08:00 AM</td>\n",
       "      <td>13th &amp; Spruce</td>\n",
       "      <td>1/1/2017</td>\n",
       "      <td>Sunday</td>\n",
       "      <td>12:13:00 AM</td>\n",
       "      <td>Broadway &amp; Alpine</td>\n",
       "      <td>5</td>\n",
       "    </tr>\n",
       "    <tr>\n",
       "      <th>1</th>\n",
       "      <td>Boulder B-cycle</td>\n",
       "      <td>R1066072</td>\n",
       "      <td>Annual</td>\n",
       "      <td>938</td>\n",
       "      <td>1/1/2017</td>\n",
       "      <td>Sunday</td>\n",
       "      <td>12:08:00 AM</td>\n",
       "      <td>13th &amp; Spruce</td>\n",
       "      <td>1/1/2017</td>\n",
       "      <td>Sunday</td>\n",
       "      <td>12:13:00 AM</td>\n",
       "      <td>Broadway &amp; Alpine</td>\n",
       "      <td>5</td>\n",
       "    </tr>\n",
       "    <tr>\n",
       "      <th>2</th>\n",
       "      <td>Boulder B-cycle</td>\n",
       "      <td>R1004330</td>\n",
       "      <td>Annual</td>\n",
       "      <td>745</td>\n",
       "      <td>1/1/2017</td>\n",
       "      <td>Sunday</td>\n",
       "      <td>12:15:00 AM</td>\n",
       "      <td>11th &amp; Pearl</td>\n",
       "      <td>1/1/2017</td>\n",
       "      <td>Sunday</td>\n",
       "      <td>12:29:00 AM</td>\n",
       "      <td>11th &amp; Pearl</td>\n",
       "      <td>14</td>\n",
       "    </tr>\n",
       "    <tr>\n",
       "      <th>3</th>\n",
       "      <td>Boulder B-cycle</td>\n",
       "      <td>R1048559</td>\n",
       "      <td>24-hour</td>\n",
       "      <td>606</td>\n",
       "      <td>1/1/2017</td>\n",
       "      <td>Sunday</td>\n",
       "      <td>12:16:00 AM</td>\n",
       "      <td>11th &amp; Pearl</td>\n",
       "      <td>1/1/2017</td>\n",
       "      <td>Sunday</td>\n",
       "      <td>12:33:00 AM</td>\n",
       "      <td>31st &amp; Pearl</td>\n",
       "      <td>17</td>\n",
       "    </tr>\n",
       "    <tr>\n",
       "      <th>4</th>\n",
       "      <td>Boulder B-cycle</td>\n",
       "      <td>R1019007</td>\n",
       "      <td>24-hour</td>\n",
       "      <td>660</td>\n",
       "      <td>1/1/2017</td>\n",
       "      <td>Sunday</td>\n",
       "      <td>12:18:00 AM</td>\n",
       "      <td>11th &amp; Pearl</td>\n",
       "      <td>1/1/2017</td>\n",
       "      <td>Sunday</td>\n",
       "      <td>12:53:00 AM</td>\n",
       "      <td>31st &amp; Pearl</td>\n",
       "      <td>35</td>\n",
       "    </tr>\n",
       "  </tbody>\n",
       "</table>\n",
       "</div>"
      ],
      "text/plain": [
       "  Rider Home System Rider or Operator Number Entry Pass Type Bike Number  \\\n",
       "0   Boulder B-cycle                 R1094717          Annual         913   \n",
       "1   Boulder B-cycle                 R1066072          Annual         938   \n",
       "2   Boulder B-cycle                 R1004330          Annual         745   \n",
       "3   Boulder B-cycle                 R1048559         24-hour         606   \n",
       "4   Boulder B-cycle                 R1019007         24-hour         660   \n",
       "\n",
       "  Checkout Date Checkout Day of Week Checkout Time Checkout Station  \\\n",
       "0      1/1/2017               Sunday   12:08:00 AM    13th & Spruce   \n",
       "1      1/1/2017               Sunday   12:08:00 AM    13th & Spruce   \n",
       "2      1/1/2017               Sunday   12:15:00 AM     11th & Pearl   \n",
       "3      1/1/2017               Sunday   12:16:00 AM     11th & Pearl   \n",
       "4      1/1/2017               Sunday   12:18:00 AM     11th & Pearl   \n",
       "\n",
       "  Return Date Return Day of Week  Return Time     Return Station  \\\n",
       "0    1/1/2017             Sunday  12:13:00 AM  Broadway & Alpine   \n",
       "1    1/1/2017             Sunday  12:13:00 AM  Broadway & Alpine   \n",
       "2    1/1/2017             Sunday  12:29:00 AM       11th & Pearl   \n",
       "3    1/1/2017             Sunday  12:33:00 AM       31st & Pearl   \n",
       "4    1/1/2017             Sunday  12:53:00 AM       31st & Pearl   \n",
       "\n",
       "   Trip Duration (Minutes)  \n",
       "0                        5  \n",
       "1                        5  \n",
       "2                       14  \n",
       "3                       17  \n",
       "4                       35  "
      ]
     },
     "execution_count": 85,
     "metadata": {},
     "output_type": "execute_result"
    }
   ],
   "source": [
    "#saved the Chattanooga bike location as a dataframe, named df\n",
    "df2=pd.read_csv('Boulder2017.csv')\n",
    "df2.head()"
   ]
  },
  {
   "cell_type": "code",
   "execution_count": 86,
   "metadata": {},
   "outputs": [
    {
     "data": {
      "text/plain": [
       "122331"
      ]
     },
     "execution_count": 86,
     "metadata": {},
     "output_type": "execute_result"
    }
   ],
   "source": [
    "#No of trips in 2017\n",
    "len(df2)"
   ]
  },
  {
   "cell_type": "code",
   "execution_count": 87,
   "metadata": {},
   "outputs": [
    {
     "data": {
      "text/plain": [
       "15th & Pearl         5325\n",
       "Folsom & Colorado    5187\n",
       "28th & Mapleton      4555\n",
       "13th & Spruce        4307\n",
       "21st & Arapahoe      4255\n",
       "Name: Checkout Station, dtype: int64"
      ]
     },
     "execution_count": 87,
     "metadata": {},
     "output_type": "execute_result"
    }
   ],
   "source": [
    "#no of trips checkedout from each station\n",
    "t = pd.value_counts(df2['Checkout Station'])\n",
    "t.head()"
   ]
  },
  {
   "cell_type": "code",
   "execution_count": 88,
   "metadata": {
    "collapsed": true
   },
   "outputs": [],
   "source": [
    "#converting to df\n",
    "Trip = t.to_frame()"
   ]
  },
  {
   "cell_type": "code",
   "execution_count": 89,
   "metadata": {
    "collapsed": true
   },
   "outputs": [],
   "source": [
    "Trip.to_csv('Trips_CO.csv')"
   ]
  },
  {
   "cell_type": "code",
   "execution_count": 90,
   "metadata": {},
   "outputs": [],
   "source": [
    "#to get total minutes of trips checked out from each station\n",
    "m = df2['Trip Duration (Minutes)'].groupby(df2['Checkout Station'])"
   ]
  },
  {
   "cell_type": "code",
   "execution_count": 91,
   "metadata": {},
   "outputs": [
    {
     "data": {
      "text/plain": [
       "Checkout Station\n",
       "11th & Pearl       102100\n",
       "13th & Arapahoe    138094\n",
       "13th & College      44239\n",
       "13th & Spruce      112312\n",
       "14th & Canyon      132488\n",
       "Name: Trip Duration (Minutes), dtype: int64"
      ]
     },
     "execution_count": 91,
     "metadata": {},
     "output_type": "execute_result"
    }
   ],
   "source": [
    "n = m.sum()\n",
    "n.head()"
   ]
  },
  {
   "cell_type": "code",
   "execution_count": 92,
   "metadata": {},
   "outputs": [],
   "source": [
    "#converting to df\n",
    "Duration = n.to_frame()"
   ]
  },
  {
   "cell_type": "code",
   "execution_count": 93,
   "metadata": {
    "collapsed": true
   },
   "outputs": [],
   "source": [
    "Duration.to_csv('Duration_CO.csv')"
   ]
  },
  {
   "cell_type": "code",
   "execution_count": null,
   "metadata": {
    "collapsed": true
   },
   "outputs": [],
   "source": []
  }
 ],
 "metadata": {
  "kernelspec": {
   "display_name": "Python 3",
   "language": "python",
   "name": "python3"
  },
  "language_info": {
   "codemirror_mode": {
    "name": "ipython",
    "version": 3
   },
   "file_extension": ".py",
   "mimetype": "text/x-python",
   "name": "python",
   "nbconvert_exporter": "python",
   "pygments_lexer": "ipython3",
   "version": "3.6.3"
  }
 },
 "nbformat": 4,
 "nbformat_minor": 2
}
