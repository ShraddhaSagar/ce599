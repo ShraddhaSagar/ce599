{
 "cells": [
  {
   "cell_type": "markdown",
   "metadata": {},
   "source": [
    "# HOMEWORK - CAR"
   ]
  },
  {
   "cell_type": "code",
   "execution_count": 101,
   "metadata": {
    "collapsed": true
   },
   "outputs": [],
   "source": [
    "class car(object):\n",
    "    \"Attributes:color, location(x,y) and direction\"\n",
    "    def __init__(auto, color,location,direction):\n",
    "        if len(location) < 2 or len(location) > 2:\n",
    "            print('location is the x,y coordinates of the car')\n",
    "        else:    \n",
    "            auto.color = color\n",
    "            auto.location = location\n",
    "            auto.x = location[0] \n",
    "            auto.y = location[1]\n",
    "            auto.direction = direction\n",
    "   \n",
    "    def go(auto,l):#to move forward\n",
    "        if auto.direction == 'N':\n",
    "            auto.location.y = auto.location.y+l\n",
    "            return print_car(auto)\n",
    "        elif auto.direction == 'S':\n",
    "            auto.location.x = auto.location.x+l\n",
    "            return print_car(auto)\n",
    "        elif auto.direction == 'E':\n",
    "            auto.location.y = auto.location.y-l\n",
    "            return print_car(auto)\n",
    "        elif auto.direction == 'W':\n",
    "            auto.location.x = auto.location.x-l\n",
    "            return print_car(auto)\n",
    "        else:\n",
    "            return\n",
    "        \n",
    "    def turn_right(auto):#to turn right\n",
    "        if auto.direction == 'N':\n",
    "            auto.direction = 'E'\n",
    "        elif auto.direction == 'S':\n",
    "            auto.direction = 'W'\n",
    "        elif auto.direction == 'E':\n",
    "            auto.direction = 'S'\n",
    "        elif auto.direction == 'W':\n",
    "            auto.direction = 'N'\n",
    "        else:\n",
    "            print('INVALID')\n",
    "            \n",
    "    def turn_left(auto):#to turn left\n",
    "        if auto.direction == 'N':\n",
    "            auto.direction = 'W'\n",
    "        elif auto.direction == 'S':\n",
    "            auto.direction = 'E'\n",
    "        elif auto.direction == 'E':\n",
    "            auto.direction = 'N'\n",
    "        elif auto.direction == 'W':\n",
    "            auto.direction = 'S'\n",
    "        else:\n",
    "            print('INVALID')\n"
   ]
  },
  {
   "cell_type": "code",
   "execution_count": 118,
   "metadata": {},
   "outputs": [],
   "source": [
    "def printcar(auto):\n",
    "    print(str(auto.color), 'car is at', str(auto.location), 'in the', str(auto.direction),'direction')"
   ]
  },
  {
   "cell_type": "code",
   "execution_count": 119,
   "metadata": {},
   "outputs": [],
   "source": [
    "#Yellow Car and green car\n",
    "cary = car('yellow',[0,0],'E')\n",
    "carg = car('green', [0,0],'W')"
   ]
  },
  {
   "cell_type": "code",
   "execution_count": 120,
   "metadata": {},
   "outputs": [
    {
     "name": "stdout",
     "output_type": "stream",
     "text": [
      "E\n"
     ]
    }
   ],
   "source": [
    "print(cary.direction)"
   ]
  },
  {
   "cell_type": "code",
   "execution_count": 121,
   "metadata": {},
   "outputs": [
    {
     "name": "stdout",
     "output_type": "stream",
     "text": [
      "S\n"
     ]
    }
   ],
   "source": [
    "turn_right(cary)\n",
    "print(cary.direction)"
   ]
  },
  {
   "cell_type": "code",
   "execution_count": 122,
   "metadata": {},
   "outputs": [
    {
     "name": "stdout",
     "output_type": "stream",
     "text": [
      "yellow car is at [0, 0] in the S direction\n"
     ]
    }
   ],
   "source": [
    "printcar(cary)"
   ]
  },
  {
   "cell_type": "code",
   "execution_count": null,
   "metadata": {
    "collapsed": true
   },
   "outputs": [],
   "source": []
  }
 ],
 "metadata": {
  "kernelspec": {
   "display_name": "Python 3",
   "language": "python",
   "name": "python3"
  },
  "language_info": {
   "codemirror_mode": {
    "name": "ipython",
    "version": 3
   },
   "file_extension": ".py",
   "mimetype": "text/x-python",
   "name": "python",
   "nbconvert_exporter": "python",
   "pygments_lexer": "ipython3",
   "version": "3.6.3"
  }
 },
 "nbformat": 4,
 "nbformat_minor": 2
}
