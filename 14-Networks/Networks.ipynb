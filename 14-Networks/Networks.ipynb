{
 "cells": [
  {
   "cell_type": "markdown",
   "metadata": {},
   "source": [
    "# Networks\n",
    "\n",
    "This lesson introduces the network data structure.  Aspects of this lesson are adapted from Andrew Brooks' tutorial on graph optimization.  \n",
    "\n",
    "https://www.datacamp.com/community/tutorials/networkx-python-graph-tutorial\n",
    "\n",
    "It also draws from theory material presented at PyCon 2015 by Celia La and Sarah Guido.  \n",
    "\n",
    "https://github.com/sarguido/networkx-tutorial\n",
    "\n",
    "You will need to install two packages:\n",
    "\n",
    "pip install networkx\n",
    "pip install imageio\n",
    "\n",
    "The networkx documentation is here: \n",
    "\n",
    "https://networkx.github.io/"
   ]
  },
  {
   "cell_type": "code",
   "execution_count": 1,
   "metadata": {
    "collapsed": true
   },
   "outputs": [],
   "source": [
    "# imports\n",
    "import pandas as pd\n",
    "import networkx as nx\n",
    "import matplotlib.pyplot as plt\n",
    "\n",
    "%matplotlib inline"
   ]
  },
  {
   "cell_type": "markdown",
   "metadata": {
    "collapsed": true
   },
   "source": [
    "# Intro to NetworkX\n",
    "\n",
    "### Adding & editing graph nodes\n",
    "\n",
    "We'll first take a look at creating a graph, and adding/editing nodes:"
   ]
  },
  {
   "cell_type": "code",
   "execution_count": 2,
   "metadata": {},
   "outputs": [
    {
     "data": {
      "text/plain": [
       "NodeView((1, 2, 3, 'four', 5))"
      ]
     },
     "execution_count": 2,
     "metadata": {},
     "output_type": "execute_result"
    }
   ],
   "source": [
    "import networkx as nx\n",
    "\n",
    "'''use g = nx.Graph() to create a graph'''\n",
    "\n",
    "g = nx.Graph()\n",
    "\n",
    "'''Lesson: use .add_node(1) to add a single node'''\n",
    "g.add_node(1)\n",
    "\n",
    "'''Lesson: use .add_nodes_from([2, 3, 'four', 5])  to add in bulk'''\n",
    "g.add_nodes_from([2, 3, 'four', 5])\n",
    "\n",
    "g.nodes()  # run g.nodes() to view the graph"
   ]
  },
  {
   "cell_type": "code",
   "execution_count": 3,
   "metadata": {},
   "outputs": [
    {
     "data": {
      "text/plain": [
       "NodeView((1, 2, 3, 'four', 5))"
      ]
     },
     "execution_count": 3,
     "metadata": {},
     "output_type": "execute_result"
    }
   ],
   "source": [
    "'''Note that NetworkX won't complain if we re-add pre-existing nodes'''\n",
    "\n",
    "# TODO: try re-adding nodes to see what happens\n",
    "\n",
    "g.nodes()  # display nodes"
   ]
  },
  {
   "cell_type": "code",
   "execution_count": 4,
   "metadata": {},
   "outputs": [
    {
     "data": {
      "text/plain": [
       "NodeView((1, 2, 3, 'four', 5))"
      ]
     },
     "execution_count": 4,
     "metadata": {},
     "output_type": "execute_result"
    }
   ],
   "source": [
    "'''Lesson: remove syntax is similar to adding, eg:\n",
    "        .remove_node()\n",
    "        .remove_nodes_from()\n",
    "'''\n",
    "\n",
    "# TODO: try removing both 1) single nodes, 2) nodes in bulk\n",
    "\n",
    "\n",
    "\n",
    "g.nodes()  # display nodes"
   ]
  },
  {
   "cell_type": "markdown",
   "metadata": {},
   "source": [
    "### Adding & editing edges"
   ]
  },
  {
   "cell_type": "code",
   "execution_count": 5,
   "metadata": {},
   "outputs": [
    {
     "name": "stdout",
     "output_type": "stream",
     "text": [
      "edges: [('a', 'b')]\n",
      "nodes: ['a', 'b']\n"
     ]
    }
   ],
   "source": [
    "h = nx.Graph()  # let's create a 2nd graph to play with edges\n",
    "\n",
    "'''Lesson: to create an edge, just specify the 2 nodes that define it: \n",
    "        .add_edge('a','b')\n",
    "    Note that those nodes also get added (no need to make them beforehand!)\n",
    "'''\n",
    "\n",
    "h.add_edge('a', 'b')\n",
    "\n",
    "\n",
    "print('edges:', h.edges())  # see your new edge\n",
    "print('nodes:', h.nodes())  # verify that new nodes were also added"
   ]
  },
  {
   "cell_type": "markdown",
   "metadata": {},
   "source": [
    "### Visualizing graphs"
   ]
  },
  {
   "cell_type": "code",
   "execution_count": 6,
   "metadata": {},
   "outputs": [
    {
     "data": {
      "image/png": "[encoded data removed]",
      "text/plain": [
       "<matplotlib.figure.Figure at 0x1887814c9e8>"
      ]
     },
     "metadata": {},
     "output_type": "display_data"
    }
   ],
   "source": [
    "\n",
    "GREEN = \"#77DD77\"\n",
    "BLUE = \"#99CCFF\"\n",
    "\n",
    "nx.draw(g, node_color=GREEN, with_labels=True)\n",
    "nx.draw(h, node_color=BLUE, with_labels=True)\n",
    "\n"
   ]
  },
  {
   "cell_type": "markdown",
   "metadata": {},
   "source": [
    "#### How would you create the following graph?\n",
    "\n",
    "<img src=\"img/graph.png\" style=\"float:left\" width=\"200\" />"
   ]
  },
  {
   "cell_type": "code",
   "execution_count": 7,
   "metadata": {
    "collapsed": true
   },
   "outputs": [],
   "source": [
    "g = nx.Graph()\n",
    "\n",
    "g.add_edges_from([('A','B'),('B','D'),('C','D'),('E','D'),('F','D')])"
   ]
  },
  {
   "cell_type": "markdown",
   "metadata": {},
   "source": [
    "# Directed graphs"
   ]
  },
  {
   "cell_type": "code",
   "execution_count": 8,
   "metadata": {},
   "outputs": [
    {
     "name": "stdout",
     "output_type": "stream",
     "text": [
      "directed edges: [(1, 2), (2, 3)]\n"
     ]
    },
    {
     "data": {
      "image/png": "[encoded data removed]",
      "text/plain": [
       "<matplotlib.figure.Figure at 0x1887814cf60>"
      ]
     },
     "metadata": {},
     "output_type": "display_data"
    }
   ],
   "source": [
    "'''Lesson: use nx.DiGraph() to create a new directed graph\n",
    "'''\n",
    "\n",
    "dg = nx.DiGraph()\n",
    "\n",
    "\n",
    "dg.add_edges_from([(1,2), (2,3)])\n",
    "\n",
    "print('directed edges:', dg.edges())\n",
    "nx.draw(dg, node_color=GREEN, with_labels=True)\n"
   ]
  },
  {
   "cell_type": "code",
   "execution_count": 9,
   "metadata": {},
   "outputs": [
    {
     "data": {
      "image/png": "[encoded data removed]",
      "text/plain": [
       "<matplotlib.figure.Figure at 0x1887a787b38>"
      ]
     },
     "metadata": {},
     "output_type": "display_data"
    }
   ],
   "source": [
    "'''We can make directed graphs from existing graphs, eg:\n",
    "        nx.DiGraph(g)\n",
    "'''\n",
    "\n",
    "dg = nx.DiGraph(g)\n",
    "\n",
    "\n",
    "nx.draw(dg, node_color=BLUE, with_labels=True)"
   ]
  },
  {
   "cell_type": "code",
   "execution_count": 10,
   "metadata": {},
   "outputs": [
    {
     "data": {
      "text/plain": [
       "OutEdgeView([('A', 'B'), ('B', 'A'), ('B', 'D'), ('D', 'B'), ('D', 'C'), ('D', 'E'), ('D', 'F'), ('C', 'D'), ('E', 'D'), ('F', 'D')])"
      ]
     },
     "execution_count": 10,
     "metadata": {},
     "output_type": "execute_result"
    }
   ],
   "source": [
    "''' Notice that nodes A and B have TWO directed edges:\n",
    "        A -> B\n",
    "        B -> A\n",
    "'''\n",
    "\n",
    "dg.edges()"
   ]
  },
  {
   "cell_type": "markdown",
   "metadata": {},
   "source": [
    "### Adding attributes to nodes and edges\n",
    "\n",
    "Sometimes you may want to attach attributes to either the nodes or edges:\n",
    "\n",
    "* Perhaps you want to save node properties that will be helpful with future analysis\n",
    "* Perhaps you want to attach visual descriptions, such a node size, edge width or graph color"
   ]
  },
  {
   "cell_type": "code",
   "execution_count": 11,
   "metadata": {},
   "outputs": [
    {
     "ename": "TypeError",
     "evalue": "add_edge() takes 3 positional arguments but 4 were given",
     "output_type": "error",
     "traceback": [
      "\u001b[1;31m---------------------------------------------------------------------------\u001b[0m",
      "\u001b[1;31mTypeError\u001b[0m                                 Traceback (most recent call last)",
      "\u001b[1;32m<ipython-input-11-5ff78c8d8d0b>\u001b[0m in \u001b[0;36m<module>\u001b[1;34m()\u001b[0m\n\u001b[0;32m      1\u001b[0m \u001b[0mcities\u001b[0m \u001b[1;33m=\u001b[0m \u001b[0mnx\u001b[0m\u001b[1;33m.\u001b[0m\u001b[0mGraph\u001b[0m\u001b[1;33m(\u001b[0m\u001b[1;33m)\u001b[0m\u001b[1;33m\u001b[0m\u001b[0m\n\u001b[0;32m      2\u001b[0m \u001b[1;33m\u001b[0m\u001b[0m\n\u001b[1;32m----> 3\u001b[1;33m \u001b[0mcities\u001b[0m\u001b[1;33m.\u001b[0m\u001b[0madd_edge\u001b[0m\u001b[1;33m(\u001b[0m\u001b[1;34m'San Diego'\u001b[0m\u001b[1;33m,\u001b[0m \u001b[1;34m'Los Angeles'\u001b[0m\u001b[1;33m,\u001b[0m \u001b[1;33m{\u001b[0m \u001b[1;34m'distance'\u001b[0m\u001b[1;33m:\u001b[0m \u001b[1;36m0.4\u001b[0m\u001b[1;33m}\u001b[0m\u001b[1;33m)\u001b[0m\u001b[1;33m\u001b[0m\u001b[0m\n\u001b[0m\u001b[0;32m      4\u001b[0m \u001b[0mcities\u001b[0m\u001b[1;33m.\u001b[0m\u001b[0madd_edge\u001b[0m\u001b[1;33m(\u001b[0m\u001b[1;34m'New York'\u001b[0m\u001b[1;33m,\u001b[0m \u001b[1;34m'Nashville'\u001b[0m\u001b[1;33m,\u001b[0m \u001b[1;33m{\u001b[0m \u001b[1;34m'distance'\u001b[0m\u001b[1;33m:\u001b[0m \u001b[1;36m5.6\u001b[0m\u001b[1;33m}\u001b[0m\u001b[1;33m)\u001b[0m\u001b[1;33m\u001b[0m\u001b[0m\n\u001b[0;32m      5\u001b[0m \u001b[0mcities\u001b[0m\u001b[1;33m.\u001b[0m\u001b[0madd_edge\u001b[0m\u001b[1;33m(\u001b[0m\u001b[1;34m'Boston'\u001b[0m\u001b[1;33m,\u001b[0m \u001b[1;34m'D.C.'\u001b[0m\u001b[1;33m,\u001b[0m \u001b[1;33m{\u001b[0m \u001b[1;34m'distance'\u001b[0m\u001b[1;33m:\u001b[0m \u001b[1;36m0.8\u001b[0m\u001b[1;33m}\u001b[0m\u001b[1;33m)\u001b[0m\u001b[1;33m\u001b[0m\u001b[0m\n",
      "\u001b[1;31mTypeError\u001b[0m: add_edge() takes 3 positional arguments but 4 were given"
     ]
    }
   ],
   "source": [
    "cities = nx.Graph()\n",
    "\n",
    "cities.add_edge('San Diego', 'Los Angeles', { 'distance': 0.4})\n",
    "cities.add_edge('New York', 'Nashville', { 'distance': 5.6})\n",
    "cities.add_edge('Boston', 'D.C.', { 'distance': 0.8})\n",
    "\n",
    "nx.draw(cities)"
   ]
  },
  {
   "cell_type": "markdown",
   "metadata": {},
   "source": [
    "# Describing a network"
   ]
  },
  {
   "cell_type": "markdown",
   "metadata": {},
   "source": [
    "### Degree Distribution:\n",
    "\n",
    "\n",
    "\n",
    "<img src=\"img/graph.png\" style=\"float:left; padding-right:20px;\" width=\"200\" />\n",
    "\n",
    "- 1 node with 4 edges\n",
    "- 1 node with 2 edges\n",
    "- 4 nodes with 1 edge\n",
    "\n",
    "Distribution:\n",
    "\n",
    "    [(1:4), (1:2), (4:1)]\n"
   ]
  },
  {
   "cell_type": "code",
   "execution_count": 12,
   "metadata": {},
   "outputs": [
    {
     "name": "stdout",
     "output_type": "stream",
     "text": [
      "Degree Distribution: [('A', 1), ('B', 2), ('D', 4), ('C', 1), ('E', 1), ('F', 1)]\n"
     ]
    }
   ],
   "source": [
    "# Degree Distribution for all nodes\n",
    "print('Degree Distribution:', g.degree())"
   ]
  },
  {
   "cell_type": "code",
   "execution_count": 13,
   "metadata": {},
   "outputs": [
    {
     "name": "stdout",
     "output_type": "stream",
     "text": [
      "Avg shortest path from A to E is 3 hops:\n",
      "['A', 'B', 'D', 'E']\n"
     ]
    }
   ],
   "source": [
    "# Generate the graph above\n",
    "paths = nx.Graph()\n",
    "paths.add_edges_from([\n",
    "    ('A','B'), ('B','D'), ('B','C'), ('D','E'), ('D','C'),\n",
    "    ('C','1'), ('1','2'), ('1','3'), ('2','3'), \n",
    "    ('E','2'), ('E','4')])\n",
    "\n",
    "# Display average shortest path details\n",
    "print('Avg shortest path from A to E is', nx.shortest_path_length(paths, 'A','E'), 'hops:')\n",
    "print(nx.shortest_path(paths, 'A','E'))"
   ]
  },
  {
   "cell_type": "markdown",
   "metadata": {},
   "source": [
    "## Network Centrality (the higher result is better!)\n",
    "\n",
    "* **Degree: number of edges** for node X\n",
    "* **Betweenness: number of shortest paths** that pass through node X\n",
    "* **Closeness: average of the shortest paths** between X and all other nodes\n",
    "\n",
    "<img src=\"img/centrality1.png\" style=\"float:left;\" width=\"400\" />\n",
    "<img src=\"img/centrality2.png\" style=\"float:left;\" width=\"200\" />\n",
    "\n"
   ]
  },
  {
   "cell_type": "code",
   "execution_count": 14,
   "metadata": {},
   "outputs": [
    {
     "name": "stdout",
     "output_type": "stream",
     "text": [
      "Degree Centrality:\n",
      "[('A', 1), ('B', 2), ('D', 4), ('C', 1), ('E', 1), ('F', 1)]\n",
      "\n",
      "Degree Centrality, Normalized:\n",
      "{'A': 0.2, 'B': 0.4, 'D': 0.8, 'C': 0.2, 'E': 0.2, 'F': 0.2}\n"
     ]
    }
   ],
   "source": [
    "''' To calculate Degree Distribution for all nodes, use:\n",
    "    g.degree()  for non-normalized values,\n",
    "    nx.degree_centrality(g)   for normalized values\n",
    "'''\n",
    "\n",
    "# degree distrib., non-normalized\n",
    "print('Degree Centrality:')\n",
    "print(g.degree())\n",
    "\n",
    "# TODO degree distrib., normalized\n",
    "print('\\nDegree Centrality, Normalized:')\n",
    "print(nx.degree_centrality(g))\n"
   ]
  },
  {
   "cell_type": "code",
   "execution_count": 15,
   "metadata": {},
   "outputs": [
    {
     "name": "stdout",
     "output_type": "stream",
     "text": [
      "Betweenness Centrality:\n",
      "{'A': 0.0, 'B': 4.0, 'D': 9.0, 'C': 0.0, 'E': 0.0, 'F': 0.0}\n",
      "\n",
      "Betweenness Centrality, Normalized:\n",
      "{'A': 0.0, 'B': 0.4, 'D': 0.9, 'C': 0.0, 'E': 0.0, 'F': 0.0}\n"
     ]
    }
   ],
   "source": [
    "''' To calculate betweenness centrality, use:\n",
    "    nx.betweenness_centrality(g, normalized=True/False)   default is True\n",
    "'''\n",
    "\n",
    "# betweenness centrality, non-normalized\n",
    "print('Betweenness Centrality:')\n",
    "print(nx.betweenness_centrality(g, normalized=False))\n",
    "\n",
    "# betweenness centrality, normalized\n",
    "print('\\nBetweenness Centrality, Normalized:')\n",
    "print(nx.betweenness_centrality(g, normalized=True))\n"
   ]
  },
  {
   "cell_type": "code",
   "execution_count": 16,
   "metadata": {},
   "outputs": [
    {
     "name": "stdout",
     "output_type": "stream",
     "text": [
      "Closeness Centrality:\n",
      "{'A': 0.4166666666666667, 'B': 0.625, 'D': 0.8333333333333334, 'C': 0.5, 'E': 0.5, 'F': 0.5}\n"
     ]
    }
   ],
   "source": [
    "''' to calculate closeness centrality, use:\n",
    "    nx.closeness_centrality(g)\n",
    "'''\n",
    "\n",
    "# find closeness centrality\n",
    "print('Closeness Centrality:')\n",
    "print(nx.closeness_centrality(g))"
   ]
  },
  {
   "cell_type": "markdown",
   "metadata": {},
   "source": [
    "# Back to Airline Networks\n",
    "\n",
    "Previously we used open flights to examine airline routes around the world.  We found that it was a bit of a pain to store the data in tables, and merge different information.  We can model it as network instead.  I've cleaned the data up a bit, and selected out only the routes operated by Delta, making it a bit more managable.  \n"
   ]
  },
  {
   "cell_type": "code",
   "execution_count": 17,
   "metadata": {},
   "outputs": [
    {
     "data": {
      "text/html": [
       "<div>\n",
       "<style scoped>\n",
       "    .dataframe tbody tr th:only-of-type {\n",
       "        vertical-align: middle;\n",
       "    }\n",
       "\n",
       "    .dataframe tbody tr th {\n",
       "        vertical-align: top;\n",
       "    }\n",
       "\n",
       "    .dataframe thead th {\n",
       "        text-align: right;\n",
       "    }\n",
       "</style>\n",
       "<table border=\"1\" class=\"dataframe\">\n",
       "  <thead>\n",
       "    <tr style=\"text-align: right;\">\n",
       "      <th></th>\n",
       "      <th>Unnamed: 0</th>\n",
       "      <th>airline</th>\n",
       "      <th>airline_id</th>\n",
       "      <th>source</th>\n",
       "      <th>source_id</th>\n",
       "      <th>dest</th>\n",
       "      <th>dest_id</th>\n",
       "      <th>codeshare</th>\n",
       "      <th>stops</th>\n",
       "      <th>equipment</th>\n",
       "      <th>latitude_source</th>\n",
       "      <th>longitude_source</th>\n",
       "      <th>latitude_dest</th>\n",
       "      <th>longitude_dest</th>\n",
       "    </tr>\n",
       "  </thead>\n",
       "  <tbody>\n",
       "    <tr>\n",
       "      <th>0</th>\n",
       "      <td>0</td>\n",
       "      <td>DL</td>\n",
       "      <td>2009.0</td>\n",
       "      <td>ABE</td>\n",
       "      <td>4355.0</td>\n",
       "      <td>ATL</td>\n",
       "      <td>3682.0</td>\n",
       "      <td>NaN</td>\n",
       "      <td>0</td>\n",
       "      <td>717</td>\n",
       "      <td>40.652100</td>\n",
       "      <td>-75.440804</td>\n",
       "      <td>33.636700</td>\n",
       "      <td>-84.428101</td>\n",
       "    </tr>\n",
       "    <tr>\n",
       "      <th>1</th>\n",
       "      <td>1</td>\n",
       "      <td>DL</td>\n",
       "      <td>2009.0</td>\n",
       "      <td>ABQ</td>\n",
       "      <td>4019.0</td>\n",
       "      <td>ATL</td>\n",
       "      <td>3682.0</td>\n",
       "      <td>NaN</td>\n",
       "      <td>0</td>\n",
       "      <td>757 320</td>\n",
       "      <td>35.040199</td>\n",
       "      <td>-106.609001</td>\n",
       "      <td>33.636700</td>\n",
       "      <td>-84.428101</td>\n",
       "    </tr>\n",
       "    <tr>\n",
       "      <th>2</th>\n",
       "      <td>2</td>\n",
       "      <td>DL</td>\n",
       "      <td>2009.0</td>\n",
       "      <td>ABQ</td>\n",
       "      <td>4019.0</td>\n",
       "      <td>MSP</td>\n",
       "      <td>3858.0</td>\n",
       "      <td>NaN</td>\n",
       "      <td>0</td>\n",
       "      <td>320</td>\n",
       "      <td>35.040199</td>\n",
       "      <td>-106.609001</td>\n",
       "      <td>44.882000</td>\n",
       "      <td>-93.221802</td>\n",
       "    </tr>\n",
       "    <tr>\n",
       "      <th>3</th>\n",
       "      <td>3</td>\n",
       "      <td>DL</td>\n",
       "      <td>2009.0</td>\n",
       "      <td>ACC</td>\n",
       "      <td>248.0</td>\n",
       "      <td>JFK</td>\n",
       "      <td>3797.0</td>\n",
       "      <td>NaN</td>\n",
       "      <td>0</td>\n",
       "      <td>76W</td>\n",
       "      <td>5.605190</td>\n",
       "      <td>-0.166786</td>\n",
       "      <td>40.639801</td>\n",
       "      <td>-73.778900</td>\n",
       "    </tr>\n",
       "    <tr>\n",
       "      <th>4</th>\n",
       "      <td>4</td>\n",
       "      <td>DL</td>\n",
       "      <td>2009.0</td>\n",
       "      <td>ACC</td>\n",
       "      <td>248.0</td>\n",
       "      <td>ROB</td>\n",
       "      <td>1063.0</td>\n",
       "      <td>NaN</td>\n",
       "      <td>0</td>\n",
       "      <td>76W</td>\n",
       "      <td>5.605190</td>\n",
       "      <td>-0.166786</td>\n",
       "      <td>6.233790</td>\n",
       "      <td>-10.362300</td>\n",
       "    </tr>\n",
       "  </tbody>\n",
       "</table>\n",
       "</div>"
      ],
      "text/plain": [
       "   Unnamed: 0 airline  airline_id source  source_id dest  dest_id  codeshare  \\\n",
       "0           0      DL      2009.0    ABE     4355.0  ATL   3682.0        NaN   \n",
       "1           1      DL      2009.0    ABQ     4019.0  ATL   3682.0        NaN   \n",
       "2           2      DL      2009.0    ABQ     4019.0  MSP   3858.0        NaN   \n",
       "3           3      DL      2009.0    ACC      248.0  JFK   3797.0        NaN   \n",
       "4           4      DL      2009.0    ACC      248.0  ROB   1063.0        NaN   \n",
       "\n",
       "   stops equipment  latitude_source  longitude_source  latitude_dest  \\\n",
       "0      0       717        40.652100        -75.440804      33.636700   \n",
       "1      0   757 320        35.040199       -106.609001      33.636700   \n",
       "2      0       320        35.040199       -106.609001      44.882000   \n",
       "3      0       76W         5.605190         -0.166786      40.639801   \n",
       "4      0       76W         5.605190         -0.166786       6.233790   \n",
       "\n",
       "   longitude_dest  \n",
       "0      -84.428101  \n",
       "1      -84.428101  \n",
       "2      -93.221802  \n",
       "3      -73.778900  \n",
       "4      -10.362300  "
      ]
     },
     "execution_count": 17,
     "metadata": {},
     "output_type": "execute_result"
    }
   ],
   "source": [
    "# read the data\n",
    "routes = pd.read_csv('data/delta_routes.csv')\n",
    "routes.head()"
   ]
  },
  {
   "cell_type": "markdown",
   "metadata": {},
   "source": [
    "### As a review, let's build an interactive map to see what this looks like\n",
    "\n"
   ]
  },
  {
   "cell_type": "code",
   "execution_count": 18,
   "metadata": {
    "collapsed": true
   },
   "outputs": [],
   "source": [
    "import pyproj\n",
    "import folium"
   ]
  },
  {
   "cell_type": "code",
   "execution_count": 19,
   "metadata": {
    "collapsed": true
   },
   "outputs": [],
   "source": [
    "\n",
    "# when creating a function, it is good practice to define the API!\n",
    "def getGreatCirclePoints(startlat, startlon, endlat, endlon): \n",
    "    \"\"\"\n",
    "    startlat - starting latitude \n",
    "    startlon - starting longitude \n",
    "    endlat   - ending latitude \n",
    "    endlon   - ending longitude \n",
    "    \n",
    "    returns - a list of tuples, where each tuple is the lat-long for a point\n",
    "              along the curve.  \n",
    "    \"\"\"\n",
    "    # calculate distance between points\n",
    "    g = pyproj.Geod(ellps='WGS84')\n",
    "    (az12, az21, dist) = g.inv(startlon, startlat, endlon, endlat)\n",
    "\n",
    "    # calculate line string along path with segments <= 20 km\n",
    "    lonlats = g.npts(startlon, startlat, endlon, endlat,\n",
    "                     1 + int(dist / 20000))\n",
    "\n",
    "    # the npts function uses lon-lat, while the folium functions use lat-lon\n",
    "    # This sort of thing is maddening!  What happens is the lines don't show\n",
    "    # up on the map and you don't know why.  Learn from my mistakes\n",
    "    latlons = []\n",
    "    for lon_lat in lonlats: \n",
    "        \n",
    "        # this is how you get values out of a tuple\n",
    "        (lon, lat) = lon_lat\n",
    "        \n",
    "        # add them to our list\n",
    "        latlons.append((lat, lon)) \n",
    "    \n",
    "    # npts doesn't include start/end points, so prepend/append them\n",
    "    latlons.insert(0, (startlat, startlon))\n",
    "    latlons.append((endlat, endlon))\n",
    "    \n",
    "    return latlons\n"
   ]
  },
  {
   "cell_type": "code",
   "execution_count": 20,
   "metadata": {},
   "outputs": [],
   "source": [
    "# create a basic map, centered on Lexington\n",
    "m = folium.Map(\n",
    "    location=[38.034,-84.500],\n",
    "    tiles='Stamen Toner',\n",
    "    zoom_start=4\n",
    ")"
   ]
  },
  {
   "cell_type": "code",
   "execution_count": 21,
   "metadata": {
    "collapsed": true
   },
   "outputs": [],
   "source": [
    "# define the map in the same way, but use great circles for the lines\n",
    "\n",
    "# Define some empty sets\n",
    "airport_set = set()\n",
    "route_set = set()\n",
    "\n",
    "# Make sure we don't add duplicates, especially for the origins\n",
    "for name, row in routes.iterrows():\n",
    "    \n",
    "    if row['source'] not in airport_set: \n",
    "        popup_string = row['source']\n",
    "        marker = folium.CircleMarker([row[\"latitude_source\"], row[\"longitude_source\"]], \n",
    "                                     color='DarkCyan',\n",
    "                                     fill_color='DarkCyan', \n",
    "                                     radius=5, popup=popup_string)\n",
    "        marker.add_to(m)\n",
    "        airport_set.add(row['source'])\n",
    "        \n",
    "    if row['dest'] not in airport_set: \n",
    "        popup_string = row['dest']\n",
    "        marker = folium.CircleMarker([row[\"latitude_dest\"], row[\"longitude_dest\"]], \n",
    "                                     color='MidnightBlue',\n",
    "                                     fill_color='MidnightBlue', \n",
    "                                     radius=5, popup=popup_string)\n",
    "        marker.add_to(m)\n",
    "        airport_set.add(row['dest'])\n",
    "    \n",
    "    # PolyLine will accept a whole list of tuples, not just two\n",
    "    if (row['source'],row['dest']) not in route_set:            \n",
    "        popup_string = row['source'] + '-' + row['dest']       \n",
    "        \n",
    "        gc_points = getGreatCirclePoints(row[\"latitude_source\"], \n",
    "                                         row[\"longitude_source\"], \n",
    "                                         row[\"latitude_dest\"], \n",
    "                                         row[\"longitude_dest\"])\n",
    "        \n",
    "        line = folium.PolyLine(gc_points, weight=2, popup=popup_string)\n",
    "        line.add_to(m)\n",
    "        route_set.add((row['source'],row['dest']))\n",
    "        "
   ]
  },
  {
   "cell_type": "code",
   "execution_count": 22,
   "metadata": {
    "collapsed": true
   },
   "outputs": [],
   "source": [
    "# save it to its own file\n",
    "m.save(\"delta.html\")"
   ]
  },
  {
   "cell_type": "markdown",
   "metadata": {},
   "source": [
    "# Homework\n",
    "\n",
    "1. Represent the Delta flights as a network.  What are the nodes?  What are the links?\n",
    "2. Which is the most important airport in Delta's network?  Support your answer using appropriate network metrics.  \n",
    "3. How many flights are needed to reach Honolulu?  \n",
    "4. What is the maximum number of flights needed to reach any destination in Delta's network?\n",
    "5. Convert the network into a weighted network, using the travel time as the weight.  Assume that planes fly at 500 mph, plus 30 minutes to take off + 30 minutes to land.  \n",
    "6. How long does it take to travel to Honolulu, in flight times.  "
   ]
  },
  {
   "cell_type": "code",
   "execution_count": null,
   "metadata": {
    "collapsed": true
   },
   "outputs": [],
   "source": [
    "#1. nodes are the airports and links are the routes\n",
    "#2. do some centrality measures\n",
    "#3. shortest path between lex and honolulu\n",
    "#4. see old one\n",
    "#5. calculate the great circle distance to find the distance between the OD"
   ]
  }
 ],
 "metadata": {
  "anaconda-cloud": {},
  "kernelspec": {
   "display_name": "Python 3",
   "language": "python",
   "name": "python3"
  },
  "language_info": {
   "codemirror_mode": {
    "name": "ipython",
    "version": 3
   },
   "file_extension": ".py",
   "mimetype": "text/x-python",
   "name": "python",
   "nbconvert_exporter": "python",
   "pygments_lexer": "ipython3",
   "version": "3.6.3"
  }
 },
 "nbformat": 4,
 "nbformat_minor": 1
}
